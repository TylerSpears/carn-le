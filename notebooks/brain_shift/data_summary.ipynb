{
 "cells": [
  {
   "cell_type": "markdown",
   "metadata": {},
   "source": [
    "# Brain Shift - Data Summarization\n",
    "Tyler Spears, Dr. Tom Fletcher\n",
    "\n",
    "Part of the Pain in the Net (PITN) project"
   ]
  },
  {
   "cell_type": "code",
   "execution_count": null,
   "metadata": {},
   "outputs": [],
   "source": [
    "# imports\n",
    "import pathlib\n",
    "from pathlib import Path\n",
    "import json\n",
    "import collections\n",
    "\n",
    "import numpy as np\n",
    "import pandas as pd\n",
    "import csv\n",
    "import natsort\n",
    "from pprint import pprint\n",
    "import nibabel\n",
    "\n",
    "# visualization libraries\n",
    "%matplotlib inline\n",
    "import matplotlib as mpl\n",
    "import matplotlib.pyplot as plt\n",
    "\n",
    "plt.rcParams.update({'figure.autolayout': True})\n",
    "plt.rcParams.update({'figure.facecolor': [1.0, 1.0, 1.0, 1.0]})"
   ]
  },
  {
   "cell_type": "code",
   "execution_count": null,
   "metadata": {},
   "outputs": [],
   "source": [
    "# Data setup\n",
    "\n",
    "data_dir = Path(\"/media/tyler/data/pitn/brain_shift\")\n",
    "assert data_dir.exists()\n",
    "pre_dir = data_dir / \"pre\"\n",
    "intra_dir = data_dir / \"during\"\n",
    "assert pre_dir.exists() and intra_dir.exists()"
   ]
  },
  {
   "cell_type": "markdown",
   "metadata": {},
   "source": [
    "## Extract image names"
   ]
  },
  {
   "cell_type": "code",
   "execution_count": null,
   "metadata": {},
   "outputs": [],
   "source": [
    "# Pre-Op\n",
    "pre_img_names = set(img_file.name.replace('.nii.gz', '') for img_file in pre_dir.glob('*.nii.gz'))\n",
    "pprint(natsort.natsorted(pre_img_names))\n",
    "pre_json_names = set(json_file.name.replace('.json', '') for json_file in pre_dir.glob(\"*.json\"))\n",
    "# pprint(natsort.natsorted(pre_json_names))\n",
    "# All .nii.gz images have an associated .json.\n",
    "pprint(pre_img_names - pre_json_names)\n",
    "\n",
    "# Filter out some sequences.\n",
    "pre_names = set(\n",
    "    filter(\n",
    "        lambda s: 'localizer' not in s.casefold() and 'scout' not in s.casefold(), \n",
    "        pre_img_names.intersection(pre_json_names)\n",
    "    )\n",
    ")"
   ]
  },
  {
   "cell_type": "code",
   "execution_count": null,
   "metadata": {},
   "outputs": [],
   "source": [
    "# Intra-Op\n",
    "intra_img_names = set(img_file.name.replace('.nii.gz', '') for img_file in intra_dir.glob('*.nii.gz'))\n",
    "pprint(natsort.natsorted(intra_img_names))\n",
    "intra_json_names = set(json_file.name.replace('.json', '') for json_file in intra_dir.glob(\"*.json\"))\n",
    "# pprint(natsort.natsorted(intra_json_names))\n",
    "\n",
    "# A couple of image files do not have a .json file. Incomplete upload?\n",
    "pprint(intra_img_names - intra_json_names)\n",
    "pprint((intra_img_names - intra_json_names).intersection(intra_img_names))\n",
    "\n",
    "# Filter out some sequences.\n",
    "intra_names = set(\n",
    "    filter(\n",
    "        lambda s: 'localizer' not in s.casefold() and 'scout' not in s.casefold(), \n",
    "        intra_img_names.intersection(intra_json_names)\n",
    "    )\n",
    ")"
   ]
  },
  {
   "cell_type": "markdown",
   "metadata": {},
   "source": [
    "## Metadata Parsing"
   ]
  },
  {
   "cell_type": "markdown",
   "metadata": {},
   "source": [
    "### Pre-Op"
   ]
  },
  {
   "cell_type": "code",
   "execution_count": null,
   "metadata": {},
   "outputs": [],
   "source": [
    "pre_df: pd.DataFrame\n",
    "pre_df_unique: pd.DataFrame\n",
    "\n",
    "# Read json files.\n",
    "meta_keys = set()\n",
    "pre_meta = list()\n",
    "for name in pre_names:\n",
    "    meta_file = pre_dir / (name + '.json')\n",
    "    with open(meta_file, 'r') as f:\n",
    "        meta = json.load(f)\n",
    "    meta['file_name'] = name\n",
    "    meta.pop('ImageOrientationPatientDICOM')\n",
    "    meta.pop('ImageType')\n",
    "    pre_meta.append(meta)\n",
    "    if not meta_keys:\n",
    "        meta_keys = meta_keys.union(meta.keys())\n",
    "    else:\n",
    "        meta_keys = meta_keys.intersection(meta.keys())\n",
    "\n",
    "# Sub-select each metadata according to the fields present in all metadata.\n",
    "pre_meta = [\n",
    "    dict(\n",
    "        filter(\n",
    "            lambda kv: kv[0] in meta_keys,\n",
    "            super_meta.items()\n",
    "        )\n",
    "    ) for super_meta in pre_meta\n",
    "]\n",
    "\n",
    "pre_df = pd.DataFrame.from_dict(pre_meta).set_index('file_name')\n",
    "\n",
    "# Further sub-select fields that have more than one value throughout the table.\n",
    "pre_df_unique = pre_df.loc[\n",
    "    :,\n",
    "    list(\n",
    "        len(pre_subj[1].astype(str).unique()) > 1 for pre_subj in pre_df.items()\n",
    "    )\n",
    "]"
   ]
  },
  {
   "cell_type": "code",
   "execution_count": null,
   "metadata": {},
   "outputs": [],
   "source": [
    "# Load corresponding images for additional metadata.\n",
    "nifti_meta = list()\n",
    "\n",
    "for name in pre_df.index:\n",
    "    img = nibabel.load(pre_dir / (name + '.nii.gz'))\n",
    "    header = img.header\n",
    "    header_d = dict(header)\n",
    "    spatial_unit = header.get_xyzt_units()[0]\n",
    "    x_size = header.get_zooms()[0]\n",
    "    y_size = header.get_zooms()[1]\n",
    "    z_size = header.get_zooms()[2]\n",
    "    meta = {\n",
    "        'file_name': name,\n",
    "        'shape': str(img.shape),#.replace(',', 'x').replace(' ', ''),\n",
    "        'description': str(header_d['descrip'].astype('U')),#.replace(';', '|').replace(' ', ''),\n",
    "        'x_size': str(x_size) + spatial_unit,\n",
    "        'y_size': str(y_size) + spatial_unit,\n",
    "        'z_size': str(z_size) + spatial_unit\n",
    "        }\n",
    "    \n",
    "    nifti_meta.append(meta)\n",
    "    \n",
    "meta_df = pd.DataFrame.from_dict(nifti_meta).set_index('file_name')"
   ]
  },
  {
   "cell_type": "code",
   "execution_count": null,
   "metadata": {},
   "outputs": [],
   "source": [
    "merge_pre_df = pre_df_unique.merge(meta_df, on='file_name')\n",
    "merge_pre_df.to_csv('pre_op_meta.csv', quoting=csv.QUOTE_ALL)\n",
    "merge_pre_df"
   ]
  },
  {
   "cell_type": "markdown",
   "metadata": {},
   "source": [
    "### Intra-Op"
   ]
  },
  {
   "cell_type": "code",
   "execution_count": null,
   "metadata": {},
   "outputs": [],
   "source": [
    "intra_df: pd.DataFrame\n",
    "intra_df_unique: pd.DataFrame\n",
    "\n",
    "# Read json files.\n",
    "meta_keys = set()\n",
    "intra_meta = list()\n",
    "for name in intra_names:\n",
    "    meta_file = intra_dir / (name + '.json')\n",
    "    with open(meta_file, 'r') as f:\n",
    "        meta = json.load(f)\n",
    "    meta['file_name'] = name\n",
    "    meta.pop('ImageOrientationPatientDICOM', None)\n",
    "    meta.pop('ImageType', None)\n",
    "    intra_meta.append(meta)\n",
    "    if not meta_keys:\n",
    "        meta_keys = meta_keys.union(meta.keys())\n",
    "    else:\n",
    "        meta_keys = meta_keys.intersection(meta.keys())\n",
    "\n",
    "# Sub-select each metadata according to the fields present in all metadata.\n",
    "intra_meta = [\n",
    "    dict(\n",
    "        filter(\n",
    "            lambda kv: kv[0] in meta_keys,\n",
    "            super_meta.items()\n",
    "        )\n",
    "    ) for super_meta in intra_meta\n",
    "]\n",
    "\n",
    "intra_df = pd.DataFrame.from_dict(intra_meta).set_index('file_name')\n",
    "\n",
    "# Further sub-select fields that have more than one value throughout the table.\n",
    "intra_df_unique = intra_df.loc[\n",
    "    :,\n",
    "    list(\n",
    "        len(intra_subj[1].astype(str).unique()) > 1 for intra_subj in intra_df.items()\n",
    "    )\n",
    "]"
   ]
  },
  {
   "cell_type": "code",
   "execution_count": null,
   "metadata": {},
   "outputs": [],
   "source": [
    "# Load corresponding images for additional metadata.\n",
    "nifti_meta = list()\n",
    "\n",
    "for name in intra_df.index:\n",
    "    img = nibabel.load(intra_dir / (name + '.nii.gz'))\n",
    "    header = img.header\n",
    "    header_d = dict(header)\n",
    "    spatial_unit = header.get_xyzt_units()[0]\n",
    "    x_size = header.get_zooms()[0]\n",
    "    y_size = header.get_zooms()[1]\n",
    "    z_size = header.get_zooms()[2]\n",
    "    meta = {\n",
    "        'file_name': name,\n",
    "        'shape': img.shape,\n",
    "        'description': str(header_d['descrip'].astype('U')),\n",
    "        'x size': str(x_size) + spatial_unit,\n",
    "        'y size': str(y_size) + spatial_unit,\n",
    "        'z size': str(z_size) + spatial_unit\n",
    "        }\n",
    "    \n",
    "    nifti_meta.append(meta)\n",
    "    \n",
    "meta_df = pd.DataFrame.from_dict(nifti_meta).set_index('file_name')"
   ]
  },
  {
   "cell_type": "code",
   "execution_count": null,
   "metadata": {},
   "outputs": [],
   "source": [
    "merge_intra_df = intra_df_unique.merge(meta_df, on='file_name')\n",
    "merge_intra_df.to_csv('intra_op_meta.csv', quoting=csv.QUOTE_ALL)\n",
    "merge_intra_df"
   ]
  }
 ],
 "metadata": {
  "kernelspec": {
   "display_name": "Python [conda env:pitn]",
   "language": "python",
   "name": "conda-env-pitn-py"
  },
  "language_info": {
   "codemirror_mode": {
    "name": "ipython",
    "version": 3
   },
   "file_extension": ".py",
   "mimetype": "text/x-python",
   "name": "python",
   "nbconvert_exporter": "python",
   "pygments_lexer": "ipython3",
   "version": "3.8.6"
  }
 },
 "nbformat": 4,
 "nbformat_minor": 4
}
