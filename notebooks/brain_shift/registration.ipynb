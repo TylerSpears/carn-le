{
 "cells": [
  {
   "cell_type": "markdown",
   "metadata": {},
   "source": [
    "# Brain Shift - Pre-Op, Intra-Op, and Post-Op Brain Registration\n",
    "Tyler Spears\n",
    "\n",
    "Dr. Tom Fletcher\n",
    "\n",
    "Pragnya Pandrate\n",
    "\n",
    "Oscar Daum"
   ]
  },
  {
   "cell_type": "code",
   "execution_count": null,
   "metadata": {},
   "outputs": [],
   "source": [
    "# imports\n",
    "import pathlib\n",
    "from pathlib import Path\n",
    "import json\n",
    "import collections\n",
    "\n",
    "import numpy as np\n",
    "import pandas as pd\n",
    "import csv\n",
    "import natsort\n",
    "from pprint import pprint\n",
    "import nibabel\n",
    "import nipy\n",
    "import nipy.algorithms\n",
    "import nipy.algorithms.registration\n",
    "from nipy.algorithms import registration\n",
    "\n",
    "# visualization libraries\n",
    "%matplotlib inline\n",
    "import matplotlib as mpl\n",
    "import matplotlib.pyplot as plt\n",
    "\n",
    "plt.rcParams.update({'figure.autolayout': True})\n",
    "plt.rcParams.update({'figure.facecolor': [1.0, 1.0, 1.0, 1.0]})"
   ]
  },
  {
   "cell_type": "code",
   "execution_count": null,
   "metadata": {},
   "outputs": [],
   "source": [
    "# Data setup\n",
    "data_dir = Path(\"/srv/data/pitn/brain_shift\")\n",
    "assert data_dir.exists()\n",
    "pre_dir = data_dir / \"pre\"\n",
    "intra_dir = data_dir / \"during\"\n",
    "assert pre_dir.exists() and intra_dir.exists()"
   ]
  },
  {
   "cell_type": "code",
   "execution_count": null,
   "metadata": {},
   "outputs": [],
   "source": [
    "pre_img_file = pre_dir / \"SE000020_t1_mprage_sag_iso_post_20200520115951_20.nii.gz\"\n",
    "intra_img_file = intra_dir / \"ST000002_t1_fl3d_sag_Pre_Ablation_20200610090639_4.nii.gz\"\n",
    "\n",
    "pre_img = nibabel.load(pre_img_file)\n",
    "intra_img = nibabel.load(intra_img_file)\n",
    "\n",
    "pre_img_nipy = nipy.load_image(str(pre_img_file))\n",
    "intra_img_nipy = nipy.load_image(str(intra_img_file))"
   ]
  },
  {
   "cell_type": "code",
   "execution_count": null,
   "metadata": {},
   "outputs": [],
   "source": [
    "reg = registration.histogram_registration.HistogramRegistration(\n",
    "    pre_img, intra_img\n",
    ")\n",
    "result = reg.optimize('rigid')"
   ]
  },
  {
   "cell_type": "code",
   "execution_count": null,
   "metadata": {},
   "outputs": [],
   "source": [
    "dir(result)\n",
    "result.apply"
   ]
  },
  {
   "cell_type": "code",
   "execution_count": null,
   "metadata": {},
   "outputs": [],
   "source": [
    "dir(intra_img)"
   ]
  },
  {
   "cell_type": "code",
   "execution_count": null,
   "metadata": {},
   "outputs": [],
   "source": []
  }
 ],
 "metadata": {
  "kernelspec": {
   "display_name": "Python [conda env:pitn]",
   "language": "python",
   "name": "conda-env-pitn-py"
  },
  "language_info": {
   "codemirror_mode": {
    "name": "ipython",
    "version": 3
   },
   "file_extension": ".py",
   "mimetype": "text/x-python",
   "name": "python",
   "nbconvert_exporter": "python",
   "pygments_lexer": "ipython3",
   "version": "3.8.6"
  }
 },
 "nbformat": 4,
 "nbformat_minor": 4
}
