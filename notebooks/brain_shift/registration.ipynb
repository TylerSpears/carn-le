{
 "cells": [
  {
   "cell_type": "markdown",
   "metadata": {},
   "source": [
    "# Brain Shift - Pre-Op, Intra-Op, and Post-Op Brain Registration\n",
    "Tyler Spears\n",
    "\n",
    "Dr. Tom Fletcher\n",
    "\n",
    "Pragnya Pandrate\n",
    "\n",
    "Oscar Daum"
   ]
  },
  {
   "cell_type": "code",
   "execution_count": 1,
   "metadata": {
    "execution": {
     "iopub.execute_input": "2021-03-10T16:35:15.619379Z",
     "iopub.status.busy": "2021-03-10T16:35:15.619200Z",
     "iopub.status.idle": "2021-03-10T16:35:17.038365Z",
     "shell.execute_reply": "2021-03-10T16:35:17.037358Z",
     "shell.execute_reply.started": "2021-03-10T16:35:15.619336Z"
    }
   },
   "outputs": [],
   "source": [
    "# imports\n",
    "import pathlib\n",
    "from pathlib import Path\n",
    "import json\n",
    "import collections\n",
    "\n",
    "import numpy as np\n",
    "import pandas as pd\n",
    "import csv\n",
    "import natsort\n",
    "from pprint import pprint\n",
    "import nibabel\n",
    "import nipy\n",
    "import nipy.algorithms\n",
    "import nipy.algorithms.registration\n",
    "from nipy.algorithms import registration\n",
    "\n",
    "# visualization libraries\n",
    "%matplotlib inline\n",
    "import matplotlib as mpl\n",
    "import matplotlib.pyplot as plt\n",
    "\n",
    "plt.rcParams.update({'figure.autolayout': True})\n",
    "plt.rcParams.update({'figure.facecolor': [1.0, 1.0, 1.0, 1.0]})"
   ]
  },
  {
   "cell_type": "code",
   "execution_count": 4,
   "metadata": {
    "execution": {
     "iopub.execute_input": "2021-03-10T16:35:29.093221Z",
     "iopub.status.busy": "2021-03-10T16:35:29.092975Z",
     "iopub.status.idle": "2021-03-10T16:35:29.096948Z",
     "shell.execute_reply": "2021-03-10T16:35:29.096413Z",
     "shell.execute_reply.started": "2021-03-10T16:35:29.093199Z"
    }
   },
   "outputs": [],
   "source": [
    "# Data setup\n",
    "data_dir = Path(\"/srv/data/pitn/brain_shift\")\n",
    "assert data_dir.exists()\n",
    "pre_dir = data_dir / \"pre\"\n",
    "intra_dir = data_dir / \"during\"\n",
    "assert pre_dir.exists() and intra_dir.exists()"
   ]
  },
  {
   "cell_type": "code",
   "execution_count": 5,
   "metadata": {
    "execution": {
     "iopub.execute_input": "2021-03-10T16:35:31.195522Z",
     "iopub.status.busy": "2021-03-10T16:35:31.195265Z",
     "iopub.status.idle": "2021-03-10T16:35:32.527476Z",
     "shell.execute_reply": "2021-03-10T16:35:32.527082Z",
     "shell.execute_reply.started": "2021-03-10T16:35:31.195497Z"
    }
   },
   "outputs": [],
   "source": [
    "pre_img_file = pre_dir / \"SE000020_t1_mprage_sag_iso_post_20200520115951_20.nii.gz\"\n",
    "intra_img_file = intra_dir / \"ST000002_t1_fl3d_sag_Pre_Ablation_20200610090639_4.nii.gz\"\n",
    "\n",
    "pre_img = nibabel.load(pre_img_file)\n",
    "intra_img = nibabel.load(intra_img_file)\n",
    "\n",
    "pre_img_nipy = nipy.load_image(str(pre_img_file))\n",
    "intra_img_nipy = nipy.load_image(str(intra_img_file))"
   ]
  },
  {
   "cell_type": "code",
   "execution_count": 6,
   "metadata": {
    "execution": {
     "iopub.execute_input": "2021-03-10T16:35:35.142225Z",
     "iopub.status.busy": "2021-03-10T16:35:35.142016Z",
     "iopub.status.idle": "2021-03-10T16:35:40.233963Z",
     "shell.execute_reply": "2021-03-10T16:35:40.233431Z",
     "shell.execute_reply.started": "2021-03-10T16:35:35.142203Z"
    }
   },
   "outputs": [
    {
     "name": "stdout",
     "output_type": "stream",
     "text": [
      "Initial guess...\n",
      "translation : [0. 0. 0.]\n",
      "rotation    : [0. 0. 0.]\n",
      "\n",
      "Optimizing using fmin_powell\n",
      "translation : [-7.78065545 -1.618034    0.381966  ]\n",
      "rotation    : [6.60681749e-04 7.03404351e-05 1.00000000e-02]\n",
      "\n",
      "crl1 = 0.09440959828428608\n",
      "\n",
      "translation : [-1.31671511e+01 -4.67320967e+01  2.83645294e-02]\n",
      "rotation    : [-0.00506227 -0.00012651  0.0175541 ]\n",
      "\n",
      "crl1 = 0.2730371110495652\n",
      "\n",
      "translation : [-1.01526473e+01 -6.07592884e+01  5.64802861e-02]\n",
      "rotation    : [ 0.00262313 -0.00176143  0.02388997]\n",
      "\n",
      "crl1 = 0.30923976148542764\n",
      "\n",
      "translation : [-13.07815428 -60.98837834   0.58739283]\n",
      "rotation    : [ 0.00446662 -0.00050948 -0.01471617]\n",
      "\n",
      "crl1 = 0.3103462557123773\n",
      "\n",
      "Optimization terminated successfully.\n",
      "         Current function value: -0.310346\n",
      "         Iterations: 4\n",
      "         Function evaluations: 177\n"
     ]
    }
   ],
   "source": [
    "reg = registration.histogram_registration.HistogramRegistration(\n",
    "    pre_img, intra_img\n",
    ")\n",
    "result = reg.optimize('rigid')"
   ]
  },
  {
   "cell_type": "code",
   "execution_count": 16,
   "metadata": {
    "execution": {
     "iopub.execute_input": "2021-03-10T16:45:27.405276Z",
     "iopub.status.busy": "2021-03-10T16:45:27.405110Z",
     "iopub.status.idle": "2021-03-10T16:45:27.408721Z",
     "shell.execute_reply": "2021-03-10T16:45:27.408172Z",
     "shell.execute_reply.started": "2021-03-10T16:45:27.405261Z"
    }
   },
   "outputs": [
    {
     "data": {
      "text/plain": [
       "\u001b[0;31mSignature:\u001b[0m \u001b[0mresult\u001b[0m\u001b[0;34m.\u001b[0m\u001b[0mapply\u001b[0m\u001b[0;34m(\u001b[0m\u001b[0mxyz\u001b[0m\u001b[0;34m)\u001b[0m\u001b[0;34m\u001b[0m\u001b[0;34m\u001b[0m\u001b[0m\n",
       "\u001b[0;31mDocstring:\u001b[0m <no docstring>\n",
       "\u001b[0;31mFile:\u001b[0m      /opt/miniconda/envs/pitn/lib/python3.8/site-packages/nipy/algorithms/registration/affine.py\n",
       "\u001b[0;31mType:\u001b[0m      method\n"
      ]
     },
     "metadata": {},
     "output_type": "display_data"
    }
   ],
   "source": [
    "dir(result)\n",
    "result.apply"
   ]
  },
  {
   "cell_type": "code",
   "execution_count": 40,
   "metadata": {
    "execution": {
     "iopub.execute_input": "2021-02-17T16:59:52.424247Z",
     "iopub.status.busy": "2021-02-17T16:59:52.424017Z",
     "iopub.status.idle": "2021-02-17T16:59:52.428371Z",
     "shell.execute_reply": "2021-02-17T16:59:52.427549Z",
     "shell.execute_reply.started": "2021-02-17T16:59:52.424222Z"
    }
   },
   "outputs": [
    {
     "data": {
      "text/plain": [
       "['__array__',\n",
       " '__class__',\n",
       " '__delattr__',\n",
       " '__dict__',\n",
       " '__dir__',\n",
       " '__doc__',\n",
       " '__eq__',\n",
       " '__format__',\n",
       " '__ge__',\n",
       " '__getattribute__',\n",
       " '__getitem__',\n",
       " '__gt__',\n",
       " '__hash__',\n",
       " '__init__',\n",
       " '__init_subclass__',\n",
       " '__iter__',\n",
       " '__le__',\n",
       " '__lt__',\n",
       " '__module__',\n",
       " '__ne__',\n",
       " '__new__',\n",
       " '__reduce__',\n",
       " '__reduce_ex__',\n",
       " '__repr__',\n",
       " '__setattr__',\n",
       " '__setitem__',\n",
       " '__sizeof__',\n",
       " '__str__',\n",
       " '__subclasshook__',\n",
       " '__weakref__',\n",
       " '_data',\n",
       " '_doc',\n",
       " '_getheader',\n",
       " '_setheader',\n",
       " 'affine',\n",
       " 'axes',\n",
       " 'coordmap',\n",
       " 'from_image',\n",
       " 'get_data',\n",
       " 'header',\n",
       " 'metadata',\n",
       " 'ndim',\n",
       " 'reference',\n",
       " 'renamed_axes',\n",
       " 'renamed_reference',\n",
       " 'reordered_axes',\n",
       " 'reordered_reference',\n",
       " 'shape']"
      ]
     },
     "execution_count": 40,
     "metadata": {},
     "output_type": "execute_result"
    }
   ],
   "source": [
    "dir(intra_img)"
   ]
  },
  {
   "cell_type": "code",
   "execution_count": null,
   "metadata": {},
   "outputs": [],
   "source": []
  }
 ],
 "metadata": {
  "kernelspec": {
   "display_name": "Python [conda env:pitn]",
   "language": "python",
   "name": "conda-env-pitn-py"
  },
  "language_info": {
   "codemirror_mode": {
    "name": "ipython",
    "version": 3
   },
   "file_extension": ".py",
   "mimetype": "text/x-python",
   "name": "python",
   "nbconvert_exporter": "python",
   "pygments_lexer": "ipython3",
   "version": "3.8.6"
  }
 },
 "nbformat": 4,
 "nbformat_minor": 4
}
