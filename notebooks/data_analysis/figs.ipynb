{
 "cells": [
  {
   "cell_type": "code",
   "execution_count": null,
   "id": "9db8444b-9fcd-4acb-b3c8-b09790e609d6",
   "metadata": {
    "tags": []
   },
   "outputs": [],
   "source": [
    "# Automatically re-import project-specific modules.\n",
    "%load_ext autoreload\n",
    "%autoreload 2\n",
    "\n",
    "# imports\n",
    "import collections\n",
    "import functools\n",
    "import io\n",
    "import math\n",
    "import itertools\n",
    "import os\n",
    "import shutil\n",
    "import pathlib\n",
    "import inspect\n",
    "import random\n",
    "import subprocess\n",
    "import sys\n",
    "import warnings\n",
    "from pathlib import Path\n",
    "import re\n",
    "import json\n",
    "\n",
    "import dipy\n",
    "import dipy.core\n",
    "import dipy.reconst\n",
    "import dipy.reconst.dti\n",
    "import dipy.segment.mask\n",
    "import dipy.viz\n",
    "from dipy.data import get_sphere\n",
    "from dipy.viz import window, actor\n",
    "import dotenv\n",
    "\n",
    "# visualization libraries\n",
    "%matplotlib inline\n",
    "import matplotlib as mpl\n",
    "import matplotlib.patheffects\n",
    "import mpl_toolkits\n",
    "import matplotlib.pyplot as plt\n",
    "import seaborn as sns\n",
    "\n",
    "# Data management libraries.\n",
    "import nibabel as nib\n",
    "import pandas as pd\n",
    "\n",
    "import box\n",
    "from box import Box\n",
    "import pprint\n",
    "from pprint import pprint as ppr\n",
    "\n",
    "# Computation & ML libraries.\n",
    "import numpy as np\n",
    "import skimage\n",
    "import torch\n",
    "\n",
    "import pitn\n",
    "\n",
    "plt.rcParams.update({\"figure.autolayout\": True})\n",
    "plt.rcParams.update({\"figure.facecolor\": [1.0, 1.0, 1.0, 1.0]})\n",
    "\n",
    "# Set print options for ndarrays/tensors.\n",
    "np.set_printoptions(suppress=True, edgeitems=2, threshold=100, linewidth=88)\n",
    "torch.set_printoptions(\n",
    "    sci_mode=False, edgeitems=2, threshold=100, linewidth=88, profile=\"short\"\n",
    ")"
   ]
  },
  {
   "cell_type": "code",
   "execution_count": null,
   "id": "527d5c3b-9fb1-43a6-8fd7-dc7b259862fa",
   "metadata": {
    "tags": []
   },
   "outputs": [],
   "source": [
    "# Update notebook's environment variables with direnv.\n",
    "# This requires the python-dotenv package, and direnv be installed on the system\n",
    "# This will not work on Windows.\n",
    "# NOTE: This is kind of hacky, and not necessarily safe. Be careful...\n",
    "# Libraries needed on the python side:\n",
    "# - os\n",
    "# - subprocess\n",
    "# - io\n",
    "# - dotenv\n",
    "\n",
    "# Form command to be run in direnv's context. This command will print out\n",
    "# all environment variables defined in the subprocess/sub-shell.\n",
    "command = f\"direnv exec {os.getcwd()} /usr/bin/env\"\n",
    "# Run command in a new subprocess.\n",
    "proc = subprocess.Popen(command, stdout=subprocess.PIPE, shell=True, cwd=os.getcwd())\n",
    "# Store and format the subprocess' output.\n",
    "proc_out = proc.communicate()[0].strip().decode(\"utf-8\")\n",
    "# Use python-dotenv to load the environment variables by using the output of\n",
    "# 'direnv exec ...' as a 'dummy' .env file.\n",
    "dotenv.load_dotenv(stream=io.StringIO(proc_out), override=True);"
   ]
  },
  {
   "cell_type": "code",
   "execution_count": null,
   "id": "e869d84f-b413-47cd-ad19-dcbd51645336",
   "metadata": {
    "tags": []
   },
   "outputs": [],
   "source": [
    "%%capture --no-stderr cap\n",
    "# Capture output and save to log. Needs to be at the *very first* line of the cell.\n",
    "# Watermark\n",
    "%load_ext watermark\n",
    "%watermark --author \"Tyler Spears\" --updated --iso8601  --python --machine --iversions --githash\n",
    "if torch.cuda.is_available():\n",
    "    # GPU information\n",
    "    try:\n",
    "        gpu_info = pitn.utils.system.get_gpu_specs()\n",
    "        print(gpu_info)\n",
    "    except NameError:\n",
    "        print(\"CUDA Version: \", torch.version.cuda)\n",
    "else:\n",
    "    print(\"CUDA not in use, falling back to CPU\")"
   ]
  },
  {
   "cell_type": "code",
   "execution_count": null,
   "id": "aa28caa7-1e81-40e6-8341-4b1c92a5cdd6",
   "metadata": {
    "tags": []
   },
   "outputs": [],
   "source": [
    "# cap is defined in an ipython magic command\n",
    "print(cap)"
   ]
  },
  {
   "cell_type": "markdown",
   "id": "af59ea4d-0f7b-435e-ae37-bb83e3781aae",
   "metadata": {},
   "source": [
    "## File and Folder Selection"
   ]
  },
  {
   "cell_type": "code",
   "execution_count": null,
   "id": "6bc81d88-c37a-4c8d-9d20-9a3a90f38051",
   "metadata": {
    "tags": []
   },
   "outputs": [],
   "source": [
    "# Set up directories\n",
    "data_dir = pathlib.Path(os.environ[\"DATA_DIR\"])\n",
    "assert data_dir.exists()\n",
    "write_data_dir = pathlib.Path(os.environ[\"WRITE_DATA_DIR\"])\n",
    "assert write_data_dir.exists()\n",
    "results_dir = pathlib.Path(os.environ[\"RESULTS_DIR\"])\n",
    "assert results_dir.exists()\n",
    "tmp_results_dir = pathlib.Path(os.environ[\"TMP_RESULTS_DIR\"])\n",
    "assert tmp_results_dir.exists()"
   ]
  },
  {
   "cell_type": "code",
   "execution_count": null,
   "id": "28e6d534-d76b-41a1-8589-b19ddae08f6b",
   "metadata": {
    "tags": []
   },
   "outputs": [],
   "source": [
    "selected_run_names = [\n",
    "    \"2022-03-01T06_58_21__pitn_dti_mid_net\",\n",
    "    # \"2022-03-01T13_19_51__pitn_log_euclid_mid_net\",\n",
    "    # \"2022-03-01T00_33_44__tanno_espcn_baseline\",\n",
    "    # \"2022-03-04T20_22_21__debug_test_blumberg_revnet_comp\",\n",
    "    \"2022-03-06T23_57_13__blumberg_revnet_rn4_no_bn_changing_samples\",\n",
    "    \"2022-03-06T15_39_24__blumberg_revnet_rn4_no_bn_50_epoch\",\n",
    "    \"2022-03-05T17_31_29__blumberg_revnet_rn4_100_epoch\",\n",
    "    \"2022-03-06T01_08_02__blumberg_revnet_rn4_no_bn\",\n",
    "]\n",
    "run_model_names = {\n",
    "    \"2022-03-01T06_58_21__pitn_dti_mid_net\": \"DIQT\\nDTI\",\n",
    "    # \"2022-03-01T13_19_51__pitn_log_euclid_mid_net\": \"DIQT\\nLE\",\n",
    "    # \"2022-03-01T00_33_44__tanno_espcn_baseline\": \"ESPCN\\nBase\",\n",
    "    # \"2022-03-04T20_22_21__debug_test_blumberg_revnet_comp\": \"RevNet-RN4\",\n",
    "    \"2022-03-06T23_57_13__blumberg_revnet_rn4_no_bn_changing_samples\": \"RevNet-RN4-No-BN\\nChange-Samples\",\n",
    "    \"2022-03-06T15_39_24__blumberg_revnet_rn4_no_bn_50_epoch\": \"RevNet-RN4-No-BN\",\n",
    "    \"2022-03-06T01_08_02__blumberg_revnet_rn4_no_bn\": \"RevNet-RN4-100-No-BN\",\n",
    "    \"2022-03-05T17_31_29__blumberg_revnet_rn4_100_epoch\": \"RevNet-RN4-100\",\n",
    "}\n",
    "selected_dirs = [results_dir / d for d in selected_run_names]\n",
    "assert all([d.exists for d in selected_dirs])"
   ]
  },
  {
   "cell_type": "code",
   "execution_count": null,
   "id": "390fb019-6c41-4ea7-849b-518c9e81e821",
   "metadata": {
    "tags": []
   },
   "outputs": [],
   "source": [
    "# Load relevant result data.\n",
    "runs = dict()\n",
    "for name, d in zip(selected_run_names, selected_dirs):\n",
    "    run_info = Box()\n",
    "    run_info.test_perf = pd.read_csv(d / \"test_loss.csv\")\n",
    "    name_col = pd.DataFrame.from_dict(\n",
    "        {\"run_name\": list(itertools.repeat(name, len(run_info.test_perf)))}\n",
    "    )\n",
    "    run_info.test_perf = pd.concat([run_info.test_perf, name_col], axis=1)\n",
    "    run_info.preds_dir = d / \"predicted_dti\"\n",
    "    runs[name] = run_info"
   ]
  },
  {
   "cell_type": "markdown",
   "id": "dfe3a4c2-5886-4a6a-9578-8970f93bda40",
   "metadata": {},
   "source": [
    "## Test Performance Distributions"
   ]
  },
  {
   "cell_type": "code",
   "execution_count": null,
   "id": "3f1b3293-5e05-4116-8559-1f1bb77c4db9",
   "metadata": {
    "tags": []
   },
   "outputs": [],
   "source": [
    "perf_metrics = (\n",
    "    \"rmse\",\n",
    "    \"nrmse\",\n",
    "    \"log_euclid_rmse\",\n",
    "    \"log_euclid_nrmse\",\n",
    "    \"scaled_psnr\",\n",
    "    \"ssim_fa\",\n",
    "    \"rmse_fa\",\n",
    "    \"nrmse_fa\",\n",
    ")\n",
    "\n",
    "perf_comparison_directions = {\n",
    "    \"rmse\": \"↓\",\n",
    "    \"nrmse\": \"↓\",\n",
    "    \"log_euclid_rmse\": \"↓\",\n",
    "    \"log_euclid_nrmse\": \"↓\",\n",
    "    \"scaled_psnr\": \"↑\",\n",
    "    \"ssim_fa\": \"↑\",\n",
    "    \"rmse_fa\": \"↓\",\n",
    "    \"nrmse_fa\": \"↓\",\n",
    "}"
   ]
  },
  {
   "cell_type": "code",
   "execution_count": null,
   "id": "4a64a1b1-630a-4ed9-a516-b697ff1be37a",
   "metadata": {
    "tags": []
   },
   "outputs": [],
   "source": [
    "test_results = pd.concat([r.test_perf for r in runs.values()], ignore_index=True)"
   ]
  },
  {
   "cell_type": "code",
   "execution_count": null,
   "id": "77a228f9-2906-4fb6-b60a-63b290e7faf3",
   "metadata": {
    "tags": []
   },
   "outputs": [],
   "source": [
    "for run, model_name in run_model_names.items():\n",
    "    print(run, model_name)\n",
    "    mask = (test_results.run_name == run) & (test_results.model == \"diqt\")\n",
    "    test_results.loc[mask, \"model\"] = model_name\n",
    "\n",
    "test_results = test_results.replace(\n",
    "    {\"model\": \"cubic_spline\"}, {\"model\": \"Cubic\\nSpline\"}\n",
    ")"
   ]
  },
  {
   "cell_type": "code",
   "execution_count": null,
   "id": "040852a4-daec-4f0b-b0c9-2768f48af948",
   "metadata": {
    "tags": []
   },
   "outputs": [],
   "source": [
    "test_results.groupby([\"model\", \"metric\"]).mean()"
   ]
  },
  {
   "cell_type": "code",
   "execution_count": null,
   "id": "cc4fe056-d9ec-485f-89d8-4fca03db6d1a",
   "metadata": {
    "tags": []
   },
   "outputs": [],
   "source": [
    "with mpl.rc_context(\n",
    "    {\n",
    "        \"font.size\": 6.0,\n",
    "    }\n",
    "):\n",
    "    fig, axs = plt.subplots(\n",
    "        # ncols=len(perf_metrics),\n",
    "        ncols=4,\n",
    "        nrows=2,\n",
    "        # sharex=True,\n",
    "        figsize=(12, 10),\n",
    "        dpi=130,\n",
    "        # gridspec_kw={\"wspace\": 1.0, \"hspace\": 1.0},\n",
    "    )\n",
    "    axs = axs.flatten()\n",
    "    sns.despine(fig=fig, top=True, right=True)\n",
    "\n",
    "    all_colors = sns.color_palette(\n",
    "        \"tab10\",\n",
    "        n_colors=len(test_results.model.unique()) + len(test_results.run_name.unique()),\n",
    "    )\n",
    "    model_colors = all_colors[: len(test_results.model.unique())]\n",
    "    run_colors = all_colors[len(test_results.model.unique()) :]\n",
    "    run_order = list(test_results.run_name.unique())\n",
    "\n",
    "    ax_count = 0\n",
    "    for i, l in enumerate(perf_metrics):\n",
    "\n",
    "        ax = axs[i]\n",
    "        df = test_results.loc[test_results.metric == l]\n",
    "\n",
    "        vplot = sns.violinplot(\n",
    "            x=\"model\",\n",
    "            y=\"value\",\n",
    "            data=df,\n",
    "            ax=ax,\n",
    "            scale=\"count\",\n",
    "            inner=None,\n",
    "            palette=model_colors,\n",
    "        )\n",
    "        ax.grid(axis=\"y\", alpha=0.5)\n",
    "\n",
    "        points_plot = sns.swarmplot(\n",
    "            x=\"model\",\n",
    "            y=\"value\",\n",
    "            # hue=\"run_name\",\n",
    "            # hue_order=run_order,\n",
    "            data=df,\n",
    "            ax=ax,\n",
    "            # palette=run_colors,\n",
    "            # palette=plt.get_cmap('gist_rainbow'),\n",
    "            color=\"black\",\n",
    "            edgecolor=\"white\",\n",
    "            size=2.0,\n",
    "            linewidth=0.4,\n",
    "        )\n",
    "        # points_plot.get_legend().remove()\n",
    "\n",
    "        # Calculate mean performance score.\n",
    "        means = df.groupby(\"model\").mean()\n",
    "        # Make sure the order follows seaborn's x-axis ordering.\n",
    "        model_order = list(map(lambda ax: ax.get_text(), axs[i].get_xticklabels()))\n",
    "        means = means.reindex(model_order)\n",
    "\n",
    "        lines = ax.hlines(\n",
    "            y=means.value,\n",
    "            xmin=np.arange(0, len(means)) - 0.5 + 0.05,\n",
    "            xmax=np.arange(1, len(means) + 1) - 0.5 - 0.05,\n",
    "            colors=model_colors,\n",
    "            lw=1.5,\n",
    "        )\n",
    "\n",
    "        outline_path_effects = [\n",
    "            mpl.patheffects.Stroke(linewidth=5, foreground=\"white\", alpha=0.9),\n",
    "            mpl.patheffects.Normal(),\n",
    "        ]\n",
    "        lines.set_path_effects(outline_path_effects)\n",
    "\n",
    "        ax.set_xticklabels(ax.get_xticklabels(), rotation=25)\n",
    "\n",
    "        fig.canvas.draw()\n",
    "        ax_format = ax.get_yaxis().get_major_formatter()\n",
    "\n",
    "        for m, c in zip(means.value, model_colors):\n",
    "\n",
    "            ax.annotate(\n",
    "                f\"{m:.4g}\",\n",
    "                xy=(ax.get_xlim()[0] + (ax.get_xlim()[0] * 0.4), m),\n",
    "                xycoords=\"data\",\n",
    "                color=c,\n",
    "                ha=\"right\",\n",
    "                va=\"center\",\n",
    "                annotation_clip=False,\n",
    "                fontweight=\"bold\",\n",
    "                snap=True,\n",
    "                bbox=dict(\n",
    "                    boxstyle=\"square,pad=0.3\", fc=\"white\", lw=0, snap=True, alpha=0.75\n",
    "                ),\n",
    "            )\n",
    "        ax.set_title(f\"{l.replace('_', ' ')} {perf_comparison_directions[l]}\")\n",
    "        ax.set_ylabel(\"\")\n",
    "        ax.set_xlabel(\"\")\n",
    "        ax_count += 1\n",
    "    for ax in axs[ax_count:]:\n",
    "        sns.despine(ax=ax, left=True, bottom=True, top=True, right=True, trim=True)\n",
    "        ax.set_yticks([])\n",
    "        ax.set_xticks([])\n",
    "        ax.set_yticklabels([])\n",
    "        ax.set_xticklabels([])\n",
    "plt.savefig(\"test_results_violin_with_blumberg.pdf\")"
   ]
  },
  {
   "cell_type": "markdown",
   "id": "85964e8a-0d02-49c7-8c85-f8a9f48c97f6",
   "metadata": {},
   "source": [
    "## Tensor Ellipsoids"
   ]
  },
  {
   "cell_type": "code",
   "execution_count": null,
   "id": "26f6060a-d02f-47bd-98e9-8d7b070c7d75",
   "metadata": {
    "tags": []
   },
   "outputs": [],
   "source": [
    "select_subj_id = \"196952\"\n",
    "select_run = \"2022-03-01T06_58_21__pitn_dti_mid_net\"\n",
    "run_info = runs[select_run]\n",
    "pred_dti_file = run_info.preds_dir / f\"{select_subj_id}_predicted_dti.nii.gz\"\n",
    "pred_dti = nib.load(pred_dti_file)\n",
    "pred_dti_vol = torch.as_tensor(pred_dti.get_fdata())\n",
    "dti_vol_mat = pitn.eig.tril_vec2sym_mat(pred_dti_vol, tril_dim=0)\n",
    "eigvals, eigvecs = pitn.eig.eigh_workaround(dti_vol_mat)\n",
    "mask = (pred_dti_vol == 0).all(0)[\n",
    "    None,\n",
    "    None,\n",
    "]\n",
    "pred_fa = pitn.metrics.fast_fa(\n",
    "    pred_dti_vol[\n",
    "        None,\n",
    "    ],\n",
    "    mask,\n",
    ")[0, 0]\n",
    "pred_fa = pred_fa.detach().cpu().numpy()\n",
    "pred_fa = np.clip(pred_fa, 0, 1)\n",
    "pred_dti_vol = pred_dti_vol.detach().cpu().numpy()\n",
    "eigvals = eigvals.detach().cpu().numpy()\n",
    "eigvecs = eigvecs.detach().cpu().numpy()"
   ]
  },
  {
   "cell_type": "code",
   "execution_count": null,
   "id": "6794d531-0029-4db2-a61f-296f3cfc28b3",
   "metadata": {
    "tags": []
   },
   "outputs": [],
   "source": [
    "print(\"Computing tensor ellipsoids in a part of the splenium of the CC\")\n",
    "sphere = get_sphere(\"repulsion724\")\n",
    "# Enables/disables interactive visualization\n",
    "interactive = False\n",
    "\n",
    "scene = window.Scene()\n",
    "RGB = dipy.reconst.dti.color_fa(pred_fa, eigvecs)\n",
    "evals = eigvals[13:43, 44:74, 28:29]\n",
    "evecs = eigvecs[13:43, 44:74, 28:29]\n",
    "cfa = RGB[13:43, 44:74, 28:29]\n",
    "cfa /= cfa.max()\n",
    "\n",
    "scene.add(\n",
    "    actor.tensor_slicer(evals, evecs, scalar_colors=cfa, sphere=sphere, scale=0.3)\n",
    ")\n",
    "\n",
    "print(\"Saving illustration as tensor_ellipsoids.png\")\n",
    "window.record(scene, n_frames=1, out_path=\"tensor_ellipsoids.png\", size=(600, 600))\n",
    "if interactive:\n",
    "    window.show(scene)"
   ]
  }
 ],
 "metadata": {
  "kernelspec": {
   "display_name": "Python [conda env:miniconda-pitn]",
   "language": "python",
   "name": "conda-env-miniconda-pitn-py"
  },
  "language_info": {
   "codemirror_mode": {
    "name": "ipython",
    "version": 3
   },
   "file_extension": ".py",
   "mimetype": "text/x-python",
   "name": "python",
   "nbconvert_exporter": "python",
   "pygments_lexer": "ipython3",
   "version": "3.8.8"
  }
 },
 "nbformat": 4,
 "nbformat_minor": 5
}
