{
 "cells": [
  {
   "cell_type": "code",
   "execution_count": null,
   "id": "9db8444b-9fcd-4acb-b3c8-b09790e609d6",
   "metadata": {
    "tags": []
   },
   "outputs": [],
   "source": [
    "# Automatically re-import project-specific modules.\n",
    "%load_ext autoreload\n",
    "%autoreload 2\n",
    "\n",
    "# imports\n",
    "import collections\n",
    "import functools\n",
    "import io\n",
    "import math\n",
    "import itertools\n",
    "import os\n",
    "import shutil\n",
    "import pathlib\n",
    "import inspect\n",
    "import random\n",
    "import subprocess\n",
    "import sys\n",
    "import warnings\n",
    "from pathlib import Path\n",
    "import re\n",
    "import json\n",
    "\n",
    "import dipy\n",
    "import dipy.core\n",
    "import dipy.reconst\n",
    "import dipy.reconst.dti\n",
    "import dipy.segment.mask\n",
    "import dipy.viz\n",
    "import dotenv\n",
    "\n",
    "# visualization libraries\n",
    "%matplotlib inline\n",
    "import matplotlib as mpl\n",
    "import mpl_toolkits\n",
    "import matplotlib.pyplot as plt\n",
    "import seaborn as sns\n",
    "\n",
    "# Data management libraries.\n",
    "import nibabel as nib\n",
    "import pandas as pd\n",
    "\n",
    "import box\n",
    "from box import Box\n",
    "import pprint\n",
    "from pprint import pprint as ppr\n",
    "\n",
    "# Computation & ML libraries.\n",
    "import numpy as np\n",
    "import skimage\n",
    "import torch\n",
    "\n",
    "import pitn\n",
    "\n",
    "plt.rcParams.update({\"figure.autolayout\": True})\n",
    "plt.rcParams.update({\"figure.facecolor\": [1.0, 1.0, 1.0, 1.0]})\n",
    "\n",
    "# Set print options for ndarrays/tensors.\n",
    "np.set_printoptions(suppress=True, edgeitems=2, threshold=100, linewidth=88)\n",
    "torch.set_printoptions(\n",
    "    sci_mode=False, edgeitems=2, threshold=100, linewidth=88, profile=\"short\"\n",
    ")"
   ]
  },
  {
   "cell_type": "code",
   "execution_count": null,
   "id": "527d5c3b-9fb1-43a6-8fd7-dc7b259862fa",
   "metadata": {
    "tags": []
   },
   "outputs": [],
   "source": [
    "# Update notebook's environment variables with direnv.\n",
    "# This requires the python-dotenv package, and direnv be installed on the system\n",
    "# This will not work on Windows.\n",
    "# NOTE: This is kind of hacky, and not necessarily safe. Be careful...\n",
    "# Libraries needed on the python side:\n",
    "# - os\n",
    "# - subprocess\n",
    "# - io\n",
    "# - dotenv\n",
    "\n",
    "# Form command to be run in direnv's context. This command will print out\n",
    "# all environment variables defined in the subprocess/sub-shell.\n",
    "command = f\"direnv exec {os.getcwd()} /usr/bin/env\"\n",
    "# Run command in a new subprocess.\n",
    "proc = subprocess.Popen(command, stdout=subprocess.PIPE, shell=True, cwd=os.getcwd())\n",
    "# Store and format the subprocess' output.\n",
    "proc_out = proc.communicate()[0].strip().decode(\"utf-8\")\n",
    "# Use python-dotenv to load the environment variables by using the output of\n",
    "# 'direnv exec ...' as a 'dummy' .env file.\n",
    "dotenv.load_dotenv(stream=io.StringIO(proc_out), override=True);"
   ]
  },
  {
   "cell_type": "code",
   "execution_count": null,
   "id": "e869d84f-b413-47cd-ad19-dcbd51645336",
   "metadata": {
    "tags": []
   },
   "outputs": [],
   "source": [
    "%%capture --no-stderr cap\n",
    "# Capture output and save to log. Needs to be at the *very first* line of the cell.\n",
    "# Watermark\n",
    "%load_ext watermark\n",
    "%watermark --author \"Tyler Spears\" --updated --iso8601  --python --machine --iversions --githash\n",
    "if torch.cuda.is_available():\n",
    "    # GPU information\n",
    "    try:\n",
    "        gpu_info = pitn.utils.system.get_gpu_specs()\n",
    "        print(gpu_info)\n",
    "    except NameError:\n",
    "        print(\"CUDA Version: \", torch.version.cuda)\n",
    "else:\n",
    "    print(\"CUDA not in use, falling back to CPU\")"
   ]
  },
  {
   "cell_type": "code",
   "execution_count": null,
   "id": "aa28caa7-1e81-40e6-8341-4b1c92a5cdd6",
   "metadata": {
    "tags": []
   },
   "outputs": [],
   "source": [
    "# cap is defined in an ipython magic command\n",
    "print(cap)"
   ]
  },
  {
   "cell_type": "markdown",
   "id": "af59ea4d-0f7b-435e-ae37-bb83e3781aae",
   "metadata": {},
   "source": [
    "## File and Folder Selection"
   ]
  },
  {
   "cell_type": "code",
   "execution_count": null,
   "id": "6bc81d88-c37a-4c8d-9d20-9a3a90f38051",
   "metadata": {
    "tags": []
   },
   "outputs": [],
   "source": [
    "# Set up directories\n",
    "data_dir = pathlib.Path(os.environ[\"DATA_DIR\"])\n",
    "assert data_dir.exists()\n",
    "write_data_dir = pathlib.Path(os.environ[\"WRITE_DATA_DIR\"])\n",
    "assert write_data_dir.exists()\n",
    "results_dir = pathlib.Path(os.environ[\"RESULTS_DIR\"])\n",
    "assert results_dir.exists()\n",
    "tmp_results_dir = pathlib.Path(os.environ[\"TMP_RESULTS_DIR\"])\n",
    "assert tmp_results_dir.exists()"
   ]
  },
  {
   "cell_type": "code",
   "execution_count": null,
   "id": "28e6d534-d76b-41a1-8589-b19ddae08f6b",
   "metadata": {
    "tags": []
   },
   "outputs": [],
   "source": [
    "selected_run_names = [\n",
    "    \"2022-02-27T16_04_20__dti_const_lr_2.5e-4_mid_net\",\n",
    "    \"2022-02-27T03_24_34__const_lr_2.5e-4_mid_net_grad_2norm_clip_.025\",\n",
    "    \"2022-03-01T00_33_44__tanno_espcn_baseline\",\n",
    "]\n",
    "run_model_names = {\n",
    "    \"2022-02-27T16_04_20__dti_const_lr_2.5e-4_mid_net\": \"DIQT\\nDTI\",\n",
    "    \"2022-02-27T03_24_34__const_lr_2.5e-4_mid_net_grad_2norm_clip_.025\": \"DIQT\\nLE\",\n",
    "    \"2022-03-01T00_33_44__tanno_espcn_baseline\": \"ESPCN\\nBase\",\n",
    "}\n",
    "selected_dirs = [results_dir / d for d in selected_run_names]\n",
    "assert all([d.exists for d in selected_dirs])"
   ]
  },
  {
   "cell_type": "code",
   "execution_count": null,
   "id": "390fb019-6c41-4ea7-849b-518c9e81e821",
   "metadata": {
    "tags": []
   },
   "outputs": [],
   "source": [
    "# Load relevant result data.\n",
    "runs = dict()\n",
    "for name, d in zip(selected_run_names, selected_dirs):\n",
    "    run_info = Box()\n",
    "    run_info.test_perf = pd.read_csv(d / \"test_loss.csv\")\n",
    "    name_col = pd.DataFrame.from_dict(\n",
    "        {\"run_name\": list(itertools.repeat(name, len(run_info.test_perf)))}\n",
    "    )\n",
    "    run_info.test_perf = pd.concat([run_info.test_perf, name_col], axis=1)\n",
    "    run_info.preds_file = d / \"predicted_dti.zip\"\n",
    "    runs[name] = run_info"
   ]
  },
  {
   "cell_type": "markdown",
   "id": "dfe3a4c2-5886-4a6a-9578-8970f93bda40",
   "metadata": {},
   "source": [
    "## Test Performance Distributions"
   ]
  },
  {
   "cell_type": "code",
   "execution_count": null,
   "id": "3f1b3293-5e05-4116-8559-1f1bb77c4db9",
   "metadata": {
    "tags": []
   },
   "outputs": [],
   "source": [
    "perf_metrics = (\n",
    "    \"rmse\",\n",
    "    # \"nrmse\",\n",
    "    \"log_euclid_rmse\",\n",
    "    # \"log_euclid_nrmse\",\n",
    "    # \"scaled_psnr\",\n",
    "    \"ssim_fa\",\n",
    "    \"rmse_fa\",\n",
    "    # \"nrmse_fa\"\n",
    ")\n",
    "\n",
    "perf_comparison_directions = {\n",
    "    \"rmse\": \"↓\",\n",
    "    # \"nrmse\": \"↓\",\n",
    "    \"log_euclid_rmse\": \"↓\",\n",
    "    # \"log_euclid_nrmse\": \"↓\",\n",
    "    # \"scaled_psnr\": \"↑\",\n",
    "    \"ssim_fa\": \"↑\",\n",
    "    \"rmse_fa\": \"↓\",\n",
    "    # \"nrmse_fa\": \"↓\",\n",
    "}"
   ]
  },
  {
   "cell_type": "code",
   "execution_count": null,
   "id": "4bed04b6-d423-4877-88da-1f5ce1494bfe",
   "metadata": {
    "tags": []
   },
   "outputs": [],
   "source": [
    "test_results = pd.concat([r.test_perf for r in runs.values()], ignore_index=True)\n",
    "test_results.model.unique()"
   ]
  },
  {
   "cell_type": "code",
   "execution_count": null,
   "id": "b7bce44c-c928-4dc3-8f4b-ffc66e6921b9",
   "metadata": {
    "tags": []
   },
   "outputs": [],
   "source": [
    "test_results = pd.concat([r.test_perf for r in runs.values()], ignore_index=True)\n",
    "for run, model_name in run_model_names.items():\n",
    "    print(run, model_name)\n",
    "    test_results.model[\n",
    "        (test_results.run_name == run) & (test_results.model == \"diqt\")\n",
    "    ] = model_name\n",
    "test_results = test_results.replace(\n",
    "    {\"model\": \"cubic_spline\"}, {\"model\": \"Cubic\\nSpline\"}\n",
    ")"
   ]
  },
  {
   "cell_type": "code",
   "execution_count": null,
   "id": "cc4fe056-d9ec-485f-89d8-4fca03db6d1a",
   "metadata": {
    "tags": []
   },
   "outputs": [],
   "source": [
    "with mpl.rc_context(\n",
    "    {\n",
    "        \"font.size\": 10.0,\n",
    "    }\n",
    "):\n",
    "    fig, axs = plt.subplots(\n",
    "        # ncols=len(perf_metrics),\n",
    "        ncols=2,\n",
    "        nrows=2,\n",
    "        # sharex=True,\n",
    "        figsize=(6, 6),\n",
    "        dpi=130,\n",
    "        # gridspec_kw={\"wspace\": 1.0, \"hspace\": 1.0},\n",
    "    )\n",
    "    axs = axs.flatten()\n",
    "    sns.despine(fig=fig, top=True, right=True)\n",
    "\n",
    "    all_colors = sns.color_palette(\n",
    "        \"tab10\",\n",
    "        n_colors=len(test_results.model.unique()) + len(test_results.run_name.unique()),\n",
    "    )\n",
    "    model_colors = all_colors[: len(test_results.model.unique())]\n",
    "    run_colors = all_colors[len(test_results.model.unique()) :]\n",
    "    run_order = list(test_results.run_name.unique())\n",
    "    \n",
    "    ax_count = 0\n",
    "    for i, l in enumerate(perf_metrics):\n",
    "\n",
    "        ax = axs[i]\n",
    "        df = test_results.loc[test_results.metric == l]\n",
    "\n",
    "        vplot = sns.violinplot(\n",
    "            x=\"model\",\n",
    "            y=\"value\",\n",
    "            data=df,\n",
    "            ax=ax,\n",
    "            scale=\"count\",\n",
    "            inner=None,\n",
    "            palette=model_colors,\n",
    "        )\n",
    "        ax.grid(axis=\"y\", alpha=0.5)\n",
    "\n",
    "        points_plot = sns.swarmplot(\n",
    "            x=\"model\",\n",
    "            y=\"value\",\n",
    "            # hue=\"run_name\",\n",
    "            # hue_order=run_order,\n",
    "            data=df,\n",
    "            ax=ax,\n",
    "            # palette=run_colors,\n",
    "            # palette=plt.get_cmap('gist_rainbow'),\n",
    "            color=\"black\",\n",
    "            edgecolor=\"white\",\n",
    "            size=2.7,\n",
    "            linewidth=0.4,\n",
    "        )\n",
    "        # points_plot.get_legend().remove()\n",
    "\n",
    "        # Calculate mean performance score.\n",
    "        means = df.groupby(\"model\").mean()\n",
    "        # Make sure the order follows seaborn's x-axis ordering.\n",
    "        model_order = list(map(lambda ax: ax.get_text(), axs[i].get_xticklabels()))\n",
    "        means = means.reindex(model_order)\n",
    "\n",
    "        lines = ax.hlines(\n",
    "            y=means.value,\n",
    "            xmin=np.arange(0, len(means)) - 0.5 + 0.05,\n",
    "            xmax=np.arange(1, len(means) + 1) - 0.5 - 0.05,\n",
    "            colors=model_colors,\n",
    "            lw=1.5,\n",
    "        )\n",
    "\n",
    "        outline_path_effects = [\n",
    "            mpl.patheffects.Stroke(linewidth=5, foreground=\"white\", alpha=0.9),\n",
    "            mpl.patheffects.Normal(),\n",
    "        ]\n",
    "        lines.set_path_effects(outline_path_effects)\n",
    "\n",
    "        ax.set_xticklabels(ax.get_xticklabels(), rotation=25)\n",
    "\n",
    "        fig.canvas.draw()\n",
    "        ax_format = ax.get_yaxis().get_major_formatter()\n",
    "\n",
    "        for m, c in zip(means.value, model_colors):\n",
    "\n",
    "            ax.annotate(\n",
    "                f\"{m:.4g}\",\n",
    "                xy=(ax.get_xlim()[0] + (ax.get_xlim()[0] * 0.4), m),\n",
    "                xycoords=\"data\",\n",
    "                color=c,\n",
    "                ha=\"right\",\n",
    "                va=\"center\",\n",
    "                annotation_clip=False,\n",
    "                fontweight=\"bold\",\n",
    "                snap=True,\n",
    "                bbox=dict(\n",
    "                    boxstyle=\"square,pad=0.3\", fc=\"white\", lw=0, snap=True, alpha=0.75\n",
    "                ),\n",
    "            )\n",
    "        ax.set_title(f\"{l.replace('_', ' ')} {perf_comparison_directions[l]}\")\n",
    "        ax.set_ylabel(\"\")\n",
    "        ax.set_xlabel(\"\")\n",
    "        ax_count += 1\n",
    "    for ax in axs[ax_count:]:\n",
    "        sns.despine(ax=ax, left=True, bottom=True, top=True, right=True, trim=True)\n",
    "        ax.set_yticks([])\n",
    "        ax.set_xticks([])\n",
    "        ax.set_yticklabels([])\n",
    "        ax.set_xticklabels([])\n",
    "plt.savefig('test_results_violin.pdf')"
   ]
  }
 ],
 "metadata": {
  "kernelspec": {
   "display_name": "Python [conda env:miniconda-pitn]",
   "language": "python",
   "name": "conda-env-miniconda-pitn-py"
  },
  "language_info": {
   "codemirror_mode": {
    "name": "ipython",
    "version": 3
   },
   "file_extension": ".py",
   "mimetype": "text/x-python",
   "name": "python",
   "nbconvert_exporter": "python",
   "pygments_lexer": "ipython3",
   "version": "3.8.8"
  }
 },
 "nbformat": 4,
 "nbformat_minor": 5
}
