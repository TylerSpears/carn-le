{
 "cells": [
  {
   "cell_type": "markdown",
   "id": "d0529dde-b537-434d-8b61-dec8636acf29",
   "metadata": {
    "tags": []
   },
   "source": [
    "# Comparison: Unprocessed HCP DWI Against Clinically-Acquired DWI\n",
    "\n",
    "Tyler Spears\n",
    "\n",
    "Dr. Tom Fletcher"
   ]
  },
  {
   "cell_type": "markdown",
   "id": "77e492e8-1754-4d91-bf0c-ca92a4d80ec1",
   "metadata": {},
   "source": [
    "## Setup"
   ]
  },
  {
   "cell_type": "code",
   "execution_count": null,
   "id": "a12752e7-3a46-4edb-9278-e91794085b4e",
   "metadata": {
    "tags": []
   },
   "outputs": [],
   "source": [
    "import itertools\n",
    "import functools\n",
    "import pathlib\n",
    "from pathlib import Path\n",
    "import os\n",
    "import io\n",
    "import subprocess\n",
    "\n",
    "import numpy as np\n",
    "import scipy\n",
    "import skimage\n",
    "import skimage.filters\n",
    "import dipy\n",
    "import dipy.align, dipy.align.imaffine, dipy.viz, dipy.viz.regtools, dipy.segment, dipy.segment.mask\n",
    "import ants\n",
    "import nibabel as nib\n",
    "import dotenv\n",
    "import box\n",
    "from box import Box\n",
    "\n",
    "# visualization libraries\n",
    "%matplotlib inline\n",
    "import matplotlib as mpl\n",
    "import matplotlib.pyplot as plt\n",
    "from mpl_toolkits import mplot3d\n",
    "import seaborn as sns\n",
    "\n",
    "plt.rcParams.update({\"figure.autolayout\": True})\n",
    "plt.rcParams.update({\"figure.facecolor\": [1.0, 1.0, 1.0, 1.0]})\n",
    "\n",
    "# Set print options for ndarrays/tensors.\n",
    "np.set_printoptions(suppress=True, threshold=100, linewidth=88)"
   ]
  },
  {
   "cell_type": "code",
   "execution_count": null,
   "id": "3d1ccfaa-8b98-4ae9-bbc5-a378da373b09",
   "metadata": {
    "tags": []
   },
   "outputs": [],
   "source": [
    "# Update notebook's environment variables with direnv.\n",
    "# This requires the python-dotenv package, and direnv be installed on the system\n",
    "# This will not work on Windows.\n",
    "# NOTE: This is kind of hacky, and not necessarily safe. Be careful...\n",
    "# Libraries needed on the python side:\n",
    "# - os\n",
    "# - subprocess\n",
    "# - io\n",
    "# - dotenv\n",
    "\n",
    "# Form command to be run in direnv's context. This command will print out\n",
    "# all environment variables defined in the subprocess/sub-shell.\n",
    "command = \"direnv exec {} /usr/bin/env\".format(os.getcwd())\n",
    "# Run command in a new subprocess.\n",
    "proc = subprocess.Popen(command, stdout=subprocess.PIPE, shell=True, cwd=os.getcwd())\n",
    "# Store and format the subprocess' output.\n",
    "proc_out = proc.communicate()[0].strip().decode(\"utf-8\")\n",
    "# Use python-dotenv to load the environment variables by using the output of\n",
    "# 'direnv exec ...' as a 'dummy' .env file.\n",
    "dotenv.load_dotenv(stream=io.StringIO(proc_out), override=True);"
   ]
  },
  {
   "cell_type": "code",
   "execution_count": null,
   "id": "c6f5d544-c94a-48a2-b5a5-a22cf40a358a",
   "metadata": {
    "tags": []
   },
   "outputs": [],
   "source": [
    "# Watermark\n",
    "%load_ext watermark\n",
    "%watermark --author \"Tyler Spears\" --updated --iso8601  --python --machine --iversions --githash"
   ]
  },
  {
   "cell_type": "markdown",
   "id": "74cf5502-07c4-43d7-aebe-1fb72da6e844",
   "metadata": {},
   "source": [
    "### Locate and Load Data Files"
   ]
  },
  {
   "cell_type": "code",
   "execution_count": null,
   "id": "93089d47-e49f-4cd7-a65a-c0e16a7c192d",
   "metadata": {
    "tags": []
   },
   "outputs": [],
   "source": [
    "# Set up directories\n",
    "# HCP directory\n",
    "hcp_data_dir = pathlib.Path(os.environ[\"DATA_DIR\"]) / \"hcp\"\n",
    "assert hcp_data_dir.exists()\n",
    "write_data_dir = pathlib.Path(os.environ[\"WRITE_DATA_DIR\"]) / \"hcp\"\n",
    "assert write_data_dir.exists()\n",
    "\n",
    "# Clinical directory\n",
    "clinical_data_dir = Path(\"/mnt/storage/data/pitn/uva\")\n",
    "assert clinical_data_dir.exists()"
   ]
  },
  {
   "cell_type": "code",
   "execution_count": null,
   "id": "cbfcfdec-f526-4adc-ba79-9b3424b44e8c",
   "metadata": {
    "tags": []
   },
   "outputs": [],
   "source": [
    "# Import files\n",
    "# HCP\n",
    "# Subjects of interest.\n",
    "hcp_subj_ids = [\n",
    "    \"140117\",\n",
    "]\n",
    "hcp = Box(default_box=True)\n",
    "\n",
    "# Loop over subjects\n",
    "for subj_id in hcp_subj_ids:\n",
    "    subj_dir = hcp_data_dir / str(subj_id)\n",
    "    unproc_dir = subj_dir / \"unprocessed/3T/Diffusion\"\n",
    "    # Loop over each set of scans in the subject.\n",
    "    for bval_scan_name in unproc_dir.glob(\"*.bval\"):\n",
    "        scan_name = bval_scan_name.stem\n",
    "        bval_file = unproc_dir / (scan_name + \".bval\")\n",
    "        bvec_file = unproc_dir / (scan_name + \".bvec\")\n",
    "        nifti_file = unproc_dir / (scan_name + \".nii.gz\")\n",
    "        hcp[subj_id][scan_name].bval = np.loadtxt(bval_file)\n",
    "        hcp[subj_id][scan_name].bvec = np.loadtxt(bvec_file)\n",
    "        hcp[subj_id][scan_name].dwi = nib.load(nifti_file)\n",
    "\n",
    "# Clinical\n",
    "clinic_subj_ids = [\n",
    "    \"001\",\n",
    "]\n",
    "clinic = Box(default_box=True)\n",
    "\n",
    "# Loop over subjects\n",
    "for subj_id in clinic_subj_ids:\n",
    "    subj_dir = clinical_data_dir / str(subj_id)\n",
    "\n",
    "    nifti_file = subj_dir / \"sub-001_ses-01_run-2_dwi.nii.gz\"\n",
    "    bval_file = subj_dir / \"sub-001_ses-01_run-2_dwi.bval\"\n",
    "    bvec_file = subj_dir / \"sub-001_ses-01_run-2_dwi.bvec\"\n",
    "    clinic[subj_id].bval = np.loadtxt(bval_file)\n",
    "    clinic[subj_id].bvec = np.loadtxt(bvec_file)\n",
    "    clinic[subj_id].dwi = nib.load(nifti_file)"
   ]
  },
  {
   "cell_type": "markdown",
   "id": "0f665503-f955-42b0-88bc-f79e000610ff",
   "metadata": {},
   "source": [
    "### Calculate Masks"
   ]
  },
  {
   "cell_type": "code",
   "execution_count": null,
   "id": "973ca842-2070-4b80-8cf2-9ce3a0ff7ef8",
   "metadata": {
    "tags": []
   },
   "outputs": [],
   "source": [
    "def rough_b0_mask(dwi):\n",
    "    #     thresh = skimage.filters.threshold_triangle(dwi)\n",
    "    #     mask = img >= thresh\n",
    "    #     mask = np.logical_xor(\n",
    "    #         mask, skimage.morphology.white_tophat(mask, selem=skimage.morphology.ball(3))\n",
    "    #     )\n",
    "    #     # mask = skimage.morphology.binary_opening(mask, selem=skimage.morphology.ball(3))\n",
    "    #     mask = skimage.morphology.remove_small_holes(mask, 20 ** 3)\n",
    "    mask = dipy.segment.mask.median_otsu(dwi, dilate=5)[1]\n",
    "\n",
    "    return mask"
   ]
  },
  {
   "cell_type": "code",
   "execution_count": null,
   "id": "99f1bea8-d2d2-4013-856a-15dc149f7803",
   "metadata": {
    "tags": []
   },
   "outputs": [],
   "source": [
    "# Calculate HCP masks using b0 mask averages, for each scan and over the entire subject.\n",
    "for subj_id in hcp_subj_ids:\n",
    "    subject_mask = np.zeros(list(hcp[subj_id].values())[0].dwi.shape[:-1], dtype=bool)\n",
    "    for i_scan, scan in hcp[subj_id].items():\n",
    "        scan_mask = np.zeros(scan.dwi.shape[:-1], dtype=bool)\n",
    "        for j_b0 in np.where(scan.bval <= 100)[0]:\n",
    "            img = scan.dwi.get_fdata()[..., j_b0]\n",
    "            img_mask = rough_b0_mask(img)\n",
    "            scan_mask = scan_mask | img_mask\n",
    "        hcp[subj_id][i_scan].mask = scan_mask\n",
    "        subject_mask = subject_mask | scan_mask\n",
    "\n",
    "    hcp[subj_id].mask = subject_mask"
   ]
  },
  {
   "cell_type": "code",
   "execution_count": null,
   "id": "74683df3-df14-4ef8-956a-6e4e602a018e",
   "metadata": {
    "tags": []
   },
   "outputs": [],
   "source": [
    "# Display an example.\n",
    "s = hcp[hcp_subj_ids[0]]\n",
    "scan = s[list(s.keys())[0]]\n",
    "img = scan.dwi.get_fdata()[..., 0]\n",
    "mask = scan.mask\n",
    "for i in range(3):\n",
    "    dipy.viz.regtools.overlay_slices(img, mask, None, i, \"HCP b0\", \"Mask\").set_dpi(170)"
   ]
  },
  {
   "cell_type": "code",
   "execution_count": null,
   "id": "b90287a4-b1c4-4eb6-8d52-f1b97c0234f2",
   "metadata": {
    "tags": []
   },
   "outputs": [],
   "source": [
    "# Calculate clinical data masks over b0 images.\n",
    "for subj_id in clinic_subj_ids:\n",
    "    subject_mask = np.zeros(clinic[subj_id].dwi.shape[:-1], dtype=bool)\n",
    "\n",
    "    for i_b0 in np.where(clinic[subj_id].bval <= 100)[0]:\n",
    "        img = clinic[subj_id].dwi.get_fdata()[..., j_b0]\n",
    "        img_mask = rough_b0_mask(img)\n",
    "        subject_mask = subject_mask | img_mask\n",
    "\n",
    "    clinic[subj_id].mask = subject_mask"
   ]
  },
  {
   "cell_type": "code",
   "execution_count": null,
   "id": "c92c8543-a376-4ed1-aa23-4db03a8078ea",
   "metadata": {
    "tags": []
   },
   "outputs": [],
   "source": [
    "# Display an example.\n",
    "s = clinic[clinic_subj_ids[0]]\n",
    "img = s.dwi.get_fdata()[..., 0]\n",
    "mask = s.mask\n",
    "for i in range(3):\n",
    "    dipy.viz.regtools.overlay_slices(img, mask, None, i, \"Clinical b0\", \"Mask\").set_dpi(\n",
    "        170\n",
    "    )"
   ]
  },
  {
   "cell_type": "markdown",
   "id": "5ea8797a-52e7-422d-ad0c-3d70cd6d03a9",
   "metadata": {},
   "source": [
    "## b-values and b Vectors"
   ]
  },
  {
   "cell_type": "markdown",
   "id": "b25cd831-819c-4ddf-8ee9-4c620eee2351",
   "metadata": {},
   "source": [
    "### HCP Unprocessed DWI Attributes"
   ]
  },
  {
   "cell_type": "code",
   "execution_count": null,
   "id": "93dd119e-d8bf-43a5-b6f5-0db9f861d8e1",
   "metadata": {
    "tags": []
   },
   "outputs": [],
   "source": [
    "# There's a stackoverflow post specifically for visualizing b vectors!\n",
    "# <https://stackoverflow.com/a/63708529>\n",
    "\n",
    "fig = plt.figure(dpi=150)\n",
    "ax = fig.add_subplot(projection=\"3d\")\n",
    "bvec = list()\n",
    "for scan in hcp[\"140117\"].values():\n",
    "    if isinstance(scan, dict):\n",
    "        bvec.append(scan.bvec)\n",
    "bvec = np.concatenate(bvec, axis=1)\n",
    "\n",
    "# Draw a unit sphere.\n",
    "u, v = np.mgrid[0 : 2 * np.pi : 50j, 0 : np.pi : 50j]\n",
    "x = np.cos(u) * np.sin(v)\n",
    "y = np.sin(u) * np.sin(v)\n",
    "z = np.cos(v)\n",
    "# alpha controls opacity\n",
    "# ax.plot_surface(x, y, z, color=\"g\", alpha=0.5)\n",
    "\n",
    "# x, y, z = np.meshgrid(np.zeros(len(bvec[0])), np.zeros(len(bvec[0])), np.zeros(len(bvec[0])))\n",
    "# u, v, w = np.meshgrid(bvec[0], bvec[1], bvec[2])\n",
    "x = y = z = np.zeros(len(bvec[0]))\n",
    "u, v, w = bvec[0], bvec[1], bvec[2]\n",
    "# ax.quiver(x, y, z, u, v, w, length=1.0, arrow_length_ratio=0.1, alpha=0.8, lw=0.3, color='black')\n",
    "ax.scatter(bvec[0], bvec[1], bvec[2], lw=0, color=\"black\")\n",
    "\n",
    "# Project each axis in 2D\n",
    "ax.scatter(bvec[0], bvec[1], zs=-1, zdir=\"z\", marker=\".\", lw=0, color=\"blue\")\n",
    "ax.scatter(bvec[0], bvec[2], zs=1, zdir=\"y\", marker=\".\", lw=0, color=\"green\")\n",
    "ax.scatter(bvec[1], bvec[2], zs=-1, zdir=\"x\", marker=\".\", lw=0, color=\"red\")\n",
    "\n",
    "ax.set_xlim(-1.0, 1.0)\n",
    "ax.set_ylim(-1.0, 1.0)\n",
    "ax.set_zlim(-1.0, 1.0)\n",
    "ax.grid(True);"
   ]
  },
  {
   "cell_type": "code",
   "execution_count": null,
   "id": "3ec63fac-398c-4c02-aefd-86e1947b6943",
   "metadata": {
    "tags": []
   },
   "outputs": [],
   "source": [
    "# Plot bvec directions as related to gradient strength (bvals)\n",
    "fig = plt.figure(dpi=150)\n",
    "ax = fig.add_subplot(projection=\"3d\")\n",
    "bvec = list()\n",
    "bval = list()\n",
    "for scan in hcp[\"140117\"].values():\n",
    "    if isinstance(scan, dict):\n",
    "        bvec.append(scan.bvec)\n",
    "        bval.append(scan.bval)\n",
    "bvec = np.concatenate(bvec, axis=1)\n",
    "bval = np.concatenate(bval)\n",
    "\n",
    "x = y = z = np.zeros(len(bvec[0]))\n",
    "u, v, w = bvec[0], bvec[1], bvec[2]\n",
    "cmap = mpl.cm.inferno\n",
    "colors = cmap(bval / bval.max())\n",
    "\n",
    "# ax.quiver(x, y, z, u, v, w, length=1.0, arrow_length_ratio=0.1, lw=0.5, alpha=0.8, color=colors)\n",
    "ax.scatter(bvec[0], bvec[1], bvec[2], lw=0, color=colors, depthshade=False)\n",
    "\n",
    "ax.set_xlim(-1.0, 1.0)\n",
    "ax.set_ylim(-1.0, 1.0)\n",
    "ax.set_zlim(-1.0, 1.0)\n",
    "\n",
    "ax.grid(True);"
   ]
  },
  {
   "cell_type": "code",
   "execution_count": null,
   "id": "c98752e1-9dc7-466f-a7ef-82036ea55171",
   "metadata": {
    "tags": []
   },
   "outputs": [],
   "source": [
    "fig = plt.figure()\n",
    "ax = fig.add_subplot()\n",
    "bval = list()\n",
    "for scan in hcp[\"140117\"].values():\n",
    "    if isinstance(scan, dict):\n",
    "        bval.append(scan.bval)\n",
    "bval = np.concatenate(bval)\n",
    "\n",
    "ax.hist(bval, bins=len(np.unique(bval)));"
   ]
  },
  {
   "cell_type": "code",
   "execution_count": null,
   "id": "f7f0478e-80b0-4273-93a7-ec418463b8c5",
   "metadata": {
    "tags": []
   },
   "outputs": [],
   "source": [
    "dir_96 = hcp[\"140117\"][\"140117_3T_DWI_dir95_LR\"].dwi.get_fdata()[..., 0]\n",
    "dir_97 = hcp[\"140117\"][\"140117_3T_DWI_dir97_LR\"].dwi.get_fdata()[..., 0]\n",
    "\n",
    "for i in range(3):\n",
    "    dipy.viz.regtools.overlay_slices(\n",
    "        dir_96, dir_97, None, i, \"95 Scan\", \"97 Scan\"\n",
    "    ).set_dpi(170)"
   ]
  },
  {
   "cell_type": "markdown",
   "id": "3cb10aee-6107-4549-b84f-50287b92a6cf",
   "metadata": {},
   "source": [
    "### Clinical Unprocessed DWI Attributes"
   ]
  },
  {
   "cell_type": "code",
   "execution_count": null,
   "id": "caac0cca-b14b-4df0-9865-85b75f7b691c",
   "metadata": {
    "tags": []
   },
   "outputs": [],
   "source": [
    "fig = plt.figure(dpi=150)\n",
    "ax = fig.add_subplot(projection=\"3d\")\n",
    "bvec = clinic[\"001\"].bvec\n",
    "\n",
    "# Draw a unit sphere.\n",
    "u, v = np.mgrid[0 : 2 * np.pi : 50j, 0 : np.pi : 50j]\n",
    "x = np.cos(u) * np.sin(v)\n",
    "y = np.sin(u) * np.sin(v)\n",
    "z = np.cos(v)\n",
    "# alpha controls opacity\n",
    "# ax.plot_surface(x, y, z, color=\"g\", alpha=0.5)\n",
    "\n",
    "# x, y, z = np.meshgrid(np.zeros(len(bvec[0])), np.zeros(len(bvec[0])), np.zeros(len(bvec[0])))\n",
    "# u, v, w = np.meshgrid(bvec[0], bvec[1], bvec[2])\n",
    "x = y = z = np.zeros(len(bvec[0]))\n",
    "u, v, w = bvec[0], bvec[1], bvec[2]\n",
    "# ax.quiver(x, y, z, u, v, w, length=1.0, arrow_length_ratio=0.1, alpha=0.8, lw=0.3, color='black')\n",
    "ax.scatter(bvec[0], bvec[1], bvec[2], color=\"black\", lw=0)\n",
    "\n",
    "# Project each axis in 2D\n",
    "ax.scatter(bvec[0], bvec[1], zs=-1, zdir=\"z\", marker=\".\", lw=0, color=\"blue\")\n",
    "ax.scatter(bvec[0], bvec[2], zs=1, zdir=\"y\", marker=\".\", lw=0, color=\"green\")\n",
    "ax.scatter(bvec[1], bvec[2], zs=-1, zdir=\"x\", marker=\".\", lw=0, color=\"red\")\n",
    "\n",
    "ax.set_xlim(-1.0, 1.0)\n",
    "ax.set_ylim(-1.0, 1.0)\n",
    "ax.set_zlim(-1.0, 1.0)\n",
    "ax.grid(True);"
   ]
  },
  {
   "cell_type": "code",
   "execution_count": null,
   "id": "74cccb77-dcca-4d48-a34c-32833b7654da",
   "metadata": {
    "tags": []
   },
   "outputs": [],
   "source": [
    "# Plot bvec directions as related to gradient strength (bvals)\n",
    "fig = plt.figure(dpi=150)\n",
    "ax = fig.add_subplot(projection=\"3d\")\n",
    "bvec = clinic[\"001\"].bvec\n",
    "bval = clinic[\"001\"].bval\n",
    "\n",
    "x = y = z = np.zeros(len(bvec[0]))\n",
    "u, v, w = bvec[0], bvec[1], bvec[2]\n",
    "cmap = mpl.cm.inferno\n",
    "colors = cmap(bval / bval.max())\n",
    "\n",
    "# ax.quiver(x, y, z, u, v, w, length=1.0, arrow_length_ratio=0.1, lw=0.5, alpha=0.8, color=colors)\n",
    "ax.scatter(bvec[0], bvec[1], bvec[2], lw=0, color=colors, depthshade=False)\n",
    "\n",
    "ax.set_xlim(-1.0, 1.0)\n",
    "ax.set_ylim(-1.0, 1.0)\n",
    "ax.set_zlim(-1.0, 1.0)\n",
    "\n",
    "ax.grid(True);"
   ]
  },
  {
   "cell_type": "markdown",
   "id": "d5780615-35df-4503-9e1d-cdf67f118339",
   "metadata": {},
   "source": [
    "## Patch-Level Statistics"
   ]
  },
  {
   "cell_type": "code",
   "execution_count": null,
   "id": "35fffcbd-989b-433a-bf14-afe246ba9d6e",
   "metadata": {
    "tags": []
   },
   "outputs": [],
   "source": [
    "def random_sample_windows(vol, window_shape, n_patches, step=1, mask=None):\n",
    "    patches = skimage.util.view_as_windows(vol, window_shape, step)\n",
    "    patches = patches.reshape(-1, *window_shape)\n",
    "    if mask is not None:\n",
    "        mask_patches = skimage.util.view_as_windows(mask, window_shape, step)\n",
    "        mask_patches = mask_patches.reshape(-1, *window_shape)\n",
    "        mask_patches = np.any(\n",
    "            mask_patches, axis=tuple(range(1, len(mask_patches.shape)))\n",
    "        )\n",
    "        patches = patches[mask_patches]\n",
    "\n",
    "    sample_idx = np.random.choice(len(patches), n_patches, replace=False)\n",
    "    samples = patches[sample_idx, ...]\n",
    "    return samples"
   ]
  },
  {
   "cell_type": "code",
   "execution_count": null,
   "id": "7a430f82-41c1-4222-b69a-8c088e44765a",
   "metadata": {
    "tags": []
   },
   "outputs": [],
   "source": [
    "img = hcp[\"140117\"][\"140117_3T_DWI_dir95_LR\"].dwi.get_fdata()[..., 0]\n",
    "mask = hcp[\"140117\"][\"140117_3T_DWI_dir95_LR\"].mask\n",
    "\n",
    "sample = random_sample_windows(\n",
    "    img,\n",
    "    (9, 9, 9),\n",
    "    100,\n",
    "    mask=mask,\n",
    ")\n",
    "# sample_mean = np.mean(sample, axis=(1, 2, 3))\n",
    "# sns.histplot(sample_mean, kde=True);\n",
    "sample_var = np.var(sample, axis=(1, 2, 3))\n",
    "sns.histplot(sample_var, kde=True);"
   ]
  },
  {
   "cell_type": "markdown",
   "id": "9b10b587-05a6-41ea-95d5-4ffeedca5372",
   "metadata": {},
   "source": [
    "---"
   ]
  },
  {
   "cell_type": "markdown",
   "id": "fac72b4a-0725-42f1-a29e-cd255db6f2ac",
   "metadata": {},
   "source": [
    "Local mean downscaling is *not* the same as N-dimension interpolation:"
   ]
  },
  {
   "cell_type": "code",
   "execution_count": null,
   "id": "c9859aab-dc4c-481b-a146-4f9820f40013",
   "metadata": {
    "tags": []
   },
   "outputs": [],
   "source": [
    "# x = np.random.randint(0, 10, (10, 10)).astype(float)\n",
    "# lm = skimage.transform.downscale_local_mean(x, (2, 2))\n",
    "# interp = skimage.transform.rescale(x, (0.5, 0.5), anti_aliasing=True)\n",
    "# lm - interp"
   ]
  },
  {
   "cell_type": "code",
   "execution_count": null,
   "id": "0f051d26-d754-40c2-a5d1-4a5cb0d301d7",
   "metadata": {
    "tags": []
   },
   "outputs": [],
   "source": [
    "# img = np.random.random((162, 190, 162))\n",
    "\n",
    "# xs = np.arange(0 + ((2 - 1.25) / 2), (162 * 1.25), 2) / 1.25\n",
    "# ys = np.arange(0 + ((2 - 1.25) / 2), (190 * 1.25), 2) / 1.25\n",
    "# zs = np.arange(0 + ((2 - 1.25) / 2), (162 * 1.25), 2) / 1.25\n",
    "\n",
    "# downsample_factor = 2 / 1.25\n",
    "# target_window_size = downsample_factor\n",
    "\n",
    "# window_size = max(\n",
    "#     np.concatenate(\n",
    "#         [\n",
    "#             np.ceil(xs[1:]) - np.floor(xs[:-1]),\n",
    "#             np.ceil(ys[1:]) - np.floor(ys[:-1]),\n",
    "#             np.ceil(zs[1:]) - np.floor(zs[:-1]),\n",
    "#         ]\n",
    "#     ).astype(int)\n",
    "# )\n",
    "# print(window_size)\n",
    "\n",
    "# g = np.stack(np.meshgrid(xs, ys, zs))"
   ]
  },
  {
   "cell_type": "code",
   "execution_count": null,
   "id": "75c87c6c-bc07-44cf-9cf2-5cd093e44604",
   "metadata": {
    "tags": []
   },
   "outputs": [],
   "source": [
    "# %%prun\n",
    "\n",
    "# c = 0\n",
    "# g_iter = g.transpose(1, 2, 3, 0)\n",
    "\n",
    "# full_indices = np.zeros(g.shape[1:] + (3,) + (window_size,) * 3, dtype=int)\n",
    "# full_weights = np.zeros(g.shape[1:] + (window_size,) * 3, dtype=float)\n",
    "\n",
    "# downsampled = np.zeros(g.shape[1:])\n",
    "\n",
    "# for i in np.ndindex(*g_iter.shape[:-1]):\n",
    "\n",
    "#     target_start_index = g_iter[i]\n",
    "#     target_end_index = target_start_index + target_window_size\n",
    "\n",
    "#     source_start_index = np.floor(target_start_index).astype(int)\n",
    "#     source_end_index = source_start_index + window_size\n",
    "\n",
    "#     ranges = list()\n",
    "#     for i_start, i_end in zip(source_start_index, source_end_index):\n",
    "#         ranges.append(np.arange(i_start, i_end))\n",
    "\n",
    "#     window_idx = np.stack(np.meshgrid(*ranges))\n",
    "\n",
    "#     vol_intersections = np.ones(window_idx.shape[1:])\n",
    "#     for dim_i in range(window_idx[0].ndim):\n",
    "\n",
    "#         axis_intersect = np.clip(\n",
    "#             np.min(\n",
    "#                 [\n",
    "#                     np.broadcast_to(target_end_index[dim_i], window_idx[dim_i].shape),\n",
    "#                     window_idx[dim_i] + 1,\n",
    "#                 ],\n",
    "#                 axis=0,\n",
    "#             )\n",
    "#             - np.max(\n",
    "#                 [\n",
    "#                     np.broadcast_to(target_start_index[dim_i], window_idx[dim_i].shape),\n",
    "#                     window_idx[dim_i],\n",
    "#                 ],\n",
    "#                 axis=0,\n",
    "#             ),\n",
    "#             0,\n",
    "#             np.inf,\n",
    "#         )\n",
    "\n",
    "#         vol_intersections = vol_intersections * axis_intersect\n",
    "\n",
    "#     weights = vol_intersections / vol_intersections.sum()\n",
    "#     values = img[tuple(window_idx)]\n",
    "#     target_mean = (values * weights).sum()\n",
    "\n",
    "#     downsampled[i] = target_mean\n",
    "#     full_weights[i] = weights\n",
    "#     full_indices[i] = window_idx\n",
    "\n",
    "#     if i[1] == 100 and i[2] == 100:\n",
    "#         print(i)\n",
    "\n",
    "#     c += 1\n",
    "#     if c > np.inf:\n",
    "#         break\n",
    "\n",
    "# full_indices = full_indices.reshape(\n",
    "#     *full_indices.shape[0:3],\n",
    "#     3,\n",
    "#     -1,\n",
    "# )\n",
    "# full_indices = full_indices.transpose(3, 4, 0, 1, 2)\n",
    "# full_weights = full_weights.reshape(*full_weights.shape[0:3], -1)\n",
    "# full_weights = full_weights.transpose(3, 0, 1, 2)"
   ]
  },
  {
   "cell_type": "markdown",
   "id": "bb65e9cd-7983-414a-9e66-f8c30d8f200e",
   "metadata": {},
   "source": [
    "---"
   ]
  },
  {
   "cell_type": "code",
   "execution_count": null,
   "id": "fca892d2-d3bb-4503-ac33-c1a3f1f22dbd",
   "metadata": {
    "tags": []
   },
   "outputs": [],
   "source": [
    "# img = np.random.random((162, 190, 162))\n",
    "# target_dim_size = 2\n",
    "# source_dim_size = 1.25\n",
    "\n",
    "# xs = (\n",
    "#     np.arange(\n",
    "#         0,\n",
    "#         (162 * source_dim_size),\n",
    "#         target_dim_size,\n",
    "#     )\n",
    "#     / source_dim_size\n",
    "# )\n",
    "# ys = (\n",
    "#     np.arange(\n",
    "#         0,\n",
    "#         (190 * source_dim_size),\n",
    "#         target_dim_size,\n",
    "#     )\n",
    "#     / source_dim_size\n",
    "# )\n",
    "# zs = (\n",
    "#     np.arange(\n",
    "#         0,\n",
    "#         (162 * source_dim_size),\n",
    "#         target_dim_size,\n",
    "#     )\n",
    "#     / source_dim_size\n",
    "# )\n",
    "\n",
    "# downsample_factor = target_dim_size / source_dim_size\n",
    "# target_window_size = downsample_factor\n",
    "\n",
    "# window_size = max(\n",
    "#     np.concatenate(\n",
    "#         [\n",
    "#             np.ceil(xs[1:]) - np.floor(xs[:-1]),\n",
    "#             np.ceil(ys[1:]) - np.floor(ys[:-1]),\n",
    "#             np.ceil(zs[1:]) - np.floor(zs[:-1]),\n",
    "#         ]\n",
    "#     ).astype(int)\n",
    "# )\n",
    "# print(window_size)\n",
    "\n",
    "# g = np.stack(np.meshgrid(xs, ys, zs, indexing='ij'))"
   ]
  },
  {
   "cell_type": "code",
   "execution_count": null,
   "id": "100eff41-09fd-4cc5-b0c0-6b9408daffdc",
   "metadata": {
    "tags": []
   },
   "outputs": [],
   "source": [
    "# c = 0\n",
    "# g_iter = g.transpose(1, 2, 3, 0)\n",
    "\n",
    "# full_indices = np.zeros(g.shape[1:] + (3,) + (window_size,) * 3, dtype=int)\n",
    "# full_weights = np.zeros(g.shape[1:] + (window_size,) * 3, dtype=float)\n",
    "\n",
    "# downsampled = np.zeros(g.shape[1:])\n",
    "\n",
    "# padded_img = np.pad(\n",
    "#     img,\n",
    "#     ((0, window_size), (0, window_size), (0, window_size)),\n",
    "#     \"constant\",\n",
    "#     constant_values=0.0,\n",
    "# )\n",
    "\n",
    "# for i in np.ndindex(*g_iter.shape[:-1]):\n",
    "\n",
    "#     target_start_index = g_iter[i]\n",
    "#     target_end_index = target_start_index + target_window_size\n",
    "\n",
    "#     source_start_index = np.floor(target_start_index).astype(int)\n",
    "#     source_end_index = source_start_index + window_size\n",
    "\n",
    "#     ranges = list()\n",
    "#     for i_start, i_end in zip(source_start_index, source_end_index):\n",
    "#         ranges.append(np.arange(i_start, i_end))\n",
    "\n",
    "#     window_idx = np.stack(np.meshgrid(*ranges))\n",
    "\n",
    "#     vol_intersections = np.ones(window_idx.shape[1:])\n",
    "#     for dim_i in range(window_idx[0].ndim):\n",
    "\n",
    "#         axis_intersect = np.clip(\n",
    "#             np.min(\n",
    "#                 [\n",
    "#                     np.broadcast_to(target_end_index[dim_i], window_idx[dim_i].shape),\n",
    "#                     window_idx[dim_i] + 1,\n",
    "#                 ],\n",
    "#                 axis=0,\n",
    "#             )\n",
    "#             - np.max(\n",
    "#                 [\n",
    "#                     np.broadcast_to(target_start_index[dim_i], window_idx[dim_i].shape),\n",
    "#                     window_idx[dim_i],\n",
    "#                 ],\n",
    "#                 axis=0,\n",
    "#             ),\n",
    "#             0,\n",
    "#             np.inf,\n",
    "#         )\n",
    "\n",
    "#         vol_intersections = vol_intersections * axis_intersect\n",
    "\n",
    "#     weights = vol_intersections / vol_intersections.sum()\n",
    "#     values = padded_img[tuple(window_idx)]\n",
    "#     target_mean = (values * weights).sum()\n",
    "\n",
    "#     downsampled[i] = target_mean\n",
    "#     full_weights[i] = weights\n",
    "#     full_indices[i] = window_idx\n",
    "\n",
    "#     if i[1] == 100 and i[2] == 100:\n",
    "#         print(i)\n",
    "\n",
    "#     c += 1\n",
    "#     if c > np.inf:\n",
    "#         break\n",
    "\n",
    "# full_indices = full_indices.reshape(\n",
    "#     *full_indices.shape[0:3],\n",
    "#     3,\n",
    "#     -1,\n",
    "# )\n",
    "# full_indices = full_indices.transpose(3, 4, 0, 1, 2)\n",
    "# full_weights = full_weights.reshape(*full_weights.shape[0:3], -1)\n",
    "# full_weights = full_weights.transpose(3, 0, 1, 2)"
   ]
  },
  {
   "cell_type": "code",
   "execution_count": null,
   "id": "103d93fa-671b-4000-80b6-c9a29d61d13c",
   "metadata": {
    "tags": []
   },
   "outputs": [],
   "source": [
    "# skimage_downsampled = skimage.transform.downscale_local_mean(\n",
    "#     img, (int(downsample_factor),) * 3, cval=0\n",
    "# )\n",
    "# print(np.isclose(downsampled, skimage_downsampled).all())\n",
    "# print(np.isclose(downsampled, skimage_downsampled))"
   ]
  }
 ],
 "metadata": {
  "kernelspec": {
   "display_name": "Python [conda env:miniconda-pitn]",
   "language": "python",
   "name": "conda-env-miniconda-pitn-py"
  },
  "language_info": {
   "codemirror_mode": {
    "name": "ipython",
    "version": 3
   },
   "file_extension": ".py",
   "mimetype": "text/x-python",
   "name": "python",
   "nbconvert_exporter": "python",
   "pygments_lexer": "ipython3",
   "version": "3.8.8"
  },
  "toc-autonumbering": true
 },
 "nbformat": 4,
 "nbformat_minor": 5
}
