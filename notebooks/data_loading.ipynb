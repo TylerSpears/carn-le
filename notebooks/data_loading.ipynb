{
 "cells": [
  {
   "cell_type": "markdown",
   "metadata": {},
   "source": [
    "# Pain in the Net - Data Loading\n",
    "\n",
    "Tyler Spears\n",
    "\n",
    "Dr. Tom Fletcher"
   ]
  },
  {
   "cell_type": "code",
   "execution_count": null,
   "metadata": {},
   "outputs": [],
   "source": [
    "# imports\n",
    "import subprocess\n",
    "import os\n",
    "import io\n",
    "import pathlib\n",
    "import math\n",
    "import fractions\n",
    "\n",
    "import numpy as np\n",
    "import dipy\n",
    "import dipy.io.image\n",
    "from dipy.io import read_bvals_bvecs\n",
    "from dipy.core.gradients import gradient_table\n",
    "\n",
    "# visualization libraries\n",
    "%matplotlib inline\n",
    "import matplotlib as mpl\n",
    "from mpl_toolkits.axes_grid1 import ImageGrid\n",
    "import matplotlib.pyplot as plt\n",
    "plt.rcParams.update({'figure.autolayout': True})\n",
    "plt.rcParams.update({'figure.facecolor': [1.0, 1.0, 1.0, 1.0]})"
   ]
  },
  {
   "cell_type": "code",
   "execution_count": null,
   "metadata": {},
   "outputs": [],
   "source": [
    "# Set up directories\n",
    "data_dir = pathlib.Path(\"/srv/tmp/data/pitn/\")\n",
    "data_files = (\n",
    "    data_dir / \"101309/T1w/Diffusion/data.nii.gz\",\n",
    ")\n",
    "f_bval = data_dir / \"101309/T1w/Diffusion/bvals\"\n",
    "f_bvec = data_dir / \"101309/T1w/Diffusion/bvec\"\n",
    "\n",
    "print(data_dir.exists())\n",
    "print([data_file.exists() for data_file in data_files])"
   ]
  },
  {
   "cell_type": "code",
   "execution_count": null,
   "metadata": {},
   "outputs": [],
   "source": [
    "data, affine, img = dp.io.image.load_nifti(str(data_files[0]), return_img=True)"
   ]
  },
  {
   "cell_type": "code",
   "execution_count": null,
   "metadata": {},
   "outputs": [],
   "source": [
    "axial_middle = data.shape[2] // 2\n",
    "coronal_middle = data.shape[1] // 2\n",
    "saggital_middle = data.shape[0] // 2\n",
    "plt.figure('Showing the datasets', dpi=150)\n",
    "plt.subplot(1, 2, 1).set_axis_off()\n",
    "\n",
    "plt.imshow(\n",
    "    data[saggital_middle, :, :, 1].T,\n",
    "    cmap='gray', origin='lower'\n",
    ")\n",
    "\n",
    "plt.subplot(1, 2, 2).set_axis_off()\n",
    "\n",
    "plt.imshow(\n",
    "    data[saggital_middle, :, :, 17].T,\n",
    "    cmap='gray', origin='lower'\n",
    ")\n",
    "\n",
    "plt.show()\n",
    "# plt.savefig('data.png', bbox_inches='tight')"
   ]
  },
  {
   "cell_type": "code",
   "execution_count": null,
   "metadata": {},
   "outputs": [],
   "source": [
    "plt.figure(dpi=120)\n",
    "plt.matshow(\n",
    "    data[saggital_middle, :, :, 1] - data[saggital_middle, :, :, 17],\n",
    "    origin='lower'\n",
    ")\n",
    "plt.axis('off');\n",
    "plt.colorbar();"
   ]
  },
  {
   "cell_type": "code",
   "execution_count": null,
   "metadata": {},
   "outputs": [],
   "source": [
    "plt.matshow(affine)\n",
    "plt.colorbar();"
   ]
  },
  {
   "cell_type": "code",
   "execution_count": null,
   "metadata": {},
   "outputs": [],
   "source": [
    "data.shape\n",
    "# (saggital, coronal, axial, vol_index)"
   ]
  },
  {
   "cell_type": "markdown",
   "metadata": {},
   "source": [
    "## BVals"
   ]
  },
  {
   "cell_type": "code",
   "execution_count": null,
   "metadata": {},
   "outputs": [],
   "source": [
    "fbval = pathlib.Path(\"/srv/tmp/data/pitn/101309/T1w/Diffusion/bvals\")\n",
    "fbvec = pathlib.Path(\"/srv/tmp/data/pitn/101309/T1w/Diffusion/bvecs\")\n",
    "\n",
    "bvals, bvecs = read_bvals_bvecs(str(fbval), str(fbvec))\n"
   ]
  },
  {
   "cell_type": "code",
   "execution_count": null,
   "metadata": {},
   "outputs": [],
   "source": [
    "gtab = gradient_table(bvals, bvecs)\n",
    "print(np.where(gtab.b0s_mask))"
   ]
  },
  {
   "cell_type": "code",
   "execution_count": null,
   "metadata": {},
   "outputs": [],
   "source": [
    "plt.imshow(data[:, 100, :, gtab.b0s_mask][2])"
   ]
  }
 ],
 "metadata": {
  "kernelspec": {
   "display_name": "Python [conda env:pitn]",
   "language": "python",
   "name": "conda-env-pitn-py"
  },
  "language_info": {
   "codemirror_mode": {
    "name": "ipython",
    "version": 3
   },
   "file_extension": ".py",
   "mimetype": "text/x-python",
   "name": "python",
   "nbconvert_exporter": "python",
   "pygments_lexer": "ipython3",
   "version": "3.8.6"
  }
 },
 "nbformat": 4,
 "nbformat_minor": 4
}
