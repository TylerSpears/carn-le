{
 "cells": [
  {
   "cell_type": "code",
   "execution_count": null,
   "id": "c24ce657-de12-4bc5-8d07-57a3dbb92c10",
   "metadata": {
    "tags": []
   },
   "outputs": [],
   "source": [
    "# Automatically re-import project-specific modules.\n",
    "%load_ext autoreload\n",
    "%autoreload 1\n",
    "\n",
    "# imports\n",
    "import collections\n",
    "import functools\n",
    "import io\n",
    "import datetime\n",
    "import time\n",
    "import math\n",
    "import itertools\n",
    "import os\n",
    "import shutil\n",
    "import pathlib\n",
    "import copy\n",
    "import inspect\n",
    "import random\n",
    "import subprocess\n",
    "import sys\n",
    "import warnings\n",
    "from pathlib import Path\n",
    "import typing\n",
    "\n",
    "import dipy\n",
    "import dipy.core\n",
    "import dipy.reconst\n",
    "import dipy.reconst.dti\n",
    "import dipy.segment.mask\n",
    "import dotenv\n",
    "\n",
    "# visualization libraries\n",
    "%matplotlib inline\n",
    "import matplotlib as mpl\n",
    "import matplotlib.pyplot as plt\n",
    "import seaborn as sns\n",
    "\n",
    "import IPython\n",
    "\n",
    "# Try importing GPUtil for printing GPU specs.\n",
    "# May not be installed if using CPU only.\n",
    "try:\n",
    "    import GPUtil\n",
    "except ImportError:\n",
    "    warnings.warn(\"WARNING: Package GPUtil not found, cannot print GPU specs\")\n",
    "from tabulate import tabulate\n",
    "from IPython.display import display, Markdown\n",
    "\n",
    "# Data management libraries.\n",
    "import addict\n",
    "from addict import Addict\n",
    "import pprint\n",
    "from pprint import pprint as ppr\n",
    "\n",
    "# Computation & ML libraries.\n",
    "import numpy as np\n",
    "import pandas as pd\n",
    "\n",
    "\n",
    "import skimage\n",
    "import skimage.feature\n",
    "import skimage.filters\n",
    "import skimage.measure\n",
    "import skimage.io\n",
    "import scipy\n",
    "\n",
    "\n",
    "# plt.rcParams.update({\"figure.autolayout\": True})\n",
    "# plt.rcParams.update({\"figure.facecolor\": [1.0, 1.0, 1.0, 1.0]})\n",
    "# Set print options for ndarrays/tensors."
   ]
  },
  {
   "cell_type": "code",
   "execution_count": null,
   "id": "53e0569e-70ca-46b4-9698-11d6fdde5275",
   "metadata": {
    "tags": []
   },
   "outputs": [],
   "source": [
    "# Update notebook's environment variables with direnv.\n",
    "# This requires the python-dotenv package, and direnv be installed on the system\n",
    "# This will not work on Windows.\n",
    "# NOTE: This is kind of hacky, and not necessarily safe. Be careful...\n",
    "# Libraries needed on the python side:\n",
    "# - os\n",
    "# - subprocess\n",
    "# - io\n",
    "# - dotenv\n",
    "\n",
    "# Form command to be run in direnv's context. This command will print out\n",
    "# all environment variables defined in the subprocess/sub-shell.\n",
    "command = \"direnv exec {} /usr/bin/env\".format(os.getcwd())\n",
    "# Run command in a new subprocess.\n",
    "proc = subprocess.Popen(command, stdout=subprocess.PIPE, shell=True, cwd=os.getcwd())\n",
    "# Store and format the subprocess' output.\n",
    "proc_out = proc.communicate()[0].strip().decode(\"utf-8\")\n",
    "# Use python-dotenv to load the environment variables by using the output of\n",
    "# 'direnv exec ...' as a 'dummy' .env file.\n",
    "dotenv.load_dotenv(stream=io.StringIO(proc_out), override=True);"
   ]
  },
  {
   "cell_type": "code",
   "execution_count": null,
   "id": "33de7bb7-ee8a-4877-a36b-7a0796a4f5b5",
   "metadata": {
    "tags": []
   },
   "outputs": [],
   "source": [
    "from scipy.stats import rice"
   ]
  },
  {
   "cell_type": "code",
   "execution_count": null,
   "id": "c6ae2e8a-da14-4bc9-a0e7-d18e401f7746",
   "metadata": {},
   "outputs": [],
   "source": [
    "np"
   ]
  },
  {
   "cell_type": "code",
   "execution_count": null,
   "id": "bc59a20c-6a31-43ea-afa1-83f94a275d48",
   "metadata": {
    "tags": []
   },
   "outputs": [],
   "source": [
    "# Clinical Image(s) Noise Distribution\n",
    "b = 0.5978\n",
    "color = \"#B85450\"\n",
    "\n",
    "x = np.linspace(rice.ppf(0.01, b), rice.ppf(0.99, b), 250)\n",
    "noise = np.random.normal(x.mean(), x.std() / 3, size=len(x))\n",
    "y = rice.pdf(x, b)\n",
    "y = y * noise\n",
    "with sns.plotting_context(\"poster\"):\n",
    "    plt.figure(dpi=120)\n",
    "    plt.plot(x, y, color=color, lw=3)\n",
    "    #     plt.ylim(-0.1, 1.5)\n",
    "    #     plt.plot(-0.1, -0.1, alpha=0)\n",
    "    plt.xticks([])\n",
    "    plt.yticks([])\n",
    "    #     plt.axvline(color='black')\n",
    "    #     plt.axhline(color='black')\n",
    "    plt.box(False)\n",
    "\n",
    "clinic_b = b"
   ]
  },
  {
   "cell_type": "code",
   "execution_count": null,
   "id": "8de9184e-4b43-48ec-975c-78e48a55187d",
   "metadata": {
    "tags": []
   },
   "outputs": [],
   "source": [
    "# HCP Images Noise Distribution\n",
    "b = 2.562\n",
    "color = \"#6C8EBF\"\n",
    "\n",
    "x = np.linspace(rice.ppf(0.01, b), rice.ppf(0.99, b), 250)\n",
    "noise = np.random.normal(x.mean(), x.std() / 5, size=len(x))\n",
    "y = rice.pdf(x, b)\n",
    "y = y * noise\n",
    "\n",
    "\n",
    "with sns.plotting_context(\"poster\"):\n",
    "    plt.figure(dpi=120)\n",
    "    plt.plot(x, y, color=color, lw=3)\n",
    "    #     plt.ylim(-0.1, 1.5)\n",
    "    #     plt.plot(-0.1, -0.1, alpha=0)\n",
    "    plt.xticks([])\n",
    "    plt.yticks([])\n",
    "    #     plt.axvline(color='black')\n",
    "    #     plt.axhline(color='black')\n",
    "    plt.box(False)\n",
    "\n",
    "hcp_b = b"
   ]
  },
  {
   "cell_type": "code",
   "execution_count": null,
   "id": "f411797c-405e-42b7-b22d-cf5439a12d03",
   "metadata": {
    "tags": []
   },
   "outputs": [],
   "source": [
    "# Clinical-Quality HCP Images Noise Distribution\n",
    "b = 0.5\n",
    "color = \"#9673A6\"\n",
    "\n",
    "x = np.linspace(rice.ppf(0.01, b), rice.ppf(0.99, b), 250)\n",
    "# noise = np.random.normal(x.mean(), x.std()/50, size=len(x))\n",
    "y = rice.pdf(x, b)\n",
    "y = y * noise\n",
    "with sns.plotting_context(\"poster\"):\n",
    "    plt.figure(dpi=120)\n",
    "    plt.plot(x, y, color=color, lw=3)\n",
    "    #     plt.ylim(-0.1, 1.5)\n",
    "    #     plt.plot(-0.1, -0.1, alpha=0)\n",
    "    plt.xticks([])\n",
    "    plt.yticks([])\n",
    "    #     plt.axvline(color='black')\n",
    "    #     plt.axhline(color='black')\n",
    "    plt.box(False)\n",
    "\n",
    "matched_b = b"
   ]
  },
  {
   "cell_type": "markdown",
   "id": "bde2cdc8-6bff-445d-9d03-a4ad95b5a774",
   "metadata": {},
   "source": [
    "## HCP & \"Clinical\" Data Viz"
   ]
  },
  {
   "cell_type": "code",
   "execution_count": null,
   "id": "26735a94-5a3f-4177-b4c0-2db52b38c30f",
   "metadata": {
    "tags": []
   },
   "outputs": [],
   "source": [
    "img_filename = \"hcp.png\"\n",
    "img = skimage.io.imread(img_filename)\n",
    "img = img[:, 250:2553]\n",
    "img = skimage.img_as_float(img)\n",
    "\n",
    "plt.figure(dpi=120)\n",
    "\n",
    "plt.imshow(img, interpolation=\"none\")\n",
    "\n",
    "plt.xticks([])\n",
    "plt.yticks([])\n",
    "plt.box(False)"
   ]
  },
  {
   "cell_type": "code",
   "execution_count": null,
   "id": "ed1d3e0a-51d0-4917-a29d-51c08f7a6f99",
   "metadata": {
    "tags": []
   },
   "outputs": [],
   "source": [
    "downsample_img = skimage.transform.downscale_local_mean(img, (2, 2, 1))\n",
    "downsample_img = skimage.exposure.rescale_intensity(downsample_img)\n",
    "\n",
    "plt.imshow(skimage.exposure.rescale_intensity(downsample_img), interpolation=\"none\")"
   ]
  },
  {
   "cell_type": "code",
   "execution_count": null,
   "id": "bd59fe9c-63e0-4be0-842e-8be0953f0f6b",
   "metadata": {
    "tags": []
   },
   "outputs": [],
   "source": [
    "# HCP-Clinical Matched noisy image\n",
    "\n",
    "matched_noise = scipy.stats.rice.rvs(b=0.2, size=img.shape[:-1])\n",
    "# matched_noise = matched_noise / (matched_noise.mean() / downsample_img.mean())\n",
    "matched_noise_img = img * matched_noise[..., None]\n",
    "\n",
    "downsample_matched_noise_img = skimage.transform.downscale_local_mean(\n",
    "    matched_noise_img, factors=(2, 2, 1)\n",
    ")\n",
    "\n",
    "downsample_matched_noise_img = skimage.exposure.rescale_intensity(downsample_matched_noise_img)\n",
    "\n",
    "plt.figure(dpi=120)\n",
    "plt.imshow(downsample_matched_noise_img, interpolation=\"none\")\n",
    "plt.xticks([])\n",
    "plt.yticks([])\n",
    "plt.box(False)"
   ]
  },
  {
   "cell_type": "code",
   "execution_count": null,
   "id": "144d8a7b-6d1d-410a-b370-061ff16fb5a2",
   "metadata": {
    "tags": []
   },
   "outputs": [],
   "source": [
    "# Clinical Quality Image\n",
    "downsample_img = skimage.transform.downscale_local_mean(img, (3, 3, 1))\n",
    "downsample_img = np.fliplr(downsample_img)\n",
    "downsample_img = skimage.filters.gaussian(downsample_img, sigma=3.5, multichannel=True)\n",
    "# downsample_img = skimage.exposure.rescale_intensity(downsample_img)\n",
    "clinic_noise = scipy.stats.rice.rvs(b=clinic_b, size=downsample_img.shape[:-1])\n",
    "\n",
    "clinic_img = downsample_img * clinic_noise[..., None]\n",
    "\n",
    "clinic_img = skimage.exposure.rescale_intensity(clinic_img)\n",
    "plt.figure(dpi=120)\n",
    "plt.imshow(clinic_img, interpolation=\"none\")\n",
    "plt.xticks([])\n",
    "plt.yticks([])\n",
    "plt.box(False)"
   ]
  }
 ],
 "metadata": {
  "kernelspec": {
   "display_name": "Python [conda env:miniconda-pitn]",
   "language": "python",
   "name": "conda-env-miniconda-pitn-py"
  },
  "language_info": {
   "codemirror_mode": {
    "name": "ipython",
    "version": 3
   },
   "file_extension": ".py",
   "mimetype": "text/x-python",
   "name": "python",
   "nbconvert_exporter": "python",
   "pygments_lexer": "ipython3",
   "version": "3.8.8"
  }
 },
 "nbformat": 4,
 "nbformat_minor": 5
}
