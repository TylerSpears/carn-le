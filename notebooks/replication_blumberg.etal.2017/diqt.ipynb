{
 "cells": [
  {
   "cell_type": "markdown",
   "metadata": {},
   "source": [
    "# Pain in the Net\n",
    "Replication of *Deeper Image Quality Transfer: Training Low-Memory Neural Networks for 3D Images*\n",
    "\n",
    "\n",
    "Code by:\n",
    "\n",
    "Tyler Spears - tas6hh@virginia.edu\n",
    "\n",
    "Dr. Tom Fletcher\n",
    "\n",
    "---\n",
    "\n",
    "Source work:\n",
    "`S. B. Blumberg, R. Tanno, I. Kokkinos, and D. C. Alexander, “Deeper Image Quality Transfer: Training Low-Memory Neural Networks for 3D Images,” in Medical Image Computing and Computer Assisted Intervention – MICCAI 2018, Cham, 2018, pp. 118–125, doi: 10.1007/978-3-030-00928-1_14.`\n"
   ]
  },
  {
   "cell_type": "markdown",
   "metadata": {
    "tags": []
   },
   "source": [
    "## Imports & Environment Setup"
   ]
  },
  {
   "cell_type": "code",
   "execution_count": 1,
   "metadata": {
    "execution": {
     "iopub.execute_input": "2021-04-29T14:31:50.774836Z",
     "iopub.status.busy": "2021-04-29T14:31:50.774299Z",
     "iopub.status.idle": "2021-04-29T14:31:54.128323Z",
     "shell.execute_reply": "2021-04-29T14:31:54.127595Z",
     "shell.execute_reply.started": "2021-04-29T14:31:50.774777Z"
    },
    "tags": []
   },
   "outputs": [
    {
     "name": "stderr",
     "output_type": "stream",
     "text": [
      "/opt/miniconda/envs/pitn/lib/python3.8/site-packages/nilearn/datasets/__init__.py:87: FutureWarning:\n",
      "\n",
      "Fetchers from the nilearn.datasets module will be updated in version 0.9 to return python strings instead of bytes and Pandas dataframes instead of Numpy arrays.\n",
      "\n"
     ]
    }
   ],
   "source": [
    "# Automatically re-import project-specific modules.\n",
    "%load_ext autoreload\n",
    "%autoreload 1\n",
    "\n",
    "# imports\n",
    "import collections\n",
    "import dataclasses\n",
    "from dataclasses import dataclass\n",
    "import functools\n",
    "import io\n",
    "import datetime\n",
    "import time\n",
    "\n",
    "import math\n",
    "import itertools\n",
    "import os\n",
    "import pathlib\n",
    "import copy\n",
    "import pdb\n",
    "import random\n",
    "import subprocess\n",
    "import sys\n",
    "import warnings\n",
    "from pathlib import Path\n",
    "import typing\n",
    "from typing import Generator\n",
    "\n",
    "import ants\n",
    "import dipy\n",
    "import dipy.core\n",
    "import dipy.reconst\n",
    "import dipy.reconst.dti\n",
    "import dipy.segment.mask\n",
    "import dotenv\n",
    "\n",
    "# visualization libraries\n",
    "%matplotlib inline\n",
    "import matplotlib as mpl\n",
    "import matplotlib.pyplot as plt\n",
    "import seaborn as sns\n",
    "\n",
    "# Try importing GPUtil for printing GPU specs.\n",
    "# May not be installed if using CPU only.\n",
    "try:\n",
    "    import GPUtil\n",
    "except ImportError:\n",
    "    warnings.warn(\"WARNING: Package GPUtil not found, cannot print GPU specs\")\n",
    "from tabulate import tabulate\n",
    "\n",
    "# Data management libraries.\n",
    "import nibabel as nib\n",
    "import nilearn\n",
    "import nilearn.plotting\n",
    "import natsort\n",
    "from natsort import natsorted\n",
    "\n",
    "# Computation & ML libraries.\n",
    "import numpy as np\n",
    "import pandas as pd\n",
    "import torch\n",
    "import torch.nn.functional as F\n",
    "import torchvision\n",
    "import torchio\n",
    "import pytorch_lightning as pl\n",
    "\n",
    "import skimage\n",
    "import skimage.feature\n",
    "import skimage.filters\n",
    "import skimage.measure\n",
    "import einops\n",
    "import einops.layers\n",
    "import einops.layers.torch\n",
    "\n",
    "plt.rcParams.update({\"figure.autolayout\": True})\n",
    "plt.rcParams.update({\"figure.facecolor\": [1.0, 1.0, 1.0, 1.0]})\n",
    "\n",
    "# Set print options for ndarrays/tensors.\n",
    "np.set_printoptions(suppress=True, threshold=100, linewidth=88)\n",
    "torch.set_printoptions(sci_mode=False, threshold=100, linewidth=88)"
   ]
  },
  {
   "cell_type": "code",
   "execution_count": 2,
   "metadata": {
    "execution": {
     "iopub.execute_input": "2021-04-29T14:31:54.129570Z",
     "iopub.status.busy": "2021-04-29T14:31:54.129407Z",
     "iopub.status.idle": "2021-04-29T14:31:55.601626Z",
     "shell.execute_reply": "2021-04-29T14:31:55.600855Z",
     "shell.execute_reply.started": "2021-04-29T14:31:54.129550Z"
    },
    "tags": []
   },
   "outputs": [],
   "source": [
    "# Update notebook's environment variables with direnv.\n",
    "# This requires the python-dotenv package, and direnv be installed on the system\n",
    "# This will not work on Windows.\n",
    "# NOTE: This is kind of hacky, and not necessarily safe. Be careful...\n",
    "# Libraries needed on the python side:\n",
    "# - os\n",
    "# - subprocess\n",
    "# - io\n",
    "# - dotenv\n",
    "\n",
    "# Form command to be run in direnv's context. This command will print out\n",
    "# all environment variables defined in the subprocess/sub-shell.\n",
    "command = \"direnv exec {} /usr/bin/env\".format(os.getcwd())\n",
    "# Run command in a new subprocess.\n",
    "proc = subprocess.Popen(command, stdout=subprocess.PIPE, shell=True, cwd=os.getcwd())\n",
    "# Store and format the subprocess' output.\n",
    "proc_out = proc.communicate()[0].strip().decode(\"utf-8\")\n",
    "# Use python-dotenv to load the environment variables by using the output of\n",
    "# 'direnv exec ...' as a 'dummy' .env file.\n",
    "dotenv.load_dotenv(stream=io.StringIO(proc_out), override=True);"
   ]
  },
  {
   "cell_type": "code",
   "execution_count": 3,
   "metadata": {
    "execution": {
     "iopub.execute_input": "2021-04-29T14:31:55.605127Z",
     "iopub.status.busy": "2021-04-29T14:31:55.604704Z",
     "iopub.status.idle": "2021-04-29T14:31:55.621181Z",
     "shell.execute_reply": "2021-04-29T14:31:55.620644Z",
     "shell.execute_reply.started": "2021-04-29T14:31:55.605073Z"
    },
    "tags": []
   },
   "outputs": [],
   "source": [
    "# Project-specific scripts\n",
    "# It's easier to import it this way rather than make an entirely new package, due to\n",
    "# conflicts with local packages and anaconda installations.\n",
    "# You made me do this, poor python package management!!\n",
    "if \"PROJECT_ROOT\" in os.environ:\n",
    "    src_location = str(Path(os.environ[\"PROJECT_ROOT\"]).resolve())\n",
    "else:\n",
    "    src_location = str(Path(\"../../\").resolve())\n",
    "sys.path.append(src_location)\n",
    "import src as pitn\n",
    "\n",
    "%aimport src"
   ]
  },
  {
   "cell_type": "code",
   "execution_count": 4,
   "metadata": {
    "execution": {
     "iopub.execute_input": "2021-04-29T14:31:55.622321Z",
     "iopub.status.busy": "2021-04-29T14:31:55.622165Z",
     "iopub.status.idle": "2021-04-29T14:31:55.676622Z",
     "shell.execute_reply": "2021-04-29T14:31:55.675942Z",
     "shell.execute_reply.started": "2021-04-29T14:31:55.622303Z"
    },
    "tags": []
   },
   "outputs": [
    {
     "name": "stdout",
     "output_type": "stream",
     "text": [
      "cuda\n"
     ]
    }
   ],
   "source": [
    "# torch setup\n",
    "\n",
    "# allow for CUDA usage, if available\n",
    "if torch.cuda.is_available():\n",
    "    device = torch.device(\"cuda\")\n",
    "else:\n",
    "    device = torch.device(\"cpu\")\n",
    "# keep device as the cpu\n",
    "# device = torch.device('cpu')\n",
    "print(device)"
   ]
  },
  {
   "cell_type": "code",
   "execution_count": 5,
   "metadata": {
    "execution": {
     "iopub.execute_input": "2021-04-29T14:31:55.677620Z",
     "iopub.status.busy": "2021-04-29T14:31:55.677458Z",
     "iopub.status.idle": "2021-04-29T14:31:55.897879Z",
     "shell.execute_reply": "2021-04-29T14:31:55.896981Z",
     "shell.execute_reply.started": "2021-04-29T14:31:55.677601Z"
    },
    "tags": []
   },
   "outputs": [],
   "source": [
    "%%capture --no-stderr cap\n",
    "# Capture output and save to log. Needs to be at the *very first* line of the cell.\n",
    "# Watermark\n",
    "%load_ext watermark\n",
    "%watermark --author \"Tyler Spears\" --updated --iso8601  --python --machine --iversions --githash\n",
    "if torch.cuda.is_available():\n",
    "\n",
    "    # GPU information\n",
    "    # Taken from\n",
    "    # <https://www.thepythoncode.com/article/get-hardware-system-information-python>.\n",
    "    # If GPUtil is not installed, skip this step.\n",
    "    try:\n",
    "        gpus = GPUtil.getGPUs()\n",
    "        print(\"=\" * 50, \"GPU Specs\", \"=\" * 50)\n",
    "        list_gpus = []\n",
    "        for gpu in gpus:\n",
    "            # get the GPU id\n",
    "            gpu_id = gpu.id\n",
    "            # name of GPU\n",
    "            gpu_name = gpu.name\n",
    "            driver_version = gpu.driver\n",
    "            cuda_version = torch.version.cuda\n",
    "            # get total memory\n",
    "            gpu_total_memory = f\"{gpu.memoryTotal}MB\"\n",
    "            gpu_uuid = gpu.uuid\n",
    "            list_gpus.append(\n",
    "                (\n",
    "                    gpu_id,\n",
    "                    gpu_name,\n",
    "                    driver_version,\n",
    "                    cuda_version,\n",
    "                    gpu_total_memory,\n",
    "                    gpu_uuid,\n",
    "                )\n",
    "            )\n",
    "\n",
    "        print(\n",
    "            tabulate(\n",
    "                list_gpus,\n",
    "                headers=(\n",
    "                    \"id\",\n",
    "                    \"Name\",\n",
    "                    \"Driver Version\",\n",
    "                    \"CUDA Version\",\n",
    "                    \"Total Memory\",\n",
    "                    \"uuid\",\n",
    "                ),\n",
    "            )\n",
    "        )\n",
    "    except NameError:\n",
    "        print(\"CUDA Version: \", torch.version.cuda)\n",
    "\n",
    "else:\n",
    "    print(\"CUDA not in use, falling back to CPU\")"
   ]
  },
  {
   "cell_type": "code",
   "execution_count": 6,
   "metadata": {
    "execution": {
     "iopub.execute_input": "2021-04-29T14:31:55.899218Z",
     "iopub.status.busy": "2021-04-29T14:31:55.899033Z",
     "iopub.status.idle": "2021-04-29T14:31:55.903453Z",
     "shell.execute_reply": "2021-04-29T14:31:55.902860Z",
     "shell.execute_reply.started": "2021-04-29T14:31:55.899195Z"
    },
    "tags": []
   },
   "outputs": [
    {
     "name": "stdout",
     "output_type": "stream",
     "text": [
      "Author: Tyler Spears\n",
      "\n",
      "Last updated: 2021-04-29T14:31:55.692214+00:00\n",
      "\n",
      "Python implementation: CPython\n",
      "Python version       : 3.8.8\n",
      "IPython version      : 7.22.0\n",
      "\n",
      "Compiler    : GCC 7.3.0\n",
      "OS          : Linux\n",
      "Release     : 5.4.0-72-generic\n",
      "Machine     : x86_64\n",
      "Processor   : x86_64\n",
      "CPU cores   : 8\n",
      "Architecture: 64bit\n",
      "\n",
      "Git hash: bc0862d238d4585032c81c496f87a7ff7ddf8661\n",
      "\n",
      "ants             : 0.2.7\n",
      "matplotlib       : 3.4.1\n",
      "pandas           : 1.2.3\n",
      "dipy             : 1.4.0\n",
      "pytorch_lightning: 1.2.6\n",
      "sys              : 3.8.8 (default, Feb 24 2021, 21:46:12) \n",
      "[GCC 7.3.0]\n",
      "numpy            : 1.20.2\n",
      "nibabel          : 3.2.1\n",
      "torchio          : 0.18.34\n",
      "json             : 2.0.9\n",
      "natsort          : 7.1.1\n",
      "skimage          : 0.18.1\n",
      "GPUtil           : 1.4.0\n",
      "seaborn          : 0.11.1\n",
      "torch            : 1.8.1\n",
      "torchvision      : 0.9.1\n",
      "einops           : 0.3.0\n",
      "nilearn          : 0.7.1\n",
      "\n",
      "================================================== GPU Specs ==================================================\n",
      "  id  Name       Driver Version      CUDA Version  Total Memory    uuid\n",
      "----  ---------  ----------------  --------------  --------------  ----------------------------------------\n",
      "   0  TITAN RTX  460.73.01                   11.1  24217.0MB       GPU-586d2016-71ef-ebb3-437b-6721a22191ec\n",
      "\n"
     ]
    }
   ],
   "source": [
    "print(cap)"
   ]
  },
  {
   "cell_type": "markdown",
   "metadata": {
    "tags": []
   },
   "source": [
    "## Variables & Definitions Setup"
   ]
  },
  {
   "cell_type": "code",
   "execution_count": 7,
   "metadata": {
    "execution": {
     "iopub.execute_input": "2021-04-29T14:31:55.904523Z",
     "iopub.status.busy": "2021-04-29T14:31:55.904357Z",
     "iopub.status.idle": "2021-04-29T14:31:55.909851Z",
     "shell.execute_reply": "2021-04-29T14:31:55.909228Z",
     "shell.execute_reply.started": "2021-04-29T14:31:55.904503Z"
    },
    "tags": []
   },
   "outputs": [],
   "source": [
    "# Set up directories\n",
    "data_dir = pathlib.Path(os.environ[\"DATA_DIR\"]) / \"hcp\"\n",
    "assert data_dir.exists()\n",
    "write_data_dir = pathlib.Path(os.environ[\"WRITE_DATA_DIR\"]) / \"hcp\"\n",
    "assert write_data_dir.exists()\n",
    "results_dir = pathlib.Path(os.environ[\"RESULTS_DIR\"])\n",
    "assert results_dir.exists()"
   ]
  },
  {
   "cell_type": "code",
   "execution_count": 8,
   "metadata": {
    "execution": {
     "iopub.execute_input": "2021-04-29T14:31:55.910948Z",
     "iopub.status.busy": "2021-04-29T14:31:55.910773Z",
     "iopub.status.idle": "2021-04-29T14:31:55.918904Z",
     "shell.execute_reply": "2021-04-29T14:31:55.918335Z",
     "shell.execute_reply.started": "2021-04-29T14:31:55.910927Z"
    },
    "tags": []
   },
   "outputs": [
    {
     "name": "stdout",
     "output_type": "stream",
     "text": [
      "/home/jovyan/work/pitn/results/2021-04-29T14_31_55__batch_12_loss_MSE_20_epochs \n",
      " True\n"
     ]
    }
   ],
   "source": [
    "# Experiment logging setup\n",
    "experiment_name = \"batch_12_loss_MSE_20_epochs\"\n",
    "\n",
    "ts = datetime.datetime.now().replace(microsecond=0).isoformat()\n",
    "# Break ISO format because many programs don't like having colons ':' in a filename.\n",
    "ts = ts.replace(\":\", \"_\")\n",
    "experiment_name = ts + \"__\" + experiment_name\n",
    "experiment_results_dir = results_dir / experiment_name\n",
    "(experiment_results_dir).mkdir(parents=True, exist_ok=True)\n",
    "print(experiment_results_dir, \"\\n\", experiment_results_dir.exists())\n",
    "assert experiment_results_dir.exists()\n",
    "\n",
    "experiment_results_log = experiment_results_dir / \"log.txt\"\n",
    "with open(experiment_results_log, \"a+\") as f:\n",
    "    f.write(f\"Experiment Name: {experiment_name}\\n\")\n",
    "    f.write(f\"Timestamp: {ts}\\n\")\n",
    "    f.write(f\"Package and Hardware Info:\\n {cap}\\n\\n\")"
   ]
  },
  {
   "cell_type": "markdown",
   "metadata": {
    "tags": []
   },
   "source": [
    "### Global Function & Class Definitions"
   ]
  },
  {
   "cell_type": "code",
   "execution_count": null,
   "metadata": {},
   "outputs": [],
   "source": []
  },
  {
   "cell_type": "markdown",
   "metadata": {},
   "source": [
    "### Global Parameters"
   ]
  },
  {
   "cell_type": "code",
   "execution_count": 9,
   "metadata": {
    "execution": {
     "iopub.execute_input": "2021-04-29T14:31:55.921645Z",
     "iopub.status.busy": "2021-04-29T14:31:55.921458Z",
     "iopub.status.idle": "2021-04-29T14:31:55.925166Z",
     "shell.execute_reply": "2021-04-29T14:31:55.924609Z",
     "shell.execute_reply.started": "2021-04-29T14:31:55.921624Z"
    },
    "tags": []
   },
   "outputs": [],
   "source": [
    "downsample_factor = 2\n",
    "# Include b=0 shells and b=1000 shells for DTI fitting.\n",
    "bval_range = (0, 1500)\n",
    "dti_fit_method = \"WLS\""
   ]
  },
  {
   "cell_type": "code",
   "execution_count": 10,
   "metadata": {
    "execution": {
     "iopub.execute_input": "2021-04-29T14:31:55.926927Z",
     "iopub.status.busy": "2021-04-29T14:31:55.926742Z",
     "iopub.status.idle": "2021-04-29T14:31:55.932937Z",
     "shell.execute_reply": "2021-04-29T14:31:55.932400Z",
     "shell.execute_reply.started": "2021-04-29T14:31:55.926906Z"
    },
    "tags": []
   },
   "outputs": [],
   "source": [
    "# Patch parameters\n",
    "batch_size = 12\n",
    "# 6 channels for the 6 DTI components\n",
    "channels = 6\n",
    "\n",
    "# Output patch shapes\n",
    "h_out = 14\n",
    "w_out = 14\n",
    "d_out = 14\n",
    "# Output shape after shuffling.\n",
    "output_patch_shape = (channels, h_out, w_out, d_out)\n",
    "output_spatial_patch_shape = output_patch_shape[1:]\n",
    "# This is the factor that determines how over-extended the input patch should be\n",
    "# relative to the size of the full-res patch.\n",
    "# $low_res_patch_dim = \\frac{full_res_patch_dim}{downsample_factor} \\times low_res_sample_extension$\n",
    "# A value of 1 indicates that the input patch dims will be exactly divided by the\n",
    "# downsample factor. A dilation > 1 increases the \"spatial extent\" of the input\n",
    "# patch, providing information outside of the target HR patch.\n",
    "low_res_sample_extension = 1.57\n",
    "# Input patch parameters\n",
    "h_in = round(h_out / (downsample_factor) * low_res_sample_extension)\n",
    "w_in = round(w_out / (downsample_factor) * low_res_sample_extension)\n",
    "d_in = round(d_out / (downsample_factor) * low_res_sample_extension)\n",
    "input_patch_shape = (channels, h_in, w_in, d_in)\n",
    "input_spatial_patch_shape = input_patch_shape[1:]\n",
    "\n",
    "# Pre-shuffle output patch sizes.\n",
    "unshuffled_channels_out = channels * downsample_factor ** 3\n",
    "# Output before shuffling\n",
    "unshuffled_output_patch_shape = (unshuffled_channels_out, h_in, w_in, d_in)"
   ]
  },
  {
   "cell_type": "code",
   "execution_count": 11,
   "metadata": {
    "execution": {
     "iopub.execute_input": "2021-04-29T14:31:55.933822Z",
     "iopub.status.busy": "2021-04-29T14:31:55.933669Z",
     "iopub.status.idle": "2021-04-29T14:31:55.938547Z",
     "shell.execute_reply": "2021-04-29T14:31:55.938050Z",
     "shell.execute_reply.started": "2021-04-29T14:31:55.933804Z"
    }
   },
   "outputs": [],
   "source": [
    "with open(experiment_results_log, \"a+\") as f:\n",
    "    f.write(f\"Downsample Factor: {downsample_factor}\\n\")\n",
    "    f.write(f\"DTI Fit Method: {dti_fit_method}\\n\")\n",
    "    f.write(f\"Input Patch Size: {input_patch_shape}\\n\")\n",
    "    f.write(f\"Output Patch Size: {output_patch_shape}\\n\")\n",
    "    f.write(f\"Batch Size: {batch_size}\\n\")"
   ]
  },
  {
   "cell_type": "markdown",
   "metadata": {},
   "source": [
    "## Data Loading"
   ]
  },
  {
   "cell_type": "markdown",
   "metadata": {},
   "source": [
    "### Subject ID Selection"
   ]
  },
  {
   "cell_type": "code",
   "execution_count": 12,
   "metadata": {
    "execution": {
     "iopub.execute_input": "2021-04-29T14:31:55.939616Z",
     "iopub.status.busy": "2021-04-29T14:31:55.939463Z",
     "iopub.status.idle": "2021-04-29T14:31:55.949690Z",
     "shell.execute_reply": "2021-04-29T14:31:55.949115Z",
     "shell.execute_reply.started": "2021-04-29T14:31:55.939599Z"
    },
    "tags": []
   },
   "outputs": [
    {
     "name": "stderr",
     "output_type": "stream",
     "text": [
      "<ipython-input-12-a40943793870>:25: UserWarning:\n",
      "\n",
      "WARNING: Sub-selecting participants for dev and debugging. Subj IDs selected: ['397154', '303624', '700634', '753251', '135528', '103010', '810439', '227432', '894774', '141422']\n",
      "\n"
     ]
    },
    {
     "data": {
      "text/plain": [
       "{103010: PosixPath('/mnt/storage/data/pitn/hcp/103010/T1w/Diffusion'),\n",
       " 135528: PosixPath('/mnt/storage/data/pitn/hcp/135528/T1w/Diffusion'),\n",
       " 141422: PosixPath('/mnt/storage/data/pitn/hcp/141422/T1w/Diffusion'),\n",
       " 227432: PosixPath('/mnt/storage/data/pitn/hcp/227432/T1w/Diffusion'),\n",
       " 303624: PosixPath('/mnt/storage/data/pitn/hcp/303624/T1w/Diffusion'),\n",
       " 397154: PosixPath('/mnt/storage/data/pitn/hcp/397154/T1w/Diffusion'),\n",
       " 700634: PosixPath('/mnt/storage/data/pitn/hcp/700634/T1w/Diffusion'),\n",
       " 753251: PosixPath('/mnt/storage/data/pitn/hcp/753251/T1w/Diffusion'),\n",
       " 810439: PosixPath('/mnt/storage/data/pitn/hcp/810439/T1w/Diffusion'),\n",
       " 894774: PosixPath('/mnt/storage/data/pitn/hcp/894774/T1w/Diffusion')}"
      ]
     },
     "execution_count": 12,
     "metadata": {},
     "output_type": "execute_result"
    }
   ],
   "source": [
    "# Find data directories for each subject.\n",
    "subj_dirs: dict = dict()\n",
    "\n",
    "selected_ids = [\n",
    "    \"397154\",\n",
    "    \"224022\",\n",
    "    \"140117\",\n",
    "    \"751348\",\n",
    "    \"894774\",\n",
    "    \"156637\",\n",
    "    \"227432\",\n",
    "    \"303624\",\n",
    "    \"185947\",\n",
    "    \"810439\",\n",
    "    \"753251\",\n",
    "    \"644246\",\n",
    "    \"141422\",\n",
    "    \"135528\",\n",
    "    \"103010\",\n",
    "    \"700634\",\n",
    "]\n",
    "\n",
    "## Sub-set the chosen participants for dev and debugging!\n",
    "selected_ids = random.sample(selected_ids, 10)\n",
    "warnings.warn(\n",
    "    \"WARNING: Sub-selecting participants for dev and debugging. \"\n",
    "    + f\"Subj IDs selected: {selected_ids}\"\n",
    ")\n",
    "# ### A nested warning! For debugging only.\n",
    "# warnings.warn(\"WARNING: Mixing training and testing subjects\")\n",
    "# selected_ids.append(selected_ids[0])\n",
    "# ###\n",
    "##\n",
    "\n",
    "selected_ids = natsorted(list(map(lambda s: int(s), selected_ids)))\n",
    "\n",
    "for subj_id in selected_ids:\n",
    "    subj_dirs[subj_id] = data_dir / f\"{subj_id}/T1w/Diffusion\"\n",
    "    assert subj_dirs[subj_id].exists()\n",
    "subj_dirs"
   ]
  },
  {
   "cell_type": "markdown",
   "metadata": {},
   "source": [
    "The 90 scans are taken from the $b=1000 \\ s/mm^2$. However, the $b=0$ shells are still required for fitting the diffusion tensors (DTI's), so those will need to be kept, too.\n",
    "\n",
    "To find those, sub-select with the $0 < bvals < 1500$, or roughly thereabout. A b-val of $995$ or $1005$ still counts as a b=1000."
   ]
  },
  {
   "cell_type": "code",
   "execution_count": 13,
   "metadata": {
    "execution": {
     "iopub.execute_input": "2021-04-29T14:31:55.950779Z",
     "iopub.status.busy": "2021-04-29T14:31:55.950613Z",
     "iopub.status.idle": "2021-04-29T14:31:55.954350Z",
     "shell.execute_reply": "2021-04-29T14:31:55.953804Z",
     "shell.execute_reply.started": "2021-04-29T14:31:55.950759Z"
    }
   },
   "outputs": [],
   "source": [
    "with open(experiment_results_log, \"a+\") as f:\n",
    "    f.write(f\"Selected Subjects: {selected_ids}\\n\")"
   ]
  },
  {
   "cell_type": "markdown",
   "metadata": {},
   "source": [
    "### Loading and Preprocessing"
   ]
  },
  {
   "cell_type": "code",
   "execution_count": null,
   "metadata": {
    "execution": {
     "iopub.execute_input": "2021-04-29T14:31:55.955368Z",
     "iopub.status.busy": "2021-04-29T14:31:55.955199Z"
    },
    "tags": []
   },
   "outputs": [
    {
     "name": "stdout",
     "output_type": "stream",
     "text": [
      "Loading NIFTI image: /mnt/storage/data/pitn/hcp/103010/T1w/Diffusion/data.nii.gz\n",
      "\tLoaded NIFTI image\n",
      "Selecting with bvals: Subject 103010\n",
      "\tSelected\n",
      "Downsampling: Subject 103010\n",
      "\tDownsampled\n",
      "Fitting to DTI: Subject 103010\n",
      "\tDWI shape: torch.Size([108, 145, 174, 145])\n",
      "\tDTI shape: (6, 145, 174, 145)\n",
      "\tFitted DTI model: torch.Size([6, 145, 174, 145])\n",
      "Fitting to DTI: Subject 103010\n",
      "\tDWI shape: torch.Size([108, 78, 92, 78])\n"
     ]
    }
   ],
   "source": [
    "# Import all image data into a sequence of `torchio.Subject` objects.\n",
    "subj_data: dict = dict()\n",
    "\n",
    "for subj_id, subj_dir in subj_dirs.items():\n",
    "    # Sub-select volumes with only bvals in a certain range. E.x. bvals <= 1100 mm/s^2,\n",
    "    # a.k.a. only the b=0 and b=1000 shells.\n",
    "    bvals = torch.as_tensor(np.loadtxt(subj_dir / \"bvals\").astype(int))\n",
    "    bvecs = torch.as_tensor(np.loadtxt(subj_dir / \"bvecs\"))\n",
    "    # Reshape to be N x 3\n",
    "    if bvecs.shape[0] == 3:\n",
    "        bvecs = bvecs.T\n",
    "\n",
    "    # grad = torchio.ScalarImage(subj_dir/\"grad_dev.nii.gz\")\n",
    "    brain_mask = torchio.LabelMap(\n",
    "        subj_dir / \"nodif_brain_mask.nii.gz\",\n",
    "        type=torchio.LABEL,\n",
    "        channels_last=False,\n",
    "    )\n",
    "\n",
    "    # The brain mask is binary.\n",
    "    brain_mask.set_data(brain_mask.data.bool())\n",
    "\n",
    "    dwi = torchio.ScalarImage(\n",
    "        subj_dir / \"data.nii.gz\",\n",
    "        type=torchio.INTENSITY,\n",
    "        bvals=bvals,\n",
    "        bvecs=bvecs,\n",
    "        reader=pitn.io.nifti_reader,\n",
    "        channels_last=True,\n",
    "    )\n",
    "\n",
    "    # Padding amount for the downsampled DWI's. Padded to account for low-res patches\n",
    "    # that extend beyond the corresponding full-res patch; otherwise, patches will be\n",
    "    # sampled outside the low-res volume.\n",
    "    lr_spatial_padding = int(\n",
    "        max(\n",
    "            0,\n",
    "            np.ceil(\n",
    "                low_res_sample_extension * (h_out // downsample_factor)\n",
    "                - (h_out // downsample_factor)\n",
    "            )\n",
    "            + 1,\n",
    "        )\n",
    "    )\n",
    "    channel_mean = dwi.data.mean(dim=(1, 2, 3))\n",
    "    #     channel_std\n",
    "    subject_dict = torchio.Subject(subj_id=subj_id, dwi=dwi, brain_mask=brain_mask)\n",
    "\n",
    "    preproc_transforms = torchio.Compose(\n",
    "        [\n",
    "            torchio.transforms.ToCanonical(include=(\"dwi\", \"brain_mask\"), copy=False),\n",
    "            pitn.transforms.BValSelectionTransform(\n",
    "                bval_range=bval_range,\n",
    "                bval_key=\"bvals\",\n",
    "                bvec_key=\"bvecs\",\n",
    "                include=\"dwi\",\n",
    "                copy=False,\n",
    "            ),\n",
    "            pitn.transforms.MeanDownsampleTransform(\n",
    "                downsample_factor,\n",
    "                spatial_padding=lr_spatial_padding,\n",
    "                include=(\"dwi\", \"brain_mask\"),\n",
    "                keep={\"dwi\": \"fr_dwi\", \"brain_mask\": \"fr_brain_mask\"},\n",
    "                copy=False,\n",
    "            ),\n",
    "            pitn.transforms.RenameImageTransform(\n",
    "                {\"dwi\": \"lr_dwi\", \"brain_mask\": \"lr_brain_mask\"}, copy=False\n",
    "            ),\n",
    "            pitn.transforms.FitDTITransform(\n",
    "                \"bvals\",\n",
    "                \"bvecs\",\n",
    "                \"fr_brain_mask\",\n",
    "                fit_method=dti_fit_method,\n",
    "                include=(\"fr_dwi\"),\n",
    "                copy=False,\n",
    "            ),\n",
    "            pitn.transforms.FitDTITransform(\n",
    "                \"bvals\",\n",
    "                \"bvecs\",\n",
    "                \"lr_brain_mask\",\n",
    "                fit_method=dti_fit_method,\n",
    "                include=(\"lr_dwi\"),\n",
    "                copy=False,\n",
    "            ),\n",
    "            pitn.transforms.RenameImageTransform(\n",
    "                {\"fr_dwi\": \"fr_dti\", \"lr_dwi\": \"lr_dti\"}, copy=False\n",
    "            ),\n",
    "            pitn.transforms.ImageToDictTransform(\n",
    "                include=(\"lr_dti\", \"lr_brain_mask\"), copy=False\n",
    "            ),\n",
    "        ]\n",
    "    )\n",
    "    # Normalize DTI's to have mean 0 and variance 1.\n",
    "    preproced_subj = preproc_transforms(subject_dict)\n",
    "    # Store subject-and-channel-wise means and vars in order to reverse the normalization\n",
    "    # for the final visualization/output.\n",
    "    fr_mask = preproced_subj.fr_brain_mask.tensor\n",
    "\n",
    "    preproced_subj[\"channel_means\"] = (\n",
    "        (preproced_subj.fr_dti.tensor * fr_mask)\n",
    "        .mean(dim=(1, 2, 3), keepdim=True)\n",
    "        .cpu()\n",
    "        .numpy()\n",
    "    )\n",
    "    preproced_subj[\"channel_var\"] = (\n",
    "        (preproced_subj.fr_dti.tensor * fr_mask)\n",
    "        .var(dim=(1, 2, 3), keepdim=True)\n",
    "        .cpu()\n",
    "        .numpy()\n",
    "    )\n",
    "\n",
    "    preproced_subj[\"fr_dti\"].set_data(\n",
    "        pitn.data.norm.normalize_dti(\n",
    "            preproced_subj[\"fr_dti\"].data,\n",
    "            torch.as_tensor(preproced_subj[\"channel_means\"]),\n",
    "            torch.as_tensor(preproced_subj[\"channel_var\"]),\n",
    "        )\n",
    "    )\n",
    "    preproced_subj[\"lr_dti\"][\"data\"] = pitn.data.norm.normalize_dti(\n",
    "        preproced_subj[\"lr_dti\"][\"data\"],\n",
    "        torch.as_tensor(preproced_subj[\"channel_means\"]),\n",
    "        torch.as_tensor(preproced_subj[\"channel_var\"]),\n",
    "    )\n",
    "    subj_data[subj_id] = preproced_subj\n",
    "\n",
    "\n",
    "print(\"===Data Loaded & Transformed===\")"
   ]
  },
  {
   "cell_type": "code",
   "execution_count": null,
   "metadata": {
    "tags": []
   },
   "outputs": [],
   "source": [
    "subj_dataset = torchio.SubjectsDataset(list(subj_data.values()), load_getitem=False)"
   ]
  },
  {
   "cell_type": "markdown",
   "metadata": {
    "tags": []
   },
   "source": [
    "## Model Training"
   ]
  },
  {
   "cell_type": "markdown",
   "metadata": {},
   "source": [
    "### Set Up Patch-Based Data Loaders"
   ]
  },
  {
   "cell_type": "code",
   "execution_count": null,
   "metadata": {
    "tags": []
   },
   "outputs": [],
   "source": [
    "# Data train/validation/test split\n",
    "test_percent = 0.2\n",
    "# test_percent = 0.5\n",
    "train_percent = 1 - test_percent\n",
    "# val_percent = 0.1\n",
    "\n",
    "num_subjs = len(subj_dataset)\n",
    "num_test_subjs = int(np.ceil(num_subjs * test_percent))\n",
    "num_train_subjs = num_subjs - num_test_subjs\n",
    "subj_list = subj_dataset.dry_iter()\n",
    "# Randomly shuffle the list of subjects, then choose the first `num_test_subjs` subjects\n",
    "# for testing.\n",
    "random.shuffle(subj_list)\n",
    "\n",
    "# Create partial function to collect list of samples and form a tuple of tensors.\n",
    "collate_fn = functools.partial(\n",
    "    pitn.samplers.collate_subj, full_res_key=\"fr_dti\", low_res_key=\"lr_dti\"\n",
    ")\n",
    "\n",
    "test_dataset = torchio.SubjectsDataset(subj_list[:num_test_subjs], load_getitem=False)\n",
    "# Choose the remaining for training/validation.\n",
    "# If only 1 subject is available, assume this is a debugging run.\n",
    "if num_subjs == 1 and num_train_subjs == 0:\n",
    "    print(\"DEBUG: Only 1 subject with no training subjects, mixing train and test set\")\n",
    "    subj_list = subj_list[:]\n",
    "    num_train_subjs = num_test_subjs\n",
    "else:\n",
    "    subj_list = subj_list[num_test_subjs:]\n",
    "\n",
    "train_dataset = torchio.SubjectsDataset(subj_list, load_getitem=False)\n",
    "\n",
    "# Training patch sampler, random across all patches of all volumes.\n",
    "train_sampler = pitn.samplers.MultiresSampler(\n",
    "    source_img_key=\"fr_dti\",\n",
    "    low_res_key=\"lr_dti\",\n",
    "    downsample_factor_key=\"downsample_factor\",\n",
    "    label_name=\"fr_brain_mask\",\n",
    "    source_spatial_patch_size=output_spatial_patch_shape,\n",
    "    low_res_spatial_patch_size=input_spatial_patch_shape,\n",
    "    label_probabilities={0: 0, 1: 1},\n",
    ")\n",
    "\n",
    "patches_per_subj = 8000\n",
    "# Hold enough for 3 epochs at a time.\n",
    "queue_max_length = patches_per_subj * num_train_subjs * 3\n",
    "\n",
    "# Set up a torchio.Queue to act as a sampler proxy for the torch DataLoader\n",
    "train_queue = torchio.Queue(\n",
    "    train_dataset,\n",
    "    max_length=queue_max_length,\n",
    "    samples_per_volume=patches_per_subj,\n",
    "    sampler=train_sampler,\n",
    "    shuffle_patches=True,\n",
    "    shuffle_subjects=True,\n",
    "    num_workers=7,\n",
    "    #     verbose=True,\n",
    ")\n",
    "\n",
    "train_loader = torch.utils.data.DataLoader(\n",
    "    train_queue,\n",
    "    batch_size=batch_size,\n",
    "    collate_fn=collate_fn,\n",
    "    pin_memory=True,\n",
    "    num_workers=0,\n",
    ")\n",
    "\n",
    "# Set up testing objects.\n",
    "# Calculate the patch overlap needed for ~50% of the patch volume overlapping (which is\n",
    "# not the same as dividing each dimension by 2).\n",
    "input_vol_half_overlap = int(\n",
    "    np.floor(np.power(np.prod(input_spatial_patch_shape) / 2, 1 / 3))\n",
    ")\n",
    "# torchio requires an even-numbered overlap.\n",
    "if input_vol_half_overlap % 2 == 1:\n",
    "    input_vol_half_overlap += 1\n",
    "input_vol_half_overlap = np.repeat(input_vol_half_overlap, 3)\n",
    "\n",
    "# Repeat for the output.\n",
    "output_vol_half_overlap = np.floor(\n",
    "    np.power(np.prod(output_spatial_patch_shape) / 2, 1 / 3)\n",
    ").astype(int)\n",
    "# torchio requires an even-numbered overlap.\n",
    "if output_vol_half_overlap % 2 == 1:\n",
    "    output_vol_half_overlap += 1\n",
    "output_vol_half_overlap = np.repeat(output_vol_half_overlap, 3)\n",
    "\n",
    "# Test samplers\n",
    "test_samplers = list()\n",
    "for subj in test_dataset.dry_iter():\n",
    "    test_samplers.append(\n",
    "        pitn.samplers.MultiresGridSampler(\n",
    "            subject=subj,\n",
    "            source_img_key=\"fr_dti\",\n",
    "            low_res_key=\"lr_dti\",\n",
    "            downsample_factor_key=\"downsample_factor\",\n",
    "            source_spatial_patch_size=output_spatial_patch_shape,\n",
    "            low_res_spatial_patch_size=input_spatial_patch_shape,\n",
    "            patch_overlap=output_vol_half_overlap,\n",
    "        )\n",
    "    )\n",
    "\n",
    "concat_test_dataset = torch.utils.data.ConcatDataset(test_samplers)\n",
    "test_loader = torch.utils.data.DataLoader(\n",
    "    concat_test_dataset,\n",
    "    batch_size=batch_size,\n",
    "    collate_fn=collate_fn,\n",
    "    pin_memory=True,\n",
    "    num_workers=6,\n",
    ")\n",
    "\n",
    "\n",
    "print(\"Test subject(s) IDs: \", [s.subj_id for s in test_dataset.dry_iter()])\n",
    "print(\"Training subject(s) IDs: \", [s.subj_id for s in train_dataset.dry_iter()])"
   ]
  },
  {
   "cell_type": "code",
   "execution_count": null,
   "metadata": {},
   "outputs": [],
   "source": [
    "with open(experiment_results_log, \"a+\") as f:\n",
    "    f.write(f\"Training Set Subjects: {[s.subj_id for s in test_dataset.dry_iter()]}\\n\")\n",
    "    f.write(f\"Test Set Subjects: {[s.subj_id for s in train_dataset.dry_iter()]}\\n\")"
   ]
  },
  {
   "cell_type": "markdown",
   "metadata": {},
   "source": [
    "### Model Definition"
   ]
  },
  {
   "cell_type": "code",
   "execution_count": null,
   "metadata": {
    "tags": []
   },
   "outputs": [],
   "source": [
    "# Basic conv net definition.\n",
    "class ThreeConv(torch.nn.Module):\n",
    "    \"\"\"Basic three-layer 3D conv network for DIQT.\"\"\"\n",
    "\n",
    "    def __init__(self, channels: int, downsample_factor: int):\n",
    "        super().__init__()\n",
    "        self.channels = channels\n",
    "        self.downsample_factor = downsample_factor\n",
    "\n",
    "        # Set up Conv layers.\n",
    "        self.conv1 = torch.nn.Conv3d(self.channels, 50, kernel_size=(3, 3, 3))\n",
    "        self.conv2 = torch.nn.Conv3d(50, 100, kernel_size=(1, 1, 1))\n",
    "        self.conv3 = torch.nn.Conv3d(\n",
    "            100, self.channels * (self.downsample_factor ** 3), kernel_size=(3, 3, 3)\n",
    "        )\n",
    "\n",
    "        self.output_shuffle = pitn.nn.models.ESPCNShuffle(\n",
    "            num_channels=self.channels, downsample_factor=self.downsample_factor\n",
    "        )\n",
    "\n",
    "    def forward(self, x):\n",
    "        #         breakpoint()\n",
    "        y_hat = self.conv1(x)\n",
    "        y_hat = F.relu(y_hat)\n",
    "        y_hat = self.conv2(y_hat)\n",
    "        y_hat = F.relu(y_hat)\n",
    "        y_hat = self.conv3(y_hat)\n",
    "\n",
    "        # Shuffle output.\n",
    "        y_hat = self.output_shuffle(y_hat)\n",
    "        return y_hat"
   ]
  },
  {
   "cell_type": "code",
   "execution_count": null,
   "metadata": {
    "tags": []
   },
   "outputs": [],
   "source": [
    "# Full pytorch-lightning module for contained training, validation, and testing.\n",
    "class DIQTSystem(pl.LightningModule):\n",
    "    def __init__(self, channels, downsample_factor, train_loss_log_file=None):\n",
    "        super().__init__()\n",
    "\n",
    "        self._channels = channels\n",
    "        self._downsample_factor = downsample_factor\n",
    "\n",
    "        # Parameters\n",
    "        # Network parameters\n",
    "        self.net = ThreeConv(self._channels, self._downsample_factor)\n",
    "\n",
    "        ## Training parameters\n",
    "        self._lr = 10e-3\n",
    "        self._betas = (0.9, 0.999)\n",
    "        self._loss_fn = torch.nn.MSELoss(reduction=\"mean\")\n",
    "#         self._loss_fn = torch.nn.MSELoss(reduction=\"sum\")\n",
    "        #         self._loss_fn = torch.nn.L1Loss(reduction=\"mean\")\n",
    "        #         self._loss_fn = lambda y_hat, y: torch.sqrt(\n",
    "        #             F.mse_loss(y_hat, y, reduction=\"mean\")\n",
    "        #         )\n",
    "\n",
    "        # My own dinky logging object.\n",
    "        self.plain_log = {\"train_loss\": list(), \"val_loss\": list(), \"test_loss\": list()}\n",
    "        self.train_loss_log_file = train_loss_log_file\n",
    "\n",
    "    def forward(self, x):\n",
    "        y = self.net(x)\n",
    "        return y\n",
    "\n",
    "    def training_step(self, batch, batch_idx):\n",
    "        x, y = batch\n",
    "        #         x = normalize_batch(x)\n",
    "        #         y = normalize_batch(y)\n",
    "        y_pred = self.net(x)\n",
    "        #         y_pred = normalize_batch(y_pred)\n",
    "        loss = self._loss_fn(y_pred, y)\n",
    "        self.log(\"train_loss\", loss, logger=False)\n",
    "        self.plain_log[\"train_loss\"].append(float(loss.cpu()))\n",
    "        return loss\n",
    "\n",
    "    def training_epoch_end(self, training_step_outputs):\n",
    "        # Only log each epoch if a log filename was given.\n",
    "        if self.train_loss_log_file:\n",
    "            with open(self.train_loss_log_file, \"a+\") as f:\n",
    "                losses = (\n",
    "                    str(\n",
    "                        [float(l[\"loss\"].detach().cpu()) for l in training_step_outputs]\n",
    "                    )\n",
    "                    .replace(\"[\", \"\")\n",
    "                    .replace(\"]\", \"\")\n",
    "                )\n",
    "                f.write(f\"\\t{losses}\\n\")\n",
    "\n",
    "    #     def validation_step(self, batch, batch_idx):\n",
    "    #         pass\n",
    "\n",
    "    def test_step(self, batch, batch_idx):\n",
    "\n",
    "        x, y = batch\n",
    "        #         x = normalize_batch(x)\n",
    "        #         y = normalize_batch(y)\n",
    "        y_pred = self.net(x)\n",
    "        # Normalize the prediction, to make sure the RMSE is scaled correctly.\n",
    "        #         y_pred = normalize_batch(y_pred)\n",
    "        test_loss = torch.sqrt(F.mse_loss(y_pred, y))\n",
    "        self.log(\"test_loss\", test_loss)\n",
    "        self.plain_log[\"test_loss\"].append(float(test_loss.cpu()))\n",
    "\n",
    "        return test_loss\n",
    "\n",
    "    def configure_optimizers(self):\n",
    "        optimizer = torch.optim.Adam(\n",
    "            self.net.parameters(), lr=self._lr, betas=self._betas\n",
    "        )\n",
    "        return optimizer"
   ]
  },
  {
   "cell_type": "markdown",
   "metadata": {},
   "source": [
    "### Training"
   ]
  },
  {
   "cell_type": "code",
   "execution_count": null,
   "metadata": {
    "tags": []
   },
   "outputs": [],
   "source": [
    "# Training parameters\n",
    "max_epochs = 20"
   ]
  },
  {
   "cell_type": "code",
   "execution_count": null,
   "metadata": {
    "tags": []
   },
   "outputs": [],
   "source": [
    "train_loss_name = \"MSE\""
   ]
  },
  {
   "cell_type": "code",
   "execution_count": null,
   "metadata": {
    "tags": []
   },
   "outputs": [],
   "source": [
    "train_start_timestamp = datetime.datetime.now().replace(microsecond=0)\n",
    "\n",
    "model = DIQTSystem(\n",
    "    channels=channels,\n",
    "    downsample_factor=downsample_factor,\n",
    "    train_loss_log_file=experiment_results_log,\n",
    ")\n",
    "\n",
    "with open(experiment_results_log, \"a+\") as f:\n",
    "    f.write(f\"Max epochs: {max_epochs}\\n\")\n",
    "    f.write(f\"Model overview: {model}\\n\")\n",
    "    f.write(f\"Training loss function: {train_loss_name}\\n\")\n",
    "\n",
    "    f.write(\"Training loss: \\n\")\n",
    "\n",
    "# Create trainer object. Note: `automatic_optimization` needs to be set to `False` when\n",
    "# manually performing backprop. See\n",
    "# <https://colab.research.google.com/drive/1nGtvBFirIvtNQdppe2xBes6aJnZMjvl8?usp=sharing>\n",
    "trainer = pl.Trainer(gpus=1, max_epochs=max_epochs, progress_bar_refresh_rate=100)\n",
    "\n",
    "trainer.fit(model, train_loader)\n",
    "train_duration = datetime.datetime.now().replace(microsecond=0) - train_start_timestamp"
   ]
  },
  {
   "cell_type": "code",
   "execution_count": null,
   "metadata": {
    "tags": []
   },
   "outputs": [],
   "source": [
    "with open(experiment_results_log, \"a+\") as f:\n",
    "    f.write(\"\\n\")\n",
    "    f.write(f\"Training time: {train_duration}\\n\")\n",
    "    f.write(\n",
    "        f\"\\t{train_duration.days} Days, \"\n",
    "        + f\"{train_duration.seconds // 3600} Hours,\"\n",
    "        + f\"{(train_duration.seconds // 60) % 60} Minutes,\"\n",
    "        + f'{train_duration.seconds % 60} Seconds\"\\n'\n",
    "    )"
   ]
  },
  {
   "cell_type": "code",
   "execution_count": null,
   "metadata": {
    "tags": []
   },
   "outputs": [],
   "source": [
    "# Plot rolling average window of training loss values.\n",
    "plt.figure(dpi=110)\n",
    "window = 1000\n",
    "rolling_mean = (\n",
    "    np.convolve(model.plain_log[\"train_loss\"], np.ones(window), \"valid\") / window\n",
    ")\n",
    "rolling_start = 100\n",
    "plt.plot(\n",
    "    np.arange(\n",
    "        window + rolling_start,\n",
    "        window + rolling_start + len(rolling_mean[rolling_start:]),\n",
    "    ),\n",
    "    rolling_mean[rolling_start:],\n",
    ")\n",
    "plt.title(\"Training Loss \" + train_loss_name + f\"\\nRolling Mean {window}\")\n",
    "plt.xlabel(\"Epoch\")\n",
    "plt.ylabel(\"Loss\")\n",
    "# plt.ylim(0, 1)\n",
    "print(np.median(rolling_mean))\n",
    "print(\n",
    "    np.mean(model.plain_log[\"train_loss\"][: window + rolling_start]),\n",
    "    np.var(model.plain_log[\"train_loss\"][: window + rolling_start]),\n",
    "    np.max(model.plain_log[\"train_loss\"][: window + rolling_start]),\n",
    ")\n",
    "\n",
    "plt.savefig(experiment_results_dir / \"train_loss.png\")"
   ]
  },
  {
   "cell_type": "code",
   "execution_count": null,
   "metadata": {
    "tags": []
   },
   "outputs": [],
   "source": [
    "len(model.plain_log[\"train_loss\"])"
   ]
  },
  {
   "cell_type": "markdown",
   "metadata": {},
   "source": [
    "## Model Evaluation"
   ]
  },
  {
   "cell_type": "markdown",
   "metadata": {
    "tags": []
   },
   "source": [
    "### Testing"
   ]
  },
  {
   "cell_type": "code",
   "execution_count": null,
   "metadata": {
    "tags": []
   },
   "outputs": [],
   "source": [
    "trainer.test(test_dataloaders=test_loader)"
   ]
  },
  {
   "cell_type": "code",
   "execution_count": null,
   "metadata": {
    "tags": []
   },
   "outputs": [],
   "source": [
    "test_loss_name = \"RMSE\"\n",
    "\n",
    "with open(experiment_results_log, \"a+\") as f:\n",
    "    f.write(f\"Test loss function: {test_loss_name}\\n\")\n",
    "    f.write(f'Testing loss: \\n\\t {model.plain_log[\"test_loss\"]} \\n')"
   ]
  },
  {
   "cell_type": "code",
   "execution_count": null,
   "metadata": {},
   "outputs": [],
   "source": [
    "plt.figure(dpi=120)\n",
    "sns.histplot(\n",
    "    np.asarray(model.plain_log[\"test_loss\"]),\n",
    "    kde=True,\n",
    "    stat=\"probability\",\n",
    "    log_scale=True,\n",
    ")\n",
    "plt.xlabel(\"Loss\")\n",
    "plt.title(f\"Test Loss Probabilities with {test_loss_name}\")\n",
    "plt.savefig(experiment_results_dir / \"test_loss_prob.png\")"
   ]
  },
  {
   "cell_type": "code",
   "execution_count": null,
   "metadata": {},
   "outputs": [],
   "source": [
    "plt.figure(dpi=120)\n",
    "sns.histplot(np.asarray(model.plain_log[\"test_loss\"]), kde=True, log_scale=True)\n",
    "plt.xlabel(\"Loss\")\n",
    "plt.title(f\"Test Loss Counts with {test_loss_name}\")\n",
    "plt.savefig(experiment_results_dir / \"test_loss_count.png\")"
   ]
  },
  {
   "cell_type": "code",
   "execution_count": null,
   "metadata": {
    "tags": []
   },
   "outputs": [],
   "source": [
    "np.asarray(model.plain_log[\"test_loss\"]).max()"
   ]
  },
  {
   "cell_type": "markdown",
   "metadata": {
    "tags": []
   },
   "source": [
    "### Visualization"
   ]
  },
  {
   "cell_type": "code",
   "execution_count": null,
   "metadata": {
    "tags": []
   },
   "outputs": [],
   "source": [
    "# Create full 3D volume of full-res ground truth, low-res downsample, and high-res\n",
    "# inferences.\n",
    "@dataclass\n",
    "class SubjResult:\n",
    "    subj_id: int\n",
    "    full_res: torch.Tensor\n",
    "    low_res: torch.Tensor\n",
    "    full_res_predicted: torch.Tensor\n",
    "\n",
    "\n",
    "test_vol_results = list()\n",
    "\n",
    "with torch.no_grad():\n",
    "\n",
    "    for subj in test_dataset.dry_iter():\n",
    "\n",
    "        # Create a grid sampler for this subject.\n",
    "        subj_sampler = pitn.samplers.MultiresGridSampler(\n",
    "            subject=subj,\n",
    "            source_img_key=\"fr_dti\",\n",
    "            low_res_key=\"lr_dti\",\n",
    "            downsample_factor_key=\"downsample_factor\",\n",
    "            source_spatial_patch_size=output_spatial_patch_shape,\n",
    "            low_res_spatial_patch_size=input_spatial_patch_shape,\n",
    "            patch_overlap=output_vol_half_overlap,\n",
    "        )\n",
    "\n",
    "        loader = torch.utils.data.DataLoader(\n",
    "            subj_sampler, batch_size=256, pin_memory=True\n",
    "        )\n",
    "        aggregator = torchio.GridAggregator(subj_sampler, \"average\")\n",
    "\n",
    "        # Iterate over all batches of patches.\n",
    "        for batch in loader:\n",
    "\n",
    "            x = batch[\"lr_dti\"][\"data\"]\n",
    "            #             x = normalize_batch(x)\n",
    "            #             y = batch['fr_dti']['data']\n",
    "            # Locations are in reference to the full-res groud truth.\n",
    "            locations = batch[\"location\"]\n",
    "            predictions = model(x.to(model.device))\n",
    "            #             predictions = normalize_batch(predictions)\n",
    "            aggregator.add_batch(predictions.cpu(), locations)\n",
    "\n",
    "        # Collect the full-res ground truth, the low-res input, and the high-res\n",
    "        # prediction (aggregated) into one container object.\n",
    "        subj_means = torch.as_tensor(subj[\"channel_means\"])\n",
    "        subj_vars = torch.as_tensor(subj[\"channel_var\"])\n",
    "        subj_result = SubjResult(\n",
    "            subj_id=subj[\"subj_id\"],\n",
    "            full_res=pitn.data.norm.denormalize_dti(\n",
    "                subj[\"fr_dti\"].tensor,\n",
    "                subj_means.to(subj[\"fr_dti\"].tensor),\n",
    "                subj_vars.to(subj[\"fr_dti\"].tensor),\n",
    "            ),\n",
    "            low_res=pitn.data.norm.denormalize_dti(\n",
    "                subj[\"lr_dti\"][\"data\"],\n",
    "                subj_means.to(subj[\"lr_dti\"][\"data\"]),\n",
    "                subj_vars.to(subj[\"lr_dti\"][\"data\"]),\n",
    "            ),\n",
    "            full_res_predicted=pitn.data.norm.denormalize_dti(\n",
    "                aggregator.get_output_tensor(), subj_means, subj_vars\n",
    "            ),\n",
    "        )\n",
    "\n",
    "        test_vol_results.append(subj_result)"
   ]
  },
  {
   "cell_type": "code",
   "execution_count": null,
   "metadata": {},
   "outputs": [],
   "source": [
    "vis_subj_idx = 0"
   ]
  },
  {
   "cell_type": "code",
   "execution_count": null,
   "metadata": {
    "tags": []
   },
   "outputs": [],
   "source": [
    "# Generate FA-weighted diffusion direction map.\n",
    "tensor_key = \"full_res_predicted\"\n",
    "pred_dir_map = pitn.viz.direction_map(\n",
    "    test_vol_results[vis_subj_idx].__getattribute__(tensor_key).data.cpu().numpy()\n",
    ")\n",
    "# Set channels last for matplotlib\n",
    "pred_dir_map = pred_dir_map.transpose(1, 2, 3, 0)"
   ]
  },
  {
   "cell_type": "code",
   "execution_count": null,
   "metadata": {
    "tags": []
   },
   "outputs": [],
   "source": [
    "# Generate FA-weighted diffusion direction map.\n",
    "tensor_key = \"full_res\"\n",
    "fr_dir_map = pitn.viz.direction_map(\n",
    "    test_vol_results[vis_subj_idx].__getattribute__(tensor_key).data.cpu().numpy()\n",
    ")\n",
    "# Set channels last for matplotlib\n",
    "fr_dir_map = fr_dir_map.transpose(1, 2, 3, 0)"
   ]
  },
  {
   "cell_type": "code",
   "execution_count": null,
   "metadata": {
    "tags": []
   },
   "outputs": [],
   "source": [
    "slice_idx = (slice(None, None, None), slice(None, None, None), 68)"
   ]
  },
  {
   "cell_type": "code",
   "execution_count": null,
   "metadata": {
    "tags": []
   },
   "outputs": [],
   "source": [
    "plt.figure(dpi=150)\n",
    "plt.imshow(np.rot90(pred_dir_map[slice_idx]))\n",
    "plt.axis(\"off\")\n",
    "plt.savefig(experiment_results_dir / \"pred_dir_map_sample.png\");"
   ]
  },
  {
   "cell_type": "code",
   "execution_count": null,
   "metadata": {
    "tags": []
   },
   "outputs": [],
   "source": [
    "plt.figure(dpi=150)\n",
    "plt.imshow(np.rot90(fr_dir_map[slice_idx]))\n",
    "# plt.colorbar()\n",
    "plt.axis(\"off\")\n",
    "plt.savefig(experiment_results_dir / \"ground_truth_dir_map_sample.png\")"
   ]
  },
  {
   "cell_type": "code",
   "execution_count": null,
   "metadata": {
    "tags": []
   },
   "outputs": [],
   "source": [
    "# Display all 6 DTIs for ground truth, predicted, and root squared error\n",
    "\n",
    "channel_names = [\"Dxx\", \"Dxy\", \"Dyy\", \"Dxz\", \"Dyz\", \"Dzz\"]\n",
    "dti_names = [\"Full-Res\", \"Predicted\", \"Root Squared Error\"]\n",
    "# cmaps = [\"Reds\", \"Greys\", \"Greens\", \"Purples\", \"Greys\", \"Blues\", ]\n",
    "\n",
    "dtis = [\n",
    "    test_vol_results[vis_subj_idx]\n",
    "    .full_res.data[(slice(None), *slice_idx)]\n",
    "    .cpu()\n",
    "    .numpy(),\n",
    "    test_vol_results[vis_subj_idx]\n",
    "    .full_res_predicted[(slice(None), *slice_idx)]\n",
    "    .cpu()\n",
    "    .numpy(),\n",
    "]\n",
    "\n",
    "# Add root squared error\n",
    "dtis.append(np.sqrt((dtis[0] - dtis[1]) ** 2))\n",
    "\n",
    "nrows = len(dtis)\n",
    "ncols = len(channel_names)\n",
    "\n",
    "fig = plt.figure(figsize=(12, 6), dpi=140)\n",
    "\n",
    "grid = mpl.gridspec.GridSpec(\n",
    "    nrows,\n",
    "    ncols,\n",
    "    figure=fig,\n",
    "    hspace=0.05,\n",
    "    wspace=0.05,\n",
    ")\n",
    "\n",
    "for i_row in range(nrows):\n",
    "    dti = dtis[i_row]\n",
    "\n",
    "    for j_col in range(ncols):\n",
    "        ax = fig.add_subplot(grid[i_row, j_col])\n",
    "        ax.imshow(np.rot90(dti[j_col]), cmap=\"jet\", interpolation=None)\n",
    "        if ax.get_subplotspec().is_first_col():\n",
    "            ax.set_ylabel(dti_names[i_row])\n",
    "        if ax.get_subplotspec().is_last_row():\n",
    "            ax.set_xlabel(channel_names[j_col])\n",
    "        ax.set_xticks([])\n",
    "        ax.set_yticks([])\n",
    "        ax.set_xticklabels([])\n",
    "        ax.set_yticklabels([])\n",
    "plt.suptitle(\"DTI Channel Breakdown, Per-Image Normalization\")\n",
    "plt.savefig(experiment_results_dir / \"DTI_channel_sample_per_img_norm.png\")"
   ]
  },
  {
   "cell_type": "code",
   "execution_count": null,
   "metadata": {},
   "outputs": [],
   "source": [
    "# Display all 6 DTIs for ground truth, predicted, and root squared error\n",
    "\n",
    "channel_names = [\"Dxx\", \"Dxy\", \"Dyy\", \"Dxz\", \"Dyz\", \"Dzz\"]\n",
    "dti_names = [\"Full-Res\", \"Predicted\", \"Root Squared Error\"]\n",
    "# cmaps = [\"Reds\", \"Greys\", \"Greens\", \"Purples\", \"Greys\", \"Blues\", ]\n",
    "\n",
    "dtis = [\n",
    "    test_vol_results[vis_subj_idx]\n",
    "    .full_res.data[(slice(None), *slice_idx)]\n",
    "    .cpu()\n",
    "    .numpy(),\n",
    "    test_vol_results[vis_subj_idx]\n",
    "    .full_res_predicted[(slice(None), *slice_idx)]\n",
    "    .cpu()\n",
    "    .numpy(),\n",
    "]\n",
    "\n",
    "# Add root squared error\n",
    "dtis.append(np.sqrt((dtis[0] - dtis[1]) ** 2))\n",
    "\n",
    "# Don't take the absolute max and min values, as there exist some extreme (e.g., > 3\n",
    "# orders of magnitude) outliers. Instead, stake some percente quantile.\n",
    "max_dti = np.quantile(dtis, 0.95)\n",
    "min_dti = np.quantile(dtis, 0.05)\n",
    "\n",
    "nrows = len(dtis)\n",
    "ncols = len(channel_names)\n",
    "\n",
    "fig = plt.figure(figsize=(12, 6), dpi=140)\n",
    "\n",
    "grid = mpl.gridspec.GridSpec(\n",
    "    nrows,\n",
    "    ncols,\n",
    "    figure=fig,\n",
    "    hspace=0.05,\n",
    "    wspace=0.05,\n",
    ")\n",
    "\n",
    "for i_row in range(nrows):\n",
    "    dti = dtis[i_row]\n",
    "\n",
    "    for j_col in range(ncols):\n",
    "        ax = fig.add_subplot(grid[i_row, j_col])\n",
    "        ax.imshow(\n",
    "            np.rot90(dti[j_col]),\n",
    "            cmap=\"jet\",\n",
    "            interpolation=None,\n",
    "            vmin=min_dti,\n",
    "            vmax=max_dti,\n",
    "        )\n",
    "        if ax.get_subplotspec().is_first_col():\n",
    "            ax.set_ylabel(dti_names[i_row])\n",
    "        if ax.get_subplotspec().is_last_row():\n",
    "            ax.set_xlabel(channel_names[j_col])\n",
    "        ax.set_xticks([])\n",
    "        ax.set_yticks([])\n",
    "        ax.set_xticklabels([])\n",
    "        ax.set_yticklabels([])\n",
    "\n",
    "plt.suptitle(\"DTI Channel Breakdown, Normalized over All Images\")\n",
    "plt.savefig(experiment_results_dir / \"DTI_channel_sample_global_norm.png\")"
   ]
  },
  {
   "cell_type": "code",
   "execution_count": null,
   "metadata": {
    "tags": []
   },
   "outputs": [],
   "source": [
    "# Display all 6 DTIs for ground truth, predicted, and root squared error.\n",
    "# Normalize by index in the DTI coefficients.\n",
    "\n",
    "channel_names = [\"Dxx\", \"Dxy\", \"Dyy\", \"Dxz\", \"Dyz\", \"Dzz\"]\n",
    "dti_names = [\"Full-Res\", \"Predicted\", \"Root Squared Error\"]\n",
    "# cmaps = [\"Reds\", \"Greys\", \"Greens\", \"Purples\", \"Greys\", \"Blues\", ]\n",
    "\n",
    "dtis = [\n",
    "    test_vol_results[vis_subj_idx]\n",
    "    .full_res.data[(slice(None), *slice_idx)]\n",
    "    .cpu()\n",
    "    .numpy(),\n",
    "    test_vol_results[vis_subj_idx]\n",
    "    .full_res_predicted[(slice(None), *slice_idx)]\n",
    "    .cpu()\n",
    "    .numpy(),\n",
    "]\n",
    "\n",
    "# Add root squared error\n",
    "dtis.append(np.sqrt((dtis[0] - dtis[1]) ** 2))\n",
    "\n",
    "# Don't take the absolute max and min values, as there exist some extreme (e.g., > 3\n",
    "# orders of magnitude) outliers. Instead, stake some percente quantile.\n",
    "max_dtis = np.quantile(dtis, 0.95, axis=(0, 2, 3))\n",
    "min_dtis = np.quantile(dtis, 0.05, axis=(0, 2, 3))\n",
    "\n",
    "nrows = len(dtis)\n",
    "ncols = len(channel_names)\n",
    "\n",
    "fig = plt.figure(figsize=(12, 6), dpi=140)\n",
    "\n",
    "grid = mpl.gridspec.GridSpec(\n",
    "    nrows,\n",
    "    ncols,\n",
    "    figure=fig,\n",
    "    hspace=0.05,\n",
    "    wspace=0.05,\n",
    ")\n",
    "\n",
    "for i_row in range(nrows):\n",
    "    dti = dtis[i_row]\n",
    "\n",
    "    for j_col in range(ncols):\n",
    "        ax = fig.add_subplot(grid[i_row, j_col])\n",
    "        ax.imshow(\n",
    "            np.rot90(dti[j_col]),\n",
    "            cmap=\"jet\",\n",
    "            interpolation=None,\n",
    "            vmin=min_dtis[j_col],\n",
    "            vmax=max_dtis[j_col],\n",
    "        )\n",
    "        if ax.get_subplotspec().is_first_col():\n",
    "            ax.set_ylabel(dti_names[i_row])\n",
    "        if ax.get_subplotspec().is_last_row():\n",
    "            ax.set_xlabel(channel_names[j_col])\n",
    "        ax.set_xticks([])\n",
    "        ax.set_yticks([])\n",
    "        ax.set_xticklabels([])\n",
    "        ax.set_yticklabels([])\n",
    "plt.suptitle(\"DTI Channel Breakdown, Channel-Wise Normalization\")\n",
    "plt.savefig(experiment_results_dir / \"DTI_channel_sample_channel_wise_norm.png\")"
   ]
  }
 ],
 "metadata": {
  "kernelspec": {
   "display_name": "Python [conda env:miniconda-pitn]",
   "language": "python",
   "name": "conda-env-miniconda-pitn-py"
  },
  "language_info": {
   "codemirror_mode": {
    "name": "ipython",
    "version": 3
   },
   "file_extension": ".py",
   "mimetype": "text/x-python",
   "name": "python",
   "nbconvert_exporter": "python",
   "pygments_lexer": "ipython3",
   "version": "3.8.8"
  },
  "toc-autonumbering": true,
  "toc-showcode": false,
  "toc-showmarkdowntxt": false,
  "toc-showtags": false,
  "widgets": {
   "application/vnd.jupyter.widget-state+json": {
    "state": {},
    "version_major": 2,
    "version_minor": 0
   }
  }
 },
 "nbformat": 4,
 "nbformat_minor": 4
}
