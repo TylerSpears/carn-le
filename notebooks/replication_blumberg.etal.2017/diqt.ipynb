{
 "cells": [
  {
   "cell_type": "markdown",
   "metadata": {},
   "source": [
    "# Pain in the Net\n",
    "Replication of *Deeper Image Quality Transfer: Training Low-Memory Neural Networks for 3D Images*\n",
    "\n",
    "\n",
    "Code by:\n",
    "\n",
    "Tyler Spears - tas6hh@virginia.edu\n",
    "\n",
    "Dr. Tom Fletcher\n",
    "\n",
    "---\n",
    "\n",
    "Source work:\n",
    "`S. B. Blumberg, R. Tanno, I. Kokkinos, and D. C. Alexander, “Deeper Image Quality Transfer: Training Low-Memory Neural Networks for 3D Images,” in Medical Image Computing and Computer Assisted Intervention – MICCAI 2018, Cham, 2018, pp. 118–125, doi: 10.1007/978-3-030-00928-1_14.`\n"
   ]
  },
  {
   "cell_type": "markdown",
   "metadata": {},
   "source": [
    "## Imports & Environment Setup"
   ]
  },
  {
   "cell_type": "code",
   "execution_count": 79,
   "metadata": {
    "execution": {
     "iopub.execute_input": "2021-03-22T20:55:16.394823Z",
     "iopub.status.busy": "2021-03-22T20:55:16.394646Z",
     "iopub.status.idle": "2021-03-22T20:55:16.662951Z",
     "shell.execute_reply": "2021-03-22T20:55:16.662488Z",
     "shell.execute_reply.started": "2021-03-22T20:55:16.394802Z"
    }
   },
   "outputs": [],
   "source": [
    "# imports\n",
    "import math\n",
    "import random\n",
    "import itertools\n",
    "import collections\n",
    "import functools\n",
    "import pathlib\n",
    "from pathlib import Path\n",
    "import warnings\n",
    "import sys\n",
    "import os\n",
    "import subprocess\n",
    "import io\n",
    "\n",
    "import dotenv\n",
    "# Computation & ML libraries.\n",
    "import numpy as np\n",
    "import pandas as pd\n",
    "import skimage\n",
    "import skimage.measure, skimage.feature, skimage.filters\n",
    "import torch\n",
    "import torch.nn.functional as F\n",
    "import torchvision\n",
    "import pytorch_lightning as pl\n",
    "import nilearn\n",
    "import nilearn.plotting\n",
    "import dipy\n",
    "import dipy.reconst\n",
    "import dipy.reconst.dti\n",
    "# Data management libraries.\n",
    "import nibabel as nib\n",
    "import torchio\n",
    "import natsort\n",
    "from natsort import natsorted\n",
    "\n",
    "# visualization libraries\n",
    "%matplotlib inline\n",
    "import matplotlib as mpl\n",
    "import seaborn as sns\n",
    "import matplotlib.pyplot as plt\n",
    "plt.rcParams.update({'figure.autolayout': True})\n",
    "plt.rcParams.update({'figure.facecolor': [1.0, 1.0, 1.0, 1.0]})\n",
    "\n",
    "# Set print options for ndarrays/tensors.\n",
    "np.set_printoptions(suppress=True)\n",
    "torch.set_printoptions(sci_mode=False)"
   ]
  },
  {
   "cell_type": "code",
   "execution_count": 2,
   "metadata": {
    "execution": {
     "iopub.execute_input": "2021-03-19T16:22:17.394559Z",
     "iopub.status.busy": "2021-03-19T16:22:17.394395Z",
     "iopub.status.idle": "2021-03-19T16:22:17.568117Z",
     "shell.execute_reply": "2021-03-19T16:22:17.567614Z",
     "shell.execute_reply.started": "2021-03-19T16:22:17.394543Z"
    }
   },
   "outputs": [],
   "source": [
    "# Update notebook's environment variables with direnv.\n",
    "# This requires the python-dotenv package, and direnv be installed on the system\n",
    "# This will not work on Windows.\n",
    "# NOTE: This is kind of hacky, and not necessarily safe. Be careful...\n",
    "# Libraries needed on the python side:\n",
    "# - os\n",
    "# - subprocess\n",
    "# - io\n",
    "# - dotenv\n",
    "\n",
    "# Form command to be run in direnv's context. This command will print out\n",
    "# all environment variables defined in the subprocess/sub-shell.\n",
    "command = \"direnv exec {} /usr/bin/env\".format(os.getcwd())\n",
    "# Run command in a new subprocess.\n",
    "proc = subprocess.Popen(\n",
    "    command, stdout=subprocess.PIPE, shell=True, cwd=os.getcwd())\n",
    "# Store and format the subprocess' output.\n",
    "proc_out = proc.communicate()[0].strip().decode('utf-8')\n",
    "# Use python-dotenv to load the environment variables by using the output of\n",
    "# 'direnv exec ...' as a 'dummy' .env file.\n",
    "dotenv.load_dotenv(stream=io.StringIO(proc_out), override=True);"
   ]
  },
  {
   "cell_type": "code",
   "execution_count": 3,
   "metadata": {
    "execution": {
     "iopub.execute_input": "2021-03-19T16:22:18.691911Z",
     "iopub.status.busy": "2021-03-19T16:22:18.691709Z",
     "iopub.status.idle": "2021-03-19T16:22:18.695900Z",
     "shell.execute_reply": "2021-03-19T16:22:18.695436Z",
     "shell.execute_reply.started": "2021-03-19T16:22:18.691894Z"
    }
   },
   "outputs": [],
   "source": [
    "# Project-specific scripts\n",
    "# It's easier to import it this way rather than make an entirely new package, due to\n",
    "# conflicts with local packages and anaconda installations.\n",
    "# You made me do this, poor python package management!!\n",
    "if 'PROJECT_ROOT' in os.environ:\n",
    "    src_location = str(Path(os.environ['PROJECT_ROOT']).resolve())\n",
    "else:\n",
    "    src_location = str(Path(\"../../\").resolve())\n",
    "sys.path.append(src_location)\n",
    "import src as pitn"
   ]
  },
  {
   "cell_type": "code",
   "execution_count": 4,
   "metadata": {
    "execution": {
     "iopub.execute_input": "2021-03-19T16:22:19.912029Z",
     "iopub.status.busy": "2021-03-19T16:22:19.911881Z",
     "iopub.status.idle": "2021-03-19T16:22:19.953877Z",
     "shell.execute_reply": "2021-03-19T16:22:19.953429Z",
     "shell.execute_reply.started": "2021-03-19T16:22:19.912013Z"
    }
   },
   "outputs": [
    {
     "name": "stdout",
     "output_type": "stream",
     "text": [
      "cuda\n"
     ]
    }
   ],
   "source": [
    "# torch setup\n",
    "\n",
    "# allow for CUDA usage, if available\n",
    "if torch.cuda.is_available():\n",
    "    device = torch.device('cuda')\n",
    "else:\n",
    "    device = torch.device('cpu')\n",
    "# keep device as the cpu\n",
    "# device = torch.device('cpu')\n",
    "print(device)"
   ]
  },
  {
   "cell_type": "code",
   "execution_count": 76,
   "metadata": {
    "execution": {
     "iopub.execute_input": "2021-03-22T20:52:36.268227Z",
     "iopub.status.busy": "2021-03-22T20:52:36.267974Z",
     "iopub.status.idle": "2021-03-22T20:52:36.375456Z",
     "shell.execute_reply": "2021-03-22T20:52:36.374827Z",
     "shell.execute_reply.started": "2021-03-22T20:52:36.268203Z"
    }
   },
   "outputs": [
    {
     "name": "stdout",
     "output_type": "stream",
     "text": [
      "The watermark extension is already loaded. To reload it, use:\n",
      "  %reload_ext watermark\n",
      "Author: Tyler Spears\n",
      "\n",
      "Last updated: 2021-03-22T16:52:36.282472-04:00\n",
      "\n",
      "Python implementation: CPython\n",
      "Python version       : 3.8.8\n",
      "IPython version      : 7.21.0\n",
      "\n",
      "Compiler    : GCC 7.3.0\n",
      "OS          : Linux\n",
      "Release     : 5.8.0-3-amd64\n",
      "Machine     : x86_64\n",
      "Processor   : \n",
      "CPU cores   : 8\n",
      "Architecture: 64bit\n",
      "\n",
      "Git hash: 3163f7b31449d9cd01e861f7037463dc8f9a77c4\n",
      "\n",
      "matplotlib       : 3.3.4\n",
      "dipy             : 1.3.0\n",
      "pandas           : 1.2.3\n",
      "torchvision      : 0.2.2\n",
      "sys              : 3.8.8 (default, Feb 24 2021, 21:46:12) \n",
      "[GCC 7.3.0]\n",
      "pytorch_lightning: 1.2.3\n",
      "nibabel          : 3.2.1\n",
      "seaborn          : 0.11.1\n",
      "torchio          : 0.18.29\n",
      "torch            : 1.8.0\n",
      "nilearn          : 0.7.1\n",
      "numpy            : 1.20.1\n",
      "natsort          : 7.1.1\n",
      "skimage          : 0.18.1\n",
      "\n",
      "CUDA Version:  11.1\n"
     ]
    }
   ],
   "source": [
    "# Watermark\n",
    "%load_ext watermark\n",
    "%watermark --author \"Tyler Spears\" --updated --iso8601  --python --machine --iversions --githash\n",
    "print(\"CUDA Version: \", torch.version.cuda)"
   ]
  },
  {
   "cell_type": "markdown",
   "metadata": {},
   "source": [
    "## Variables & Definitions Setup"
   ]
  },
  {
   "cell_type": "code",
   "execution_count": 6,
   "metadata": {
    "execution": {
     "iopub.execute_input": "2021-03-19T16:23:01.324793Z",
     "iopub.status.busy": "2021-03-19T16:23:01.324634Z",
     "iopub.status.idle": "2021-03-19T16:23:01.328154Z",
     "shell.execute_reply": "2021-03-19T16:23:01.327610Z",
     "shell.execute_reply.started": "2021-03-19T16:23:01.324775Z"
    }
   },
   "outputs": [],
   "source": [
    "# Set up directories\n",
    "data_dir = pathlib.Path(os.environ['DATA_DIR']) / \"hcp\"\n",
    "assert data_dir.exists()\n",
    "write_data_dir = pathlib.Path(os.environ['WRITE_DATA_DIR']) / \"hcp\"\n",
    "assert write_data_dir.exists()\n",
    "results_dir = pathlib.Path(os.environ['RESULTS_DIR'])\n",
    "assert results_dir.exists()"
   ]
  },
  {
   "cell_type": "markdown",
   "metadata": {},
   "source": [
    "### Global Function & Class Definitions"
   ]
  },
  {
   "cell_type": "code",
   "execution_count": null,
   "metadata": {},
   "outputs": [],
   "source": []
  },
  {
   "cell_type": "markdown",
   "metadata": {},
   "source": [
    "### Global Parameters"
   ]
  },
  {
   "cell_type": "code",
   "execution_count": 7,
   "metadata": {
    "execution": {
     "iopub.execute_input": "2021-03-19T16:23:03.097594Z",
     "iopub.status.busy": "2021-03-19T16:23:03.097440Z",
     "iopub.status.idle": "2021-03-19T16:23:03.099983Z",
     "shell.execute_reply": "2021-03-19T16:23:03.099593Z",
     "shell.execute_reply.started": "2021-03-19T16:23:03.097577Z"
    }
   },
   "outputs": [],
   "source": [
    "bvals_range = (900, 1100)"
   ]
  },
  {
   "cell_type": "markdown",
   "metadata": {},
   "source": [
    "## Data Loading"
   ]
  },
  {
   "cell_type": "code",
   "execution_count": 8,
   "metadata": {
    "execution": {
     "iopub.execute_input": "2021-03-19T16:23:32.747074Z",
     "iopub.status.busy": "2021-03-19T16:23:32.746925Z",
     "iopub.status.idle": "2021-03-19T16:23:33.156233Z",
     "shell.execute_reply": "2021-03-19T16:23:33.155678Z",
     "shell.execute_reply.started": "2021-03-19T16:23:32.747058Z"
    }
   },
   "outputs": [
    {
     "name": "stderr",
     "output_type": "stream",
     "text": [
      "<ipython-input-8-3e87d4eba9f6>:26: UserWarning: WARNING: Sub-selecting participants for dev and debugging. Subj IDs selected: ['894774', '644246', '751348', '397154', '156637']\n",
      "  warnings.warn(\n"
     ]
    },
    {
     "data": {
      "text/plain": [
       "{156637: PosixPath('/srv/data/pitn/hcp/156637/T1w/Diffusion'),\n",
       " 397154: PosixPath('/srv/data/pitn/hcp/397154/T1w/Diffusion'),\n",
       " 644246: PosixPath('/srv/data/pitn/hcp/644246/T1w/Diffusion'),\n",
       " 751348: PosixPath('/srv/data/pitn/hcp/751348/T1w/Diffusion'),\n",
       " 894774: PosixPath('/srv/data/pitn/hcp/894774/T1w/Diffusion')}"
      ]
     },
     "execution_count": 8,
     "metadata": {},
     "output_type": "execute_result"
    }
   ],
   "source": [
    "# Find data directories for each subject.\n",
    "subj_dirs: dict = dict()\n",
    "\n",
    "\n",
    "selected_ids = [\n",
    "    '397154',\n",
    "    '224022',\n",
    "    '140117',\n",
    "    '751348',\n",
    "    '894774',\n",
    "    '156637',\n",
    "    '227432',\n",
    "    '303624',\n",
    "    '185947',\n",
    "    '810439',\n",
    "    '753251',\n",
    "    '644246',\n",
    "    '141422',\n",
    "    '135528',\n",
    "    '103010',\n",
    "    '700634',\n",
    "]\n",
    "\n",
    "## Sub-set the chosen participants for dev and debugging!\n",
    "selected_ids = random.sample(selected_ids, 6)\n",
    "warnings.warn(\n",
    "    \"WARNING: Sub-selecting participants for dev and debugging. \"\n",
    "    + f\"Subj IDs selected: {selected_ids}\"\n",
    ")\n",
    "##\n",
    "\n",
    "selected_ids = natsorted(list(map(lambda s: int(s), selected_ids)))\n",
    "\n",
    "for subj_id in selected_ids:\n",
    "    subj_dirs[subj_id] = data_dir / f\"{subj_id}/T1w/Diffusion\"\n",
    "    assert subj_dirs[subj_id].exists()\n",
    "subj_dirs"
   ]
  },
  {
   "cell_type": "markdown",
   "metadata": {},
   "source": [
    "The 90 scans are taken from the b=1000 s/mm^2 *only*. To find those, sub-select with the $500 < bvals < 1500$, or roughly thereabout. A b-val of $995$ or $1005$ still counts as a b=1000 (is this the direction encoding? Or maybe the difference is where the gradient comes in?)."
   ]
  },
  {
   "cell_type": "code",
   "execution_count": 9,
   "metadata": {
    "execution": {
     "iopub.execute_input": "2021-03-19T16:23:38.377500Z",
     "iopub.status.busy": "2021-03-19T16:23:38.377323Z",
     "iopub.status.idle": "2021-03-19T16:23:38.705126Z",
     "shell.execute_reply": "2021-03-19T16:23:38.704589Z",
     "shell.execute_reply.started": "2021-03-19T16:23:38.377477Z"
    }
   },
   "outputs": [],
   "source": [
    "# Import all image data into a sequence of `torchio.Subject` objects.\n",
    "subj_data: dict = dict()\n",
    "\n",
    "# For more clearly designating the return values of a reader function given to\n",
    "# the `torchio.Image` object.\n",
    "ReaderOutput = collections.namedtuple('ReaderOutput', ['dwi', 'affine'])\n",
    "def selection_reader(f_dwi, idx):\n",
    "    # A float32 is the smallest representation that doesn't lose data.\n",
    "    img = nib.load(f_dwi)\n",
    "    \n",
    "    # Load entire image into memory, then slice that full image.\n",
    "    # <https://nipy.org/nibabel/images_and_memory.html#saving-time-and-memory>\n",
    "    # Fancy indexing isn't supported, aka, anything besides a single integer index.\n",
    "    sliced_img = img.get_fdata()[..., idx]\n",
    "    affine = img.affine.copy()\n",
    "    # Hopefuly remove any refs to the full-size array.\n",
    "    del img\n",
    "    return ReaderOutput(\n",
    "        dwi=torch.from_numpy(sliced_img.astype(np.float32)),\n",
    "        affine=torch.from_numpy(affine.astype(np.float32))\n",
    "    )\n",
    "\n",
    "for subj_id, subj_dir in subj_dirs.items():\n",
    "    # Sub-select volumes with only bvals in a certain range (e.x. bvals ~= 1000 mm/s^2)\n",
    "    bvals = torch.as_tensor(np.loadtxt(subj_dir/\"bvals\").astype(int))\n",
    "    idx_to_keep = np.where((bvals >= bvals_range[0]) & (bvals <= bvals_range[1]))\n",
    "    bvals = bvals[idx_to_keep]\n",
    "    bvecs=torch.as_tensor(np.loadtxt(subj_dir/\"bvecs\"))[:, idx_to_keep]\n",
    "    # Create a custom reader function that will sub-set the full (~288 for HCP) data \n",
    "    # points down to only the selected bvals range.\n",
    "    # This will still be lazily loaded, while not requiring as much memory per subject.\n",
    "    partial_reader = functools.partial(selection_reader, idx=idx_to_keep)\n",
    "    dwi = torchio.ScalarImage(\n",
    "        subj_dir/\"data.nii.gz\",\n",
    "        bvals=bvals,\n",
    "        bvecs=bvecs,\n",
    "        reader=partial_reader\n",
    "    )\n",
    "    grad = torchio.ScalarImage(subj_dir/\"grad_dev.nii.gz\")\n",
    "    brain_mask = torchio.LabelMap(subj_dir/\"nodif_brain_mask.nii.gz\", type=torchio.LABEL)\n",
    "    # The brain mask is binary.\n",
    "    \n",
    "    brain_mask.set_data(brain_mask.data.bool())\n",
    "    subject_dict = torchio.Subject(\n",
    "        subj_id=subj_id,\n",
    "        dwi=dwi,\n",
    "        grad=grad,\n",
    "        brain_mask=brain_mask\n",
    "    )\n",
    "    subj_data[subj_id] = subject_dict\n"
   ]
  },
  {
   "cell_type": "code",
   "execution_count": 44,
   "metadata": {
    "execution": {
     "iopub.execute_input": "2021-03-22T19:48:07.274696Z",
     "iopub.status.busy": "2021-03-22T19:48:07.274544Z",
     "iopub.status.idle": "2021-03-22T19:48:07.282675Z",
     "shell.execute_reply": "2021-03-22T19:48:07.282228Z",
     "shell.execute_reply.started": "2021-03-22T19:48:07.274680Z"
    }
   },
   "outputs": [],
   "source": [
    "subj_dataset = torchio.SubjectsDataset(list(subj_data.values()), load_getitem=False)"
   ]
  },
  {
   "cell_type": "markdown",
   "metadata": {},
   "source": [
    "## Model Training"
   ]
  },
  {
   "cell_type": "code",
   "execution_count": 73,
   "metadata": {
    "execution": {
     "iopub.execute_input": "2021-03-22T20:47:15.782766Z",
     "iopub.status.busy": "2021-03-22T20:47:15.782540Z",
     "iopub.status.idle": "2021-03-22T20:47:15.787838Z",
     "shell.execute_reply": "2021-03-22T20:47:15.787222Z",
     "shell.execute_reply.started": "2021-03-22T20:47:15.782744Z"
    }
   },
   "outputs": [],
   "source": [
    "# Patch parameters\n",
    "downsample_factor = 2\n",
    "batch_size = 12\n",
    "# 6 channels for the 6 DTI components\n",
    "channels = 6\n",
    "\n",
    "# Input patch parameters\n",
    "h_in = 11\n",
    "w_in = 11\n",
    "d_in = 11\n",
    "input_patch_shape = (channels, h_in, w_in, d_in)\n",
    "# Output patch parameters\n",
    "h_out = downsample_factor * h_in\n",
    "w_out = downsample_factor * w_in\n",
    "d_out = downsample_factor * d_in\n",
    "unshuffled_channels_out = channels * downsample_factor**3\n",
    "# Output before shuffling\n",
    "unshuffled_output_patch_shape = (unshuffled_channels_out, h_in, w_in, d_in)\n",
    "# Output shape after shuffling.\n",
    "output_patch_shape = (channels, h_out, w_out, d_out)"
   ]
  },
  {
   "cell_type": "markdown",
   "metadata": {},
   "source": [
    "### Model Definition"
   ]
  },
  {
   "cell_type": "code",
   "execution_count": 35,
   "metadata": {
    "execution": {
     "iopub.execute_input": "2021-03-22T19:40:28.796994Z",
     "iopub.status.busy": "2021-03-22T19:40:28.796822Z",
     "iopub.status.idle": "2021-03-22T19:40:28.810990Z",
     "shell.execute_reply": "2021-03-22T19:40:28.810572Z",
     "shell.execute_reply.started": "2021-03-22T19:40:28.796977Z"
    }
   },
   "outputs": [],
   "source": [
    "# Define pytorch-lightning module.\n",
    "class DIQTSystem(pl.LightningModule):\n",
    "\n",
    "    def __init__(self, channels_in, channels_out):\n",
    "        super().__init__()\n",
    "\n",
    "        self.channels_in = channels_in\n",
    "        self.channels_out = channels_out\n",
    "        # Parameters\n",
    "        # Network parameters\n",
    "        self.num_revnet_layers = 4\n",
    "        self.net = pitn.models.ESPCN_RN(\n",
    "            no_RevNet_layers=self.num_revnet_layers,\n",
    "            no_chans_in=self.channels_in,\n",
    "            no_chans_out=self.channels_out,\n",
    "            memory_efficient=True\n",
    "        )\n",
    "\n",
    "        ## Training parameters\n",
    "        self.max_epochs = 100\n",
    "        self.lr = 10e-4\n",
    "        self.loss = torch.nn.MSELoss(reduction='mean')\n",
    "\n",
    "    def forward(self, x):\n",
    "        y = self.net(x)\n",
    "        return y\n",
    "    \n",
    "    def training_step(self, batch, batch_idx):\n",
    "        pass\n",
    "\n",
    "    def validation_step(self, batch, batch_idx):\n",
    "        pass\n",
    "\n",
    "    def test_step(self, batch, batch_idx):\n",
    "        pass\n",
    "\n",
    "    def configure_optimizers(self):\n",
    "        optimizer = torch.optim.Adam(self.net.parameters(), lr=self.lr)\n",
    "        return optimizer"
   ]
  },
  {
   "cell_type": "markdown",
   "metadata": {},
   "source": [
    "### Set Up Patch-Based Data Loaders"
   ]
  },
  {
   "cell_type": "code",
   "execution_count": 74,
   "metadata": {
    "execution": {
     "iopub.execute_input": "2021-03-22T20:47:19.145815Z",
     "iopub.status.busy": "2021-03-22T20:47:19.145652Z",
     "iopub.status.idle": "2021-03-22T20:47:19.165512Z",
     "shell.execute_reply": "2021-03-22T20:47:19.164811Z",
     "shell.execute_reply.started": "2021-03-22T20:47:19.145799Z"
    }
   },
   "outputs": [
    {
     "name": "stdout",
     "output_type": "stream",
     "text": [
      "Test subject(s) IDs:  [644246]\n",
      "Training subject(s) IDs:  [894774, 751348, 397154, 156637]\n"
     ]
    }
   ],
   "source": [
    "# Data train/validation/test split\n",
    "test_percent = 0.2\n",
    "train_percent = 1 - test_percent\n",
    "val_percent = 0.1\n",
    "\n",
    "num_subjs = len(subj_dataset)\n",
    "num_test_subjs = int(np.ceil(num_subjs * test_percent))\n",
    "num_train_subjs = num_subjs - num_test_subjs\n",
    "subj_list = subj_dataset.dry_iter()\n",
    "# Randomly shuffle the list of subjects, then choose the first `num_test_subjs` subjects\n",
    "# for testing.\n",
    "random.shuffle(subj_list)\n",
    "test_dataset = torchio.SubjectsDataset(subj_list[:num_test_subjs], load_getitem=False)\n",
    "# Choose the remaining for training/validation.\n",
    "subj_list = subj_list[num_test_subjs:]\n",
    "train_dataset = torchio.SubjectsDataset(subj_list, load_getitem=False)\n",
    "\n",
    "# Training patch sampler, random across all patches of all volumes.\n",
    "train_sampler = torchio.LabelSampler((h_in, w_in, d_in), 'brain_mask', {0: 0, 1:1})\n",
    "train_loader = torch.utils.data.DataLoader(\n",
    "    train_dataset,\n",
    "    batch_size=batch_size,\n",
    "    sampler=train_sampler,\n",
    "    num_workers=4,\n",
    "    pin_memory=True\n",
    ")\n",
    "# Test samplers must be dynamically created during testing.\n",
    "\n",
    "print(\"Test subject(s) IDs: \", [s.subj_id for s in test_dataset.dry_iter()])\n",
    "print(\"Training subject(s) IDs: \", [s.subj_id for s in train_dataset.dry_iter()])"
   ]
  },
  {
   "cell_type": "markdown",
   "metadata": {},
   "source": [
    "### Training"
   ]
  },
  {
   "cell_type": "code",
   "execution_count": null,
   "metadata": {},
   "outputs": [],
   "source": [
    "model = DIQTSystem(channels_in=channels, channels_out=unshuffled_channels_out)\n",
    "trainer = pl.Trainer(gpus=1, progress_bar_refresh_rate=10)\n",
    "trainer.fit(model, train_loader)"
   ]
  },
  {
   "cell_type": "markdown",
   "metadata": {},
   "source": [
    "## Model Evaluation"
   ]
  },
  {
   "cell_type": "markdown",
   "metadata": {},
   "source": [
    "### Testing"
   ]
  },
  {
   "cell_type": "code",
   "execution_count": null,
   "metadata": {},
   "outputs": [],
   "source": []
  },
  {
   "cell_type": "markdown",
   "metadata": {},
   "source": [
    "### Visualization"
   ]
  },
  {
   "cell_type": "code",
   "execution_count": null,
   "metadata": {},
   "outputs": [],
   "source": []
  }
 ],
 "metadata": {
  "kernelspec": {
   "display_name": "Python [conda env:pitn]",
   "language": "python",
   "name": "conda-env-pitn-py"
  },
  "language_info": {
   "codemirror_mode": {
    "name": "ipython",
    "version": 3
   },
   "file_extension": ".py",
   "mimetype": "text/x-python",
   "name": "python",
   "nbconvert_exporter": "python",
   "pygments_lexer": "ipython3",
   "version": "3.8.8"
  },
  "toc-autonumbering": true,
  "toc-showcode": false,
  "toc-showmarkdowntxt": false,
  "toc-showtags": false
 },
 "nbformat": 4,
 "nbformat_minor": 4
}
