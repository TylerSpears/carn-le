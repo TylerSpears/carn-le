{
 "cells": [
  {
   "cell_type": "markdown",
   "metadata": {
    "heading_collapsed": "true",
    "tags": []
   },
   "source": [
    "# Pain in the Net\n",
    "Replication of *Deeper Image Quality Transfer: Training Low-Memory Neural Networks for 3D Images*\n",
    "\n",
    "\n",
    "Code by:\n",
    "\n",
    "Tyler Spears - tas6hh@virginia.edu\n",
    "\n",
    "Dr. Tom Fletcher\n",
    "\n",
    "---\n",
    "\n",
    "Source work:\n",
    "`S. B. Blumberg, R. Tanno, I. Kokkinos, and D. C. Alexander, “Deeper Image Quality Transfer: Training Low-Memory Neural Networks for 3D Images,” in Medical Image Computing and Computer Assisted Intervention – MICCAI 2018, Cham, 2018, pp. 118–125, doi: 10.1007/978-3-030-00928-1_14.`\n"
   ]
  },
  {
   "cell_type": "markdown",
   "metadata": {
    "tags": []
   },
   "source": [
    "# Imports & Environment Setup"
   ]
  },
  {
   "cell_type": "markdown",
   "metadata": {},
   "source": [
    "## Imports"
   ]
  },
  {
   "cell_type": "code",
   "execution_count": 1,
   "metadata": {
    "execution": {
     "iopub.execute_input": "2021-05-24T21:19:37.696357Z",
     "iopub.status.busy": "2021-05-24T21:19:37.695804Z",
     "iopub.status.idle": "2021-05-24T21:19:41.074847Z",
     "shell.execute_reply": "2021-05-24T21:19:41.074117Z",
     "shell.execute_reply.started": "2021-05-24T21:19:37.696294Z"
    },
    "tags": []
   },
   "outputs": [
    {
     "name": "stderr",
     "output_type": "stream",
     "text": [
      "/opt/miniconda/envs/pitn/lib/python3.8/site-packages/nilearn/datasets/__init__.py:87: FutureWarning:\n",
      "\n",
      "Fetchers from the nilearn.datasets module will be updated in version 0.9 to return python strings instead of bytes and Pandas dataframes instead of Numpy arrays.\n",
      "\n"
     ]
    }
   ],
   "source": [
    "# Automatically re-import project-specific modules.\n",
    "%load_ext autoreload\n",
    "%autoreload 1\n",
    "\n",
    "# imports\n",
    "import collections\n",
    "import dataclasses\n",
    "from dataclasses import dataclass\n",
    "import functools\n",
    "import io\n",
    "import datetime\n",
    "import time\n",
    "import math\n",
    "import itertools\n",
    "import os\n",
    "import shutil\n",
    "import pathlib\n",
    "import copy\n",
    "import pdb\n",
    "import inspect\n",
    "import random\n",
    "import subprocess\n",
    "import sys\n",
    "import warnings\n",
    "from pathlib import Path\n",
    "import typing\n",
    "from typing import Generator\n",
    "\n",
    "import ants\n",
    "import dipy\n",
    "import dipy.core\n",
    "import dipy.reconst\n",
    "import dipy.reconst.dti\n",
    "import dipy.segment.mask\n",
    "import dotenv\n",
    "\n",
    "# visualization libraries\n",
    "%matplotlib inline\n",
    "import matplotlib as mpl\n",
    "import matplotlib.pyplot as plt\n",
    "import seaborn as sns\n",
    "\n",
    "import IPython\n",
    "\n",
    "# Try importing GPUtil for printing GPU specs.\n",
    "# May not be installed if using CPU only.\n",
    "try:\n",
    "    import GPUtil\n",
    "except ImportError:\n",
    "    warnings.warn(\"WARNING: Package GPUtil not found, cannot print GPU specs\")\n",
    "from tabulate import tabulate\n",
    "from IPython.display import display, Markdown\n",
    "\n",
    "# Data management libraries.\n",
    "import nibabel as nib\n",
    "import nilearn\n",
    "import nilearn.plotting\n",
    "import natsort\n",
    "from natsort import natsorted\n",
    "import addict\n",
    "from addict import Addict\n",
    "import pprint\n",
    "from pprint import pprint as ppr\n",
    "\n",
    "# Computation & ML libraries.\n",
    "import numpy as np\n",
    "import pandas as pd\n",
    "import torch\n",
    "import torch.nn.functional as F\n",
    "import torchvision\n",
    "import torchio\n",
    "import pytorch_lightning as pl\n",
    "\n",
    "import skimage\n",
    "import skimage.feature\n",
    "import skimage.filters\n",
    "import skimage.measure\n",
    "import scipy\n",
    "import einops\n",
    "import einops.layers\n",
    "import einops.layers.torch\n",
    "\n",
    "plt.rcParams.update({\"figure.autolayout\": True})\n",
    "plt.rcParams.update({\"figure.facecolor\": [1.0, 1.0, 1.0, 1.0]})\n",
    "\n",
    "# Set print options for ndarrays/tensors.\n",
    "np.set_printoptions(suppress=True, threshold=100, linewidth=88)\n",
    "torch.set_printoptions(sci_mode=False, threshold=100, linewidth=88)"
   ]
  },
  {
   "cell_type": "code",
   "execution_count": 2,
   "metadata": {
    "execution": {
     "iopub.execute_input": "2021-05-24T21:19:41.076030Z",
     "iopub.status.busy": "2021-05-24T21:19:41.075864Z",
     "iopub.status.idle": "2021-05-24T21:19:42.546622Z",
     "shell.execute_reply": "2021-05-24T21:19:42.545919Z",
     "shell.execute_reply.started": "2021-05-24T21:19:41.076011Z"
    },
    "tags": []
   },
   "outputs": [],
   "source": [
    "# Update notebook's environment variables with direnv.\n",
    "# This requires the python-dotenv package, and direnv be installed on the system\n",
    "# This will not work on Windows.\n",
    "# NOTE: This is kind of hacky, and not necessarily safe. Be careful...\n",
    "# Libraries needed on the python side:\n",
    "# - os\n",
    "# - subprocess\n",
    "# - io\n",
    "# - dotenv\n",
    "\n",
    "# Form command to be run in direnv's context. This command will print out\n",
    "# all environment variables defined in the subprocess/sub-shell.\n",
    "command = \"direnv exec {} /usr/bin/env\".format(os.getcwd())\n",
    "# Run command in a new subprocess.\n",
    "proc = subprocess.Popen(command, stdout=subprocess.PIPE, shell=True, cwd=os.getcwd())\n",
    "# Store and format the subprocess' output.\n",
    "proc_out = proc.communicate()[0].strip().decode(\"utf-8\")\n",
    "# Use python-dotenv to load the environment variables by using the output of\n",
    "# 'direnv exec ...' as a 'dummy' .env file.\n",
    "dotenv.load_dotenv(stream=io.StringIO(proc_out), override=True);"
   ]
  },
  {
   "cell_type": "code",
   "execution_count": 3,
   "metadata": {
    "execution": {
     "iopub.execute_input": "2021-05-24T21:19:42.553270Z",
     "iopub.status.busy": "2021-05-24T21:19:42.553113Z",
     "iopub.status.idle": "2021-05-24T21:19:42.564666Z",
     "shell.execute_reply": "2021-05-24T21:19:42.564056Z",
     "shell.execute_reply.started": "2021-05-24T21:19:42.553251Z"
    },
    "tags": []
   },
   "outputs": [],
   "source": [
    "# Project-specific scripts\n",
    "# It's easier to import it this way rather than make an entirely new package, due to\n",
    "# conflicts with local packages and anaconda installations.\n",
    "# You made me do this, poor python package management!!\n",
    "if \"PROJECT_ROOT\" in os.environ:\n",
    "    lib_location = str(Path(os.environ[\"PROJECT_ROOT\"]).resolve())\n",
    "else:\n",
    "    lib_location = str(Path(\"../../\").resolve())\n",
    "if lib_location not in sys.path:\n",
    "    sys.path.insert(0, lib_location)\n",
    "import lib as pitn\n",
    "\n",
    "# Include the top-level lib module along with its submodules.\n",
    "%aimport lib\n",
    "# Grab all submodules of lib, not including modules outside of the package.\n",
    "includes = list(\n",
    "    filter(\n",
    "        lambda m: m.startswith(\"lib.\"),\n",
    "        map(lambda x: x[1].__name__, inspect.getmembers(pitn, inspect.ismodule)),\n",
    "    )\n",
    ")\n",
    "# Run aimport magic with constructed includes.\n",
    "ipy = IPython.get_ipython()\n",
    "ipy.run_line_magic(\"aimport\", \", \".join(includes))"
   ]
  },
  {
   "cell_type": "code",
   "execution_count": 4,
   "metadata": {
    "execution": {
     "iopub.execute_input": "2021-05-24T21:19:42.571544Z",
     "iopub.status.busy": "2021-05-24T21:19:42.571390Z",
     "iopub.status.idle": "2021-05-24T21:19:42.620148Z",
     "shell.execute_reply": "2021-05-24T21:19:42.619479Z",
     "shell.execute_reply.started": "2021-05-24T21:19:42.571526Z"
    },
    "tags": []
   },
   "outputs": [
    {
     "name": "stdout",
     "output_type": "stream",
     "text": [
      "cuda\n"
     ]
    }
   ],
   "source": [
    "# torch setup\n",
    "# allow for CUDA usage, if available\n",
    "if torch.cuda.is_available():\n",
    "    device = torch.device(\"cuda\")\n",
    "else:\n",
    "    device = torch.device(\"cpu\")\n",
    "# keep device as the cpu\n",
    "# device = torch.device('cpu')\n",
    "print(device)"
   ]
  },
  {
   "cell_type": "markdown",
   "metadata": {
    "tags": []
   },
   "source": [
    "## Specs Recording"
   ]
  },
  {
   "cell_type": "code",
   "execution_count": 5,
   "metadata": {
    "execution": {
     "iopub.execute_input": "2021-05-24T21:19:42.621273Z",
     "iopub.status.busy": "2021-05-24T21:19:42.621102Z",
     "iopub.status.idle": "2021-05-24T21:19:42.863727Z",
     "shell.execute_reply": "2021-05-24T21:19:42.862570Z",
     "shell.execute_reply.started": "2021-05-24T21:19:42.621252Z"
    },
    "tags": []
   },
   "outputs": [],
   "source": [
    "%%capture --no-stderr cap\n",
    "# Capture output and save to log. Needs to be at the *very first* line of the cell.\n",
    "# Watermark\n",
    "%load_ext watermark\n",
    "%watermark --author \"Tyler Spears\" --updated --iso8601  --python --machine --iversions --githash\n",
    "if torch.cuda.is_available():\n",
    "\n",
    "    # GPU information\n",
    "    # Taken from\n",
    "    # <https://www.thepythoncode.com/article/get-hardware-system-information-python>.\n",
    "    # If GPUtil is not installed, skip this step.\n",
    "    try:\n",
    "        gpus = GPUtil.getGPUs()\n",
    "        print(\"=\" * 50, \"GPU Specs\", \"=\" * 50)\n",
    "        list_gpus = []\n",
    "        for gpu in gpus:\n",
    "            # get the GPU id\n",
    "            gpu_id = gpu.id\n",
    "            # name of GPU\n",
    "            gpu_name = gpu.name\n",
    "            driver_version = gpu.driver\n",
    "            cuda_version = torch.version.cuda\n",
    "            # get total memory\n",
    "            gpu_total_memory = f\"{gpu.memoryTotal}MB\"\n",
    "            gpu_uuid = gpu.uuid\n",
    "            list_gpus.append(\n",
    "                (\n",
    "                    gpu_id,\n",
    "                    gpu_name,\n",
    "                    driver_version,\n",
    "                    cuda_version,\n",
    "                    gpu_total_memory,\n",
    "                    gpu_uuid,\n",
    "                )\n",
    "            )\n",
    "\n",
    "        print(\n",
    "            tabulate(\n",
    "                list_gpus,\n",
    "                headers=(\n",
    "                    \"id\",\n",
    "                    \"Name\",\n",
    "                    \"Driver Version\",\n",
    "                    \"CUDA Version\",\n",
    "                    \"Total Memory\",\n",
    "                    \"uuid\",\n",
    "                ),\n",
    "            )\n",
    "        )\n",
    "    except NameError:\n",
    "        print(\"CUDA Version: \", torch.version.cuda)\n",
    "\n",
    "else:\n",
    "    print(\"CUDA not in use, falling back to CPU\")"
   ]
  },
  {
   "cell_type": "code",
   "execution_count": 6,
   "metadata": {
    "execution": {
     "iopub.execute_input": "2021-05-24T21:19:42.865589Z",
     "iopub.status.busy": "2021-05-24T21:19:42.865297Z",
     "iopub.status.idle": "2021-05-24T21:19:42.869502Z",
     "shell.execute_reply": "2021-05-24T21:19:42.868990Z",
     "shell.execute_reply.started": "2021-05-24T21:19:42.865552Z"
    },
    "tags": []
   },
   "outputs": [
    {
     "name": "stdout",
     "output_type": "stream",
     "text": [
      "Author: Tyler Spears\n",
      "\n",
      "Last updated: 2021-05-24T21:19:42.635833+00:00\n",
      "\n",
      "Python implementation: CPython\n",
      "Python version       : 3.8.8\n",
      "IPython version      : 7.22.0\n",
      "\n",
      "Compiler    : GCC 7.3.0\n",
      "OS          : Linux\n",
      "Release     : 5.4.0-72-generic\n",
      "Machine     : x86_64\n",
      "Processor   : x86_64\n",
      "CPU cores   : 8\n",
      "Architecture: 64bit\n",
      "\n",
      "Git hash: a2b50181b9ffcf98c7a835a7ae2cf1293e4ea738\n",
      "\n",
      "numpy            : 1.20.2\n",
      "einops           : 0.3.0\n",
      "ipywidgets       : 7.6.3\n",
      "addict           : 2.4.0\n",
      "ants             : 0.2.7\n",
      "torchvision      : 0.9.1\n",
      "sys              : 3.8.8 (default, Feb 24 2021, 21:46:12) \n",
      "[GCC 7.3.0]\n",
      "nibabel          : 3.2.1\n",
      "nilearn          : 0.7.1\n",
      "pytorch_lightning: 1.3.2\n",
      "IPython          : 7.22.0\n",
      "skimage          : 0.18.1\n",
      "matplotlib       : 3.4.1\n",
      "json             : 2.0.9\n",
      "pandas           : 1.2.3\n",
      "torch            : 1.8.1\n",
      "seaborn          : 0.11.1\n",
      "natsort          : 7.1.1\n",
      "GPUtil           : 1.4.0\n",
      "scipy            : 1.5.3\n",
      "dipy             : 1.4.0\n",
      "torchio          : 0.18.37\n",
      "\n",
      "================================================== GPU Specs ==================================================\n",
      "  id  Name       Driver Version      CUDA Version  Total Memory    uuid\n",
      "----  ---------  ----------------  --------------  --------------  ----------------------------------------\n",
      "   0  TITAN RTX  460.73.01                   11.1  24217.0MB       GPU-586d2016-71ef-ebb3-437b-6721a22191ec\n",
      "\n"
     ]
    }
   ],
   "source": [
    "# cap is defined in an ipython magic command\n",
    "print(cap)"
   ]
  },
  {
   "cell_type": "markdown",
   "metadata": {
    "tags": []
   },
   "source": [
    "## Data Variables & Definitions Setup"
   ]
  },
  {
   "cell_type": "code",
   "execution_count": 7,
   "metadata": {
    "execution": {
     "iopub.execute_input": "2021-05-24T21:19:42.873200Z",
     "iopub.status.busy": "2021-05-24T21:19:42.872933Z",
     "iopub.status.idle": "2021-05-24T21:19:42.879870Z",
     "shell.execute_reply": "2021-05-24T21:19:42.878983Z",
     "shell.execute_reply.started": "2021-05-24T21:19:42.873168Z"
    },
    "tags": []
   },
   "outputs": [],
   "source": [
    "# Set up directories\n",
    "data_dir = pathlib.Path(os.environ[\"DATA_DIR\"]) / \"hcp\"\n",
    "assert data_dir.exists()\n",
    "write_data_dir = pathlib.Path(os.environ[\"WRITE_DATA_DIR\"]) / \"hcp\"\n",
    "assert write_data_dir.exists()\n",
    "results_dir = pathlib.Path(os.environ[\"RESULTS_DIR\"])\n",
    "assert results_dir.exists()"
   ]
  },
  {
   "cell_type": "markdown",
   "metadata": {},
   "source": [
    "## Experiment Logging Setup"
   ]
  },
  {
   "cell_type": "code",
   "execution_count": 8,
   "metadata": {
    "execution": {
     "iopub.execute_input": "2021-05-24T21:19:42.889519Z",
     "iopub.status.busy": "2021-05-24T21:19:42.889369Z",
     "iopub.status.idle": "2021-05-24T21:19:42.898003Z",
     "shell.execute_reply": "2021-05-24T21:19:42.897346Z",
     "shell.execute_reply.started": "2021-05-24T21:19:42.889501Z"
    },
    "tags": []
   },
   "outputs": [
    {
     "name": "stdout",
     "output_type": "stream",
     "text": [
      "More than 3 temporary results, culling to the most recent\n",
      "Deleted temporary results directory  /home/jovyan/work/pitn/results/tmp/2021-05-20T16_21_43__debug_norm\n"
     ]
    }
   ],
   "source": [
    "# tensorboard experiment logging setup.\n",
    "EXPERIMENT_NAME = \"dev_tb\"\n",
    "\n",
    "ts = datetime.datetime.now().replace(microsecond=0).isoformat()\n",
    "# Break ISO format because many programs don't like having colons ':' in a filename.\n",
    "ts = ts.replace(\":\", \"_\")\n",
    "experiment_name = ts + \"__\" + EXPERIMENT_NAME\n",
    "run_name = experiment_name\n",
    "# experiment_results_dir = results_dir / experiment_name\n",
    "\n",
    "# Create temporary directory for results directory, in case experiment does not finish.\n",
    "tmp_results_dir = results_dir / \"tmp\"\n",
    "tmp_dirs = list(tmp_results_dir.glob(\"*\"))\n",
    "\n",
    "# Only keep up to N tmp results.\n",
    "n_tmp_to_keep = 3\n",
    "if len(tmp_dirs) > (n_tmp_to_keep - 1):\n",
    "    print(f\"More than {n_tmp_to_keep} temporary results, culling to the most recent\")\n",
    "    tmps_to_delete = natsorted([str(tmp_dir) for tmp_dir in tmp_dirs])[\n",
    "        : -(n_tmp_to_keep - 1)\n",
    "    ]\n",
    "    for tmp_dir in tmps_to_delete:\n",
    "        shutil.rmtree(tmp_dir)\n",
    "        print(\"Deleted temporary results directory \", tmp_dir)\n",
    "\n",
    "experiment_results_dir = tmp_results_dir / experiment_name\n",
    "# Final target directory, to be made when experiment is complete.\n",
    "final_experiment_results_dir = results_dir / experiment_name"
   ]
  },
  {
   "cell_type": "code",
   "execution_count": 9,
   "metadata": {
    "execution": {
     "iopub.execute_input": "2021-05-24T21:19:42.907297Z",
     "iopub.status.busy": "2021-05-24T21:19:42.907140Z",
     "iopub.status.idle": "2021-05-24T21:19:42.914224Z",
     "shell.execute_reply": "2021-05-24T21:19:42.913705Z",
     "shell.execute_reply.started": "2021-05-24T21:19:42.907278Z"
    },
    "tags": []
   },
   "outputs": [],
   "source": [
    "# Pass this object into the pytorchlightning Trainer object, for easier logging within\n",
    "# the training/testing loops.\n",
    "pl_logger = pl.loggers.TensorBoardLogger(\n",
    "    tmp_results_dir, name=experiment_name, version=\"\", log_graph=False\n",
    ")\n",
    "# Use the lower-level logger for logging histograms, images, etc.\n",
    "logger = pl_logger.experiment\n",
    "\n",
    "# Create a separate txt file to log streams of events & info besides parameters & results.\n",
    "log_txt_file = Path(logger.log_dir) / \"log.txt\"\n",
    "with open(log_txt_file, \"a+\") as f:\n",
    "    f.write(f\"Experiment Name: {experiment_name}\\n\")\n",
    "    f.write(f\"Timestamp: {ts}\\n\")\n",
    "    # cap is defined in an ipython magic command\n",
    "    f.write(f\"Environment and Hardware Info:\\n {cap}\\n\\n\")"
   ]
  },
  {
   "cell_type": "code",
   "execution_count": 10,
   "metadata": {
    "execution": {
     "iopub.execute_input": "2021-05-24T21:19:42.923280Z",
     "iopub.status.busy": "2021-05-24T21:19:42.923116Z",
     "iopub.status.idle": "2021-05-24T21:19:42.926875Z",
     "shell.execute_reply": "2021-05-24T21:19:42.926290Z",
     "shell.execute_reply.started": "2021-05-24T21:19:42.923260Z"
    },
    "tags": []
   },
   "outputs": [],
   "source": [
    "# # Experiment logging setup\n",
    "# EXPERIMENT_NAME = \"debug_norm\"\n",
    "\n",
    "# ts = datetime.datetime.now().replace(microsecond=0).isoformat()\n",
    "# # Break ISO format because many programs don't like having colons ':' in a filename.\n",
    "# ts = ts.replace(\":\", \"_\")\n",
    "# experiment_name = ts + \"__\" + EXPERIMENT_NAME\n",
    "\n",
    "# # Create temporary directory for results directory, in case experiment does not finish.\n",
    "# tmp_results_dir = results_dir / \"tmp\"\n",
    "# tmp_dirs = list(tmp_results_dir.glob(\"*\"))\n",
    "\n",
    "# # Only keep up to N tmp results.\n",
    "# n_tmp_to_keep = 3\n",
    "# if len(tmp_dirs) > (n_tmp_to_keep - 1):\n",
    "#     print(f\"More than {n_tmp_to_keep} temporary results, culling to the most recent\")\n",
    "#     tmps_to_delete = natsorted([str(tmp_dir) for tmp_dir in tmp_dirs])[\n",
    "#         : -(n_tmp_to_keep - 1)\n",
    "#     ]\n",
    "#     for tmp_dir in tmps_to_delete:\n",
    "#         shutil.rmtree(tmp_dir)\n",
    "#         print(\"Deleted temporary results directory \", tmp_dir)\n",
    "\n",
    "# experiment_results_dir = tmp_results_dir / experiment_name\n",
    "# # Final target directory, to be made when experiment is complete.\n",
    "# final_experiment_results_dir = results_dir / experiment_name\n",
    "\n",
    "# (experiment_results_dir).mkdir(parents=True, exist_ok=True)\n",
    "# print(\n",
    "#     \"Experiment results directory: \",\n",
    "#     experiment_results_dir,\n",
    "# )\n",
    "# assert experiment_results_dir.exists()\n",
    "\n",
    "# experiment_results_log = experiment_results_dir / \"log.txt\"\n",
    "# with open(experiment_results_log, \"a+\") as f:\n",
    "#     f.write(f\"Experiment Name: {experiment_name}\\n\")\n",
    "#     f.write(f\"Timestamp: {ts}\\n\")\n",
    "#     # cap is defined in an ipython magic command\n",
    "#     f.write(f\"Environment and Hardware Info:\\n {cap}\\n\\n\")"
   ]
  },
  {
   "cell_type": "markdown",
   "metadata": {
    "tags": []
   },
   "source": [
    "# Parameters and Function Definitions"
   ]
  },
  {
   "cell_type": "markdown",
   "metadata": {
    "tags": []
   },
   "source": [
    "## Parameters"
   ]
  },
  {
   "cell_type": "code",
   "execution_count": 11,
   "metadata": {
    "execution": {
     "iopub.execute_input": "2021-05-24T21:19:42.927750Z",
     "iopub.status.busy": "2021-05-24T21:19:42.927601Z",
     "iopub.status.idle": "2021-05-24T21:19:42.931715Z",
     "shell.execute_reply": "2021-05-24T21:19:42.931166Z",
     "shell.execute_reply.started": "2021-05-24T21:19:42.927733Z"
    },
    "tags": []
   },
   "outputs": [],
   "source": [
    "# Dict to keep track of experiment configuration parameters. Will not be logged to\n",
    "# tensorboard.\n",
    "exp_params = Addict()\n",
    "# Dict to keep track of tensorboard hparams that we *specifically* want to compare\n",
    "# between runs.\n",
    "compare_hparams = Addict(hparam=Addict(), metric=Addict())"
   ]
  },
  {
   "cell_type": "code",
   "execution_count": 12,
   "metadata": {
    "execution": {
     "iopub.execute_input": "2021-05-24T21:19:42.932578Z",
     "iopub.status.busy": "2021-05-24T21:19:42.932429Z",
     "iopub.status.idle": "2021-05-24T21:19:42.936500Z",
     "shell.execute_reply": "2021-05-24T21:19:42.935828Z",
     "shell.execute_reply.started": "2021-05-24T21:19:42.932561Z"
    },
    "tags": []
   },
   "outputs": [],
   "source": [
    "downsample_factor = 2\n",
    "# Include b=0 shells and b=1000 shells for DTI fitting.\n",
    "bval_range = (0, 1500)\n",
    "dti_fit_method = \"WLS\"\n",
    "exp_params.update(\n",
    "    {\n",
    "        \"downsample_factor\": downsample_factor,\n",
    "        \"bval_range\": bval_range,\n",
    "        \"dti_fit_method\": dti_fit_method,\n",
    "    }\n",
    ")"
   ]
  },
  {
   "cell_type": "markdown",
   "metadata": {},
   "source": [
    "### Patch Parameters"
   ]
  },
  {
   "cell_type": "code",
   "execution_count": 13,
   "metadata": {
    "execution": {
     "iopub.execute_input": "2021-05-24T21:19:42.937537Z",
     "iopub.status.busy": "2021-05-24T21:19:42.937370Z",
     "iopub.status.idle": "2021-05-24T21:19:42.944575Z",
     "shell.execute_reply": "2021-05-24T21:19:42.943924Z",
     "shell.execute_reply.started": "2021-05-24T21:19:42.937517Z"
    },
    "tags": []
   },
   "outputs": [],
   "source": [
    "# Patch parameters\n",
    "batch_size = 32\n",
    "# 6 channels for the 6 DTI components\n",
    "channels = 6\n",
    "\n",
    "# Output patch shapes\n",
    "h_out = 14\n",
    "w_out = 14\n",
    "d_out = 14\n",
    "\n",
    "# This is the factor that determines how over-extended the input patch should be\n",
    "# relative to the size of the full-res patch.\n",
    "# $low_res_patch_dim = \\frac{full_res_patch_dim}{downsample_factor} \\times low_res_sample_extension$\n",
    "# A value of 1 indicates that the input patch dims will be exactly divided by the\n",
    "# downsample factor. A dilation > 1 increases the \"spatial extent\" of the input\n",
    "# patch, providing information outside of the target HR patch.\n",
    "low_res_sample_extension = 1.57\n",
    "\n",
    "# Output shape after shuffling.\n",
    "output_patch_shape = (channels, h_out, w_out, d_out)\n",
    "output_spatial_patch_shape = output_patch_shape[1:]\n",
    "\n",
    "# Input patch parameters\n",
    "h_in = round(h_out / (downsample_factor) * low_res_sample_extension)\n",
    "w_in = round(w_out / (downsample_factor) * low_res_sample_extension)\n",
    "d_in = round(d_out / (downsample_factor) * low_res_sample_extension)\n",
    "input_patch_shape = (channels, h_in, w_in, d_in)\n",
    "input_spatial_patch_shape = input_patch_shape[1:]\n",
    "\n",
    "# Pre-shuffle output patch sizes.\n",
    "unshuffled_channels_out = channels * downsample_factor ** 3\n",
    "# Output before shuffling\n",
    "unshuffled_output_patch_shape = (unshuffled_channels_out, h_in, w_in, d_in)\n",
    "\n",
    "# Patch size in FR-space when accounting for the low-res over-extension/over-sampling\n",
    "# factor.\n",
    "fr_extension_patch_size = tuple(\n",
    "    np.asarray(input_spatial_patch_shape) * downsample_factor\n",
    ")\n",
    "fr_extension_amount = tuple(\n",
    "    np.asarray(fr_extension_patch_size) - np.asarray(output_spatial_patch_shape)\n",
    ")"
   ]
  },
  {
   "cell_type": "code",
   "execution_count": 14,
   "metadata": {
    "execution": {
     "iopub.execute_input": "2021-05-24T21:19:42.945679Z",
     "iopub.status.busy": "2021-05-24T21:19:42.945394Z",
     "iopub.status.idle": "2021-05-24T21:19:42.949036Z",
     "shell.execute_reply": "2021-05-24T21:19:42.948518Z",
     "shell.execute_reply.started": "2021-05-24T21:19:42.945658Z"
    },
    "tags": []
   },
   "outputs": [],
   "source": [
    "exp_params.patch.update(\n",
    "    batch_size=batch_size,\n",
    "    channels=channels,\n",
    "    low_res_sample_extension=low_res_sample_extension,\n",
    "    input_shape=input_patch_shape,\n",
    "    output_shape=output_patch_shape,\n",
    ")"
   ]
  },
  {
   "cell_type": "code",
   "execution_count": 15,
   "metadata": {
    "execution": {
     "iopub.execute_input": "2021-05-24T21:19:42.949909Z",
     "iopub.status.busy": "2021-05-24T21:19:42.949752Z",
     "iopub.status.idle": "2021-05-24T21:19:42.953901Z",
     "shell.execute_reply": "2021-05-24T21:19:42.953310Z",
     "shell.execute_reply.started": "2021-05-24T21:19:42.949891Z"
    },
    "tags": []
   },
   "outputs": [],
   "source": [
    "# Data parameters.\n",
    "num_subject_samples = 4\n",
    "# Should the data be normalized as a pre-processing step?\n",
    "data_norm_method = \"channels\""
   ]
  },
  {
   "cell_type": "code",
   "execution_count": 16,
   "metadata": {
    "execution": {
     "iopub.execute_input": "2021-05-24T21:19:42.954847Z",
     "iopub.status.busy": "2021-05-24T21:19:42.954687Z",
     "iopub.status.idle": "2021-05-24T21:19:42.958452Z",
     "shell.execute_reply": "2021-05-24T21:19:42.957806Z",
     "shell.execute_reply.started": "2021-05-24T21:19:42.954828Z"
    },
    "tags": []
   },
   "outputs": [],
   "source": [
    "exp_params.data.update(\n",
    "    num_subject=num_subject_samples, data_norm_method=data_norm_method\n",
    ")\n",
    "\n",
    "compare_hparams.hparams.update(data_norm=data_norm_method)"
   ]
  },
  {
   "cell_type": "markdown",
   "metadata": {},
   "source": [
    "### Training and Testing Setup"
   ]
  },
  {
   "cell_type": "code",
   "execution_count": 17,
   "metadata": {
    "execution": {
     "iopub.execute_input": "2021-05-24T21:19:42.959455Z",
     "iopub.status.busy": "2021-05-24T21:19:42.959285Z",
     "iopub.status.idle": "2021-05-24T21:19:42.964011Z",
     "shell.execute_reply": "2021-05-24T21:19:42.963328Z",
     "shell.execute_reply.started": "2021-05-24T21:19:42.959434Z"
    },
    "tags": []
   },
   "outputs": [],
   "source": [
    "# Training/testing parameters.\n",
    "# Percentages will be rounded off to the nearest subject, with the test and validation\n",
    "# sizes rounded *up*, ensuring at least 1 subject in each.\n",
    "test_percent = 0.2\n",
    "val_percent = 0.1\n",
    "train_percent = 1 - (test_percent + val_percent)\n",
    "\n",
    "# NN parameters.\n",
    "max_epochs = 50\n",
    "network_norm_method = None\n",
    "train_loss_name = \"MSE\"\n",
    "\n",
    "# Optimization parameters.\n",
    "opt_name = \"Adam\"\n",
    "opt_params = {\"lr\": 10e-3, \"betas\": (0.9, 0.999)}\n",
    "\n",
    "# Spline interpolation baseline parameters.\n",
    "spline_interp_order = 3"
   ]
  },
  {
   "cell_type": "code",
   "execution_count": 18,
   "metadata": {
    "execution": {
     "iopub.execute_input": "2021-05-24T21:19:42.965051Z",
     "iopub.status.busy": "2021-05-24T21:19:42.964874Z",
     "iopub.status.idle": "2021-05-24T21:19:42.969106Z",
     "shell.execute_reply": "2021-05-24T21:19:42.968503Z",
     "shell.execute_reply.started": "2021-05-24T21:19:42.965030Z"
    },
    "tags": []
   },
   "outputs": [],
   "source": [
    "# Number of voxels to dilate the mask in FR space.\n",
    "# Dilate to allow the outer-most perimeter to be completely outside the brain, and no\n",
    "# more.\n",
    "dilation_size = math.ceil((max(fr_extension_patch_size) + 1) / 2)\n",
    "# 12 is too much, nearly doubles the volume of the brain mask. Lower it some more...\n",
    "dilation_size = dilation_size // 3\n",
    "# Even 4 is a chunky bit! Just make it 0.\n",
    "dilation_size = 0"
   ]
  },
  {
   "cell_type": "code",
   "execution_count": 19,
   "metadata": {
    "execution": {
     "iopub.execute_input": "2021-05-24T21:19:42.970150Z",
     "iopub.status.busy": "2021-05-24T21:19:42.969988Z",
     "iopub.status.idle": "2021-05-24T21:19:42.975768Z",
     "shell.execute_reply": "2021-05-24T21:19:42.975253Z",
     "shell.execute_reply.started": "2021-05-24T21:19:42.970131Z"
    },
    "tags": []
   },
   "outputs": [],
   "source": [
    "exp_params.update(test_percent=test_percent)\n",
    "exp_params.train.update(\n",
    "    train_percent=train_percent, max_epochs=max_epochs, train_loss_name=train_loss_name\n",
    ")\n",
    "exp_params.nn.update(network_norm_method=network_norm_method)\n",
    "exp_params.opt.update(opt_params)\n",
    "exp_params.opt.name = opt_name\n",
    "exp_params.spline.update(order=spline_interp_order)\n",
    "exp_params.preproc.update(dilation_size=dilation_size)\n",
    "\n",
    "# Save out hyper params that we want to compare between runs.\n",
    "compare_hparams.hparam.update(\n",
    "    network_norm_method=network_norm_method, train_loss=train_loss_name\n",
    ")"
   ]
  },
  {
   "cell_type": "code",
   "execution_count": 20,
   "metadata": {
    "execution": {
     "iopub.execute_input": "2021-05-24T21:19:42.976718Z",
     "iopub.status.busy": "2021-05-24T21:19:42.976555Z",
     "iopub.status.idle": "2021-05-24T21:19:42.981423Z",
     "shell.execute_reply": "2021-05-24T21:19:42.980665Z",
     "shell.execute_reply.started": "2021-05-24T21:19:42.976699Z"
    },
    "tags": []
   },
   "outputs": [],
   "source": [
    "with open(log_txt_file, \"a+\") as f:\n",
    "    f.write(pprint.pformat(exp_params) + \"\\n\")"
   ]
  },
  {
   "cell_type": "markdown",
   "metadata": {},
   "source": [
    "## Function Definitions"
   ]
  },
  {
   "cell_type": "code",
   "execution_count": 21,
   "metadata": {
    "execution": {
     "iopub.execute_input": "2021-05-24T21:19:42.983118Z",
     "iopub.status.busy": "2021-05-24T21:19:42.982797Z",
     "iopub.status.idle": "2021-05-24T21:19:42.994730Z",
     "shell.execute_reply": "2021-05-24T21:19:42.994079Z",
     "shell.execute_reply.started": "2021-05-24T21:19:42.983079Z"
    },
    "tags": []
   },
   "outputs": [],
   "source": [
    "BoxplotStats = collections.namedtuple(\n",
    "    \"BoxplotStats\",\n",
    "    [\"low_outliers\", \"low\", \"q1\", \"median\", \"q3\", \"high\", \"high_outliers\"],\n",
    ")\n",
    "\n",
    "\n",
    "def batch_boxplot_stats(batch):\n",
    "    \"\"\"Quick calculation of a batch of 1D values for showing boxplot stats.\"\"\"\n",
    "    q1, median, q3 = np.quantile(batch, q=[0.25, 0.5, 0.75], axis=1)\n",
    "    iqr = q3 - q1\n",
    "    low = q1 - (1.5 * iqr)\n",
    "    high = q3 + (1.5 * iqr)\n",
    "    low_outliers = list()\n",
    "    high_outliers = list()\n",
    "    # Number of outliers may be different for each batch, so it needs to be a list of\n",
    "    # arrays.\n",
    "    for i_batch in range(len(batch)):\n",
    "        batch_i = batch[i_batch]\n",
    "        low_i = low[i_batch]\n",
    "        low_outliers.append(batch_i[np.where(batch_i < low_i)])\n",
    "        high_i = high[i_batch]\n",
    "        high_outliers.append(batch_i[np.where(batch_i > high_i)])\n",
    "\n",
    "    return BoxplotStats(low_outliers, low, q1, median, q3, high, high_outliers)"
   ]
  },
  {
   "cell_type": "code",
   "execution_count": 22,
   "metadata": {
    "execution": {
     "iopub.execute_input": "2021-05-24T21:19:42.998652Z",
     "iopub.status.busy": "2021-05-24T21:19:42.998454Z",
     "iopub.status.idle": "2021-05-24T21:19:43.006146Z",
     "shell.execute_reply": "2021-05-24T21:19:43.005525Z",
     "shell.execute_reply.started": "2021-05-24T21:19:42.998631Z"
    },
    "tags": []
   },
   "outputs": [],
   "source": [
    "# Quick check on full volume/batch distributions.\n",
    "\n",
    "\n",
    "def desc_channel_dists(vols, mask=None):\n",
    "    t_vols = torch.as_tensor(vols)\n",
    "\n",
    "    if t_vols.ndim == 4:\n",
    "        t_vols = t_vols[None, ...]\n",
    "\n",
    "    if mask is not None:\n",
    "        t_mask = torch.as_tensor(mask)\n",
    "        if mask.ndim == 4:\n",
    "            mask = mask[0]\n",
    "    else:\n",
    "        t_mask = torch.ones_like(t_vols[0, 0]).bool()\n",
    "\n",
    "    results = \"means | vars\\n\"\n",
    "    for t_vol_i in t_vols:\n",
    "        masked_vol = torch.masked_select(t_vol_i, t_mask).reshape(t_vol_i.shape[0], -1)\n",
    "        mean_i = torch.mean(masked_vol, dim=1)\n",
    "        var_i = torch.var(masked_vol, dim=1)\n",
    "        mvs = [\n",
    "            (f\"{mv[0]} | {mv[1]}\\n\")\n",
    "            for mv in torch.stack([mean_i, var_i], dim=-1).tolist()\n",
    "        ]\n",
    "        results = results + \"\".join(mvs)\n",
    "        results = results + (\"=\" * (len(mvs[-1]) - 1)) + \"\\n\"\n",
    "\n",
    "    return results"
   ]
  },
  {
   "cell_type": "markdown",
   "metadata": {},
   "source": [
    "# Data Loading"
   ]
  },
  {
   "cell_type": "markdown",
   "metadata": {},
   "source": [
    "## Subject ID Selection"
   ]
  },
  {
   "cell_type": "code",
   "execution_count": 23,
   "metadata": {
    "execution": {
     "iopub.execute_input": "2021-05-24T21:19:43.020345Z",
     "iopub.status.busy": "2021-05-24T21:19:43.020128Z",
     "iopub.status.idle": "2021-05-24T21:19:43.030347Z",
     "shell.execute_reply": "2021-05-24T21:19:43.029619Z",
     "shell.execute_reply.started": "2021-05-24T21:19:43.020317Z"
    },
    "tags": []
   },
   "outputs": [
    {
     "name": "stderr",
     "output_type": "stream",
     "text": [
      "<ipython-input-23-7175a7d586cd>:25: UserWarning:\n",
      "\n",
      "WARNING: Sub-selecting participants for dev and debugging. Subj IDs selected: ['224022', '227432', '810439', '751348']\n",
      "\n"
     ]
    },
    {
     "data": {
      "text/plain": [
       "{224022: PosixPath('/mnt/storage/data/pitn/hcp/224022/T1w/Diffusion'),\n",
       " 227432: PosixPath('/mnt/storage/data/pitn/hcp/227432/T1w/Diffusion'),\n",
       " 751348: PosixPath('/mnt/storage/data/pitn/hcp/751348/T1w/Diffusion'),\n",
       " 810439: PosixPath('/mnt/storage/data/pitn/hcp/810439/T1w/Diffusion')}"
      ]
     },
     "execution_count": 23,
     "metadata": {},
     "output_type": "execute_result"
    }
   ],
   "source": [
    "# Find data directories for each subject.\n",
    "subj_dirs: dict = dict()\n",
    "\n",
    "selected_ids = [\n",
    "    \"397154\",\n",
    "    \"224022\",\n",
    "    \"140117\",\n",
    "    \"751348\",\n",
    "    \"894774\",\n",
    "    \"156637\",\n",
    "    \"227432\",\n",
    "    \"303624\",\n",
    "    \"185947\",\n",
    "    \"810439\",\n",
    "    \"753251\",\n",
    "    \"644246\",\n",
    "    \"141422\",\n",
    "    \"135528\",\n",
    "    \"103010\",\n",
    "    \"700634\",\n",
    "]\n",
    "\n",
    "## Sub-set the chosen participants for dev and debugging!\n",
    "selected_ids = random.sample(selected_ids, num_subject_samples)\n",
    "warnings.warn(\n",
    "    \"WARNING: Sub-selecting participants for dev and debugging. \"\n",
    "    + f\"Subj IDs selected: {selected_ids}\"\n",
    ")\n",
    "# ### A nested warning! For debugging only.\n",
    "# warnings.warn(\"WARNING: Mixing training and testing subjects\")\n",
    "# selected_ids.append(selected_ids[0])\n",
    "# ###\n",
    "##\n",
    "\n",
    "selected_ids = natsorted(list(map(lambda s: int(s), selected_ids)))\n",
    "\n",
    "for subj_id in selected_ids:\n",
    "    subj_dirs[subj_id] = data_dir / f\"{subj_id}/T1w/Diffusion\"\n",
    "    assert subj_dirs[subj_id].exists()\n",
    "subj_dirs"
   ]
  },
  {
   "cell_type": "markdown",
   "metadata": {},
   "source": [
    "The 90 scans are taken from the $b=1000 \\ s/mm^2$. However, the $b=0$ shells are still required for fitting the diffusion tensors (DTI's), so those will need to be kept, too.\n",
    "\n",
    "To find those, sub-select with the $0 < bvals < 1500$, or roughly thereabout. A b-val of $995$ or $1005$ still counts as a b=1000."
   ]
  },
  {
   "cell_type": "code",
   "execution_count": 24,
   "metadata": {
    "execution": {
     "iopub.execute_input": "2021-05-24T21:19:43.031660Z",
     "iopub.status.busy": "2021-05-24T21:19:43.031442Z",
     "iopub.status.idle": "2021-05-24T21:19:43.038034Z",
     "shell.execute_reply": "2021-05-24T21:19:43.036807Z",
     "shell.execute_reply.started": "2021-05-24T21:19:43.031632Z"
    },
    "tags": []
   },
   "outputs": [],
   "source": [
    "with open(log_txt_file, \"a+\") as f:\n",
    "    f.write(f\"Selected Subjects: {selected_ids}\\n\")\n",
    "\n",
    "logger.add_text(\"subjs\", pprint.pformat(selected_ids))"
   ]
  },
  {
   "cell_type": "markdown",
   "metadata": {
    "tags": []
   },
   "source": [
    "## Loading and Preprocessing"
   ]
  },
  {
   "cell_type": "code",
   "execution_count": 25,
   "metadata": {
    "execution": {
     "iopub.execute_input": "2021-05-24T21:19:43.040484Z",
     "iopub.status.busy": "2021-05-24T21:19:43.040058Z",
     "iopub.status.idle": "2021-05-24T21:19:43.056592Z",
     "shell.execute_reply": "2021-05-24T21:19:43.056040Z",
     "shell.execute_reply.started": "2021-05-24T21:19:43.040432Z"
    },
    "tags": []
   },
   "outputs": [],
   "source": [
    "# Set up the transformation pipeline.\n",
    "\n",
    "preproc_transforms = torchio.Compose(\n",
    "    [\n",
    "        torchio.transforms.ToCanonical(include=(\"dwi\", \"brain_mask\"), copy=False),\n",
    "        pitn.transforms.BValSelectionTransform(\n",
    "            bval_range=bval_range,\n",
    "            bval_key=\"bvals\",\n",
    "            bvec_key=\"bvecs\",\n",
    "            include=\"dwi\",\n",
    "            copy=False,\n",
    "        ),\n",
    "        # Pad by the dilation factor, then dilate the mask.\n",
    "        torchio.transforms.Pad(\n",
    "            dilation_size,\n",
    "            padding_mode=0,\n",
    "            include=(\"dwi\", \"brain_mask\"),\n",
    "            copy=False,\n",
    "        ),\n",
    "        pitn.transforms.DilateMaskTransform(\n",
    "            dilation_size=dilation_size, include=(\"brain_mask\",), copy=False\n",
    "        ),\n",
    "        # Pad by the amount of extension voxels in FR space, so LR indices cannot\n",
    "        # go out of bounds.\n",
    "        torchio.transforms.Pad(\n",
    "            fr_extension_amount,\n",
    "            padding_mode=0,\n",
    "            include=(\"dwi\", \"brain_mask\"),\n",
    "            copy=False,\n",
    "        ),\n",
    "        # Ensure FR dims are divisible by the downsample factor, to more reliably\n",
    "        # convert between FR indices and LR indices.\n",
    "        torchio.transforms.EnsureShapeMultiple(\n",
    "            downsample_factor, method=\"pad\", include=(\"dwi\", \"brain_mask\"), copy=False\n",
    "        ),\n",
    "        pitn.transforms.MeanDownsampleTransform(\n",
    "            downsample_factor,\n",
    "            include=(\"dwi\", \"brain_mask\"),\n",
    "            keep={\"dwi\": \"fr_dwi\", \"brain_mask\": \"fr_brain_mask\"},\n",
    "            copy=False,\n",
    "        ),\n",
    "        pitn.transforms.RenameImageTransform(\n",
    "            {\"dwi\": \"lr_dwi\", \"brain_mask\": \"lr_brain_mask\"}, copy=False\n",
    "        ),\n",
    "        pitn.transforms.FitDTITransform(\n",
    "            \"bvals\",\n",
    "            \"bvecs\",\n",
    "            \"fr_brain_mask\",\n",
    "            fit_method=dti_fit_method,\n",
    "            include=(\"fr_dwi\"),\n",
    "            copy=False,\n",
    "        ),\n",
    "        pitn.transforms.FitDTITransform(\n",
    "            \"bvals\",\n",
    "            \"bvecs\",\n",
    "            \"lr_brain_mask\",\n",
    "            fit_method=dti_fit_method,\n",
    "            include=(\"lr_dwi\"),\n",
    "            copy=False,\n",
    "        ),\n",
    "        pitn.transforms.RenameImageTransform(\n",
    "            {\"fr_dwi\": \"fr_dti\", \"lr_dwi\": \"lr_dti\"}, copy=False\n",
    "        ),\n",
    "        pitn.transforms.ImageToDictTransform(\n",
    "            include=(\"lr_dti\", \"lr_brain_mask\"), copy=False\n",
    "        ),\n",
    "    ]\n",
    ")"
   ]
  },
  {
   "cell_type": "code",
   "execution_count": 26,
   "metadata": {
    "execution": {
     "iopub.execute_input": "2021-05-24T21:19:43.057754Z",
     "iopub.status.busy": "2021-05-24T21:19:43.057595Z",
     "iopub.status.idle": "2021-05-24T21:25:50.206430Z",
     "shell.execute_reply": "2021-05-24T21:25:50.205834Z",
     "shell.execute_reply.started": "2021-05-24T21:19:43.057734Z"
    },
    "tags": []
   },
   "outputs": [
    {
     "name": "stdout",
     "output_type": "stream",
     "text": [
      "Brain mask volume before dilation: 652877\n",
      "Loading NIFTI image: /mnt/storage/data/pitn/hcp/224022/T1w/Diffusion/data.nii.gz\n",
      "\tLoaded NIFTI image\n",
      "Selecting with bvals: Subject 224022...Selected\n",
      "Downsampling: Subject 224022...Downsampled\n",
      "Fitting to DTI: Subject 224022......DWI shape: torch.Size([108, 162, 190, 162])......DTI shape: (6, 162, 190, 162)...Fitted DTI model: torch.Size([6, 162, 190, 162])\n",
      "Fitting to DTI: Subject 224022......DWI shape: torch.Size([108, 81, 95, 81])......DTI shape: (6, 81, 95, 81)...Fitted DTI model: torch.Size([6, 81, 95, 81])\n",
      "Dilated mask volume: 652877\n",
      "Mask volume difference: 0\n",
      "====================\n",
      "Brain mask volume before dilation: 847825\n",
      "Loading NIFTI image: /mnt/storage/data/pitn/hcp/227432/T1w/Diffusion/data.nii.gz\n",
      "\tLoaded NIFTI image\n",
      "Selecting with bvals: Subject 227432...Selected\n",
      "Downsampling: Subject 227432...Downsampled\n",
      "Fitting to DTI: Subject 227432......DWI shape: torch.Size([108, 162, 190, 162])......DTI shape: (6, 162, 190, 162)...Fitted DTI model: torch.Size([6, 162, 190, 162])\n",
      "Fitting to DTI: Subject 227432......DWI shape: torch.Size([108, 81, 95, 81])......DTI shape: (6, 81, 95, 81)...Fitted DTI model: torch.Size([6, 81, 95, 81])\n",
      "Dilated mask volume: 847825\n",
      "Mask volume difference: 0\n",
      "====================\n",
      "Brain mask volume before dilation: 850200\n",
      "Loading NIFTI image: /mnt/storage/data/pitn/hcp/751348/T1w/Diffusion/data.nii.gz\n",
      "\tLoaded NIFTI image\n",
      "Selecting with bvals: Subject 751348...Selected\n",
      "Downsampling: Subject 751348...Downsampled\n",
      "Fitting to DTI: Subject 751348......DWI shape: torch.Size([108, 162, 190, 162])......DTI shape: (6, 162, 190, 162)...Fitted DTI model: torch.Size([6, 162, 190, 162])\n",
      "Fitting to DTI: Subject 751348......DWI shape: torch.Size([108, 81, 95, 81])......DTI shape: (6, 81, 95, 81)...Fitted DTI model: torch.Size([6, 81, 95, 81])\n",
      "Dilated mask volume: 850200\n",
      "Mask volume difference: 0\n",
      "====================\n",
      "Brain mask volume before dilation: 829367\n",
      "Loading NIFTI image: /mnt/storage/data/pitn/hcp/810439/T1w/Diffusion/data.nii.gz\n",
      "\tLoaded NIFTI image\n",
      "Selecting with bvals: Subject 810439...Selected\n",
      "Downsampling: Subject 810439...Downsampled\n",
      "Fitting to DTI: Subject 810439......DWI shape: torch.Size([72, 162, 190, 162])......DTI shape: (6, 162, 190, 162)...Fitted DTI model: torch.Size([6, 162, 190, 162])\n",
      "Fitting to DTI: Subject 810439......DWI shape: torch.Size([72, 81, 95, 81])......DTI shape: (6, 81, 95, 81)...Fitted DTI model: torch.Size([6, 81, 95, 81])\n",
      "Dilated mask volume: 829367\n",
      "Mask volume difference: 0\n",
      "====================\n",
      "===Data Loaded & Transformed===\n"
     ]
    }
   ],
   "source": [
    "# Import all image data into a sequence of `torchio.Subject` objects.\n",
    "subj_data: dict = dict()\n",
    "summary_stats_fmt = \"github\"\n",
    "summary_stats_header = [\n",
    "    \"Subj ID\",\n",
    "    \"Resolution\",\n",
    "    \"Channel Index\",\n",
    "    \"Mean\",\n",
    "    \"Var\",\n",
    "    \"Num Outliers (Lower)\",\n",
    "    \"Low\",\n",
    "    \"25th Percentile\",\n",
    "    \"Median\",\n",
    "    \"75th Percentile\",\n",
    "    \"High\",\n",
    "    \"Num Outliers (Upper)\",\n",
    "]\n",
    "dti_channel_names = [\"Dxx\", \"Dxy\", \"Dyy\", \"Dxz\", \"Dyz\", \"Dzz\"]\n",
    "subj_stats = dict()\n",
    "# Dictionary to hold the subject's summary statistics if image-level or global\n",
    "# normalization is used.\n",
    "norm_subj_stats = dict()\n",
    "for k in summary_stats_header:\n",
    "    subj_stats[k] = list()\n",
    "    norm_subj_stats[k] = list()\n",
    "\n",
    "for subj_id, subj_dir in subj_dirs.items():\n",
    "    # Sub-select volumes with only bvals in a certain range. E.x. bvals <= 1100 mm/s^2,\n",
    "    # a.k.a. only the b=0 and b=1000 shells.\n",
    "    bvals = torch.as_tensor(np.loadtxt(subj_dir / \"bvals\").astype(int))\n",
    "    bvecs = torch.as_tensor(np.loadtxt(subj_dir / \"bvecs\"))\n",
    "    # Reshape to be N x 3\n",
    "    if bvecs.shape[0] == 3:\n",
    "        bvecs = bvecs.T\n",
    "\n",
    "    brain_mask = torchio.LabelMap(\n",
    "        subj_dir / \"nodif_brain_mask.nii.gz\",\n",
    "        type=torchio.LABEL,\n",
    "        channels_last=False,\n",
    "    )\n",
    "    brain_mask.set_data(brain_mask.data.bool())\n",
    "    mask_volume = brain_mask[\"data\"].sum()\n",
    "    print(f\"Brain mask volume before dilation: {mask_volume}\")\n",
    "    dwi = torchio.ScalarImage(\n",
    "        subj_dir / \"data.nii.gz\",\n",
    "        type=torchio.INTENSITY,\n",
    "        bvals=bvals,\n",
    "        bvecs=bvecs,\n",
    "        reader=pitn.io.nifti_reader,\n",
    "        channels_last=True,\n",
    "    )\n",
    "\n",
    "    subject_dict = torchio.Subject(subj_id=subj_id, dwi=dwi, brain_mask=brain_mask)\n",
    "    preproced_subj = preproc_transforms(subject_dict)\n",
    "    dilated_mask_volume = preproced_subj[\"fr_brain_mask\"][\"data\"].sum()\n",
    "    print(f\"Dilated mask volume: {dilated_mask_volume}\")\n",
    "    print(f\"Mask volume difference: {dilated_mask_volume - mask_volume}\")\n",
    "    # Subject-and-channel-wise standardization/normalization of both the LR and FR vols.\n",
    "    # Note that LR and FR images should have the same means, but *not* the same variances.\n",
    "    fr_vol = preproced_subj.fr_dti.tensor\n",
    "    fr_mask = preproced_subj.fr_brain_mask.tensor.bool()\n",
    "    masked_fr_vol = torch.masked_select(fr_vol, fr_mask).reshape(fr_vol.shape[0], -1)\n",
    "    fr_channel_means = masked_fr_vol.mean(dim=1)\n",
    "    fr_channel_means = fr_channel_means.reshape(-1, 1, 1, 1)\n",
    "    fr_channel_vars = masked_fr_vol.var(dim=1)\n",
    "    fr_channel_vars = fr_channel_vars.reshape(-1, 1, 1, 1)\n",
    "\n",
    "    # Store subject-and-channel-wise means and vars in order to reverse the normalization\n",
    "    # for the final visualization/output.\n",
    "    preproced_subj[\"fr_means\"] = fr_channel_means.detach().cpu().numpy()\n",
    "    preproced_subj[\"fr_vars\"] = fr_channel_vars.detach().cpu().numpy()\n",
    "\n",
    "    lr_vol = preproced_subj.lr_dti[\"data\"]\n",
    "    lr_mask = preproced_subj.lr_brain_mask[\"data\"].bool()\n",
    "    masked_lr_vol = torch.masked_select(lr_vol, lr_mask).reshape(lr_vol.shape[0], -1)\n",
    "    lr_channel_means = masked_lr_vol.mean(dim=1)\n",
    "    lr_channel_means = lr_channel_means.reshape(-1, 1, 1, 1)\n",
    "    lr_channel_vars = masked_lr_vol.var(dim=1)\n",
    "    lr_channel_vars = lr_channel_vars.reshape(-1, 1, 1, 1)\n",
    "\n",
    "    # Store subject-and-channel-wise means and vars in order to reverse the normalization\n",
    "    # for the final visualization/output.\n",
    "    preproced_subj[\"lr_means\"] = lr_channel_means.detach().cpu().numpy()\n",
    "    preproced_subj[\"lr_vars\"] = lr_channel_vars.detach().cpu().numpy()\n",
    "\n",
    "    # Print and log some statistics of the subject data.\n",
    "    # Add FR stats to the summary table.\n",
    "    fr_vol_stats = batch_boxplot_stats(masked_fr_vol)\n",
    "    subj_stats[\"Subj ID\"].extend(\n",
    "        list(itertools.repeat(subj_id, len(fr_vol_stats.median)))\n",
    "    )\n",
    "    subj_stats[\"Resolution\"].extend(\n",
    "        list(itertools.repeat(tuple(fr_vol.shape[1:]), len(fr_vol_stats.median)))\n",
    "    )\n",
    "    subj_stats[\"Channel Index\"].extend(dti_channel_names)\n",
    "    subj_stats[\"Mean\"].extend(fr_channel_means.cpu().flatten().tolist())\n",
    "    subj_stats[\"Var\"].extend(fr_channel_vars.cpu().flatten().tolist())\n",
    "    # Append FR boxplot stats to their corresponding fields. In other words, all columns\n",
    "    # after the var column.\n",
    "    for i, field in enumerate(\n",
    "        summary_stats_header[(summary_stats_header.index(\"Var\") + 1) :]\n",
    "    ):\n",
    "        if \"Num\" in field:\n",
    "            subj_stats[field].extend(list(map(len, fr_vol_stats[i])))\n",
    "        else:\n",
    "            subj_stats[field].extend(fr_vol_stats[i])\n",
    "\n",
    "    # Add LR stats to the summary table.\n",
    "    lr_vol_stats = batch_boxplot_stats(masked_lr_vol)\n",
    "    subj_stats[\"Subj ID\"].extend(\n",
    "        list(itertools.repeat(subj_id, len(fr_vol_stats.median)))\n",
    "    )\n",
    "    subj_stats[\"Resolution\"].extend(\n",
    "        list(itertools.repeat(tuple(lr_vol.shape[1:]), len(lr_vol_stats.median)))\n",
    "    )\n",
    "    subj_stats[\"Channel Index\"].extend(dti_channel_names)\n",
    "    subj_stats[\"Mean\"].extend(lr_channel_means.cpu().flatten().tolist())\n",
    "    subj_stats[\"Var\"].extend(lr_channel_vars.cpu().flatten().tolist())\n",
    "    # Append LR boxplot stats to their corresponding fields. In other words, all columns\n",
    "    # after the var column.\n",
    "    for i, field in enumerate(\n",
    "        summary_stats_header[(summary_stats_header.index(\"Var\") + 1) :]\n",
    "    ):\n",
    "        if \"Num\" in field:\n",
    "            subj_stats[field].extend(list(map(len, lr_vol_stats[i])))\n",
    "        else:\n",
    "            subj_stats[field].extend(lr_vol_stats[i])\n",
    "\n",
    "    # Optionally apply image-level or global normalization.\n",
    "    if isinstance(data_norm_method, str) and \"channel\" in data_norm_method.casefold():\n",
    "        # Standardize the volumes.\n",
    "        preproced_subj.fr_dti.set_data(\n",
    "            pitn.data.norm.normalize_dti(fr_vol, fr_channel_means, fr_channel_vars)\n",
    "        )\n",
    "        preproced_subj.lr_dti[\"data\"] = pitn.data.norm.normalize_dti(\n",
    "            lr_vol, lr_channel_means, lr_channel_vars\n",
    "        )\n",
    "\n",
    "        # Re-calculate the same statistics post-normalization.\n",
    "        fr_vol = preproced_subj.fr_dti[\"data\"]\n",
    "        fr_mask = preproced_subj.fr_brain_mask[\"data\"].bool()\n",
    "        masked_fr_vol = torch.masked_select(fr_vol, fr_mask).reshape(\n",
    "            fr_vol.shape[0], -1\n",
    "        )\n",
    "        fr_channel_means = masked_fr_vol.mean(dim=1)\n",
    "        fr_channel_means = fr_channel_means.reshape(-1, 1, 1, 1)\n",
    "        fr_channel_vars = masked_fr_vol.var(dim=1)\n",
    "        fr_channel_vars = fr_channel_vars.reshape(-1, 1, 1, 1)\n",
    "        # Print and log some statistics of the subject data.\n",
    "        # Add FR stats to the summary table.\n",
    "        fr_vol_stats = batch_boxplot_stats(masked_fr_vol)\n",
    "        norm_subj_stats[\"Subj ID\"].extend(\n",
    "            list(itertools.repeat(subj_id, len(fr_vol_stats.median)))\n",
    "        )\n",
    "        norm_subj_stats[\"Resolution\"].extend(\n",
    "            list(itertools.repeat(tuple(fr_vol.shape[1:]), len(fr_vol_stats.median)))\n",
    "        )\n",
    "        norm_subj_stats[\"Channel Index\"].extend(dti_channel_names)\n",
    "        norm_subj_stats[\"Mean\"].extend(fr_channel_means.cpu().flatten().tolist())\n",
    "        norm_subj_stats[\"Var\"].extend(fr_channel_vars.cpu().flatten().tolist())\n",
    "        # Append FR boxplot stats to their corresponding fields. In other words, all\n",
    "        # columns after the var column.\n",
    "        for i, field in enumerate(\n",
    "            summary_stats_header[(summary_stats_header.index(\"Var\") + 1) :]\n",
    "        ):\n",
    "            if \"Num\" in field:\n",
    "                norm_subj_stats[field].extend(list(map(len, fr_vol_stats[i])))\n",
    "            else:\n",
    "                norm_subj_stats[field].extend(fr_vol_stats[i])\n",
    "\n",
    "        # Add LR stats to the summary table.\n",
    "        lr_vol = preproced_subj.lr_dti[\"data\"]\n",
    "        lr_mask = preproced_subj.lr_brain_mask[\"data\"].bool()\n",
    "        masked_lr_vol = torch.masked_select(lr_vol, lr_mask).reshape(\n",
    "            lr_vol.shape[0], -1\n",
    "        )\n",
    "        lr_channel_means = masked_lr_vol.mean(dim=1)\n",
    "        lr_channel_means = lr_channel_means.reshape(-1, 1, 1, 1)\n",
    "        lr_channel_vars = masked_lr_vol.var(dim=1)\n",
    "        lr_channel_vars = lr_channel_vars.reshape(-1, 1, 1, 1)\n",
    "\n",
    "        lr_vol_stats = batch_boxplot_stats(masked_lr_vol)\n",
    "        norm_subj_stats[\"Subj ID\"].extend(\n",
    "            list(itertools.repeat(subj_id, len(lr_vol_stats.median)))\n",
    "        )\n",
    "        norm_subj_stats[\"Resolution\"].extend(\n",
    "            list(itertools.repeat(tuple(lr_vol.shape[1:]), len(lr_vol_stats.median)))\n",
    "        )\n",
    "        norm_subj_stats[\"Channel Index\"].extend(dti_channel_names)\n",
    "        norm_subj_stats[\"Mean\"].extend(lr_channel_means.cpu().flatten().tolist())\n",
    "        norm_subj_stats[\"Var\"].extend(lr_channel_vars.cpu().flatten().tolist())\n",
    "        # Append LR boxplot stats to their corresponding fields. In other words, all columns\n",
    "        # after the var column.\n",
    "        for i, field in enumerate(\n",
    "            summary_stats_header[(summary_stats_header.index(\"Var\") + 1) :]\n",
    "        ):\n",
    "            if \"Num\" in field:\n",
    "                norm_subj_stats[field].extend(list(map(len, lr_vol_stats[i])))\n",
    "            else:\n",
    "                norm_subj_stats[field].extend(lr_vol_stats[i])\n",
    "\n",
    "    #     with open(log_txt_file, \"a+\") as f:\n",
    "    #         f.write(f\"Subject ID {subj_id} masked voxel distribution by channel:\\n\")\n",
    "    #         f.write(\n",
    "    #             f\"{desc_channel_dists(preproced_subj['fr_dti']['data'], preproced_subj['fr_brain_mask']['data'].bool())}\\n\"\n",
    "    #         )\n",
    "\n",
    "    subj_data[subj_id] = preproced_subj\n",
    "    print(\"=\" * 20)\n",
    "#     breakpoint()\n",
    "\n",
    "print(\"===Data Loaded & Transformed===\")\n",
    "\n",
    "subj_stats_str = tabulate(\n",
    "    subj_stats, headers=summary_stats_header, tablefmt=summary_stats_fmt\n",
    ")\n",
    "\n",
    "if norm_subj_stats[\"Subj ID\"]:\n",
    "    norm_subj_stats_str = tabulate(\n",
    "        norm_subj_stats, headers=summary_stats_header, tablefmt=summary_stats_fmt\n",
    "    )\n",
    "else:\n",
    "    norm_subj_stats_str = \"\""
   ]
  },
  {
   "cell_type": "code",
   "execution_count": 27,
   "metadata": {
    "execution": {
     "iopub.execute_input": "2021-05-24T21:25:50.207618Z",
     "iopub.status.busy": "2021-05-24T21:25:50.207427Z",
     "iopub.status.idle": "2021-05-24T21:25:50.210645Z",
     "shell.execute_reply": "2021-05-24T21:25:50.210110Z",
     "shell.execute_reply.started": "2021-05-24T21:25:50.207596Z"
    },
    "tags": []
   },
   "outputs": [],
   "source": [
    "# g = [vol[None, ...] for vol in fr_vol[:, :, :, 100]]\n",
    "# g.extend([vol[None, ...] for vol in subj_data[810439].fr_dti.data[:, :, :, 100]])\n",
    "# g = torchvision.utils.make_grid(g, nrow=6)\n",
    "# plt.figure(dpi=120, figsize=(4, 9))\n",
    "# plt.imshow(np.rot90(g.cpu().numpy()[0]))\n",
    "# plt.colorbar()\n",
    "# # plt.imshow().cpu().numpy())\n",
    "# # subj_data[810439].fr_dti.data"
   ]
  },
  {
   "cell_type": "code",
   "execution_count": 28,
   "metadata": {
    "execution": {
     "iopub.execute_input": "2021-05-24T21:25:50.211810Z",
     "iopub.status.busy": "2021-05-24T21:25:50.211627Z",
     "iopub.status.idle": "2021-05-24T21:25:50.228497Z",
     "shell.execute_reply": "2021-05-24T21:25:50.227877Z",
     "shell.execute_reply.started": "2021-05-24T21:25:50.211786Z"
    },
    "tags": []
   },
   "outputs": [],
   "source": [
    "with open(log_txt_file, \"a+\") as f:\n",
    "    f.write(f\"Preprocessing transformation pipeline: {str(preproc_transforms)}\\n\")\n",
    "    f.write(f\"Data Summary Statistics, no normalization:\\n {subj_stats_str}\\n\\n\")\n",
    "\n",
    "logger.add_text(\"data_dists\", subj_stats_str)\n",
    "# If the subject data was normalized and those stats were recorded, log those stats.\n",
    "if norm_subj_stats_str:\n",
    "    logger.add_text(\"normalized_data_dists\", norm_subj_stats_str)\n",
    "    with open(log_txt_file, \"a+\") as f:\n",
    "        f.write(\n",
    "            f\"Data Summary Statistics, after normalization:\\n {norm_subj_stats_str}\\n\\n\"\n",
    "        )"
   ]
  },
  {
   "cell_type": "code",
   "execution_count": 29,
   "metadata": {
    "execution": {
     "iopub.execute_input": "2021-05-24T21:25:50.229568Z",
     "iopub.status.busy": "2021-05-24T21:25:50.229388Z",
     "iopub.status.idle": "2021-05-24T21:25:50.234242Z",
     "shell.execute_reply": "2021-05-24T21:25:50.233734Z",
     "shell.execute_reply.started": "2021-05-24T21:25:50.229546Z"
    },
    "tags": []
   },
   "outputs": [
    {
     "data": {
      "text/markdown": [
       "|   Subj ID | Resolution      | Channel Index   |         Mean |         Var |   Num Outliers (Lower) |          Low |   25th Percentile |       Median |   75th Percentile |        High |   Num Outliers (Upper) |\n",
       "|-----------|-----------------|-----------------|--------------|-------------|------------------------|--------------|-------------------|--------------|-------------------|-------------|------------------------|\n",
       "|    224022 | (162, 190, 162) | Dxx             |  0.000968793 | 1.28181e-06 |                   5858 |  3.70389e-05 |       0.000655324 |  0.000804229 |       0.00106751  | 0.0016858   |                  65959 |\n",
       "|    224022 | (162, 190, 162) | Dxy             |  1.74187e-06 | 1.2433e-08  |                  22446 | -0.000205006 |      -4.98258e-05 |  1.93845e-06 |       5.36278e-05 | 0.000208808 |                  21382 |\n",
       "|    224022 | (162, 190, 162) | Dyy             |  0.00100758  | 1.29972e-06 |                   6074 |  4.87033e-05 |       0.000689919 |  0.000849358 |       0.0011174   | 0.00175861  |                  63695 |\n",
       "|    224022 | (162, 190, 162) | Dxz             |  3.57424e-07 | 1.21273e-08 |                  25400 | -0.00019435  |      -4.8414e-05  | -2.58494e-26 |       4.88766e-05 | 0.000194812 |                  25510 |\n",
       "|    224022 | (162, 190, 162) | Dyz             | -2.02446e-05 | 1.27969e-08 |                  29788 | -0.000222973 |      -6.88305e-05 | -1.47795e-05 |       3.39312e-05 | 0.000188074 |                  21120 |\n",
       "|    224022 | (162, 190, 162) | Dzz             |  0.000970013 | 1.2748e-06  |                   5680 |  3.9299e-05  |       0.000655782 |  0.000808685 |       0.00106677  | 0.00168325  |                  66460 |\n",
       "|    224022 | (81, 95, 81)    | Dxx             |  0.000952374 | 1.93482e-07 |                    118 |  0.000146015 |       0.000688964 |  0.000820619 |       0.00105093  | 0.00159388  |                   7195 |\n",
       "|    224022 | (81, 95, 81)    | Dxy             |  2.04059e-06 | 9.67466e-09 |                   3045 | -0.000169714 |      -4.1001e-05  |  2.39488e-06 |       4.48075e-05 | 0.00017352  |                   2866 |\n",
       "|    224022 | (81, 95, 81)    | Dyy             |  0.000990003 | 2.00876e-07 |                    121 |  0.000156822 |       0.000722034 |  0.000866042 |       0.00109884  | 0.00166405  |                   6861 |\n",
       "|    224022 | (81, 95, 81)    | Dxz             |  4.13201e-07 | 9.49909e-09 |                   3503 | -0.000159895 |      -3.96367e-05 |  2.36004e-08 |       4.05356e-05 | 0.000160794 |                   3490 |\n",
       "|    224022 | (81, 95, 81)    | Dyz             | -2.0055e-05  | 9.74726e-09 |                   4152 | -0.000185353 |      -5.92571e-05 | -1.50244e-05 |       2.48072e-05 | 0.000150903 |                   3008 |\n",
       "|    224022 | (81, 95, 81)    | Dzz             |  0.000952976 | 1.98921e-07 |                    116 |  0.000144802 |       0.000689172 |  0.000823553 |       0.00105209  | 0.00159646  |                   7176 |\n",
       "|    227432 | (162, 190, 162) | Dxx             |  0.000984648 | 3.45175e-07 |                   5904 |  2.32554e-05 |       0.000664256 |  0.000816109 |       0.00109159  | 0.00173259  |                  89385 |\n",
       "|    227432 | (162, 190, 162) | Dxy             | -1.01113e-07 | 1.20774e-08 |                  27975 | -0.000209048 |      -5.20028e-05 |  4.03518e-07 |       5.26937e-05 | 0.000209738 |                  25991 |\n",
       "|    227432 | (162, 190, 162) | Dyy             |  0.00101754  | 3.61814e-07 |                   5263 |  1.54631e-05 |       0.000688089 |  0.000852339 |       0.00113651  | 0.00180913  |                  86267 |\n",
       "|    227432 | (162, 190, 162) | Dxz             | -6.86858e-07 | 1.21932e-08 |                  32886 | -0.000203925 |      -5.0969e-05  | -3.87741e-26 |       5.10015e-05 | 0.000203957 |                  30489 |\n",
       "|    227432 | (162, 190, 162) | Dyz             | -1.80661e-05 | 1.25058e-08 |                  36771 | -0.000227709 |      -6.84023e-05 | -1.24124e-05 |       3.7802e-05  | 0.000197108 |                  24848 |\n",
       "|    227432 | (162, 190, 162) | Dzz             |  0.000991539 | 3.57884e-07 |                   5772 |  2.60831e-05 |       0.00066697  |  0.000828955 |       0.00109423  | 0.00173511  |                  90613 |\n",
       "|    227432 | (81, 95, 81)    | Dxx             |  0.000969405 | 2.04789e-07 |                    211 |  0.000131195 |       0.000695745 |  0.000826491 |       0.00107211  | 0.00163666  |                   9866 |\n",
       "|    227432 | (81, 95, 81)    | Dxy             |  8.92681e-08 | 9.51749e-09 |                   3929 | -0.000173046 |      -4.2736e-05  |  6.18157e-07 |       4.41375e-05 | 0.000174448 |                   3632 |\n",
       "|    227432 | (81, 95, 81)    | Dyy             |  0.00100112  | 2.17044e-07 |                    166 |  0.000114092 |       0.000716238 |  0.00086404  |       0.00111767  | 0.00171981  |                   9274 |\n",
       "|    227432 | (81, 95, 81)    | Dxz             | -8.37028e-07 | 9.7574e-09  |                   4733 | -0.000168494 |      -4.20955e-05 | -2.09517e-07 |       4.21698e-05 | 0.000168568 |                   4352 |\n",
       "|    227432 | (81, 95, 81)    | Dyz             | -1.77039e-05 | 9.76359e-09 |                   5480 | -0.000188402 |      -5.80634e-05 | -1.24238e-05 |       2.8829e-05  | 0.000159168 |                   3654 |\n",
       "|    227432 | (81, 95, 81)    | Dzz             |  0.000975871 | 2.12803e-07 |                    192 |  0.000131256 |       0.000698542 |  0.000839655 |       0.00107673  | 0.00164402  |                   9928 |\n",
       "|    751348 | (162, 190, 162) | Dxx             |  0.00115159  | 0.00334894  |                      0 | -3.2913e-05  |       0.000645597 |  0.000808113 |       0.00109794  | 0.00177645  |                  83682 |\n",
       "|    751348 | (162, 190, 162) | Dxy             | -3.07335e-05 | 0.000219731 |                  31193 | -0.000191636 |      -4.53449e-05 |  3.33987e-06 |       5.21827e-05 | 0.000198474 |                  30128 |\n",
       "|    751348 | (162, 190, 162) | Dyy             |  0.00105523  | 6.95758e-05 |                   5524 |  2.31201e-05 |       0.000701383 |  0.000868353 |       0.00115356  | 0.00183182  |                  83871 |\n",
       "|    751348 | (162, 190, 162) | Dxz             |  1.58034e-05 | 0.000229047 |                  33475 | -0.000197179 |      -5.13982e-05 | -2.20941e-06 |       4.57889e-05 | 0.00019157  |                  30658 |\n",
       "|    751348 | (162, 190, 162) | Dyz             | -2.40098e-05 | 2.98391e-05 |                  39522 | -0.000218504 |      -6.63371e-05 | -1.34872e-05 |       3.51074e-05 | 0.000187274 |                  27488 |\n",
       "|    751348 | (162, 190, 162) | Dzz             |  0.0010288   | 9.7893e-05  |                      0 | -3.4755e-06  |       0.00066241  |  0.000828836 |       0.00110633  | 0.00177222  |                  86522 |\n",
       "|    751348 | (81, 95, 81)    | Dxx             |  0.000964376 | 2.18475e-07 |                    107 |  8.31927e-05 |       0.000680416 |  0.000824313 |       0.00107856  | 0.00167579  |                   9060 |\n",
       "|    751348 | (81, 95, 81)    | Dxy             |  3.11061e-06 | 9.09316e-09 |                   4370 | -0.000153023 |      -3.56788e-05 |  3.58017e-06 |       4.25504e-05 | 0.000159894 |                   4187 |\n",
       "|    751348 | (81, 95, 81)    | Dyy             |  0.00101802  | 2.2087e-07  |                    170 |  0.000136353 |       0.000734591 |  0.000883039 |       0.00113342  | 0.00173165  |                   9022 |\n",
       "|    751348 | (81, 95, 81)    | Dxz             | -3.55426e-06 | 8.60068e-09 |                   4823 | -0.000158517 |      -4.17383e-05 | -2.3893e-06  |       3.61139e-05 | 0.000152892 |                   4371 |\n",
       "|    751348 | (81, 95, 81)    | Dyz             | -1.79516e-05 | 9.46246e-09 |                   5661 | -0.00017714  |      -5.57567e-05 | -1.36525e-05 |       2.51657e-05 | 0.000146549 |                   3920 |\n",
       "|    751348 | (81, 95, 81)    | Dzz             |  0.000980089 | 2.21417e-07 |                    148 |  0.000104238 |       0.00069643  |  0.000844    |       0.00109122  | 0.00168342  |                   9206 |\n",
       "|    810439 | (162, 190, 162) | Dxx             |  0.000848012 | 7.29606e-07 |                  13451 |  0.00012461  |       0.000619153 |  0.000756712 |       0.000948848 | 0.00144339  |                  65435 |\n",
       "|    810439 | (162, 190, 162) | Dxy             |  2.95504e-06 | 1.25336e-08 |                  25158 | -0.000206608 |      -4.93718e-05 |  2.49486e-06 |       5.54523e-05 | 0.000212688 |                  24979 |\n",
       "|    810439 | (162, 190, 162) | Dyy             |  0.00090458  | 7.33282e-07 |                  13229 |  0.000143766 |       0.000669096 |  0.000817772 |       0.00101932  | 0.00154465  |                  60639 |\n",
       "|    810439 | (162, 190, 162) | Dxz             |  1.11232e-06 | 1.55135e-08 |                  32085 | -0.000205537 |      -4.97297e-05 |  1.93392e-06 |       5.4142e-05  | 0.00020995  |                  28626 |\n",
       "|    810439 | (162, 190, 162) | Dyz             | -9.89005e-07 | 1.40721e-08 |                  35567 | -0.000212691 |      -5.21562e-05 |  1.38691e-06 |       5.48668e-05 | 0.000215401 |                  26687 |\n",
       "|    810439 | (162, 190, 162) | Dzz             |  0.000865005 | 7.42959e-07 |                  12967 |  0.000131746 |       0.000633765 |  0.000777136 |       0.000968445 | 0.00147046  |                  63934 |\n",
       "|    810439 | (81, 95, 81)    | Dxx             |  0.000847206 | 1.17391e-07 |                    520 |  0.000216988 |       0.000651275 |  0.000771675 |       0.0009408   | 0.00137509  |                   7326 |\n",
       "|    810439 | (81, 95, 81)    | Dxy             |  2.90232e-06 | 8.59156e-09 |                   3579 | -0.000164648 |      -3.87826e-05 |  3.08994e-06 |       4.51276e-05 | 0.000170993 |                   3575 |\n",
       "|    810439 | (81, 95, 81)    | Dyy             |  0.000903604 | 1.2138e-07  |                    480 |  0.000235507 |       0.000700525 |  0.000831182 |       0.00101054  | 0.00147556  |                   6527 |\n",
       "|    810439 | (81, 95, 81)    | Dxz             |  7.62964e-07 | 9.90522e-09 |                   4587 | -0.000164668 |      -3.97978e-05 |  2.25124e-06 |       4.3449e-05  | 0.000168319 |                   4074 |\n",
       "|    810439 | (81, 95, 81)    | Dyz             | -9.83321e-07 | 9.87725e-09 |                   5214 | -0.00016868  |      -4.11125e-05 |  1.96332e-06 |       4.39325e-05 | 0.0001715   |                   3802 |\n",
       "|    810439 | (81, 95, 81)    | Dzz             |  0.000863985 | 1.1933e-07  |                    532 |  0.000221628 |       0.00066593  |  0.000790969 |       0.000962131 | 0.00140643  |                   6957 |"
      ],
      "text/plain": [
       "<IPython.core.display.Markdown object>"
      ]
     },
     "metadata": {},
     "output_type": "display_data"
    }
   ],
   "source": [
    "display(Markdown(subj_stats_str))"
   ]
  },
  {
   "cell_type": "code",
   "execution_count": 30,
   "metadata": {
    "execution": {
     "iopub.execute_input": "2021-05-24T21:25:50.235370Z",
     "iopub.status.busy": "2021-05-24T21:25:50.235213Z",
     "iopub.status.idle": "2021-05-24T21:25:50.239515Z",
     "shell.execute_reply": "2021-05-24T21:25:50.238905Z",
     "shell.execute_reply.started": "2021-05-24T21:25:50.235351Z"
    }
   },
   "outputs": [
    {
     "data": {
      "text/markdown": [
       "|   Subj ID | Resolution      | Channel Index   |         Mean |      Var |   Num Outliers (Lower) |        Low |   25th Percentile |      Median |   75th Percentile |      High |   Num Outliers (Upper) |\n",
       "|-----------|-----------------|-----------------|--------------|----------|------------------------|------------|-------------------|-------------|-------------------|-----------|------------------------|\n",
       "|    224022 | (162, 190, 162) | Dxx             |  1.07042e-08 | 0.999922 |                   5858 | -0.82295   |      -0.276864    | -0.145347   |       0.0871931   | 0.633279  |                  65959 |\n",
       "|    224022 | (162, 190, 162) | Dxy             |  5.5157e-09  | 0.992021 |                  22446 | -1.84678   |      -0.460629    |  0.00175596 |       0.463471    | 1.84962   |                  21382 |\n",
       "|    224022 | (162, 190, 162) | Dyy             | -1.29853e-07 | 0.999923 |                   6074 | -0.841051  |      -0.278628    | -0.13878    |       0.0963206   | 0.658743  |                  63695 |\n",
       "|    224022 | (162, 190, 162) | Dxz             |  4.67432e-10 | 0.991822 |                  25400 | -1.76082   |      -0.441062    | -0.00323235 |       0.43878     | 1.75854   |                  25510 |\n",
       "|    224022 | (162, 190, 162) | Dyz             |  5.81953e-09 | 0.992246 |                  29788 | -1.78514   |      -0.427827    |  0.0481238  |       0.477049    | 1.83436   |                  21120 |\n",
       "|    224022 | (162, 190, 162) | Dzz             |  1.18728e-08 | 0.999922 |                   5680 | -0.824286  |      -0.278298    | -0.142881   |       0.0856934   | 0.631681  |                  66460 |\n",
       "|    224022 | (81, 95, 81)    | Dxx             |  7.8684e-08  | 0.999483 |                    118 | -1.83272   |      -0.598688    | -0.299458   |       0.224002    | 1.45804   |                   7195 |\n",
       "|    224022 | (81, 95, 81)    | Dxy             |  7.22909e-09 | 0.989769 |                   3045 | -1.73723   |      -0.435349    |  0.00358346 |       0.432571    | 1.73445   |                   2866 |\n",
       "|    224022 | (81, 95, 81)    | Dyy             | -2.8582e-07  | 0.999502 |                    121 | -1.85852   |      -0.597739    | -0.27651    |       0.24278     | 1.50356   |                   6861 |\n",
       "|    224022 | (81, 95, 81)    | Dxz             |  3.14736e-09 | 0.989582 |                   3503 | -1.63622   |      -0.408777    | -0.00397654 |       0.409517    | 1.63696   |                   3490 |\n",
       "|    224022 | (81, 95, 81)    | Dyz             | -9.8355e-10  | 0.989845 |                   4152 | -1.66575   |      -0.395049    |  0.0506945  |       0.452088    | 1.72279   |                   3008 |\n",
       "|    224022 | (81, 95, 81)    | Dzz             |  8.42902e-08 | 0.999498 |                    116 | -1.81157   |      -0.591332    | -0.29011    |       0.22216     | 1.4424    |                   7176 |\n",
       "|    227432 | (162, 190, 162) | Dxx             | -4.16464e-08 | 0.99971  |                   5904 | -1.63613   |      -0.545255    | -0.286825   |       0.181997    | 1.27288   |                  89385 |\n",
       "|    227432 | (162, 190, 162) | Dxy             | -9.37673e-09 | 0.991788 |                  27975 | -1.89347   |      -0.470332    |  0.00457296 |       0.478426    | 1.90156   |                  25991 |\n",
       "|    227432 | (162, 190, 162) | Dyy             |  8.69283e-08 | 0.999724 |                   5263 | -1.66571   |      -0.547639    | -0.274614   |       0.197745    | 1.31582   |                  86267 |\n",
       "|    227432 | (162, 190, 162) | Dxz             |  3.92347e-09 | 0.991865 |                  32886 | -1.83304   |      -0.453504    |  0.00619489 |       0.466186    | 1.84572   |                  30489 |\n",
       "|    227432 | (162, 190, 162) | Dyz             |  5.45326e-09 | 0.992067 |                  36771 | -1.86722   |      -0.448328    |  0.0503564  |       0.497599    | 1.91649   |                  24848 |\n",
       "|    227432 | (162, 190, 162) | Dzz             | -9.74028e-08 | 0.999721 |                   5772 | -1.61362   |      -0.542469    | -0.271735   |       0.171629    | 1.24278   |                  90613 |\n",
       "|    227432 | (81, 95, 81)    | Dxx             |  1.96997e-07 | 0.999512 |                    211 | -1.8518    |      -0.604579    | -0.31573    |       0.226901    | 1.47412   |                   9866 |\n",
       "|    227432 | (81, 95, 81)    | Dxy             |  3.70693e-09 | 0.989602 |                   3929 | -1.76545   |      -0.436686    |  0.00539304 |       0.449156    | 1.77792   |                   3632 |\n",
       "|    227432 | (81, 95, 81)    | Dyy             | -1.76268e-08 | 0.999539 |                    166 | -1.90355   |      -0.611354    | -0.294173   |       0.250109    | 1.5423    |                   9274 |\n",
       "|    227432 | (81, 95, 81)    | Dxz             | -8.69994e-09 | 0.989855 |                   4733 | -1.68865   |      -0.415559    |  0.00632033 |       0.433168    | 1.70626   |                   4352 |\n",
       "|    227432 | (81, 95, 81)    | Dyz             |  1.92912e-08 | 0.989862 |                   5480 | -1.71874   |      -0.406376    |  0.0531644  |       0.468535    | 1.7809    |                   3654 |\n",
       "|    227432 | (81, 95, 81)    | Dzz             |  7.34956e-08 | 0.99953  |                    192 | -1.83049   |      -0.601043    | -0.295215   |       0.218591    | 1.44804   |                   9928 |\n",
       "|    751348 | (162, 190, 162) | Dxx             |  1.18452e-09 | 1        |                      0 | -0.0204684 |      -0.00874363  | -0.00593535 |      -0.000927149 | 0.0107976 |                  83682 |\n",
       "|    751348 | (162, 190, 162) | Dxy             | -3.58946e-11 | 1        |                  31193 | -0.0108547 |      -0.000985707 |  0.00229863 |       0.00559362  | 0.0154626 |                  30128 |\n",
       "|    751348 | (162, 190, 162) | Dyy             | -1.65115e-09 | 0.999999 |                   5524 | -0.123736  |      -0.042421    | -0.0224035  |       0.0117888   | 0.0931034 |                  83871 |\n",
       "|    751348 | (162, 190, 162) | Dxz             |  1.61526e-10 | 1        |                  33475 | -0.0140728 |      -0.00444035  | -0.0011902  |       0.00198129  | 0.0116138 |                  30658 |\n",
       "|    751348 | (162, 190, 162) | Dyz             | -2.42288e-10 | 0.999997 |                  39522 | -0.0356052 |      -0.00774867  |  0.00192631 |       0.0108223   | 0.0386788 |                  27488 |\n",
       "|    751348 | (162, 190, 162) | Dzz             | -2.27931e-09 | 0.999999 |                      0 | -0.104332  |      -0.0370308   | -0.02021    |       0.00783676  | 0.0751381 |                  86522 |\n",
       "|    751348 | (81, 95, 81)    | Dxx             | -2.81124e-08 | 0.999542 |                    107 | -1.8848    |      -0.607376    | -0.299588   |       0.244242    | 1.52167   |                   9060 |\n",
       "|    751348 | (81, 95, 81)    | Dxy             |  6.89621e-09 | 0.989122 |                   4370 | -1.62841   |      -0.404558    |  0.00489739 |       0.411341    | 1.63519   |                   4187 |\n",
       "|    751348 | (81, 95, 81)    | Dyy             | -1.40524e-07 | 0.999547 |                    170 | -1.8756    |      -0.602954    | -0.287155   |       0.245477    | 1.51812   |                   9022 |\n",
       "|    751348 | (81, 95, 81)    | Dxz             | -4.16411e-09 | 0.988507 |                   4823 | -1.66131   |      -0.40936     |  0.0124892  |       0.425271    | 1.67722   |                   4371 |\n",
       "|    751348 | (81, 95, 81)    | Dyz             | -7.53684e-10 | 0.989542 |                   5661 | -1.6279    |      -0.386604    |  0.0439635  |       0.440927    | 1.68222   |                   3920 |\n",
       "|    751348 | (81, 95, 81)    | Dzz             |  1.08154e-07 | 0.999549 |                    148 | -1.86091   |      -0.602688    | -0.289147   |       0.23613     | 1.49436   |                   9206 |\n",
       "|    810439 | (162, 190, 162) | Dxx             |  8.2258e-08  | 0.999863 |                  13451 | -0.846848  |      -0.267913    | -0.10688    |       0.118043    | 0.696978  |                  65435 |\n",
       "|    810439 | (162, 190, 162) | Dxy             |  4.26836e-09 | 0.992085 |                  25158 | -1.86445   |      -0.465544    | -0.00409413 |       0.467061    | 1.86597   |                  24979 |\n",
       "|    810439 | (162, 190, 162) | Dyy             |  7.6205e-08  | 0.999864 |                  13229 | -0.88841   |      -0.274977    | -0.101367   |       0.133978    | 0.747411  |                  60639 |\n",
       "|    810439 | (162, 190, 162) | Dxz             |  7.54323e-10 | 0.993595 |                  32085 | -1.65381   |      -0.406886    |  0.00657525 |       0.424395    | 1.67132   |                  28626 |\n",
       "|    810439 | (162, 190, 162) | Dyz             |  5.07788e-09 | 0.992944 |                  35567 | -1.77831   |      -0.429808    |  0.0199579  |       0.469193    | 1.81769   |                  26687 |\n",
       "|    810439 | (162, 190, 162) | Dzz             |  1.01098e-07 | 0.999865 |                  12967 | -0.85064   |      -0.268257    | -0.101936   |       0.119998    | 0.702381  |                  63934 |\n",
       "|    810439 | (81, 95, 81)    | Dxx             |  1.78978e-07 | 0.999149 |                    520 | -1.83861   |      -0.571612    | -0.220355   |       0.273051    | 1.54005   |                   7326 |\n",
       "|    810439 | (81, 95, 81)    | Dxy             | -5.74345e-09 | 0.988495 |                   3579 | -1.7972    |      -0.447126    |  0.00201244 |       0.452922    | 1.80299   |                   3575 |\n",
       "|    810439 | (81, 95, 81)    | Dyy             | -1.62058e-07 | 0.999177 |                    480 | -1.91684   |      -0.582656    | -0.207788   |       0.306803    | 1.64099   |                   6527 |\n",
       "|    810439 | (81, 95, 81)    | Dxz             |  8.2271e-09  | 0.990005 |                   4587 | -1.65388   |      -0.405502    |  0.0148789  |       0.426749    | 1.67513   |                   4074 |\n",
       "|    810439 | (81, 95, 81)    | Dyz             |  1.47467e-09 | 0.989977 |                   5214 | -1.67888   |      -0.401749    |  0.0295     |       0.44967     | 1.7268    |                   3802 |\n",
       "|    810439 | (81, 95, 81)    | Dzz             |  8.47547e-08 | 0.999163 |                    532 | -1.85874   |      -0.573098    | -0.211282   |       0.283998    | 1.56964   |                   6957 |"
      ],
      "text/plain": [
       "<IPython.core.display.Markdown object>"
      ]
     },
     "metadata": {},
     "output_type": "display_data"
    }
   ],
   "source": [
    "display(Markdown(norm_subj_stats_str))"
   ]
  },
  {
   "cell_type": "code",
   "execution_count": 31,
   "metadata": {
    "execution": {
     "iopub.execute_input": "2021-05-24T21:25:50.240727Z",
     "iopub.status.busy": "2021-05-24T21:25:50.240446Z",
     "iopub.status.idle": "2021-05-24T21:25:50.244525Z",
     "shell.execute_reply": "2021-05-24T21:25:50.243869Z",
     "shell.execute_reply.started": "2021-05-24T21:25:50.240704Z"
    },
    "tags": []
   },
   "outputs": [],
   "source": [
    "subj_dataset = torchio.SubjectsDataset(list(subj_data.values()), load_getitem=False)"
   ]
  },
  {
   "cell_type": "markdown",
   "metadata": {
    "tags": []
   },
   "source": [
    "# Model Training"
   ]
  },
  {
   "cell_type": "markdown",
   "metadata": {},
   "source": [
    "## Set Up Patch-Based Data Loaders"
   ]
  },
  {
   "cell_type": "code",
   "execution_count": 56,
   "metadata": {
    "execution": {
     "iopub.execute_input": "2021-05-25T01:23:55.356508Z",
     "iopub.status.busy": "2021-05-25T01:23:55.355923Z",
     "iopub.status.idle": "2021-05-25T01:23:57.336196Z",
     "shell.execute_reply": "2021-05-25T01:23:57.335654Z",
     "shell.execute_reply.started": "2021-05-25T01:23:55.356445Z"
    },
    "tags": []
   },
   "outputs": [
    {
     "name": "stdout",
     "output_type": "stream",
     "text": [
      "Training subject ID(s):  [227432, 751348]\n",
      "Validation subject ID(s):  [224022]\n",
      "Test subject ID(s):  [810439]\n"
     ]
    }
   ],
   "source": [
    "# Data train/validation/test split\n",
    "\n",
    "num_subjs = len(subj_dataset)\n",
    "num_test_subjs = int(np.ceil(num_subjs * test_percent))\n",
    "num_val_subjs = int(np.ceil(num_subjs * val_percent))\n",
    "num_train_subjs = num_subjs - (num_test_subjs + num_val_subjs)\n",
    "subj_list = subj_dataset.dry_iter()\n",
    "# Randomly shuffle the list of subjects, then choose the first `num_test_subjs` subjects\n",
    "# for testing.\n",
    "random.shuffle(subj_list)\n",
    "\n",
    "# Create partial function to collect list of samples and form a tuple of tensors.\n",
    "collate_fn = functools.partial(\n",
    "    pitn.samplers.collate_subj, full_res_key=\"fr_dti\", low_res_key=\"lr_dti\"\n",
    ")\n",
    "\n",
    "test_dataset = torchio.SubjectsDataset(subj_list[:num_test_subjs], load_getitem=False)\n",
    "# Choose the remaining for training/validation.\n",
    "# If only 1 subject is available, assume this is a debugging run.\n",
    "if num_subjs == 1 and num_train_subjs == 0:\n",
    "    print(\"DEBUG: Only 1 subject with no training subjects, mixing train and test set\")\n",
    "    subj_list = subj_list[:]\n",
    "    num_train_subjs = num_test_subjs\n",
    "else:\n",
    "    subj_list = subj_list[num_test_subjs:]\n",
    "\n",
    "val_dataset = torchio.SubjectsDataset(subj_list[:num_val_subjs], load_getitem=False)\n",
    "subj_list = subj_list[num_val_subjs:]\n",
    "\n",
    "train_dataset = torchio.SubjectsDataset(subj_list, load_getitem=False)\n",
    "\n",
    "# Training patch sampler, random across all patches of all volumes.\n",
    "train_sampler = pitn.samplers.MultiresSampler(\n",
    "    source_img_key=\"fr_dti\",\n",
    "    low_res_key=\"lr_dti\",\n",
    "    downsample_factor=downsample_factor,\n",
    "    label_name=\"fr_brain_mask\",\n",
    "    source_spatial_patch_size=output_spatial_patch_shape,\n",
    "    low_res_spatial_patch_size=input_spatial_patch_shape,\n",
    "    label_probabilities={0: 0, 1: 1},\n",
    ")\n",
    "\n",
    "patches_per_subj = 8000\n",
    "# Hold enough for 2 epochs at a time.\n",
    "queue_max_length = patches_per_subj * num_train_subjs * 2\n",
    "\n",
    "# Set up a torchio.Queue to act as a sampler proxy for the torch DataLoader\n",
    "train_queue = torchio.Queue(\n",
    "    train_dataset,\n",
    "    max_length=queue_max_length,\n",
    "    samples_per_volume=patches_per_subj,\n",
    "    sampler=train_sampler,\n",
    "    shuffle_patches=True,\n",
    "    shuffle_subjects=True,\n",
    "    num_workers=0,\n",
    "    #     verbose=True,\n",
    ")\n",
    "\n",
    "train_loader = torch.utils.data.DataLoader(\n",
    "    train_queue,\n",
    "    batch_size=batch_size,\n",
    "    collate_fn=collate_fn,\n",
    "    pin_memory=True,\n",
    "    num_workers=0,\n",
    ")\n",
    "\n",
    "# Set up validation and testing objects.\n",
    "# Calculate the patch overlap needed for ~50% of the patch volume overlapping (which is\n",
    "# not the same as dividing each dimension by 2).\n",
    "input_vol_half_overlap = int(\n",
    "    np.floor(np.power(np.prod(input_spatial_patch_shape) / 2, 1 / 3))\n",
    ")\n",
    "# torchio requires an even-numbered overlap.\n",
    "if input_vol_half_overlap % 2 == 1:\n",
    "    input_vol_half_overlap += 1\n",
    "input_vol_half_overlap = np.repeat(input_vol_half_overlap, 3)\n",
    "\n",
    "# Repeat for the output.\n",
    "output_vol_half_overlap = np.floor(\n",
    "    np.power(np.prod(output_spatial_patch_shape) / 2, 1 / 3)\n",
    ").astype(int)\n",
    "# torchio requires an even-numbered overlap.\n",
    "if output_vol_half_overlap % 2 == 1:\n",
    "    output_vol_half_overlap += 1\n",
    "output_vol_half_overlap = np.repeat(output_vol_half_overlap, 3)\n",
    "\n",
    "# Validation samplers\n",
    "# No backward pass is performed here, so we can increase the batch size to lower\n",
    "# inference time.\n",
    "tv_batch_size = 128\n",
    "val_samplers = list()\n",
    "for subj in val_dataset.dry_iter():\n",
    "    val_samplers.append(\n",
    "        pitn.samplers.MultiresGridSampler(\n",
    "            subject=subj,\n",
    "            source_img_key=\"fr_dti\",\n",
    "            low_res_key=\"lr_dti\",\n",
    "            downsample_factor=downsample_factor,\n",
    "            source_spatial_patch_size=output_spatial_patch_shape,\n",
    "            low_res_spatial_patch_size=input_spatial_patch_shape,\n",
    "            patch_overlap=0,\n",
    "            # Due to the oversampling in the LR->HR patch mapping, a mask is necessary\n",
    "            # to avoid sampling from out of bounds.\n",
    "            source_mask=subj[\"fr_brain_mask\"].tensor[0].bool(),\n",
    "        )\n",
    "    )\n",
    "\n",
    "# Alter the collate function to include locations in batches for visualization of sub-\n",
    "# regions during validation.\n",
    "val_collate_locs = functools.partial(\n",
    "    pitn.viz.collate_locations, full_res_key=\"fr_dti\", low_res_key=\"lr_dti\"\n",
    ")\n",
    "concat_val_dataset = torch.utils.data.ConcatDataset(val_samplers)\n",
    "val_loader = torch.utils.data.DataLoader(\n",
    "    concat_val_dataset,\n",
    "    batch_size=tv_batch_size,\n",
    "    collate_fn=val_collate_locs,\n",
    "    pin_memory=True,\n",
    "    num_workers=0,\n",
    ")\n",
    "\n",
    "# Test samplers\n",
    "test_samplers = list()\n",
    "for subj in test_dataset.dry_iter():\n",
    "    test_samplers.append(\n",
    "        pitn.samplers.MultiresGridSampler(\n",
    "            subject=subj,\n",
    "            source_img_key=\"fr_dti\",\n",
    "            low_res_key=\"lr_dti\",\n",
    "            downsample_factor=downsample_factor,\n",
    "            source_spatial_patch_size=output_spatial_patch_shape,\n",
    "            low_res_spatial_patch_size=input_spatial_patch_shape,\n",
    "            patch_overlap=output_vol_half_overlap,\n",
    "            # Due to the oversampling in the LR->HR patch mapping, a mask is necessary\n",
    "            # to avoid sampling from out of bounds.\n",
    "            source_mask=subj[\"fr_brain_mask\"].tensor[0].bool(),\n",
    "        )\n",
    "    )\n",
    "\n",
    "concat_test_dataset = torch.utils.data.ConcatDataset(test_samplers)\n",
    "test_loader = torch.utils.data.DataLoader(\n",
    "    concat_test_dataset,\n",
    "    batch_size=tv_batch_size,\n",
    "    collate_fn=collate_fn,\n",
    "    pin_memory=True,\n",
    "    num_workers=6,\n",
    ")\n",
    "\n",
    "print(\"Training subject ID(s): \", [s.subj_id for s in train_dataset.dry_iter()])\n",
    "print(\"Validation subject ID(s): \", [s.subj_id for s in val_dataset.dry_iter()])\n",
    "print(\"Test subject ID(s): \", [s.subj_id for s in test_dataset.dry_iter()])"
   ]
  },
  {
   "cell_type": "code",
   "execution_count": 33,
   "metadata": {
    "execution": {
     "iopub.execute_input": "2021-05-24T21:25:52.097555Z",
     "iopub.status.busy": "2021-05-24T21:25:52.097381Z",
     "iopub.status.idle": "2021-05-24T21:25:52.103751Z",
     "shell.execute_reply": "2021-05-24T21:25:52.103222Z",
     "shell.execute_reply.started": "2021-05-24T21:25:52.097533Z"
    },
    "tags": []
   },
   "outputs": [],
   "source": [
    "with open(log_txt_file, \"a+\") as f:\n",
    "    f.write(f\"Training Set Subjects: {[s.subj_id for s in train_dataset.dry_iter()]}\\n\")\n",
    "    f.write(f\"Validation Set Subjects: {[s.subj_id for s in val_dataset.dry_iter()]}\\n\")\n",
    "    f.write(f\"Test Set Subjects: {[s.subj_id for s in test_dataset.dry_iter()]}\\n\")\n",
    "\n",
    "logger.add_text(\"train_subjs\", str([s.subj_id for s in train_dataset.dry_iter()]))\n",
    "logger.add_text(\"val_subjs\", str([s.subj_id for s in val_dataset.dry_iter()]))\n",
    "logger.add_text(\"test_subjs\", str([s.subj_id for s in test_dataset.dry_iter()]))"
   ]
  },
  {
   "cell_type": "markdown",
   "metadata": {
    "tags": []
   },
   "source": [
    "## Model Definition"
   ]
  },
  {
   "cell_type": "code",
   "execution_count": 78,
   "metadata": {
    "execution": {
     "iopub.execute_input": "2021-05-25T01:55:58.849178Z",
     "iopub.status.busy": "2021-05-25T01:55:58.848617Z",
     "iopub.status.idle": "2021-05-25T01:55:58.893738Z",
     "shell.execute_reply": "2021-05-25T01:55:58.893050Z",
     "shell.execute_reply.started": "2021-05-25T01:55:58.849116Z"
    },
    "tags": []
   },
   "outputs": [],
   "source": [
    "# Full pytorch-lightning module for contained training, validation, and testing.\n",
    "debug_prob_threshold = -0.0005\n",
    "\n",
    "\n",
    "class DIQTSystem(pl.LightningModule):\n",
    "\n",
    "    loss_methods = {\n",
    "        \"MSE\".casefold(): torch.nn.MSELoss(reduction=\"mean\"),\n",
    "        \"SSE\".casefold(): torch.nn.MSELoss(reduction=\"sum\"),\n",
    "        \"RMSE\".casefold(): lambda y_hat, y: torch.sqrt(\n",
    "            F.mse_loss(y_hat, y, reduction=\"mean\")\n",
    "        ),\n",
    "        \"L1\".casefold(): torch.nn.L1Loss(reduction=\"mean\"),\n",
    "    }\n",
    "\n",
    "    def __init__(\n",
    "        self,\n",
    "        channels,\n",
    "        downsample_factor,\n",
    "        train_loss_method: str,\n",
    "        opt_params: dict,\n",
    "        val_viz_bboxes=None,\n",
    "        val_patch_overlap=(0, 0, 0),\n",
    "        norm_method=None,\n",
    "    ):\n",
    "        super().__init__()\n",
    "\n",
    "        self._channels = channels\n",
    "        self._downsample_factor = downsample_factor\n",
    "\n",
    "        # Parameters\n",
    "        # Network parameters\n",
    "        self.net = pitn.nn.models.ThreeConv(\n",
    "            self._channels, self._downsample_factor, norm_method=norm_method\n",
    "        )\n",
    "\n",
    "        ## Training parameters\n",
    "        self.opt_params = opt_params\n",
    "\n",
    "        try:\n",
    "            self._loss_fn = self.loss_methods[train_loss_method.casefold()]\n",
    "        except (AttributeError, KeyError) as e:\n",
    "            if callable(train_loss_method):\n",
    "                self._loss_fn = train_loss_method\n",
    "            else:\n",
    "                raise e\n",
    "        # Sub-regions of the volume that should be logged in validation.\n",
    "        if val_viz_bboxes is None:\n",
    "            self.val_bboxes = torch.zeros(0, 6)\n",
    "        else:\n",
    "            self.val_bboxes = val_viz_bboxes\n",
    "        self.val_patch_overlap = val_patch_overlap\n",
    "        #         self.val_vmin = -torch.ones(self.val_bboxes.shape[0])\n",
    "        #         self.val_vmax = torch.ones(self.val_bboxes.shape[0])\n",
    "        # My own dinky logging object.\n",
    "        self.plain_log = {\"train_loss\": list(), \"val_loss\": list(), \"test_loss\": list()}\n",
    "\n",
    "    @staticmethod\n",
    "    def normalize_with_layer(norm_layer, y):\n",
    "\n",
    "        if norm_layer is not None:\n",
    "            if not norm_layer.track_running_stats:\n",
    "                y = norm_layer(y)\n",
    "            else:\n",
    "                if isinstance(norm_layer, torch.nn.InstanceNorm3d):\n",
    "                    y = F.instance_norm(\n",
    "                        y,\n",
    "                        eps=norm_layer.eps,\n",
    "                    )\n",
    "                elif isinstance(norm_layer, torch.nn.BatchNorm3d):\n",
    "                    y = F.batch_norm(\n",
    "                        y,\n",
    "                        eps=norm_layer.eps,\n",
    "                    )\n",
    "\n",
    "        return y\n",
    "\n",
    "    def forward(self, x):\n",
    "        y = self.net(x)\n",
    "        return y\n",
    "\n",
    "    def training_step(self, batch, batch_idx):\n",
    "        x, y = batch\n",
    "\n",
    "        # We need both prediction and ground truth to be a standard normal distribution\n",
    "        # for a fair calculation of the loss.\n",
    "        y_pred = self.net(x, norm_output=False)\n",
    "        if self.net.norm is not None:\n",
    "            y = self.normalize_with_layer(self.net.norm, y)\n",
    "\n",
    "        loss = self._loss_fn(y_pred, y)\n",
    "        if random.random() < debug_prob_threshold:\n",
    "            #             breakpoint()\n",
    "            print(\"Target Patch Dists\")\n",
    "            print(desc_channel_dists(y.detach()))\n",
    "            print(\"Predicted Patch Dists\")\n",
    "            print(desc_channel_dists(y_pred.detach()))\n",
    "\n",
    "        self.log(\"train_loss\", loss, prog_bar=True)\n",
    "        self.plain_log[\"train_loss\"].append(float(loss.cpu()))\n",
    "        return loss\n",
    "\n",
    "    def validation_step(self, batch, batch_idx):\n",
    "        # The validation samples also include the voxel coordinates within the volume(s).\n",
    "        x, y, y_locs = batch\n",
    "\n",
    "        y_pred = self.net(x, norm_output=False)\n",
    "\n",
    "        val_loss = torch.sqrt(F.mse_loss(y_pred, y, reduction=\"mean\"))\n",
    "        self.log(\"val_loss\", val_loss, prog_bar=True)\n",
    "        self.plain_log[\"val_loss\"].append(float(val_loss.cpu()))\n",
    "\n",
    "        bbox_patches = list()\n",
    "        y_locs = y_locs.detach().cpu()\n",
    "        for bbox in self.val_bboxes:\n",
    "\n",
    "            bbox = bbox.detach().cpu()\n",
    "            locs_to_keep = torch.prod(\n",
    "                y_locs[:, :3] >= bbox[None, :3], dim=1\n",
    "            ) & torch.prod(y_locs[:, 3:] <= bbox[None, 3:], dim=1)\n",
    "            locs_to_keep = locs_to_keep.to(y_pred).bool()\n",
    "            bbox_patches.append(\n",
    "                {\n",
    "                    \"full_res\": y[locs_to_keep].detach().cpu(),\n",
    "                    \"pred\": y_pred[locs_to_keep].detach().cpu(),\n",
    "                    \"locations\": y_locs[locs_to_keep].detach().cpu(),\n",
    "                }\n",
    "            )\n",
    "            assert (bbox_patches[-1][\"locations\"] >= 0).all()\n",
    "        return {\"loss\": val_loss, \"bbox\": bbox_patches}\n",
    "\n",
    "    def validation_epoch_end(self, outputs):\n",
    "        batched_bbox_patches = [b[\"bbox\"] for b in outputs]\n",
    "\n",
    "        sub_regions = list()\n",
    "        for (\n",
    "            i,\n",
    "            bbox,\n",
    "        ) in enumerate(self.val_bboxes):\n",
    "\n",
    "            bbox = bbox.detach().cpu()\n",
    "            bbox_offset = bbox[:3]\n",
    "\n",
    "            fr_patches = torch.cat(\n",
    "                [batch[i][\"full_res\"] for batch in batched_bbox_patches]\n",
    "            )\n",
    "\n",
    "            pred_patches = torch.cat(\n",
    "                [batch[i][\"pred\"] for batch in batched_bbox_patches]\n",
    "            )\n",
    "            locs = torch.cat([batch[i][\"locations\"] for batch in batched_bbox_patches])\n",
    "\n",
    "            fr_agg = pitn.viz.SubGridAggregator(\n",
    "                bbox[3:] - bbox[:3],\n",
    "                location_offset=bbox_offset,\n",
    "                patch_overlap=self.val_patch_overlap,\n",
    "            )\n",
    "            fr_agg.add_batch(fr_patches, locs)\n",
    "            fr_sub_vol = fr_agg.get_output_tensor()\n",
    "\n",
    "            pred_agg = pitn.viz.SubGridAggregator(\n",
    "                bbox[3:] - bbox[:3],\n",
    "                location_offset=bbox_offset,\n",
    "                patch_overlap=self.val_patch_overlap,\n",
    "            )\n",
    "            pred_agg.add_batch(pred_patches, locs)\n",
    "            pred_sub_vol = pred_agg.get_output_tensor()\n",
    "\n",
    "            sub_regions.append({\"full_res\": fr_sub_vol, \"pred\": pred_sub_vol})\n",
    "\n",
    "        for i, reg in enumerate(sub_regions):\n",
    "            # Slice into full volume and just grab a B x C x H x W slice.\n",
    "            slice_idx = (\n",
    "                slice(None),\n",
    "                None,\n",
    "                slice(None),\n",
    "                reg[\"full_res\"].shape[1] // 2,\n",
    "                slice(None),\n",
    "            )\n",
    "\n",
    "            row_fr = torchvision.utils.make_grid(\n",
    "                reg[\"full_res\"][slice_idx], pad_value=4, nrow=1\n",
    "            )\n",
    "            row_pred = torchvision.utils.make_grid(\n",
    "                reg[\"pred\"][slice_idx], pad_value=4, nrow=1\n",
    "            )\n",
    "            # Calculate voxel-wise root squared-error\n",
    "            rse = torch.sqrt(F.mse_loss(reg[\"pred\"], reg[\"full_res\"], reduction=\"none\"))\n",
    "            row_rse = torchvision.utils.make_grid(rse[slice_idx], pad_value=4, nrow=1)\n",
    "\n",
    "            reg_grid = torchvision.utils.make_grid(\n",
    "                [row_fr, row_pred, row_rse], nrow=3, pad_value=4\n",
    "            )[0]\n",
    "\n",
    "            fig = plt.figure(figsize=(4.5, 8), clear=True)\n",
    "            #             max_dti = np.quantile(np.concatenate([di.reshape(6, -1) for di in dtis], axis=1), 0.95)\n",
    "            #             min_dti = np.quantile(np.concatenate([di.reshape(6, -1) for di in dtis], axis=1), 0.05)\n",
    "            #             figsize=(12, 6), dpi=160\n",
    "            #             color_norm = mpl.colors.Normalize(vmin=min_dti, vmax=max_dti)\n",
    "            #             fig.colorbar(\n",
    "            #                 mpl.cm.ScalarMappable(norm=color_norm, cmap=cmap),\n",
    "            #                 ax=axs,\n",
    "            #                 location=\"right\",\n",
    "            #                 fraction=0.1,\n",
    "            #                 pad=0.03,\n",
    "            #             )\n",
    "            plt.imshow(reg_grid.cpu().numpy(), cmap=\"jet\")\n",
    "\n",
    "            plt.colorbar()\n",
    "            self.logger.experiment.add_figure(f\"val_samples_{i}\", fig, self.global_step)\n",
    "\n",
    "    def test_step(self, batch, batch_idx):\n",
    "\n",
    "        x, y = batch\n",
    "\n",
    "        # We can't normalize the outputs or ground truth because it would change\n",
    "        # our units out of $mm^2/s$.\n",
    "        y_pred = self.net(x, norm_output=False)\n",
    "        #         if self.net.norm is not None:\n",
    "        #             y = self.normalize_with_layer(self.net.norm, y)\n",
    "\n",
    "        test_loss = torch.sqrt(F.mse_loss(y_pred, y, reduction=\"mean\"))\n",
    "        self.log(\"test_loss\", test_loss)\n",
    "        self.plain_log[\"test_loss\"].append(float(test_loss.cpu()))\n",
    "\n",
    "        return test_loss\n",
    "\n",
    "    def viz_step(self, x, norm_output=True):\n",
    "        \"\"\"Step for running inference for the purpose of a visualization.\n",
    "\n",
    "        Mainly deals with normalization.\"\"\"\n",
    "\n",
    "        with torch.no_grad():\n",
    "            if self.net.training:\n",
    "                was_training = True\n",
    "            else:\n",
    "                was_training = False\n",
    "\n",
    "            self.net.eval()\n",
    "\n",
    "            y_pred = self.net(x, norm_output=norm_output)\n",
    "\n",
    "            if isinstance(self.net.norm, torch.nn.InstanceNorm3d):\n",
    "                target_mean = torch.mean(x, dim=(2, 3, 4), keepdim=True)\n",
    "                target_var = torch.var(x, dim=(2, 3, 4), keepdim=True)\n",
    "                eps = self.net.norm.eps\n",
    "\n",
    "            elif isinstance(self.net.norm, torch.nn.BatchNorm3d):\n",
    "                target_mean = torch.mean(x, dim=(0, 2, 3, 4), keepdim=True)\n",
    "                target_var = torch.var(x, dim=(0, 2, 3, 4), keepdim=True)\n",
    "                eps = self.net.norm.eps\n",
    "            else:\n",
    "                target_mean = torch.zeros(1, 1, 1, 1, 1).to(x)\n",
    "                target_var = torch.ones(1, 1, 1, 1, 1).to(x)\n",
    "                eps = 1e-10\n",
    "\n",
    "            y_pred = pitn.data.norm.denormalize_batch(\n",
    "                y_pred, target_mean, target_var, eps=eps\n",
    "            )\n",
    "\n",
    "            if was_training:\n",
    "                self.net.train()\n",
    "\n",
    "        return y_pred\n",
    "\n",
    "    def configure_optimizers(self):\n",
    "        optimizer = torch.optim.Adam(self.net.parameters(), **self.opt_params)\n",
    "        return optimizer"
   ]
  },
  {
   "cell_type": "markdown",
   "metadata": {},
   "source": [
    "## Training Loop"
   ]
  },
  {
   "cell_type": "code",
   "execution_count": 58,
   "metadata": {
    "execution": {
     "iopub.execute_input": "2021-05-25T01:24:00.784753Z",
     "iopub.status.busy": "2021-05-25T01:24:00.784176Z",
     "iopub.status.idle": "2021-05-25T01:24:00.803879Z",
     "shell.execute_reply": "2021-05-25T01:24:00.802759Z",
     "shell.execute_reply.started": "2021-05-25T01:24:00.784685Z"
    },
    "tags": []
   },
   "outputs": [
    {
     "data": {
      "text/plain": [
       "(tensor([[ 70,  84,  70, 112, 126, 112]]), torch.Size([1, 6]))"
      ]
     },
     "execution_count": 58,
     "metadata": {},
     "output_type": "execute_result"
    }
   ],
   "source": [
    "# Create bbox coordinates for visualizing validation aggregate patches.\n",
    "region_size = torch.as_tensor(output_spatial_patch_shape) * 3\n",
    "vol_shape = torch.as_tensor(val_dataset.dry_iter()[0][\"fr_dti\"].shape[1:])\n",
    "possible_bbox_ini = [\n",
    "    torch.arange(0, vol_shape[0], output_spatial_patch_shape[0]),\n",
    "    torch.arange(0, vol_shape[1], output_spatial_patch_shape[1]),\n",
    "    torch.arange(0, vol_shape[2], output_spatial_patch_shape[2]),\n",
    "]\n",
    "\n",
    "bbox_idx_ini = list()\n",
    "for possible_bbox_part in possible_bbox_ini:\n",
    "    num_parts = len(possible_bbox_part)\n",
    "    bbox_idx_ini.append(possible_bbox_part[round(num_parts * 0.4)])\n",
    "bbox_idx_ini = torch.as_tensor(bbox_idx_ini)\n",
    "\n",
    "bbox_coord = torch.cat([bbox_idx_ini, bbox_idx_ini + region_size])\n",
    "bbox_coords = bbox_coord.reshape(1, *bbox_coord.shape)\n",
    "bbox_coords, bbox_coords.shape"
   ]
  },
  {
   "cell_type": "code",
   "execution_count": 79,
   "metadata": {
    "execution": {
     "iopub.execute_input": "2021-05-25T01:56:01.455032Z",
     "iopub.status.busy": "2021-05-25T01:56:01.454461Z",
     "iopub.status.idle": "2021-05-25T01:56:26.573809Z",
     "shell.execute_reply": "2021-05-25T01:56:26.573279Z",
     "shell.execute_reply.started": "2021-05-25T01:56:01.454971Z"
    },
    "tags": []
   },
   "outputs": [
    {
     "name": "stderr",
     "output_type": "stream",
     "text": [
      "GPU available: True, used: True\n",
      "TPU available: False, using: 0 TPU cores\n",
      "LOCAL_RANK: 0 - CUDA_VISIBLE_DEVICES: [0]\n",
      "\n",
      "  | Name     | Type      | Params\n",
      "---------------------------------------\n",
      "0 | net      | ThreeConv | 142 K \n",
      "1 | _loss_fn | MSELoss   | 0     \n",
      "---------------------------------------\n",
      "142 K     Trainable params\n",
      "0         Non-trainable params\n",
      "142 K     Total params\n",
      "0.572     Total estimated model params size (MB)\n"
     ]
    },
    {
     "data": {
      "application/vnd.jupyter.widget-view+json": {
       "model_id": "3c3262878e284a37a2105cca355fcf9d",
       "version_major": 2,
       "version_minor": 0
      },
      "text/plain": [
       "Validation sanity check: 0it [00:00, ?it/s]"
      ]
     },
     "metadata": {},
     "output_type": "display_data"
    },
    {
     "name": "stdout",
     "output_type": "stream",
     "text": [
      "> \u001b[0;32m<ipython-input-78-28d19ad37dd4>\u001b[0m(139)\u001b[0;36mvalidation_epoch_end\u001b[0;34m()\u001b[0m\n",
      "\u001b[0;32m    138 \u001b[0;31m            \u001b[0mbreakpoint\u001b[0m\u001b[0;34m(\u001b[0m\u001b[0;34m)\u001b[0m\u001b[0;34m\u001b[0m\u001b[0;34m\u001b[0m\u001b[0m\n",
      "\u001b[0m\u001b[0;32m--> 139 \u001b[0;31m            \u001b[0mbbox\u001b[0m \u001b[0;34m=\u001b[0m \u001b[0mbbox\u001b[0m\u001b[0;34m.\u001b[0m\u001b[0mdetach\u001b[0m\u001b[0;34m(\u001b[0m\u001b[0;34m)\u001b[0m\u001b[0;34m.\u001b[0m\u001b[0mcpu\u001b[0m\u001b[0;34m(\u001b[0m\u001b[0;34m)\u001b[0m\u001b[0;34m\u001b[0m\u001b[0;34m\u001b[0m\u001b[0m\n",
      "\u001b[0m\u001b[0;32m    140 \u001b[0;31m            \u001b[0mbbox_offset\u001b[0m \u001b[0;34m=\u001b[0m \u001b[0mbbox\u001b[0m\u001b[0;34m[\u001b[0m\u001b[0;34m:\u001b[0m\u001b[0;36m3\u001b[0m\u001b[0;34m]\u001b[0m\u001b[0;34m\u001b[0m\u001b[0;34m\u001b[0m\u001b[0m\n",
      "\u001b[0m\n"
     ]
    },
    {
     "name": "stdin",
     "output_type": "stream",
     "text": [
      "ipdb>  c\n"
     ]
    },
    {
     "name": "stderr",
     "output_type": "stream",
     "text": [
      "/opt/miniconda/envs/pitn/lib/python3.8/site-packages/pytorch_lightning/utilities/distributed.py:69: UserWarning:\n",
      "\n",
      "The dataloader, train dataloader, does not have many workers which may be a bottleneck. Consider increasing the value of the `num_workers` argument` (try 8 which is the number of cpus on this machine) in the `DataLoader` init to improve performance.\n",
      "\n"
     ]
    },
    {
     "data": {
      "application/vnd.jupyter.widget-view+json": {
       "model_id": "384d01705681408c8cc825bc64ae355f",
       "version_major": 2,
       "version_minor": 0
      },
      "text/plain": [
       "Training: 0it [00:00, ?it/s]"
      ]
     },
     "metadata": {},
     "output_type": "display_data"
    },
    {
     "data": {
      "application/vnd.jupyter.widget-view+json": {
       "model_id": "fee5fe20c9da4608bfd0b22165e1327e",
       "version_major": 2,
       "version_minor": 0
      },
      "text/plain": [
       "Validating: 0it [00:00, ?it/s]"
      ]
     },
     "metadata": {},
     "output_type": "display_data"
    },
    {
     "name": "stdout",
     "output_type": "stream",
     "text": [
      "> \u001b[0;32m<ipython-input-78-28d19ad37dd4>\u001b[0m(139)\u001b[0;36mvalidation_epoch_end\u001b[0;34m()\u001b[0m\n",
      "\u001b[0;32m    138 \u001b[0;31m            \u001b[0mbreakpoint\u001b[0m\u001b[0;34m(\u001b[0m\u001b[0;34m)\u001b[0m\u001b[0;34m\u001b[0m\u001b[0;34m\u001b[0m\u001b[0m\n",
      "\u001b[0m\u001b[0;32m--> 139 \u001b[0;31m            \u001b[0mbbox\u001b[0m \u001b[0;34m=\u001b[0m \u001b[0mbbox\u001b[0m\u001b[0;34m.\u001b[0m\u001b[0mdetach\u001b[0m\u001b[0;34m(\u001b[0m\u001b[0;34m)\u001b[0m\u001b[0;34m.\u001b[0m\u001b[0mcpu\u001b[0m\u001b[0;34m(\u001b[0m\u001b[0;34m)\u001b[0m\u001b[0;34m\u001b[0m\u001b[0;34m\u001b[0m\u001b[0m\n",
      "\u001b[0m\u001b[0;32m    140 \u001b[0;31m            \u001b[0mbbox_offset\u001b[0m \u001b[0;34m=\u001b[0m \u001b[0mbbox\u001b[0m\u001b[0;34m[\u001b[0m\u001b[0;34m:\u001b[0m\u001b[0;36m3\u001b[0m\u001b[0;34m]\u001b[0m\u001b[0;34m\u001b[0m\u001b[0;34m\u001b[0m\u001b[0m\n",
      "\u001b[0m\n"
     ]
    },
    {
     "name": "stdin",
     "output_type": "stream",
     "text": [
      "ipdb>  c\n"
     ]
    },
    {
     "data": {
      "application/vnd.jupyter.widget-view+json": {
       "model_id": "9a5c9082b9b04a7d9689a2ada926f9ab",
       "version_major": 2,
       "version_minor": 0
      },
      "text/plain": [
       "Validating: 0it [00:00, ?it/s]"
      ]
     },
     "metadata": {},
     "output_type": "display_data"
    },
    {
     "name": "stdout",
     "output_type": "stream",
     "text": [
      "> \u001b[0;32m<ipython-input-78-28d19ad37dd4>\u001b[0m(139)\u001b[0;36mvalidation_epoch_end\u001b[0;34m()\u001b[0m\n",
      "\u001b[0;32m    138 \u001b[0;31m            \u001b[0mbreakpoint\u001b[0m\u001b[0;34m(\u001b[0m\u001b[0;34m)\u001b[0m\u001b[0;34m\u001b[0m\u001b[0;34m\u001b[0m\u001b[0m\n",
      "\u001b[0m\u001b[0;32m--> 139 \u001b[0;31m            \u001b[0mbbox\u001b[0m \u001b[0;34m=\u001b[0m \u001b[0mbbox\u001b[0m\u001b[0;34m.\u001b[0m\u001b[0mdetach\u001b[0m\u001b[0;34m(\u001b[0m\u001b[0;34m)\u001b[0m\u001b[0;34m.\u001b[0m\u001b[0mcpu\u001b[0m\u001b[0;34m(\u001b[0m\u001b[0;34m)\u001b[0m\u001b[0;34m\u001b[0m\u001b[0;34m\u001b[0m\u001b[0m\n",
      "\u001b[0m\u001b[0;32m    140 \u001b[0;31m            \u001b[0mbbox_offset\u001b[0m \u001b[0;34m=\u001b[0m \u001b[0mbbox\u001b[0m\u001b[0;34m[\u001b[0m\u001b[0;34m:\u001b[0m\u001b[0;36m3\u001b[0m\u001b[0;34m]\u001b[0m\u001b[0;34m\u001b[0m\u001b[0;34m\u001b[0m\u001b[0m\n",
      "\u001b[0m\n"
     ]
    },
    {
     "name": "stdin",
     "output_type": "stream",
     "text": [
      "ipdb>  c\n"
     ]
    },
    {
     "name": "stdout",
     "output_type": "stream",
     "text": [
      "Train duration: 0:00:25\n"
     ]
    }
   ],
   "source": [
    "train_start_timestamp = datetime.datetime.now().replace(microsecond=0)\n",
    "\n",
    "model = DIQTSystem(\n",
    "    channels=channels,\n",
    "    downsample_factor=downsample_factor,\n",
    "    norm_method=network_norm_method,\n",
    "    train_loss_method=train_loss_name,\n",
    "    opt_params=opt_params,\n",
    "    val_viz_bboxes=bbox_coords,\n",
    "    val_patch_overlap=val_samplers[0].patch_overlap,\n",
    ")\n",
    "\n",
    "with open(log_txt_file, \"a+\") as f:\n",
    "    f.write(f\"Model overview: {model}\\n\")\n",
    "\n",
    "# Create trainer object. Note: `automatic_optimization` needs to be set to `False` when\n",
    "# manually performing backprop. See\n",
    "# <https://colab.research.google.com/drive/1nGtvBFirIvtNQdppe2xBes6aJnZMjvl8?usp=sharing>\n",
    "trainer = pl.Trainer(\n",
    "    gpus=1,\n",
    "    max_epochs=2,\n",
    "    logger=pl_logger,\n",
    "    log_every_n_steps=50,\n",
    "    check_val_every_n_epoch=1,\n",
    "    progress_bar_refresh_rate=20,\n",
    "    terminate_on_nan=True,\n",
    ")\n",
    "\n",
    "trainer.fit(model, train_dataloader=train_loader, val_dataloaders=val_loader)\n",
    "train_duration = datetime.datetime.now().replace(microsecond=0) - train_start_timestamp\n",
    "print(f\"Train duration: {train_duration}\")"
   ]
  },
  {
   "cell_type": "code",
   "execution_count": null,
   "metadata": {
    "tags": []
   },
   "outputs": [],
   "source": [
    "with open(log_txt_file, \"a+\") as f:\n",
    "    f.write(\"\\n\")\n",
    "    f.write(f\"Training time: {train_duration}\\n\")\n",
    "    f.write(\n",
    "        f\"\\t{train_duration.days} Days, \"\n",
    "        + f\"{train_duration.seconds // 3600} Hours,\"\n",
    "        + f\"{(train_duration.seconds // 60) % 60} Minutes,\"\n",
    "        + f'{train_duration.seconds % 60} Seconds\"\\n'\n",
    "    )"
   ]
  },
  {
   "cell_type": "code",
   "execution_count": null,
   "metadata": {
    "tags": []
   },
   "outputs": [],
   "source": [
    "# Plot rolling average window of training loss values.\n",
    "plt.figure(dpi=110)\n",
    "window = 1000\n",
    "rolling_mean = (\n",
    "    np.convolve(model.plain_log[\"train_loss\"], np.ones(window), \"valid\") / window\n",
    ")\n",
    "rolling_start = 100\n",
    "plt.plot(\n",
    "    np.arange(\n",
    "        window + rolling_start,\n",
    "        window + rolling_start + len(rolling_mean[rolling_start:]),\n",
    "    ),\n",
    "    rolling_mean[rolling_start:],\n",
    ")\n",
    "plt.title(\"Training Loss \" + train_loss_name + f\"\\nRolling Mean {window}\")\n",
    "plt.xlabel(\"Epoch\")\n",
    "plt.ylabel(\"Loss\")\n",
    "# plt.ylim(0, 1)\n",
    "print(np.median(rolling_mean))\n",
    "print(\n",
    "    np.mean(model.plain_log[\"train_loss\"][: window + rolling_start]),\n",
    "    np.var(model.plain_log[\"train_loss\"][: window + rolling_start]),\n",
    "    np.max(model.plain_log[\"train_loss\"][: window + rolling_start]),\n",
    ")\n",
    "\n",
    "plt.savefig(experiment_results_dir / \"train_loss.png\")"
   ]
  },
  {
   "cell_type": "markdown",
   "metadata": {},
   "source": [
    "# Model Testing/Evaluation"
   ]
  },
  {
   "cell_type": "markdown",
   "metadata": {
    "tags": []
   },
   "source": [
    "## Testing Loop"
   ]
  },
  {
   "cell_type": "code",
   "execution_count": null,
   "metadata": {
    "tags": []
   },
   "outputs": [],
   "source": [
    "trainer.test(test_dataloaders=test_loader)"
   ]
  },
  {
   "cell_type": "code",
   "execution_count": null,
   "metadata": {
    "tags": []
   },
   "outputs": [],
   "source": [
    "test_loss_name = \"RMSE\"\n",
    "test_loss_log_file = experiment_results_dir / \"test_loss.csv\"\n",
    "\n",
    "with open(experiment_results_log, \"a+\") as f:\n",
    "    f.write(f\"Test loss function: {test_loss_name}\\n\")\n",
    "\n",
    "row_iter = enumerate(model.plain_log[\"test_loss\"])\n",
    "test_loss_tabular = \"\".join([f\"{batch_idx}, {loss}\\n\" for batch_idx, loss in row_iter])\n",
    "\n",
    "with open(test_loss_log_file, \"a+\") as f:\n",
    "    f.write(\"batch_idx, loss\\n\")\n",
    "    f.write(test_loss_tabular)"
   ]
  },
  {
   "cell_type": "markdown",
   "metadata": {},
   "source": [
    "## Cubic Spline Baseline"
   ]
  },
  {
   "cell_type": "code",
   "execution_count": null,
   "metadata": {
    "tags": []
   },
   "outputs": [],
   "source": [
    "cubic_spline_test_log = list()\n",
    "\n",
    "for subj in test_dataset.dry_iter():\n",
    "    print(\"---\")\n",
    "    target_shape = subj[\"fr_dti\"][\"data\"].cpu().numpy().shape\n",
    "    interp_cubic_spline = scipy.ndimage.zoom(\n",
    "        subj[\"lr_dti\"][\"data\"].cpu().numpy(),\n",
    "        zoom=(1, downsample_factor, downsample_factor, downsample_factor),\n",
    "        order=spline_interp_order,\n",
    "    )\n",
    "    if interp_cubic_spline.shape != target_shape:\n",
    "        # Crop off the end few voxels to account for the lack of padding used in full-\n",
    "        # volume inference.\n",
    "        interp_cubic_spline = interp_cubic_spline[\n",
    "            :, : target_shape[1], : target_shape[2], : target_shape[3]\n",
    "        ]\n",
    "    print(f\"Subj {subj['subj_id']} done\")\n",
    "\n",
    "    cubic_spline_test_log.append(interp_cubic_spline)\n",
    "\n",
    "cspline_loss = list()\n",
    "\n",
    "# Calculate spline loss for test images.\n",
    "for subj, cspline_pred in zip(test_dataset.dry_iter(), cubic_spline_test_log):\n",
    "    # De-normalize the ground truth volume.\n",
    "    gt = subj[\"fr_dti\"][\"data\"]\n",
    "    gt = gt.detach().cpu().numpy()\n",
    "    gt = (gt * (subj[\"fr_vars\"] + 1 ** (-10))) + subj[\"fr_means\"]\n",
    "    # De-normalize the spline prediction to match the channel-wise distribution of the\n",
    "    # ground truth.\n",
    "    cspline_pred = (cspline_pred * (subj[\"fr_vars\"] + 10 ** (-10))) + subj[\"fr_means\"]\n",
    "    # Calculate the RMSE of just the values found in the mask.\n",
    "    se = (gt - cspline_pred) ** 2\n",
    "    se = se[:, subj[\"fr_brain_mask\"][\"data\"].bool().cpu().numpy()[0]]\n",
    "    loss = np.sqrt(se.mean())\n",
    "    cspline_loss.append(loss)\n",
    "\n",
    "# Find the grand mean of the spline RMSE's\n",
    "cspline_loss_mean = np.mean(cspline_loss)\n",
    "print(cspline_loss_mean)"
   ]
  },
  {
   "cell_type": "markdown",
   "metadata": {},
   "source": [
    "## Evaluation Visualization"
   ]
  },
  {
   "cell_type": "code",
   "execution_count": null,
   "metadata": {
    "tags": []
   },
   "outputs": [],
   "source": [
    "# Plot testing loss values over all patches.\n",
    "fig, ax_prob = plt.subplots(figsize=(8, 4), dpi=120)\n",
    "log_scale = False\n",
    "\n",
    "sns.histplot(\n",
    "    np.asarray(model.plain_log[\"test_loss\"]),\n",
    "    kde=True,\n",
    "    stat=\"probability\",\n",
    "    log_scale=log_scale,\n",
    "    ax=ax_prob,\n",
    "    label=\"Current Model\",\n",
    "    legend=False,\n",
    ")\n",
    "plt.xlabel(\"Loss in $mm^2/second$\")\n",
    "\n",
    "# Draw an entire other plot, invisibly, to have another y-axis.\n",
    "ax_count = ax_prob.twinx()\n",
    "sns.histplot(\n",
    "    np.asarray(model.plain_log[\"test_loss\"]),\n",
    "    alpha=0,\n",
    "    ax=ax_count,\n",
    "    stat=\"count\",\n",
    "    log_scale=log_scale,\n",
    "    zorder=1.1,\n",
    ")\n",
    "\n",
    "# Draw means of different comparison models.\n",
    "comparison_kwargs = {\"ls\": \"--\", \"alpha\": 0.8, \"lw\": 2.5}\n",
    "# Plot the current DNN model performance.\n",
    "plt.axvline(\n",
    "    np.asarray(model.plain_log[\"test_loss\"]).mean(),\n",
    "    label=\"Current Model Mean\",\n",
    "    color=\"blue\",\n",
    "    **comparison_kwargs,\n",
    ")\n",
    "# Our spline mean performance.\n",
    "plt.axvline(\n",
    "    cspline_loss_mean,\n",
    "    label=\"(Ours) C-spline Mean\",\n",
    "    color=\"black\",\n",
    "    **comparison_kwargs,\n",
    ")\n",
    "# Tanno, et. al., 2021 model comparisons.\n",
    "# Taken from Table 2, HCP exterior.\n",
    "plt.axvline(\n",
    "    31.738e-4,\n",
    "    label=\"(Tanno etal, 2021) C-spline Mean\",\n",
    "    color=\"red\",\n",
    "    **comparison_kwargs,\n",
    ")\n",
    "plt.axvline(\n",
    "    23.139e-4,\n",
    "    label=\"(Tanno etal, 2021) RF\",\n",
    "    color=\"orange\",\n",
    "    **comparison_kwargs,\n",
    ")\n",
    "plt.axvline(\n",
    "    13.609e-4,\n",
    "    label=\"(Tanno etal, 2021) ESPCN Baseline\",\n",
    "    color=\"green\",\n",
    "    **comparison_kwargs,\n",
    ")\n",
    "plt.axvline(\n",
    "    13.412e-4,\n",
    "    label=\"(Tanno etal, 2021) Best\",\n",
    "    color=\"purple\",\n",
    "    **comparison_kwargs,\n",
    ")\n",
    "# Best performing Blumberg, et. al., 2018 paper model.\n",
    "plt.axvline(\n",
    "    12.78e-4,\n",
    "    label=\"(Blumberg etal, 2018) Best\",\n",
    "    color=\"pink\",\n",
    "    **comparison_kwargs,\n",
    ")\n",
    "\n",
    "plt.legend(fontsize=\"small\")\n",
    "plt.title(f\"Test Loss Histogram with Test Metric {test_loss_name}\")\n",
    "plt.savefig(experiment_results_dir / \"test_loss_hist.png\")"
   ]
  },
  {
   "cell_type": "code",
   "execution_count": null,
   "metadata": {
    "tags": []
   },
   "outputs": [],
   "source": [
    "print(np.asarray(model.plain_log[\"test_loss\"]).max())\n",
    "print(np.asarray(model.plain_log[\"test_loss\"]).mean())"
   ]
  },
  {
   "cell_type": "markdown",
   "metadata": {
    "tags": []
   },
   "source": [
    "# Whole-Volume Visualization"
   ]
  },
  {
   "cell_type": "code",
   "execution_count": null,
   "metadata": {
    "tags": []
   },
   "outputs": [],
   "source": [
    "# Create full 3D volume of full-res ground truth, low-res downsample, and high-res\n",
    "# inferences.\n",
    "@dataclass\n",
    "class SubjResult:\n",
    "    subj_id: int\n",
    "    full_res: torch.Tensor\n",
    "    low_res: torch.Tensor\n",
    "    full_res_predicted: torch.Tensor\n",
    "    full_res_cubic_spline: np.ndarray\n",
    "\n",
    "\n",
    "test_vol_results = list()\n",
    "\n",
    "with torch.no_grad():\n",
    "\n",
    "    for subj in test_dataset.dry_iter():\n",
    "\n",
    "        # Create a grid sampler for this subject.\n",
    "        subj_sampler = pitn.samplers.MultiresGridSampler(\n",
    "            subject=subj,\n",
    "            source_img_key=\"fr_dti\",\n",
    "            low_res_key=\"lr_dti\",\n",
    "            downsample_factor=downsample_factor,\n",
    "            source_spatial_patch_size=output_spatial_patch_shape,\n",
    "            low_res_spatial_patch_size=input_spatial_patch_shape,\n",
    "            source_mask=subj[\"fr_brain_mask\"].tensor,\n",
    "            patch_overlap=0,\n",
    "        )\n",
    "\n",
    "        loader = torch.utils.data.DataLoader(\n",
    "            subj_sampler, batch_size=256, pin_memory=True\n",
    "        )\n",
    "        aggregator = torchio.GridAggregator(subj_sampler)\n",
    "\n",
    "        # Iterate over all batches of patches.\n",
    "        for batch in loader:\n",
    "\n",
    "            x = batch[\"lr_dti\"][\"data\"]\n",
    "            # Locations are in reference to the full-res ground truth.\n",
    "            locations = batch[\"location\"]\n",
    "            predictions = (\n",
    "                model.viz_step(x.to(model.device), norm_output=False).detach().cpu()\n",
    "            )\n",
    "\n",
    "            aggregator.add_batch(predictions, locations)\n",
    "\n",
    "        # Collect all variants of the volume and aggregate into one container object.\n",
    "\n",
    "        # Calculate cubic spline as a baseline.\n",
    "        full_res_cubic_spline = scipy.ndimage.zoom(\n",
    "            subj[\"lr_dti\"][\"data\"].cpu().numpy(),\n",
    "            zoom=((1,) + (downsample_factor,) * 3),\n",
    "            order=3,\n",
    "        )\n",
    "        full_res_cubic_spline = torch.from_numpy(full_res_cubic_spline).to(fr_vol)\n",
    "        fr_vol = subj[\"fr_dti\"][\"data\"]\n",
    "        lr_vol = subj[\"lr_dti\"][\"data\"]\n",
    "\n",
    "        full_res_predicted = aggregator.get_output_tensor()\n",
    "\n",
    "        if data_norm_method is not None and \"channel\" in data_norm_method.casefold():\n",
    "\n",
    "            fr_means = torch.as_tensor(subj[\"fr_means\"]).to(fr_vol)\n",
    "            fr_vars = torch.as_tensor(subj[\"fr_vars\"]).to(fr_vol)\n",
    "            fr_vol = pitn.data.norm.denormalize_dti(fr_vol, fr_means, fr_vars)\n",
    "            lr_means = torch.as_tensor(subj[\"lr_means\"]).to(lr_vol)\n",
    "            lr_vars = torch.as_tensor(subj[\"lr_vars\"]).to(lr_vol)\n",
    "            lr_vol = pitn.data.norm.denormalize_dti(lr_vol, lr_means, lr_vars)\n",
    "\n",
    "            full_res_cubic_spline = pitn.data.norm.denormalize_dti(\n",
    "                full_res_cubic_spline, fr_means, fr_vars\n",
    "            )\n",
    "            full_res_predicted = pitn.data.norm.denormalize_dti(\n",
    "                full_res_predicted, fr_means, fr_vars\n",
    "            )\n",
    "        # Zero-out all voxels outside the mask.\n",
    "        fr_mask = subj[\"fr_brain_mask\"][\"data\"]\n",
    "        full_res_cubic_spline = full_res_cubic_spline * fr_mask.to(\n",
    "            full_res_cubic_spline\n",
    "        )\n",
    "        fr_vol = fr_vol * fr_mask.to(fr_vol)\n",
    "        lr_vol = lr_vol * subj[\"lr_brain_mask\"][\"data\"].to(lr_vol)\n",
    "\n",
    "        subj_result = SubjResult(\n",
    "            subj_id=subj[\"subj_id\"],\n",
    "            full_res=fr_vol,\n",
    "            low_res=lr_vol,\n",
    "            full_res_predicted=full_res_predicted,\n",
    "            full_res_cubic_spline=full_res_cubic_spline,\n",
    "        )\n",
    "\n",
    "        test_vol_results.append(subj_result)"
   ]
  },
  {
   "cell_type": "code",
   "execution_count": null,
   "metadata": {
    "tags": []
   },
   "outputs": [],
   "source": [
    "vis_subj_idx = 0"
   ]
  },
  {
   "cell_type": "code",
   "execution_count": null,
   "metadata": {
    "tags": []
   },
   "outputs": [],
   "source": [
    "# Generate FA-weighted diffusion direction map for prediction.\n",
    "tensor_key = \"full_res_predicted\"\n",
    "pred_dir_map = pitn.viz.direction_map(\n",
    "    test_vol_results[vis_subj_idx].__getattribute__(tensor_key).data.cpu().numpy()\n",
    ")\n",
    "# Set channels last for matplotlib\n",
    "pred_dir_map = pred_dir_map.transpose(1, 2, 3, 0)"
   ]
  },
  {
   "cell_type": "code",
   "execution_count": null,
   "metadata": {
    "tags": []
   },
   "outputs": [],
   "source": [
    "# Generate FA-weighted diffusion direction map for cubic spline interpolation.\n",
    "tensor_key = \"full_res_cubic_spline\"\n",
    "cspline_dir_map = pitn.viz.direction_map(\n",
    "    test_vol_results[vis_subj_idx].__getattribute__(tensor_key).data.cpu().numpy()\n",
    ")\n",
    "# Set channels last for matplotlib\n",
    "cspline_dir_map = cspline_dir_map.transpose(1, 2, 3, 0)"
   ]
  },
  {
   "cell_type": "code",
   "execution_count": null,
   "metadata": {
    "tags": []
   },
   "outputs": [],
   "source": [
    "# Generate FA-weighted diffusion direction map.\n",
    "tensor_key = \"full_res\"\n",
    "fr_dir_map = pitn.viz.direction_map(\n",
    "    test_vol_results[vis_subj_idx].__getattribute__(tensor_key).data.cpu().numpy()\n",
    ")\n",
    "# Set channels last for matplotlib\n",
    "fr_dir_map = fr_dir_map.transpose(1, 2, 3, 0)"
   ]
  },
  {
   "cell_type": "code",
   "execution_count": null,
   "metadata": {
    "tags": []
   },
   "outputs": [],
   "source": [
    "# Generate FA-weighted diffusion direction map for low-res input.\n",
    "tensor_key = \"low_res\"\n",
    "lr_dir_map = pitn.viz.direction_map(\n",
    "    test_vol_results[vis_subj_idx].__getattribute__(tensor_key).data.cpu().numpy()\n",
    ")\n",
    "# Set channels last for matplotlib\n",
    "lr_dir_map = lr_dir_map.transpose(1, 2, 3, 0)"
   ]
  },
  {
   "cell_type": "code",
   "execution_count": null,
   "metadata": {
    "tags": []
   },
   "outputs": [],
   "source": [
    "slice_idx = (slice(None, None, None), slice(None, None, None), 100)\n",
    "low_res_slice_idx = tuple(s // 2 if isinstance(s, int) else s for s in slice_idx)\n",
    "print(slice_idx)\n",
    "print(low_res_slice_idx)"
   ]
  },
  {
   "cell_type": "code",
   "execution_count": null,
   "metadata": {
    "tags": []
   },
   "outputs": [],
   "source": [
    "cspline_dir_map.shape\n",
    "fr_dir_map.shape"
   ]
  },
  {
   "cell_type": "code",
   "execution_count": null,
   "metadata": {
    "tags": []
   },
   "outputs": [],
   "source": [
    "plt.figure(dpi=150)\n",
    "plt.imshow(np.rot90(pred_dir_map[slice_idx]))\n",
    "plt.axis(\"off\")\n",
    "plt.savefig(experiment_results_dir / \"pred_dir_map_sample.png\");"
   ]
  },
  {
   "cell_type": "code",
   "execution_count": null,
   "metadata": {
    "tags": []
   },
   "outputs": [],
   "source": [
    "plt.figure(dpi=150)\n",
    "plt.imshow(np.rot90(cspline_dir_map[slice_idx]))\n",
    "plt.axis(\"off\")\n",
    "plt.savefig(experiment_results_dir / \"cubic_spline_dir_map_sample.png\");"
   ]
  },
  {
   "cell_type": "code",
   "execution_count": null,
   "metadata": {
    "tags": []
   },
   "outputs": [],
   "source": [
    "plt.figure(dpi=150)\n",
    "plt.imshow(np.rot90(fr_dir_map[slice_idx]))\n",
    "# plt.colorbar()\n",
    "plt.axis(\"off\")\n",
    "plt.savefig(experiment_results_dir / \"ground_truth_dir_map_sample.png\")"
   ]
  },
  {
   "cell_type": "code",
   "execution_count": null,
   "metadata": {
    "tags": []
   },
   "outputs": [],
   "source": [
    "plt.figure(dpi=150)\n",
    "plt.imshow(np.rot90(lr_dir_map[low_res_slice_idx]))\n",
    "plt.axis(\"off\")\n",
    "plt.savefig(experiment_results_dir / \"low_res_map_sample.png\");"
   ]
  },
  {
   "cell_type": "markdown",
   "metadata": {},
   "source": [
    "## Per-Image Normalization"
   ]
  },
  {
   "cell_type": "code",
   "execution_count": null,
   "metadata": {
    "tags": []
   },
   "outputs": [],
   "source": [
    "# Display all 6 DTIs for ground truth, predicted, and root squared error\n",
    "\n",
    "channel_names = [\"Dxx\", \"Dxy\", \"Dyy\", \"Dxz\", \"Dyz\", \"Dzz\"]\n",
    "dti_names = [\n",
    "    \"Full-Res\",\n",
    "    \"Low-Res Input\",\n",
    "    \"Cubic Spline\",\n",
    "    \"Predicted\",\n",
    "    \"Root Squared Error\\nFR vs. Prediction\",\n",
    "]\n",
    "cmap = \"jet\"\n",
    "# cmaps = [\"Reds\", \"Greys\", \"Greens\", \"Purples\", \"Greys\", \"Blues\", ]\n",
    "\n",
    "dtis = [\n",
    "    test_vol_results[vis_subj_idx]\n",
    "    .full_res.data[(slice(None), *slice_idx)]\n",
    "    .cpu()\n",
    "    .numpy(),\n",
    "    test_vol_results[vis_subj_idx]\n",
    "    .low_res[(slice(None), *low_res_slice_idx)]\n",
    "    .cpu()\n",
    "    .numpy(),\n",
    "    test_vol_results[vis_subj_idx].full_res_cubic_spline[(slice(None), *slice_idx)],\n",
    "    test_vol_results[vis_subj_idx]\n",
    "    .full_res_predicted[(slice(None), *slice_idx)]\n",
    "    .cpu()\n",
    "    .numpy(),\n",
    "]\n",
    "\n",
    "# Add root squared error between FR and prediction.\n",
    "dtis.append(np.sqrt((dtis[0] - dtis[-1]) ** 2))\n",
    "\n",
    "nrows = len(dtis)\n",
    "ncols = len(channel_names)\n",
    "\n",
    "fig = plt.figure(figsize=(12, 6), dpi=160)\n",
    "\n",
    "grid = mpl.gridspec.GridSpec(\n",
    "    nrows,\n",
    "    ncols,\n",
    "    figure=fig,\n",
    "    hspace=0.05,\n",
    "    wspace=0.05,\n",
    ")\n",
    "\n",
    "max_subplot_height = 0\n",
    "for i_row in range(nrows):\n",
    "    dti = dtis[i_row]\n",
    "\n",
    "    for j_col in range(ncols):\n",
    "        ax = fig.add_subplot(grid[i_row, j_col])\n",
    "        ax.imshow(np.rot90(dti[j_col]), cmap=cmap, interpolation=None)\n",
    "        if ax.get_subplotspec().is_first_col():\n",
    "            ax.set_ylabel(dti_names[i_row], size=\"small\")\n",
    "        if ax.get_subplotspec().is_last_row():\n",
    "            ax.set_xlabel(channel_names[j_col])\n",
    "\n",
    "        # Update highest subplot to put the `suptitle` later on.\n",
    "        max_subplot_height = max(\n",
    "            max_subplot_height, ax.get_position(original=False).get_points()[1, 1]\n",
    "        )\n",
    "        ax.set_xticks([])\n",
    "        ax.set_yticks([])\n",
    "        ax.set_xticklabels([])\n",
    "        ax.set_yticklabels([])\n",
    "plt.suptitle(\n",
    "    \"DTI Channel Breakdown, Per-Image Normalization\",\n",
    "    y=max_subplot_height + 0.015,\n",
    "    verticalalignment=\"bottom\",\n",
    ")\n",
    "plt.savefig(experiment_results_dir / \"DTI_channel_sample_per_img_norm.png\");"
   ]
  },
  {
   "cell_type": "markdown",
   "metadata": {},
   "source": [
    "## Global Normalization"
   ]
  },
  {
   "cell_type": "code",
   "execution_count": null,
   "metadata": {
    "tags": []
   },
   "outputs": [],
   "source": [
    "# Display all 6 DTIs for ground truth, predicted, and root squared error\n",
    "\n",
    "dti_names = [\n",
    "    \"Full-Res\",\n",
    "    \"Low-Res Input\",\n",
    "    \"Cubic Spline\",\n",
    "    \"Predicted\",\n",
    "    \"Root Squared Error\\nFR vs. Prediction\",\n",
    "]\n",
    "cmap = \"jet\"\n",
    "# cmaps = [\"Reds\", \"Greys\", \"Greens\", \"Purples\", \"Greys\", \"Blues\", ]\n",
    "\n",
    "dtis = [\n",
    "    test_vol_results[vis_subj_idx]\n",
    "    .full_res.data[(slice(None), *slice_idx)]\n",
    "    .cpu()\n",
    "    .numpy(),\n",
    "    test_vol_results[vis_subj_idx]\n",
    "    .low_res[(slice(None), *low_res_slice_idx)]\n",
    "    .cpu()\n",
    "    .numpy(),\n",
    "    test_vol_results[vis_subj_idx].full_res_cubic_spline[(slice(None), *slice_idx)],\n",
    "    test_vol_results[vis_subj_idx]\n",
    "    .full_res_predicted[(slice(None), *slice_idx)]\n",
    "    .cpu()\n",
    "    .numpy(),\n",
    "]\n",
    "\n",
    "# Add root squared error\n",
    "dtis.append(np.sqrt((dtis[0] - dtis[-1]) ** 2))\n",
    "\n",
    "# Don't take the absolute max and min values, as there exist some extreme (e.g., > 3\n",
    "# orders of magnitude) outliers. Instead, take some percente quantile.\n",
    "# Reshape and concatenate the dtis in order to compute the quantiles of images with\n",
    "# different shapes (e.g., the low-res input patch).\n",
    "max_dti = np.quantile(np.concatenate([di.reshape(6, -1) for di in dtis], axis=1), 0.95)\n",
    "min_dti = np.quantile(np.concatenate([di.reshape(6, -1) for di in dtis], axis=1), 0.05)\n",
    "\n",
    "nrows = len(dtis)\n",
    "ncols = len(channel_names)\n",
    "\n",
    "fig = plt.figure(figsize=(12, 6), dpi=160)\n",
    "\n",
    "grid = mpl.gridspec.GridSpec(\n",
    "    nrows,\n",
    "    ncols,\n",
    "    figure=fig,\n",
    "    hspace=0.05,\n",
    "    wspace=0.05,\n",
    ")\n",
    "axs = list()\n",
    "max_subplot_height = 0\n",
    "for i_row in range(nrows):\n",
    "    dti = dtis[i_row]\n",
    "\n",
    "    for j_col in range(ncols):\n",
    "        ax = fig.add_subplot(grid[i_row, j_col])\n",
    "        ax.imshow(\n",
    "            np.rot90(dti[j_col]),\n",
    "            cmap=cmap,\n",
    "            interpolation=None,\n",
    "            vmin=min_dti,\n",
    "            vmax=max_dti,\n",
    "        )\n",
    "        if ax.get_subplotspec().is_first_col():\n",
    "            ax.set_ylabel(dti_names[i_row], size=\"small\")\n",
    "        if ax.get_subplotspec().is_last_row():\n",
    "            ax.set_xlabel(channel_names[j_col])\n",
    "        ax.set_xticks([])\n",
    "        ax.set_yticks([])\n",
    "        ax.set_xticklabels([])\n",
    "        ax.set_yticklabels([])\n",
    "        # Update highest subplot to put the `suptitle` later on.\n",
    "        max_subplot_height = max(\n",
    "            max_subplot_height, ax.get_position(original=False).get_points()[1, 1]\n",
    "        )\n",
    "        axs.append(ax)\n",
    "\n",
    "color_norm = mpl.colors.Normalize(vmin=min_dti, vmax=max_dti)\n",
    "fig.colorbar(\n",
    "    mpl.cm.ScalarMappable(norm=color_norm, cmap=cmap),\n",
    "    ax=axs,\n",
    "    location=\"right\",\n",
    "    fraction=0.1,\n",
    "    pad=0.03,\n",
    ")\n",
    "plt.suptitle(\n",
    "    \"DTI Channel Breakdown, Normalized over All Images\",\n",
    "    y=max_subplot_height + 0.015,\n",
    "    verticalalignment=\"bottom\",\n",
    ")\n",
    "plt.savefig(experiment_results_dir / \"DTI_channel_sample_global_norm.png\");"
   ]
  },
  {
   "cell_type": "markdown",
   "metadata": {},
   "source": [
    "## Channel-Wise Normalization"
   ]
  },
  {
   "cell_type": "code",
   "execution_count": null,
   "metadata": {
    "tags": []
   },
   "outputs": [],
   "source": [
    "# Display all 6 DTIs for ground truth, predicted, low-res input, and root squared error\n",
    "# Normalize by index in the DTI coefficients.\n",
    "# Reshape and concatenate the dtis in order to compute the quantiles of images with\n",
    "# different shapes (e.g., the low-res input patch).\n",
    "\n",
    "channel_names = [\"Dxx\", \"Dxy\", \"Dyy\", \"Dxz\", \"Dyz\", \"Dzz\"]\n",
    "dti_names = [\n",
    "    \"Full-Res\",\n",
    "    \"Low-Res Input\",\n",
    "    \"Cubic Spline\",\n",
    "    \"Predicted\",\n",
    "    \"Root Squared Error\\nFR vs. Prediction\",\n",
    "]\n",
    "cmap = \"coolwarm\"\n",
    "# cmaps = [\"Reds\", \"Greys\", \"Greens\", \"Purples\", \"Greys\", \"Blues\", ]\n",
    "\n",
    "dtis = [\n",
    "    test_vol_results[vis_subj_idx]\n",
    "    .full_res.data[(slice(None), *slice_idx)]\n",
    "    .cpu()\n",
    "    .numpy(),\n",
    "    test_vol_results[vis_subj_idx]\n",
    "    .low_res[(slice(None), *low_res_slice_idx)]\n",
    "    .cpu()\n",
    "    .numpy(),\n",
    "    test_vol_results[vis_subj_idx].full_res_cubic_spline[(slice(None), *slice_idx)],\n",
    "    test_vol_results[vis_subj_idx]\n",
    "    .full_res_predicted[(slice(None), *slice_idx)]\n",
    "    .cpu()\n",
    "    .numpy(),\n",
    "]\n",
    "\n",
    "# Add root squared error\n",
    "dtis.append(np.sqrt((dtis[0] - dtis[-1]) ** 2))\n",
    "\n",
    "\n",
    "# Don't take the absolute max and min values, as there exist some extreme (e.g., > 3\n",
    "# orders of magnitude) outliers. Instead, take some percente quantile.\n",
    "max_dtis = np.quantile(\n",
    "    np.concatenate([di.reshape(6, -1) for di in dtis], axis=1), 0.95, axis=1\n",
    ")\n",
    "min_dtis = np.quantile(\n",
    "    np.concatenate([di.reshape(6, -1) for di in dtis], axis=1), 0.05, axis=1\n",
    ")\n",
    "\n",
    "max_dtis = np.max(np.abs([max_dtis, min_dtis]), axis=0)\n",
    "min_dtis = -1 * max_dtis\n",
    "\n",
    "nrows = len(dtis)\n",
    "ncols = len(channel_names)\n",
    "\n",
    "fig = plt.figure(figsize=(12, 7), dpi=160)\n",
    "\n",
    "grid = mpl.gridspec.GridSpec(\n",
    "    nrows,\n",
    "    ncols,\n",
    "    figure=fig,\n",
    "    hspace=0.05,\n",
    "    wspace=0.05,\n",
    ")\n",
    "\n",
    "axs = list()\n",
    "max_subplot_height = 0\n",
    "for i_row in range(nrows):\n",
    "    dti = dtis[i_row]\n",
    "    axs_cols = list()\n",
    "\n",
    "    for j_col in range(ncols):\n",
    "        ax = fig.add_subplot(grid[i_row, j_col])\n",
    "        ax.imshow(\n",
    "            np.rot90(dti[j_col]),\n",
    "            cmap=cmap,\n",
    "            interpolation=None,\n",
    "            vmin=min_dtis[j_col],\n",
    "            vmax=max_dtis[j_col],\n",
    "        )\n",
    "        if ax.get_subplotspec().is_first_col():\n",
    "            ax.set_ylabel(dti_names[i_row], size=\"small\")\n",
    "        if ax.get_subplotspec().is_last_row():\n",
    "            ax.set_xlabel(channel_names[j_col])\n",
    "\n",
    "        # Update highest subplot to put the `suptitle` later on.\n",
    "        max_subplot_height = max(\n",
    "            max_subplot_height, ax.get_position(original=False).get_points()[1, 1]\n",
    "        )\n",
    "        ax.set_xticks([])\n",
    "        ax.set_yticks([])\n",
    "        ax.set_xticklabels([])\n",
    "        ax.set_yticklabels([])\n",
    "\n",
    "        axs_cols.append(ax)\n",
    "\n",
    "    axs.append(axs_cols)\n",
    "\n",
    "# Place colorbars on each column.\n",
    "for j_col in range(ncols):\n",
    "\n",
    "    full_col_ax = [axs[i][j_col] for i in range(nrows)]\n",
    "\n",
    "    color_norm = mpl.colors.Normalize(vmin=min_dtis[j_col], vmax=max_dtis[j_col])\n",
    "\n",
    "    color_mappable = mpl.cm.ScalarMappable(norm=color_norm, cmap=cmap)\n",
    "    cbar = fig.colorbar(\n",
    "        color_mappable,\n",
    "        ax=full_col_ax,\n",
    "        location=\"top\",\n",
    "        orientation=\"horizontal\",\n",
    "        pad=0.01,\n",
    "        shrink=0.85,\n",
    "    )\n",
    "    cbar.ax.tick_params(labelsize=8, rotation=35)\n",
    "    cbar.ax.xaxis.set_major_formatter(mpl.ticker.StrMethodFormatter(\"{x:g}\"))\n",
    "#     cbar.ax.ticklabel_format(scilimits=(3, -3), useOffset=False)\n",
    "\n",
    "plt.suptitle(\n",
    "    \"DTI Channel Breakdown, Channel-Wise Normalization\",\n",
    "    y=max_subplot_height + 0.01,\n",
    "    verticalalignment=\"bottom\",\n",
    ")\n",
    "plt.savefig(experiment_results_dir / \"DTI_channel_sample_channel_wise_norm.png\");"
   ]
  },
  {
   "cell_type": "code",
   "execution_count": null,
   "metadata": {},
   "outputs": [],
   "source": []
  },
  {
   "cell_type": "code",
   "execution_count": null,
   "metadata": {
    "tags": []
   },
   "outputs": [],
   "source": [
    "# Close tensorboard logger.\n",
    "pl_logger.finalize()\n",
    "# Experiment is complete, move the results directory to its final location.\n",
    "if experiment_results_dir != final_experiment_results_dir:\n",
    "    print(\"Moving out of tmp location\")\n",
    "    experiment_results_dir = experiment_results_dir.rename(final_experiment_results_dir)"
   ]
  }
 ],
 "metadata": {
  "kernelspec": {
   "display_name": "Python [conda env:miniconda-pitn]",
   "language": "python",
   "name": "conda-env-miniconda-pitn-py"
  },
  "language_info": {
   "codemirror_mode": {
    "name": "ipython",
    "version": 3
   },
   "file_extension": ".py",
   "mimetype": "text/x-python",
   "name": "python",
   "nbconvert_exporter": "python",
   "pygments_lexer": "ipython3",
   "version": "3.8.8"
  },
  "toc-autonumbering": true,
  "toc-showcode": false,
  "toc-showmarkdowntxt": false,
  "toc-showtags": false,
  "widgets": {
   "application/vnd.jupyter.widget-state+json": {
    "state": {},
    "version_major": 2,
    "version_minor": 0
   }
  }
 },
 "nbformat": 4,
 "nbformat_minor": 4
}
