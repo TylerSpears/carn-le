{
 "cells": [
  {
   "cell_type": "markdown",
   "metadata": {},
   "source": [
    "# Pain in the Net\n",
    "Replication of *Deeper Image Quality Transfer: Training Low-Memory Neural Networks for 3D Images*\n",
    "\n",
    "\n",
    "Code by:\n",
    "\n",
    "Tyler Spears - tas6hh@virginia.edu\n",
    "\n",
    "Dr. Tom Fletcher\n",
    "\n",
    "---\n",
    "\n",
    "Source work:\n",
    "`S. B. Blumberg, R. Tanno, I. Kokkinos, and D. C. Alexander, “Deeper Image Quality Transfer: Training Low-Memory Neural Networks for 3D Images,” in Medical Image Computing and Computer Assisted Intervention – MICCAI 2018, Cham, 2018, pp. 118–125, doi: 10.1007/978-3-030-00928-1_14.`\n"
   ]
  },
  {
   "cell_type": "code",
   "execution_count": 1,
   "metadata": {
    "execution": {
     "iopub.execute_input": "2021-03-19T15:04:05.603491Z",
     "iopub.status.busy": "2021-03-19T15:04:05.603294Z",
     "iopub.status.idle": "2021-03-19T15:04:08.380718Z",
     "shell.execute_reply": "2021-03-19T15:04:08.380296Z",
     "shell.execute_reply.started": "2021-03-19T15:04:05.603445Z"
    }
   },
   "outputs": [
    {
     "name": "stderr",
     "output_type": "stream",
     "text": [
      "/opt/miniconda/envs/pitn/lib/python3.8/site-packages/nilearn/datasets/__init__.py:87: FutureWarning: Fetchers from the nilearn.datasets module will be updated in version 0.9 to return python strings instead of bytes and Pandas dataframes instead of Numpy arrays.\n",
      "  warn(\"Fetchers from the nilearn.datasets module will be \"\n"
     ]
    }
   ],
   "source": [
    "# imports\n",
    "import math\n",
    "import random\n",
    "import itertools\n",
    "import collections\n",
    "import functools\n",
    "import pathlib\n",
    "from pathlib import Path\n",
    "import warnings\n",
    "import os\n",
    "import subprocess\n",
    "import io\n",
    "\n",
    "import dotenv\n",
    "# Computation & ML libraries.\n",
    "import numpy as np\n",
    "import pandas as pd\n",
    "import skimage\n",
    "import skimage.measure, skimage.feature, skimage.filters\n",
    "import torch\n",
    "import torch.nn.functional as F\n",
    "import torchvision\n",
    "import pytorch_lightning\n",
    "import nilearn\n",
    "import nilearn.plotting\n",
    "# Data management libraries.\n",
    "import nibabel as nib\n",
    "import torchio\n",
    "import natsort\n",
    "from natsort import natsorted\n",
    "\n",
    "# visualization libraries\n",
    "%matplotlib inline\n",
    "import matplotlib as mpl\n",
    "import seaborn as sns\n",
    "import matplotlib.pyplot as plt\n",
    "plt.rcParams.update({'figure.autolayout': True})\n",
    "plt.rcParams.update({'figure.facecolor': [1.0, 1.0, 1.0, 1.0]})"
   ]
  },
  {
   "cell_type": "code",
   "execution_count": 2,
   "metadata": {
    "execution": {
     "iopub.execute_input": "2021-03-19T15:04:08.381490Z",
     "iopub.status.busy": "2021-03-19T15:04:08.381353Z",
     "iopub.status.idle": "2021-03-19T15:04:08.452378Z",
     "shell.execute_reply": "2021-03-19T15:04:08.451799Z",
     "shell.execute_reply.started": "2021-03-19T15:04:08.381474Z"
    }
   },
   "outputs": [
    {
     "name": "stdout",
     "output_type": "stream",
     "text": [
      "Author: Tyler Spears\n",
      "\n",
      "Last updated: 2021-03-19T11:04:08.389054-04:00\n",
      "\n",
      "Python implementation: CPython\n",
      "Python version       : 3.8.8\n",
      "IPython version      : 7.21.0\n",
      "\n",
      "Compiler    : GCC 7.3.0\n",
      "OS          : Linux\n",
      "Release     : 5.8.0-3-amd64\n",
      "Machine     : x86_64\n",
      "Processor   : \n",
      "CPU cores   : 8\n",
      "Architecture: 64bit\n",
      "\n",
      "Git hash: e85b592aab826d95c03905d7f7b5f67ad1e3fb0a\n",
      "\n",
      "torchvision      : 0.2.2\n",
      "torch            : 1.8.0\n",
      "skimage          : 0.18.1\n",
      "pytorch_lightning: 1.2.3\n",
      "natsort          : 7.1.1\n",
      "torchio          : 0.18.29\n",
      "nilearn          : 0.7.1\n",
      "nibabel          : 3.2.1\n",
      "pandas           : 1.2.3\n",
      "numpy            : 1.20.1\n",
      "seaborn          : 0.11.1\n",
      "matplotlib       : 3.3.4\n",
      "\n",
      "CUDA Version:  11.1\n"
     ]
    }
   ],
   "source": [
    "# Watermark\n",
    "%load_ext watermark\n",
    "%watermark --author \"Tyler Spears\" --updated --iso8601  --python --machine --iversions --githash \n",
    "print(\"CUDA Version: \", torch.version.cuda)"
   ]
  },
  {
   "cell_type": "code",
   "execution_count": 3,
   "metadata": {
    "execution": {
     "iopub.execute_input": "2021-03-19T15:04:08.453615Z",
     "iopub.status.busy": "2021-03-19T15:04:08.453472Z",
     "iopub.status.idle": "2021-03-19T15:04:08.488711Z",
     "shell.execute_reply": "2021-03-19T15:04:08.488132Z",
     "shell.execute_reply.started": "2021-03-19T15:04:08.453596Z"
    }
   },
   "outputs": [
    {
     "name": "stdout",
     "output_type": "stream",
     "text": [
      "cuda\n"
     ]
    }
   ],
   "source": [
    "# torch setup\n",
    "\n",
    "# allow for CUDA usage, if available\n",
    "if torch.cuda.is_available():\n",
    "    device = torch.device('cuda')\n",
    "else:\n",
    "    device = torch.device('cpu')\n",
    "# keep device as the cpu\n",
    "# device = torch.device('cpu')\n",
    "print(device)"
   ]
  },
  {
   "cell_type": "code",
   "execution_count": 4,
   "metadata": {
    "execution": {
     "iopub.execute_input": "2021-03-19T15:04:08.489642Z",
     "iopub.status.busy": "2021-03-19T15:04:08.489458Z",
     "iopub.status.idle": "2021-03-19T15:04:08.681092Z",
     "shell.execute_reply": "2021-03-19T15:04:08.680140Z",
     "shell.execute_reply.started": "2021-03-19T15:04:08.489626Z"
    }
   },
   "outputs": [],
   "source": [
    "# Update notebook's environment variables with direnv.\n",
    "# This requires the python-dotenv package, and direnv be installed on the system\n",
    "# This will not work on Windows.\n",
    "# NOTE: This is kind of hacky, and not necessarily safe. Be careful...\n",
    "# Libraries needed on the python side:\n",
    "# - os\n",
    "# - subprocess\n",
    "# - io\n",
    "# - dotenv\n",
    "\n",
    "# Form command to be run in direnv's context. This command will print out\n",
    "# all environment variables defined in the subprocess/sub-shell.\n",
    "command = \"direnv exec {} /usr/bin/env\".format(os.getcwd())\n",
    "# Run command in a new subprocess.\n",
    "proc = subprocess.Popen(\n",
    "    command, stdout=subprocess.PIPE, shell=True, cwd=os.getcwd())\n",
    "# Store and format the subprocess' output.\n",
    "proc_out = proc.communicate()[0].strip().decode('utf-8')\n",
    "# Use python-dotenv to load the environment variables by using the output of\n",
    "# 'direnv exec ...' as a 'dummy' .env file.\n",
    "dotenv.load_dotenv(stream=io.StringIO(proc_out), override=True);"
   ]
  },
  {
   "cell_type": "code",
   "execution_count": 5,
   "metadata": {
    "execution": {
     "iopub.execute_input": "2021-03-19T15:04:08.682591Z",
     "iopub.status.busy": "2021-03-19T15:04:08.682294Z",
     "iopub.status.idle": "2021-03-19T15:04:08.689331Z",
     "shell.execute_reply": "2021-03-19T15:04:08.688891Z",
     "shell.execute_reply.started": "2021-03-19T15:04:08.682558Z"
    }
   },
   "outputs": [],
   "source": [
    "# Set up directories\n",
    "data_dir = pathlib.Path(os.environ['DATA_DIR']) / \"hcp\"\n",
    "assert data_dir.exists()\n",
    "write_data_dir = pathlib.Path(os.environ['WRITE_DATA_DIR']) / \"hcp\"\n",
    "assert write_data_dir.exists()\n",
    "results_dir = pathlib.Path(os.environ['RESULTS_DIR'])\n",
    "assert results_dir.exists()"
   ]
  },
  {
   "cell_type": "markdown",
   "metadata": {},
   "source": [
    "### Function & Class Definitions"
   ]
  },
  {
   "cell_type": "code",
   "execution_count": null,
   "metadata": {},
   "outputs": [],
   "source": []
  },
  {
   "cell_type": "markdown",
   "metadata": {},
   "source": [
    "### Global Parameters"
   ]
  },
  {
   "cell_type": "code",
   "execution_count": 6,
   "metadata": {
    "execution": {
     "iopub.execute_input": "2021-03-19T15:04:08.690517Z",
     "iopub.status.busy": "2021-03-19T15:04:08.690229Z",
     "iopub.status.idle": "2021-03-19T15:04:08.693694Z",
     "shell.execute_reply": "2021-03-19T15:04:08.693095Z",
     "shell.execute_reply.started": "2021-03-19T15:04:08.690487Z"
    }
   },
   "outputs": [],
   "source": [
    "bvals_range = (900, 1100)"
   ]
  },
  {
   "cell_type": "markdown",
   "metadata": {},
   "source": [
    "## Data Loading"
   ]
  },
  {
   "cell_type": "code",
   "execution_count": 7,
   "metadata": {
    "execution": {
     "iopub.execute_input": "2021-03-19T15:04:08.694712Z",
     "iopub.status.busy": "2021-03-19T15:04:08.694445Z",
     "iopub.status.idle": "2021-03-19T15:04:09.101168Z",
     "shell.execute_reply": "2021-03-19T15:04:09.100562Z",
     "shell.execute_reply.started": "2021-03-19T15:04:08.694686Z"
    }
   },
   "outputs": [
    {
     "name": "stderr",
     "output_type": "stream",
     "text": [
      "<ipython-input-7-3e87d4eba9f6>:26: UserWarning: WARNING: Sub-selecting participants for dev and debugging. Subj IDs selected: ['397154', '644246', '185947', '894774', '303624']\n",
      "  warnings.warn(\n"
     ]
    },
    {
     "data": {
      "text/plain": [
       "{185947: PosixPath('/srv/data/pitn/hcp/185947/T1w/Diffusion'),\n",
       " 303624: PosixPath('/srv/data/pitn/hcp/303624/T1w/Diffusion'),\n",
       " 397154: PosixPath('/srv/data/pitn/hcp/397154/T1w/Diffusion'),\n",
       " 644246: PosixPath('/srv/data/pitn/hcp/644246/T1w/Diffusion'),\n",
       " 894774: PosixPath('/srv/data/pitn/hcp/894774/T1w/Diffusion')}"
      ]
     },
     "execution_count": 7,
     "metadata": {},
     "output_type": "execute_result"
    }
   ],
   "source": [
    "# Find data directories for each subject.\n",
    "subj_dirs: dict = dict()\n",
    "\n",
    "\n",
    "selected_ids = [\n",
    "    '397154',\n",
    "    '224022',\n",
    "    '140117',\n",
    "    '751348',\n",
    "    '894774',\n",
    "    '156637',\n",
    "    '227432',\n",
    "    '303624',\n",
    "    '185947',\n",
    "    '810439',\n",
    "    '753251',\n",
    "    '644246',\n",
    "    '141422',\n",
    "    '135528',\n",
    "    '103010',\n",
    "    '700634',\n",
    "]\n",
    "\n",
    "## Sub-set the chosen participants for dev and debugging!\n",
    "selected_ids = random.sample(selected_ids, 5)\n",
    "warnings.warn(\n",
    "    \"WARNING: Sub-selecting participants for dev and debugging. \"\n",
    "    + f\"Subj IDs selected: {selected_ids}\"\n",
    ")\n",
    "##\n",
    "\n",
    "selected_ids = natsorted(list(map(lambda s: int(s), selected_ids)))\n",
    "\n",
    "for subj_id in selected_ids:\n",
    "    subj_dirs[subj_id] = data_dir / f\"{subj_id}/T1w/Diffusion\"\n",
    "    assert subj_dirs[subj_id].exists()\n",
    "subj_dirs"
   ]
  },
  {
   "cell_type": "markdown",
   "metadata": {},
   "source": [
    "The 90 scans are taken from the b=1000 s/mm^2 *only*. To find those, sub-select with the $500 < bvals < 1500$, or roughly thereabout. A b-val of $995$ or $1005$ still counts as a b=1000 (is this the direction encoding? Or maybe the difference is where the gradient comes in?)."
   ]
  },
  {
   "cell_type": "code",
   "execution_count": 8,
   "metadata": {
    "execution": {
     "iopub.execute_input": "2021-03-19T15:06:16.556074Z",
     "iopub.status.busy": "2021-03-19T15:06:16.555915Z",
     "iopub.status.idle": "2021-03-19T15:06:17.297014Z",
     "shell.execute_reply": "2021-03-19T15:06:17.296502Z",
     "shell.execute_reply.started": "2021-03-19T15:06:16.556056Z"
    }
   },
   "outputs": [],
   "source": [
    "# Import all image data into a sequence of `torchio.Subject` objects.\n",
    "subj_data: dict = dict()\n",
    "\n",
    "# For more clearly designating the return values of a reader function given to\n",
    "# the `torchio.Image` object.\n",
    "ReaderOutput = collections.namedtuple('ReaderOutput', ['dwi', 'affine'])\n",
    "def selection_reader(f_dwi, idx):\n",
    "    # A float32 is the smallest representation that doesn't lose data.\n",
    "    img = nib.load(f_dwi)\n",
    "    \n",
    "    # Load entire image into memory, then slice that full image.\n",
    "    # <https://nipy.org/nibabel/images_and_memory.html#saving-time-and-memory>\n",
    "    # Fancy indexing isn't supported, aka, anything besides a single integer index.\n",
    "    sliced_img = img.get_fdata()[..., idx]\n",
    "    affine = img.affine.copy()\n",
    "    # Hopefuly remove any refs to the full-size array.\n",
    "    del img\n",
    "    return ReaderOutput(\n",
    "        dwi=torch.from_numpy(sliced_img.astype(np.float32)),\n",
    "        affine=torch.from_numpy(affine.astype(np.float32))\n",
    "    )\n",
    "\n",
    "for subj_id, subj_dir in subj_dirs.items():\n",
    "    # Sub-select volumes with only bvals in a certain range (e.x. bvals ~= 1000 mm/s^2)\n",
    "    bvals = torch.as_tensor(np.loadtxt(subj_dir/\"bvals\").astype(int))\n",
    "    idx_to_keep = np.where((bvals >= bvals_range[0]) & (bvals <= bvals_range[1]))\n",
    "    bvals = bvals[idx_to_keep]\n",
    "    bvecs=torch.as_tensor(np.loadtxt(subj_dir/\"bvecs\"))[:, idx_to_keep]\n",
    "    # Create a custom reader function that will sub-set the full (~288 for HCP) data \n",
    "    # points down to only the selected bvals range.\n",
    "    # This will still be lazily loaded, while not requiring as much memory per subject.\n",
    "    partial_reader = functools.partial(selection_reader, idx=idx_to_keep)\n",
    "    dwi = torchio.ScalarImage(\n",
    "        subj_dir/\"data.nii.gz\",\n",
    "        bvals=bvals,\n",
    "        bvecs=bvecs,\n",
    "        reader=partial_reader\n",
    "    )\n",
    "    grad = torchio.ScalarImage(subj_dir/\"grad_dev.nii.gz\")\n",
    "    brain_mask = torchio.LabelMap(subj_dir/\"nodif_brain_mask.nii.gz\", type=torchio.LABEL)\n",
    "    # The brain mask is binary.\n",
    "    \n",
    "    brain_mask.set_data(brain_mask.data.bool())\n",
    "    subject_dict = torchio.Subject(\n",
    "        subj_id=subj_id,\n",
    "        dwi=dwi,\n",
    "        grad=grad,\n",
    "        brain_mask=brain_mask\n",
    "    )\n",
    "    subj_data[subj_id] = subject_dict\n"
   ]
  },
  {
   "cell_type": "code",
   "execution_count": 9,
   "metadata": {
    "execution": {
     "iopub.execute_input": "2021-03-19T15:06:55.551448Z",
     "iopub.status.busy": "2021-03-19T15:06:55.551246Z",
     "iopub.status.idle": "2021-03-19T15:06:55.553813Z",
     "shell.execute_reply": "2021-03-19T15:06:55.553276Z",
     "shell.execute_reply.started": "2021-03-19T15:06:55.551430Z"
    }
   },
   "outputs": [],
   "source": [
    "subj_dataset = torchio.SubjectsDataset(list(subj_data.values()))"
   ]
  },
  {
   "cell_type": "markdown",
   "metadata": {},
   "source": [
    "## Model Training"
   ]
  },
  {
   "cell_type": "markdown",
   "metadata": {},
   "source": [
    "### Model Definition"
   ]
  },
  {
   "cell_type": "code",
   "execution_count": null,
   "metadata": {},
   "outputs": [],
   "source": []
  },
  {
   "cell_type": "markdown",
   "metadata": {},
   "source": [
    "### Training"
   ]
  },
  {
   "cell_type": "code",
   "execution_count": null,
   "metadata": {},
   "outputs": [],
   "source": []
  },
  {
   "cell_type": "markdown",
   "metadata": {},
   "source": [
    "## Model Evaluation"
   ]
  },
  {
   "cell_type": "markdown",
   "metadata": {},
   "source": [
    "### Testing"
   ]
  },
  {
   "cell_type": "code",
   "execution_count": null,
   "metadata": {},
   "outputs": [],
   "source": []
  },
  {
   "cell_type": "markdown",
   "metadata": {},
   "source": [
    "### Visualization"
   ]
  },
  {
   "cell_type": "code",
   "execution_count": null,
   "metadata": {},
   "outputs": [],
   "source": []
  }
 ],
 "metadata": {
  "kernelspec": {
   "display_name": "Python [conda env:pitn]",
   "language": "python",
   "name": "conda-env-pitn-py"
  },
  "language_info": {
   "codemirror_mode": {
    "name": "ipython",
    "version": 3
   },
   "file_extension": ".py",
   "mimetype": "text/x-python",
   "name": "python",
   "nbconvert_exporter": "python",
   "pygments_lexer": "ipython3",
   "version": "3.8.8"
  },
  "toc-autonumbering": true,
  "toc-showcode": false,
  "toc-showmarkdowntxt": false,
  "toc-showtags": false
 },
 "nbformat": 4,
 "nbformat_minor": 4
}
