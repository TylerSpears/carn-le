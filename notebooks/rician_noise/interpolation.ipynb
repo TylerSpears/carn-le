{
 "cells": [
  {
   "cell_type": "markdown",
   "id": "897dea55-484c-4298-834e-395f05cf9204",
   "metadata": {
    "heading_collapsed": "true",
    "tags": []
   },
   "source": [
    "# Interpolation with Rician Noise on DWI's\n",
    "\n",
    "Code by:\n",
    "\n",
    "Tyler Spears - tas6hh@virginia.edu\n",
    "\n",
    "Dr. Tom Fletcher\n",
    "\n",
    "---\n",
    "\n",
    "Source works:\n",
    "\n",
    "`Basu S, Fletcher T, Whitaker R. Rician Noise Removal in Diffusion Tensor MRI. In: Larsen R, Nielsen M, Sporring J, eds. Medical Image Computing and Computer-Assisted Intervention – MICCAI 2006. Vol 4190. Lecture Notes in Computer Science. Springer Berlin Heidelberg; 2006:117-125. doi:10.1007/11866565_15\n",
    "`\n"
   ]
  },
  {
   "cell_type": "markdown",
   "id": "a5700e8c-e0db-424f-88bd-94f1b789d8f1",
   "metadata": {
    "tags": []
   },
   "source": [
    "# Imports & Environment Setup"
   ]
  },
  {
   "cell_type": "markdown",
   "id": "270d2585-579d-4597-9600-8033cf36fbb2",
   "metadata": {},
   "source": [
    "## Imports"
   ]
  },
  {
   "cell_type": "code",
   "execution_count": 255,
   "id": "74977980-c725-4295-81f8-5e6498338b3f",
   "metadata": {
    "execution": {
     "iopub.execute_input": "2021-06-16T17:25:17.647832Z",
     "iopub.status.busy": "2021-06-16T17:25:17.647315Z",
     "iopub.status.idle": "2021-06-16T17:25:17.681397Z",
     "shell.execute_reply": "2021-06-16T17:25:17.680648Z",
     "shell.execute_reply.started": "2021-06-16T17:25:17.647778Z"
    },
    "tags": []
   },
   "outputs": [
    {
     "name": "stdout",
     "output_type": "stream",
     "text": [
      "The autoreload extension is already loaded. To reload it, use:\n",
      "  %reload_ext autoreload\n"
     ]
    }
   ],
   "source": [
    "# Automatically re-import project-specific modules.\n",
    "%load_ext autoreload\n",
    "%autoreload 1\n",
    "\n",
    "# imports\n",
    "import collections\n",
    "import itertools\n",
    "import functools\n",
    "\n",
    "import pathlib\n",
    "from pathlib import Path\n",
    "import shutil\n",
    "\n",
    "import math\n",
    "import random\n",
    "import datetime\n",
    "import time\n",
    "\n",
    "import copy\n",
    "import warnings\n",
    "import pdb\n",
    "import inspect\n",
    "import sys\n",
    "\n",
    "import os\n",
    "import io\n",
    "import subprocess\n",
    "\n",
    "import dotenv\n",
    "\n",
    "# Toolbelt/utility imports\n",
    "import natsort\n",
    "from natsort import natsorted\n",
    "import addict\n",
    "from addict import Addict\n",
    "import pprint\n",
    "from pprint import pprint as ppr\n",
    "\n",
    "# Computation & ML libraries.\n",
    "import numpy as np\n",
    "import scipy\n",
    "import skimage\n",
    "import skimage.feature\n",
    "import skimage.filters\n",
    "import skimage.measure\n",
    "import nibabel as nib\n",
    "import dipy\n",
    "import dipy.viz\n",
    "import ants\n",
    "import pandas as pd\n",
    "\n",
    "import torch\n",
    "import torch.nn.functional as F\n",
    "import torchvision\n",
    "import torchio\n",
    "import pytorch_lightning as pl\n",
    "\n",
    "# visualization libraries\n",
    "%matplotlib inline\n",
    "import matplotlib as mpl\n",
    "import matplotlib.pyplot as plt\n",
    "import seaborn as sns\n",
    "import IPython\n",
    "from tabulate import tabulate\n",
    "from IPython.display import display, Markdown\n",
    "\n",
    "# Try importing GPUtil for printing GPU specs.\n",
    "# May not be installed if using CPU only.\n",
    "try:\n",
    "    import GPUtil\n",
    "except ImportError:\n",
    "    warnings.warn(\"WARNING: Package GPUtil not found, cannot print GPU specs\")\n",
    "\n",
    "plt.rcParams.update({\"figure.autolayout\": True})\n",
    "plt.rcParams.update({\"figure.facecolor\": [1.0, 1.0, 1.0, 1.0]})\n",
    "\n",
    "# Set print options for ndarrays/tensors.\n",
    "np.set_printoptions(threshold=100, linewidth=88)\n",
    "torch.set_printoptions(precision=8, threshold=100, linewidth=88)"
   ]
  },
  {
   "cell_type": "code",
   "execution_count": 3,
   "id": "74a3facf-b02d-4720-add3-ce33c9be37a4",
   "metadata": {
    "execution": {
     "iopub.execute_input": "2021-06-15T14:01:46.488107Z",
     "iopub.status.busy": "2021-06-15T14:01:46.487781Z",
     "iopub.status.idle": "2021-06-15T14:01:47.979559Z",
     "shell.execute_reply": "2021-06-15T14:01:47.978912Z",
     "shell.execute_reply.started": "2021-06-15T14:01:46.488083Z"
    },
    "tags": []
   },
   "outputs": [
    {
     "name": "stderr",
     "output_type": "stream",
     "text": [
      "direnv: loading ~/work/pitn/.envrc\n",
      "direnv: creating conda environment\n",
      "\n",
      "CondaValueError: prefix already exists: /opt/miniconda/envs/pitn\n",
      "\n"
     ]
    }
   ],
   "source": [
    "# Update notebook's environment variables with direnv.\n",
    "# This requires the python-dotenv package, and direnv be installed on the system\n",
    "# This will not work on Windows.\n",
    "# NOTE: This is kind of hacky, and not necessarily safe. Be careful...\n",
    "# Libraries needed on the python side:\n",
    "# - os\n",
    "# - subprocess\n",
    "# - io\n",
    "# - dotenv\n",
    "\n",
    "# Form command to be run in direnv's context. This command will print out\n",
    "# all environment variables defined in the subprocess/sub-shell.\n",
    "command = \"direnv exec {} /usr/bin/env\".format(os.getcwd())\n",
    "# Run command in a new subprocess.\n",
    "proc = subprocess.Popen(command, stdout=subprocess.PIPE, shell=True, cwd=os.getcwd())\n",
    "# Store and format the subprocess' output.\n",
    "proc_out = proc.communicate()[0].strip().decode(\"utf-8\")\n",
    "# Use python-dotenv to load the environment variables by using the output of\n",
    "# 'direnv exec ...' as a 'dummy' .env file.\n",
    "dotenv.load_dotenv(stream=io.StringIO(proc_out), override=True);"
   ]
  },
  {
   "cell_type": "code",
   "execution_count": 4,
   "id": "ffc90c56-6a15-4dff-a35d-a57ed0c0028d",
   "metadata": {
    "execution": {
     "iopub.execute_input": "2021-06-15T14:01:47.981730Z",
     "iopub.status.busy": "2021-06-15T14:01:47.981383Z",
     "iopub.status.idle": "2021-06-15T14:01:49.286075Z",
     "shell.execute_reply": "2021-06-15T14:01:49.285476Z",
     "shell.execute_reply.started": "2021-06-15T14:01:47.981690Z"
    },
    "tags": []
   },
   "outputs": [],
   "source": [
    "# Project-specific scripts\n",
    "# It's easier to import it this way rather than make an entirely new package, due to\n",
    "# conflicts with local packages and anaconda installations.\n",
    "# You made me do this, poor python package management!!\n",
    "if \"PROJECT_ROOT\" in os.environ:\n",
    "    lib_location = str(Path(os.environ[\"PROJECT_ROOT\"]).resolve())\n",
    "else:\n",
    "    lib_location = str(Path(\"../../\").resolve())\n",
    "if lib_location not in sys.path:\n",
    "    sys.path.insert(0, lib_location)\n",
    "import lib as pitn\n",
    "\n",
    "# Include the top-level lib module along with its submodules.\n",
    "%aimport lib\n",
    "# Grab all submodules of lib, not including modules outside of the package.\n",
    "includes = list(\n",
    "    filter(\n",
    "        lambda m: m.startswith(\"lib.\"),\n",
    "        map(lambda x: x[1].__name__, inspect.getmembers(pitn, inspect.ismodule)),\n",
    "    )\n",
    ")\n",
    "# Run aimport magic with constructed includes.\n",
    "ipy = IPython.get_ipython()\n",
    "ipy.run_line_magic(\"aimport\", \", \".join(includes))"
   ]
  },
  {
   "cell_type": "code",
   "execution_count": 5,
   "id": "02e66c44-b666-45a3-9e59-99f05c04b2af",
   "metadata": {
    "execution": {
     "iopub.execute_input": "2021-06-15T14:01:49.287083Z",
     "iopub.status.busy": "2021-06-15T14:01:49.286922Z",
     "iopub.status.idle": "2021-06-15T14:01:49.331828Z",
     "shell.execute_reply": "2021-06-15T14:01:49.331296Z",
     "shell.execute_reply.started": "2021-06-15T14:01:49.287065Z"
    },
    "tags": []
   },
   "outputs": [
    {
     "name": "stdout",
     "output_type": "stream",
     "text": [
      "cuda\n"
     ]
    }
   ],
   "source": [
    "# torch setup\n",
    "# allow for CUDA usage, if available\n",
    "if torch.cuda.is_available():\n",
    "    device = torch.device(\"cuda\")\n",
    "else:\n",
    "    device = torch.device(\"cpu\")\n",
    "# keep device as the cpu\n",
    "# device = torch.device('cpu')\n",
    "print(device)"
   ]
  },
  {
   "cell_type": "markdown",
   "id": "0e082452-58f2-4327-908f-cd2507d5efbd",
   "metadata": {
    "tags": []
   },
   "source": [
    "## Specs Recording"
   ]
  },
  {
   "cell_type": "code",
   "execution_count": 6,
   "id": "6d678c92-a393-4801-87eb-0e2921856a4a",
   "metadata": {
    "execution": {
     "iopub.execute_input": "2021-06-15T14:01:49.334184Z",
     "iopub.status.busy": "2021-06-15T14:01:49.333889Z",
     "iopub.status.idle": "2021-06-15T14:01:49.660481Z",
     "shell.execute_reply": "2021-06-15T14:01:49.659026Z",
     "shell.execute_reply.started": "2021-06-15T14:01:49.334165Z"
    },
    "tags": []
   },
   "outputs": [],
   "source": [
    "%%capture --no-stderr cap\n",
    "# Capture output and save to log. Needs to be at the *very first* line of the cell.\n",
    "# Watermark\n",
    "%load_ext watermark\n",
    "%watermark --author \"Tyler Spears\" --updated --iso8601  --python --machine --iversions --githash\n",
    "if torch.cuda.is_available():\n",
    "\n",
    "    # GPU information\n",
    "    # Taken from\n",
    "    # <https://www.thepythoncode.com/article/get-hardware-system-information-python>.\n",
    "    # If GPUtil is not installed, skip this step.\n",
    "    try:\n",
    "        gpus = GPUtil.getGPUs()\n",
    "        print(\"=\" * 50, \"GPU Specs\", \"=\" * 50)\n",
    "        list_gpus = []\n",
    "        for gpu in gpus:\n",
    "            # get the GPU id\n",
    "            gpu_id = gpu.id\n",
    "            # name of GPU\n",
    "            gpu_name = gpu.name\n",
    "            driver_version = gpu.driver\n",
    "            cuda_version = torch.version.cuda\n",
    "            # get total memory\n",
    "            gpu_total_memory = f\"{gpu.memoryTotal}MB\"\n",
    "            gpu_uuid = gpu.uuid\n",
    "            list_gpus.append(\n",
    "                (\n",
    "                    gpu_id,\n",
    "                    gpu_name,\n",
    "                    driver_version,\n",
    "                    cuda_version,\n",
    "                    gpu_total_memory,\n",
    "                    gpu_uuid,\n",
    "                )\n",
    "            )\n",
    "\n",
    "        print(\n",
    "            tabulate(\n",
    "                list_gpus,\n",
    "                headers=(\n",
    "                    \"id\",\n",
    "                    \"Name\",\n",
    "                    \"Driver Version\",\n",
    "                    \"CUDA Version\",\n",
    "                    \"Total Memory\",\n",
    "                    \"uuid\",\n",
    "                ),\n",
    "            )\n",
    "        )\n",
    "    except NameError:\n",
    "        print(\"CUDA Version: \", torch.version.cuda)\n",
    "\n",
    "else:\n",
    "    print(\"CUDA not in use, falling back to CPU\")"
   ]
  },
  {
   "cell_type": "code",
   "execution_count": 7,
   "id": "c4f0afeb-8324-4df6-9af1-9b8ea0b63c01",
   "metadata": {
    "execution": {
     "iopub.execute_input": "2021-06-15T14:01:49.662082Z",
     "iopub.status.busy": "2021-06-15T14:01:49.661801Z",
     "iopub.status.idle": "2021-06-15T14:01:49.666364Z",
     "shell.execute_reply": "2021-06-15T14:01:49.665823Z",
     "shell.execute_reply.started": "2021-06-15T14:01:49.662058Z"
    },
    "tags": []
   },
   "outputs": [
    {
     "name": "stdout",
     "output_type": "stream",
     "text": [
      "Author: Tyler Spears\n",
      "\n",
      "Last updated: 2021-06-15T14:01:49.446450+00:00\n",
      "\n",
      "Python implementation: CPython\n",
      "Python version       : 3.8.8\n",
      "IPython version      : 7.23.1\n",
      "\n",
      "Compiler    : GCC 7.3.0\n",
      "OS          : Linux\n",
      "Release     : 5.4.0-72-generic\n",
      "Machine     : x86_64\n",
      "Processor   : x86_64\n",
      "CPU cores   : 8\n",
      "Architecture: 64bit\n",
      "\n",
      "Git hash: fe99cb7283e761f1f906ea3a1eb3da5f03d365d2\n",
      "\n",
      "ipywidgets       : 7.6.3\n",
      "pytorch_lightning: 1.3.2\n",
      "matplotlib       : 3.4.1\n",
      "torch            : 1.8.1\n",
      "addict           : 2.4.0\n",
      "torchio          : 0.18.37\n",
      "json             : 2.0.9\n",
      "GPUtil           : 1.4.0\n",
      "torchvision      : 0.9.1\n",
      "natsort          : 7.1.1\n",
      "sys              : 3.8.8 (default, Feb 24 2021, 21:46:12) \n",
      "[GCC 7.3.0]\n",
      "scipy            : 1.5.3\n",
      "skimage          : 0.18.1\n",
      "seaborn          : 0.11.1\n",
      "IPython          : 7.23.1\n",
      "pandas           : 1.2.3\n",
      "numpy            : 1.20.2\n",
      "\n",
      "================================================== GPU Specs ==================================================\n",
      "  id  Name       Driver Version      CUDA Version  Total Memory    uuid\n",
      "----  ---------  ----------------  --------------  --------------  ----------------------------------------\n",
      "   0  TITAN RTX  460.73.01                   11.1  24217.0MB       GPU-586d2016-71ef-ebb3-437b-6721a22191ec\n",
      "\n"
     ]
    }
   ],
   "source": [
    "# cap is defined in an ipython magic command\n",
    "print(cap)"
   ]
  },
  {
   "cell_type": "markdown",
   "id": "c5f1f1f9-4d65-427b-9c0d-cfecf330087d",
   "metadata": {
    "tags": []
   },
   "source": [
    "## Data Variables & Definitions Setup"
   ]
  },
  {
   "cell_type": "code",
   "execution_count": 8,
   "id": "41c52bfa-a14a-482e-b3ce-16e2088c5896",
   "metadata": {
    "execution": {
     "iopub.execute_input": "2021-06-15T14:01:49.667746Z",
     "iopub.status.busy": "2021-06-15T14:01:49.667492Z",
     "iopub.status.idle": "2021-06-15T14:01:49.672506Z",
     "shell.execute_reply": "2021-06-15T14:01:49.672002Z",
     "shell.execute_reply.started": "2021-06-15T14:01:49.667728Z"
    },
    "tags": []
   },
   "outputs": [],
   "source": [
    "# Set up directories\n",
    "data_dir = pathlib.Path(os.environ[\"DATA_DIR\"]) / \"hcp\"\n",
    "assert data_dir.exists()\n",
    "write_data_dir = pathlib.Path(os.environ[\"WRITE_DATA_DIR\"]) / \"hcp\"\n",
    "assert write_data_dir.exists()\n",
    "results_dir = pathlib.Path(os.environ[\"RESULTS_DIR\"])\n",
    "assert results_dir.exists()"
   ]
  },
  {
   "cell_type": "code",
   "execution_count": 9,
   "id": "f63218aa-ac0b-4810-8e6a-3f7f686bf365",
   "metadata": {
    "execution": {
     "iopub.execute_input": "2021-06-15T14:01:49.673590Z",
     "iopub.status.busy": "2021-06-15T14:01:49.673368Z",
     "iopub.status.idle": "2021-06-15T14:01:49.677878Z",
     "shell.execute_reply": "2021-06-15T14:01:49.677284Z",
     "shell.execute_reply.started": "2021-06-15T14:01:49.673571Z"
    },
    "tags": []
   },
   "outputs": [],
   "source": [
    "# Dict to keep track of experiment configuration parameters. Will not be logged to\n",
    "# tensorboard.\n",
    "exp_params = Addict()"
   ]
  },
  {
   "cell_type": "code",
   "execution_count": 10,
   "id": "07922a29-9020-4f9d-960f-840f053cb63d",
   "metadata": {
    "execution": {
     "iopub.execute_input": "2021-06-15T14:01:49.678986Z",
     "iopub.status.busy": "2021-06-15T14:01:49.678762Z",
     "iopub.status.idle": "2021-06-15T14:01:49.683450Z",
     "shell.execute_reply": "2021-06-15T14:01:49.682777Z",
     "shell.execute_reply.started": "2021-06-15T14:01:49.678966Z"
    },
    "tags": []
   },
   "outputs": [],
   "source": [
    "downsample_factor = 2\n",
    "# Include b=0 shells and b=1000 shells for DTI fitting.\n",
    "bval_range = (0, 1500)\n",
    "dti_fit_method = \"WLS\"\n",
    "exp_params.update(\n",
    "    {\n",
    "        \"downsample_factor\": downsample_factor,\n",
    "        \"bval_range\": bval_range,\n",
    "        \"dti_fit_method\": dti_fit_method,\n",
    "    }\n",
    ")"
   ]
  },
  {
   "cell_type": "markdown",
   "id": "8a846b56-325b-4d7d-ae84-796faf451280",
   "metadata": {},
   "source": [
    "### Patch Parameters"
   ]
  },
  {
   "cell_type": "code",
   "execution_count": 11,
   "id": "843f8663-14aa-4587-89f1-a9b59c0e15a7",
   "metadata": {
    "execution": {
     "iopub.execute_input": "2021-06-15T14:01:49.684561Z",
     "iopub.status.busy": "2021-06-15T14:01:49.684301Z",
     "iopub.status.idle": "2021-06-15T14:01:49.693090Z",
     "shell.execute_reply": "2021-06-15T14:01:49.692571Z",
     "shell.execute_reply.started": "2021-06-15T14:01:49.684539Z"
    },
    "tags": []
   },
   "outputs": [],
   "source": [
    "# Patch parameters\n",
    "batch_size = 64\n",
    "# 6 channels for the 6 DTI components\n",
    "channels = 6\n",
    "\n",
    "# Output patch shapes\n",
    "h_out = 14\n",
    "w_out = 14\n",
    "d_out = 14\n",
    "\n",
    "# This is the factor that determines how over-extended the input patch should be\n",
    "# relative to the size of the full-res patch.\n",
    "# $low_res_patch_dim = \\frac{full_res_patch_dim}{downsample_factor} \\times low_res_sample_extension$\n",
    "# A value of 1 indicates that the input patch dims will be exactly divided by the\n",
    "# downsample factor. A dilation > 1 increases the \"spatial extent\" of the input\n",
    "# patch, providing information outside of the target HR patch.\n",
    "low_res_sample_extension = 1.57\n",
    "\n",
    "# Output shape after shuffling.\n",
    "output_patch_shape = (channels, h_out, w_out, d_out)\n",
    "output_spatial_patch_shape = output_patch_shape[1:]\n",
    "\n",
    "# Input patch parameters\n",
    "h_in = round(h_out / (downsample_factor) * low_res_sample_extension)\n",
    "w_in = round(w_out / (downsample_factor) * low_res_sample_extension)\n",
    "d_in = round(d_out / (downsample_factor) * low_res_sample_extension)\n",
    "input_patch_shape = (channels, h_in, w_in, d_in)\n",
    "input_spatial_patch_shape = input_patch_shape[1:]\n",
    "\n",
    "# Pre-shuffle output patch sizes.\n",
    "unshuffled_channels_out = channels * downsample_factor ** 3\n",
    "# Output before shuffling\n",
    "unshuffled_output_patch_shape = (unshuffled_channels_out, h_in, w_in, d_in)\n",
    "\n",
    "# Patch size in FR-space when accounting for the low-res over-extension/over-sampling\n",
    "# factor.\n",
    "fr_extension_patch_size = tuple(\n",
    "    np.asarray(input_spatial_patch_shape) * downsample_factor\n",
    ")\n",
    "fr_extension_amount = tuple(\n",
    "    np.asarray(fr_extension_patch_size) - np.asarray(output_spatial_patch_shape)\n",
    ")"
   ]
  },
  {
   "cell_type": "code",
   "execution_count": 12,
   "id": "8db856dd-72ba-46b3-9125-db6f2a78c2ad",
   "metadata": {
    "execution": {
     "iopub.execute_input": "2021-06-15T14:01:49.694440Z",
     "iopub.status.busy": "2021-06-15T14:01:49.694042Z",
     "iopub.status.idle": "2021-06-15T14:01:49.698387Z",
     "shell.execute_reply": "2021-06-15T14:01:49.697892Z",
     "shell.execute_reply.started": "2021-06-15T14:01:49.694421Z"
    },
    "tags": []
   },
   "outputs": [],
   "source": [
    "exp_params.patch.update(\n",
    "    batch_size=batch_size,\n",
    "    channels=channels,\n",
    "    low_res_sample_extension=low_res_sample_extension,\n",
    "    input_shape=input_patch_shape,\n",
    "    output_shape=output_patch_shape,\n",
    ")"
   ]
  },
  {
   "cell_type": "code",
   "execution_count": 13,
   "id": "c8a2b412-07ca-4b89-9482-5b1ec453b205",
   "metadata": {
    "execution": {
     "iopub.execute_input": "2021-06-15T14:01:49.699538Z",
     "iopub.status.busy": "2021-06-15T14:01:49.699346Z",
     "iopub.status.idle": "2021-06-15T14:01:49.702969Z",
     "shell.execute_reply": "2021-06-15T14:01:49.702483Z",
     "shell.execute_reply.started": "2021-06-15T14:01:49.699520Z"
    },
    "tags": []
   },
   "outputs": [],
   "source": [
    "# Data parameters.\n",
    "num_subject_samples = 2\n",
    "# Should the data be normalized as a pre-processing step?\n",
    "# Can be:\n",
    "# { None, \"channels\" }\n",
    "data_norm_method = \"channels\""
   ]
  },
  {
   "cell_type": "code",
   "execution_count": 14,
   "id": "88174502-5200-4d9c-841c-765efef3bc26",
   "metadata": {
    "execution": {
     "iopub.execute_input": "2021-06-15T14:01:49.704035Z",
     "iopub.status.busy": "2021-06-15T14:01:49.703787Z",
     "iopub.status.idle": "2021-06-15T14:01:49.708226Z",
     "shell.execute_reply": "2021-06-15T14:01:49.707666Z",
     "shell.execute_reply.started": "2021-06-15T14:01:49.704013Z"
    },
    "tags": []
   },
   "outputs": [],
   "source": [
    "exp_params.data.update(\n",
    "    num_subject=num_subject_samples, data_norm_method=data_norm_method\n",
    ")"
   ]
  },
  {
   "cell_type": "markdown",
   "id": "63790d58-0fdd-434a-8938-e740023319d2",
   "metadata": {
    "tags": []
   },
   "source": [
    "### Training and Testing Setup"
   ]
  },
  {
   "cell_type": "code",
   "execution_count": 15,
   "id": "6f06c0d3-16e5-4783-8539-3cd552dc6848",
   "metadata": {
    "execution": {
     "iopub.execute_input": "2021-06-15T14:01:49.710995Z",
     "iopub.status.busy": "2021-06-15T14:01:49.710798Z",
     "iopub.status.idle": "2021-06-15T14:01:49.714489Z",
     "shell.execute_reply": "2021-06-15T14:01:49.713826Z",
     "shell.execute_reply.started": "2021-06-15T14:01:49.710977Z"
    },
    "tags": []
   },
   "outputs": [],
   "source": [
    "# Training/testing parameters.\n",
    "\n",
    "# Spline interpolation baseline parameters.\n",
    "spline_interp_order = 1"
   ]
  },
  {
   "cell_type": "code",
   "execution_count": 16,
   "id": "68a54aa3-67c9-41f2-b410-1addfdda9bc1",
   "metadata": {
    "execution": {
     "iopub.execute_input": "2021-06-15T14:01:49.715771Z",
     "iopub.status.busy": "2021-06-15T14:01:49.715496Z",
     "iopub.status.idle": "2021-06-15T14:01:49.719941Z",
     "shell.execute_reply": "2021-06-15T14:01:49.719436Z",
     "shell.execute_reply.started": "2021-06-15T14:01:49.715743Z"
    },
    "tags": []
   },
   "outputs": [],
   "source": [
    "# Number of voxels to dilate the mask in FR space.\n",
    "# Just make it 0.\n",
    "dilation_size = 0"
   ]
  },
  {
   "cell_type": "code",
   "execution_count": 17,
   "id": "b197314f-8666-4c4f-8612-ecb8f739ed88",
   "metadata": {
    "execution": {
     "iopub.execute_input": "2021-06-15T14:01:49.721300Z",
     "iopub.status.busy": "2021-06-15T14:01:49.721027Z",
     "iopub.status.idle": "2021-06-15T14:01:49.725735Z",
     "shell.execute_reply": "2021-06-15T14:01:49.725138Z",
     "shell.execute_reply.started": "2021-06-15T14:01:49.721272Z"
    },
    "tags": []
   },
   "outputs": [],
   "source": [
    "exp_params.spline.update(order=spline_interp_order)\n",
    "exp_params.preproc.update(dilation_size=dilation_size)"
   ]
  },
  {
   "cell_type": "markdown",
   "id": "6faa0a10-e760-4084-8aff-dd8deda7415e",
   "metadata": {},
   "source": [
    "## Function Definitions"
   ]
  },
  {
   "cell_type": "markdown",
   "id": "1970f94c-9803-4eea-87d3-b2909081d103",
   "metadata": {},
   "source": [
    "# Data Loading"
   ]
  },
  {
   "cell_type": "markdown",
   "id": "639b4177-5fe3-4171-a06f-b6d8ee726612",
   "metadata": {},
   "source": [
    "## Subject ID Selection"
   ]
  },
  {
   "cell_type": "code",
   "execution_count": 18,
   "id": "b6a7205a-2758-48bd-a6ef-ec4ba2d9f183",
   "metadata": {
    "execution": {
     "iopub.execute_input": "2021-06-15T14:01:49.727160Z",
     "iopub.status.busy": "2021-06-15T14:01:49.726868Z",
     "iopub.status.idle": "2021-06-15T14:01:49.737692Z",
     "shell.execute_reply": "2021-06-15T14:01:49.737100Z",
     "shell.execute_reply.started": "2021-06-15T14:01:49.727131Z"
    },
    "tags": []
   },
   "outputs": [
    {
     "name": "stderr",
     "output_type": "stream",
     "text": [
      "/tmp/ipykernel_90397/2765378097.py:25: UserWarning:\n",
      "\n",
      "WARNING: Sub-selecting participants for dev and debugging. Subj IDs selected: ['894774', '140117']\n",
      "\n"
     ]
    },
    {
     "data": {
      "text/plain": [
       "{140117: PosixPath('/mnt/storage/data/pitn/hcp/140117/T1w/Diffusion'),\n",
       " 894774: PosixPath('/mnt/storage/data/pitn/hcp/894774/T1w/Diffusion')}"
      ]
     },
     "execution_count": 18,
     "metadata": {},
     "output_type": "execute_result"
    }
   ],
   "source": [
    "# Find data directories for each subject.\n",
    "subj_dirs: dict = dict()\n",
    "\n",
    "selected_ids = [\n",
    "    \"397154\",\n",
    "    \"224022\",\n",
    "    \"140117\",\n",
    "    \"751348\",\n",
    "    \"894774\",\n",
    "    \"156637\",\n",
    "    \"227432\",\n",
    "    \"303624\",\n",
    "    \"185947\",\n",
    "    \"810439\",\n",
    "    \"753251\",\n",
    "    \"644246\",\n",
    "    \"141422\",\n",
    "    \"135528\",\n",
    "    \"103010\",\n",
    "    \"700634\",\n",
    "]\n",
    "\n",
    "## Sub-set the chosen participants for dev and debugging!\n",
    "selected_ids = random.sample(selected_ids, num_subject_samples)\n",
    "warnings.warn(\n",
    "    \"WARNING: Sub-selecting participants for dev and debugging. \"\n",
    "    + f\"Subj IDs selected: {selected_ids}\"\n",
    ")\n",
    "# ### A nested warning! For debugging only.\n",
    "# warnings.warn(\"WARNING: Mixing training and testing subjects\")\n",
    "# selected_ids.append(selected_ids[0])\n",
    "# ###\n",
    "##\n",
    "\n",
    "selected_ids = natsorted(list(map(lambda s: int(s), selected_ids)))\n",
    "\n",
    "for subj_id in selected_ids:\n",
    "    subj_dirs[subj_id] = data_dir / f\"{subj_id}/T1w/Diffusion\"\n",
    "    assert subj_dirs[subj_id].exists()\n",
    "subj_dirs"
   ]
  },
  {
   "cell_type": "markdown",
   "id": "f4da18eb-2c17-45b6-86fd-2e1931503820",
   "metadata": {
    "tags": []
   },
   "source": [
    "## Loading and Preprocessing"
   ]
  },
  {
   "cell_type": "code",
   "execution_count": 19,
   "id": "829406ab-a588-47c9-a7d1-1e4b9206ae0c",
   "metadata": {
    "execution": {
     "iopub.execute_input": "2021-06-15T14:01:49.739359Z",
     "iopub.status.busy": "2021-06-15T14:01:49.738889Z",
     "iopub.status.idle": "2021-06-15T14:01:49.749698Z",
     "shell.execute_reply": "2021-06-15T14:01:49.748951Z",
     "shell.execute_reply.started": "2021-06-15T14:01:49.739327Z"
    },
    "tags": []
   },
   "outputs": [],
   "source": [
    "# Set up the transformation pipeline.\n",
    "\n",
    "preproc_transforms = torchio.Compose(\n",
    "    [\n",
    "        torchio.transforms.ToCanonical(include=(\"dwi\", \"brain_mask\"), copy=False),\n",
    "        pitn.transforms.BValSelectionTransform(\n",
    "            bval_range=bval_range,\n",
    "            bval_key=\"bvals\",\n",
    "            bvec_key=\"bvecs\",\n",
    "            include=\"dwi\",\n",
    "            copy=False,\n",
    "        ),\n",
    "        # Pad by the dilation factor, then dilate the mask.\n",
    "        torchio.transforms.Pad(\n",
    "            dilation_size,\n",
    "            padding_mode=0,\n",
    "            include=(\"dwi\", \"brain_mask\"),\n",
    "            copy=False,\n",
    "        ),\n",
    "        pitn.transforms.DilateMaskTransform(\n",
    "            dilation_size=dilation_size, include=(\"brain_mask\",), copy=False\n",
    "        ),\n",
    "        # Pad by the amount of extension voxels in FR space, so LR indices cannot\n",
    "        # go out of bounds.\n",
    "        torchio.transforms.Pad(\n",
    "            fr_extension_amount,\n",
    "            padding_mode=0,\n",
    "            include=(\"dwi\", \"brain_mask\"),\n",
    "            copy=False,\n",
    "        ),\n",
    "        # Ensure FR dims are divisible by the downsample factor, to more reliably\n",
    "        # convert between FR indices and LR indices.\n",
    "        torchio.transforms.EnsureShapeMultiple(\n",
    "            downsample_factor, method=\"pad\", include=(\"dwi\", \"brain_mask\"), copy=False\n",
    "        ),\n",
    "        pitn.transforms.MeanDownsampleTransform(\n",
    "            downsample_factor,\n",
    "            include=(\"dwi\", \"brain_mask\"),\n",
    "            keep={\"dwi\": \"fr_dwi\", \"brain_mask\": \"fr_brain_mask\"},\n",
    "            copy=False,\n",
    "        ),\n",
    "        pitn.transforms.RenameImageTransform(\n",
    "            {\"dwi\": \"lr_dwi\", \"brain_mask\": \"lr_brain_mask\"}, copy=False\n",
    "        ),\n",
    "        pitn.transforms.ImageToDictTransform(\n",
    "            include=(\"lr_dwi\", \"lr_brain_mask\"), copy=False\n",
    "        ),\n",
    "    ]\n",
    ")"
   ]
  },
  {
   "cell_type": "code",
   "execution_count": 20,
   "id": "352d9c77-b4b7-435d-854d-9880bc52d85c",
   "metadata": {
    "execution": {
     "iopub.execute_input": "2021-06-15T14:01:49.751272Z",
     "iopub.status.busy": "2021-06-15T14:01:49.750936Z",
     "iopub.status.idle": "2021-06-15T14:02:52.895547Z",
     "shell.execute_reply": "2021-06-15T14:02:52.895010Z",
     "shell.execute_reply.started": "2021-06-15T14:01:49.751242Z"
    },
    "tags": []
   },
   "outputs": [
    {
     "name": "stdout",
     "output_type": "stream",
     "text": [
      "Brain mask volume before dilation: 730310\n",
      "Loading NIFTI image: /mnt/storage/data/pitn/hcp/140117/T1w/Diffusion/data.nii.gz\n",
      "\tLoaded NIFTI image\n",
      "Selecting with bvals: Subject 140117...Selected\n",
      "Downsampling: Subject 140117...Downsampled\n",
      "====================\n",
      "Brain mask volume before dilation: 865379\n",
      "Loading NIFTI image: /mnt/storage/data/pitn/hcp/894774/T1w/Diffusion/data.nii.gz\n",
      "\tLoaded NIFTI image\n",
      "Selecting with bvals: Subject 894774...Selected\n",
      "Downsampling: Subject 894774...Downsampled\n",
      "====================\n",
      "===Data Loaded & Transformed===\n"
     ]
    }
   ],
   "source": [
    "# Import all image data into a sequence of `torchio.Subject` objects.\n",
    "subj_data: dict = dict()\n",
    "\n",
    "for subj_id, subj_dir in subj_dirs.items():\n",
    "    # Sub-select volumes with only bvals in a certain range. E.x. bvals <= 1100 mm/s^2,\n",
    "    # a.k.a. only the b=0 and b=1000 shells.\n",
    "    bvals = torch.as_tensor(np.loadtxt(subj_dir / \"bvals\").astype(int))\n",
    "    bvecs = torch.as_tensor(np.loadtxt(subj_dir / \"bvecs\"))\n",
    "    # Reshape to be N x 3\n",
    "    if bvecs.shape[0] == 3:\n",
    "        bvecs = bvecs.T\n",
    "\n",
    "    brain_mask = torchio.LabelMap(\n",
    "        subj_dir / \"nodif_brain_mask.nii.gz\",\n",
    "        type=torchio.LABEL,\n",
    "        channels_last=False,\n",
    "    )\n",
    "    brain_mask.set_data(brain_mask.data.bool())\n",
    "    mask_volume = brain_mask[\"data\"].sum()\n",
    "    print(f\"Brain mask volume before dilation: {mask_volume}\")\n",
    "    dwi = torchio.ScalarImage(\n",
    "        subj_dir / \"data.nii.gz\",\n",
    "        type=torchio.INTENSITY,\n",
    "        bvals=bvals,\n",
    "        bvecs=bvecs,\n",
    "        reader=pitn.io.nifti_reader,\n",
    "        channels_last=True,\n",
    "    )\n",
    "\n",
    "    subject_dict = torchio.Subject(subj_id=subj_id, dwi=dwi, brain_mask=brain_mask)\n",
    "    preproced_subj = preproc_transforms(subject_dict)\n",
    "\n",
    "    subj_data[subj_id] = preproced_subj\n",
    "    print(\"=\" * 20)\n",
    "#     breakpoint()\n",
    "\n",
    "print(\"===Data Loaded & Transformed===\")"
   ]
  },
  {
   "cell_type": "markdown",
   "id": "fe9f139a-7e54-4436-bd05-c8a99fa0134a",
   "metadata": {},
   "source": [
    "## Load UVA Data"
   ]
  },
  {
   "cell_type": "code",
   "execution_count": 153,
   "id": "23ba2548-e5f2-40b0-b3bc-429344390cce",
   "metadata": {
    "execution": {
     "iopub.execute_input": "2021-06-16T15:49:20.633668Z",
     "iopub.status.busy": "2021-06-16T15:49:20.632997Z",
     "iopub.status.idle": "2021-06-16T15:49:20.648658Z",
     "shell.execute_reply": "2021-06-16T15:49:20.647579Z",
     "shell.execute_reply.started": "2021-06-16T15:49:20.633609Z"
    },
    "tags": []
   },
   "outputs": [
    {
     "data": {
      "text/plain": [
       "{'001': PosixPath('/mnt/storage/data/pitn/uva/001')}"
      ]
     },
     "execution_count": 153,
     "metadata": {},
     "output_type": "execute_result"
    }
   ],
   "source": [
    "# Load the UVA subject data\n",
    "uva_data_dir = pathlib.Path(os.environ[\"DATA_DIR\"]) / \"uva\"\n",
    "assert uva_data_dir.exists()\n",
    "uva_subj_dirs = dict()\n",
    "\n",
    "for subj_dir in uva_data_dir.glob(\"*\"):\n",
    "    subj_id = subj_dir.name\n",
    "    uva_subj_dirs[subj_id] = uva_data_dir / subj_id\n",
    "    assert uva_subj_dirs[subj_id].exists()\n",
    "uva_subj_dirs"
   ]
  },
  {
   "cell_type": "code",
   "execution_count": 315,
   "id": "4d3c3b3e-6863-4dc1-b953-f6f6eef824b4",
   "metadata": {
    "execution": {
     "iopub.execute_input": "2021-06-16T18:16:06.253205Z",
     "iopub.status.busy": "2021-06-16T18:16:06.252675Z",
     "iopub.status.idle": "2021-06-16T18:16:17.236863Z",
     "shell.execute_reply": "2021-06-16T18:16:17.236247Z",
     "shell.execute_reply.started": "2021-06-16T18:16:06.253150Z"
    },
    "tags": []
   },
   "outputs": [
    {
     "name": "stdout",
     "output_type": "stream",
     "text": [
      "Loading NIFTI image: /mnt/storage/data/pitn/uva/001/sub-001_ses-01_run-2_dwi.nii.gz\n",
      "\tLoaded NIFTI image\n",
      "Selecting with bvals: Subject 001...Selected\n",
      "Downsampling: Subject 001...Downsampled\n",
      "====================\n"
     ]
    }
   ],
   "source": [
    "uva_subj_data: dict = dict()\n",
    "\n",
    "for subj_id, subj_dir in uva_subj_dirs.items():\n",
    "    # Sub-select volumes with only bvals in a certain range. E.x. bvals <= 1100 mm/s^2,\n",
    "    # a.k.a. only the b=0 and b=1000 shells.\n",
    "    bvals_file = list(subj_dir.glob(\"*.bval\"))[0]\n",
    "    bvecs_file = list(subj_dir.glob(\"*.bvec\"))[0]\n",
    "    bvals = torch.as_tensor(np.loadtxt(bvals_file).astype(int))\n",
    "    bvecs = torch.as_tensor(np.loadtxt(bvecs_file))\n",
    "    # Reshape to be N x 3\n",
    "    if bvecs.shape[0] == 3:\n",
    "        bvecs = bvecs.T\n",
    "\n",
    "    dwi_file = list(subj_dir.glob(\"*dwi.nii.gz\"))[0]\n",
    "    dwi = torchio.ScalarImage(\n",
    "        dwi_file,\n",
    "        type=torchio.INTENSITY,\n",
    "        bvals=bvals,\n",
    "        bvecs=bvecs,\n",
    "        reader=pitn.io.nifti_reader,\n",
    "        channels_last=True,\n",
    "    )\n",
    "\n",
    "    gtab = dipy.core.gradients.gradient_table(bvals, bvecs)\n",
    "\n",
    "    _, threshold_brain_mask = dipy.segment.mask.median_otsu(\n",
    "        np.moveaxis(dwi.tensor.numpy(), 0, -1),\n",
    "        vol_idx=np.where(bvals == 0)[0],\n",
    "        median_radius=3,\n",
    "        numpass=1,\n",
    "        dilate=None,\n",
    "    )\n",
    "\n",
    "    brain_mask = torchio.LabelMap(\n",
    "        tensor=torch.as_tensor(threshold_brain_mask[None, ...]),\n",
    "        affine=dwi.affine,\n",
    "        type=torchio.LABEL,\n",
    "    )\n",
    "    brain_mask.set_data(brain_mask.data.bool())\n",
    "\n",
    "    subject_dict = torchio.Subject(subj_id=subj_id, dwi=dwi, brain_mask=brain_mask)\n",
    "    preproced_subj = preproc_transforms(subject_dict)\n",
    "\n",
    "    uva_subj_data[subj_id] = preproced_subj\n",
    "    print(\"=\" * 20)"
   ]
  },
  {
   "cell_type": "code",
   "execution_count": 293,
   "id": "ace22195-18f5-4468-9bcc-898843eb19e7",
   "metadata": {
    "execution": {
     "iopub.execute_input": "2021-06-16T18:02:42.712589Z",
     "iopub.status.busy": "2021-06-16T18:02:42.712026Z",
     "iopub.status.idle": "2021-06-16T18:03:02.549093Z",
     "shell.execute_reply": "2021-06-16T18:03:02.548369Z",
     "shell.execute_reply.started": "2021-06-16T18:02:42.712531Z"
    },
    "tags": []
   },
   "outputs": [],
   "source": [
    "# Visualization of UVA data\n",
    "subj = uva_subj_data[\"001\"]\n",
    "dwi = subj.fr_dwi.tensor.numpy()\n",
    "affine = subj.fr_dwi.affine\n",
    "bvals = subj.fr_dwi[\"bvals\"].numpy()\n",
    "bvecs = subj.fr_dwi[\"bvecs\"].numpy()\n",
    "\n",
    "gtab = dipy.core.gradients.gradient_table(bvals, bvecs)\n",
    "\n",
    "mask_data, mask = dipy.segment.mask.median_otsu(\n",
    "    np.moveaxis(dwi, 0, -1),\n",
    "    vol_idx=np.where(bvals == 0)[0],\n",
    "    median_radius=3,\n",
    "    numpass=1,\n",
    "    dilate=2,\n",
    ")"
   ]
  },
  {
   "cell_type": "code",
   "execution_count": 301,
   "id": "1baead10-17a9-4060-901e-e4d24921456f",
   "metadata": {
    "execution": {
     "iopub.execute_input": "2021-06-16T18:05:22.595638Z",
     "iopub.status.busy": "2021-06-16T18:05:22.595094Z",
     "iopub.status.idle": "2021-06-16T18:05:22.756791Z",
     "shell.execute_reply": "2021-06-16T18:05:22.755887Z",
     "shell.execute_reply.started": "2021-06-16T18:05:22.595582Z"
    },
    "tags": []
   },
   "outputs": [
    {
     "data": {
      "text/plain": [
       "<matplotlib.image.AxesImage at 0x7f8c07fbb8e0>"
      ]
     },
     "execution_count": 301,
     "metadata": {},
     "output_type": "execute_result"
    },
    {
     "data": {
      "image/png": "[encoded data removed]",
      "text/plain": [
       "<Figure size 432x288 with 1 Axes>"
      ]
     },
     "metadata": {},
     "output_type": "display_data"
    }
   ],
   "source": [
    "plt.imshow((mask[50, :, :]) * dwi[0, 50])"
   ]
  },
  {
   "cell_type": "markdown",
   "id": "f0ba4d43-dfda-42bb-882c-1a051ae88a6c",
   "metadata": {},
   "source": [
    "# Rician Noise Definitions"
   ]
  },
  {
   "cell_type": "markdown",
   "id": "1185a8c6-d966-4bfa-8d16-46ff9a0fedd9",
   "metadata": {},
   "source": [
    "$ \\log p(x ; \\nu) = \\log \\frac{x}{\\sigma^2} -\\frac{x^2 + \\nu^2}{2\\sigma^2} +\n",
    "\\log I_0\\left(\\frac{x\\nu}{\\sigma^2}\\right) $"
   ]
  },
  {
   "cell_type": "code",
   "execution_count": null,
   "id": "a8f605f4-3377-4eb0-8501-baabc75d3936",
   "metadata": {},
   "outputs": [],
   "source": [
    "# def log_likelihood(x, signal, noise_var):\n",
    "#     result = np.log(x / noise_var)\n",
    "#     result = result - (x ** 2 + signal ** 2) / (2 * noise_var)\n",
    "#     result = result + np.log(scipy.special.i0(x * signal / noise_var))\n",
    "\n",
    "#     return result\n",
    "\n",
    "\n",
    "# def weight_ll(patch, interp_kernel, pred_val, noise_var):\n",
    "#     \"\"\"\n",
    "#     Find weighted log-likelihood for one voxel given several voxels in a patch.\n",
    "\n",
    "#     Parameters:\n",
    "#         patche: D_1 x D_2 x ... x D_m\n",
    "#         interp_kernel: D_1 x D_2 x ... x D_m, with values that sum to 1.0\n",
    "#         pred_val: float\n",
    "#         noise_var: float\n",
    "#     \"\"\"\n",
    "\n",
    "#     samples = patch.flatten()\n",
    "#     log_likes = log_likelihood(samples, pred_val, noise_var)\n",
    "\n",
    "#     weights = interp_kernel.flatten()\n",
    "#     weight_log_likes = np.sum(weights * log_likes)\n",
    "\n",
    "#     return weight_log_likes\n",
    "\n",
    "\n",
    "# def grad_weight_ll(samples, signal, noise_var):\n",
    "#     samples = samples.flatten()\n",
    "#     N = len(samples)\n",
    "\n",
    "#     offset_term = -N * signal / noise_var\n",
    "#     inner_sum = (\n",
    "#         scipy.special.i1(samples * signal / noise_var)\n",
    "#         / scipy.special.i0(samples * signal / noise_var)\n",
    "#         * samples\n",
    "#         / noise_var\n",
    "#     )\n",
    "\n",
    "#     sum_term = np.sum(inner_sum)\n",
    "#     result = offset_term + sum_term\n",
    "\n",
    "#     return result"
   ]
  },
  {
   "cell_type": "markdown",
   "id": "14c5cd36-6ecc-413e-808d-12bf4d879d8b",
   "metadata": {},
   "source": [
    "$$\n",
    "v_{t+1} = \\mu * v_{t} + g_{t+1}, \\\\\n",
    "p_{t+1} = p_{t} - \\text{lr} * v_{t+1}\n",
    "$$"
   ]
  },
  {
   "cell_type": "code",
   "execution_count": null,
   "id": "6985a6ec-c858-474e-995f-ab8c022b8120",
   "metadata": {},
   "outputs": [],
   "source": [
    "# def grad_interpolate(\n",
    "#     patch,\n",
    "#     interp_kernel,\n",
    "#     noise_var,\n",
    "#     lr,\n",
    "#     momentum=0,\n",
    "#     init_pred=None,\n",
    "#     tol=1e-5,\n",
    "#     max_steps=1000,\n",
    "# ):\n",
    "#     samples = patch.flatten()\n",
    "#     weights = interp_kernel.flatten()\n",
    "#     if init_pred is None:\n",
    "#         init_pred = np.sum(samples * weights)\n",
    "\n",
    "#     pred_t = init_pred\n",
    "#     vel_t = 1 * momentum\n",
    "\n",
    "#     for i in range(max_steps):\n",
    "#         grad_tp1 = grad_weight_ll(samples, pred_t, noise_var)\n",
    "#         if grad_tp1 <= tol:\n",
    "#             return pred_t\n",
    "\n",
    "#         vel_tp1 = momentum * vel_t + grad_tp1\n",
    "#         pred_tp1 = pred_t - lr * vel_tp1\n",
    "\n",
    "#         pred_t = pred_tp1\n",
    "#         vel_t = vel_tp1\n",
    "\n",
    "#     print(f\"WARNING: Did not converge to tol {tol}\")\n",
    "\n",
    "#     return pred_t"
   ]
  },
  {
   "cell_type": "markdown",
   "id": "c6053274-e4ab-4569-b1ef-72baf78c54eb",
   "metadata": {
    "execution": {
     "iopub.execute_input": "2021-06-15T16:17:16.719019Z",
     "iopub.status.busy": "2021-06-15T16:17:16.718359Z",
     "iopub.status.idle": "2021-06-15T16:17:16.747226Z",
     "shell.execute_reply": "2021-06-15T16:17:16.746146Z",
     "shell.execute_reply.started": "2021-06-15T16:17:16.718956Z"
    },
    "tags": []
   },
   "source": [
    "# Interpolation with Pytorch Modules"
   ]
  },
  {
   "cell_type": "code",
   "execution_count": 139,
   "id": "57ea7e96-9083-4524-87d4-d62c3cc1fab2",
   "metadata": {
    "execution": {
     "iopub.execute_input": "2021-06-16T15:15:21.427481Z",
     "iopub.status.busy": "2021-06-16T15:15:21.426913Z",
     "iopub.status.idle": "2021-06-16T15:15:21.448296Z",
     "shell.execute_reply": "2021-06-16T15:15:21.447715Z",
     "shell.execute_reply.started": "2021-06-16T15:15:21.427423Z"
    },
    "tags": []
   },
   "outputs": [],
   "source": [
    "# class RicianNLL(torch.autograd.Function):\n",
    "#     @staticmethod\n",
    "#     def forward(ctx, pred_signals, samples, weights, noise_var):\n",
    "#         \"\"\"\n",
    "\n",
    "#         Parameters:\n",
    "#             samples: torch.Tensor with shape B x N\n",
    "#             pred_signals: torch.Tensor with shape B\n",
    "#             weights: torch.Tensor with shape B x N\n",
    "#             noise_var: float\n",
    "#         \"\"\"\n",
    "#         # ctx is a context object that can be used to stash information\n",
    "#         # for backward computation\n",
    "#         ctx.noise_var = noise_var\n",
    "#         ctx.samples = samples\n",
    "#         ctx.pred_signals = pred_signals\n",
    "\n",
    "# #         breakpoint()\n",
    "\n",
    "#         log_likes = torch.log(samples / noise_var)\n",
    "#         log_likes = log_likes - (samples ** 2 + pred_signals.view(-1, 1) ** 2) / (\n",
    "#             2 * noise_var\n",
    "#         )\n",
    "\n",
    "#         zero_bessel = scipy.special.i0(\n",
    "#             (samples * pred_signals.view(-1, 1) / noise_var).cpu().numpy()\n",
    "#         )\n",
    "#         zero_bessel = torch.as_tensor(zero_bessel).to(log_likes)\n",
    "#         ctx.zero_bessel = zero_bessel\n",
    "\n",
    "#         log_likes = log_likes + torch.log(zero_bessel)\n",
    "\n",
    "#         weight_log_likes = torch.sum(weights * log_likes, dim=1)\n",
    "\n",
    "#         return -weight_log_likes\n",
    "\n",
    "#     @staticmethod\n",
    "#     def backward(ctx, grad_output):\n",
    "#         # We return as many input gradients as there were arguments.\n",
    "#         # Gradients of non-Tensor arguments to forward must be None.\n",
    "#         samples = ctx.samples\n",
    "#         N = len(samples)\n",
    "#         pred_signals = ctx.pred_signals\n",
    "#         noise_var = ctx.noise_var\n",
    "\n",
    "#         offset_term = -N * pred_signals / noise_var\n",
    "\n",
    "#         zero_bessel = ctx.zero_bessel\n",
    "#         one_bessel = scipy.special.i1(\n",
    "#             (samples * pred_signals.view(-1, 1) / noise_var).cpu().numpy()\n",
    "#         )\n",
    "#         one_bessel = torch.as_tensor(one_bessel).to(zero_bessel)\n",
    "\n",
    "#         inner_sum = one_bessel / zero_bessel * samples / noise_var\n",
    "\n",
    "#         sum_term = torch.sum(inner_sum, dim=1)\n",
    "#         grads = offset_term + sum_term\n",
    "\n",
    "#         return grads, None, None, None\n",
    "\n",
    "\n",
    "# class RicianInterp(torch.nn.Module):\n",
    "#     def __init__(self, init_signals):\n",
    "#         super().__init__()\n",
    "\n",
    "#         self.N = len(init_signals)\n",
    "#         self.signals = torch.nn.Parameter(torch.as_tensor(init_signals))\n",
    "\n",
    "#     def forward(\n",
    "#         self, patches: torch.Tensor, interp_kernels: torch.Tensor, noise_var: float\n",
    "#     ):\n",
    "#         if interp_kernels.ndim == patches.ndim - 1:\n",
    "#             interp_kernels = interp_kernels.expand_as(patches)\n",
    "\n",
    "#         samples = patches.reshape(self.N, -1)\n",
    "#         interp_kernels = interp_kernels.reshape(self.N, -1)\n",
    "\n",
    "#         return RicianNLL.apply(self.signals, samples, interp_kernels, noise_var)"
   ]
  },
  {
   "cell_type": "code",
   "execution_count": 146,
   "id": "84baf9fc-684b-40b9-89e9-e4281fbc630e",
   "metadata": {
    "execution": {
     "iopub.execute_input": "2021-06-16T15:23:21.735241Z",
     "iopub.status.busy": "2021-06-16T15:23:21.734711Z",
     "iopub.status.idle": "2021-06-16T15:23:21.765420Z",
     "shell.execute_reply": "2021-06-16T15:23:21.764306Z",
     "shell.execute_reply.started": "2021-06-16T15:23:21.735187Z"
    },
    "tags": []
   },
   "outputs": [
    {
     "name": "stdout",
     "output_type": "stream",
     "text": [
      "tensor(3.82369042, dtype=torch.float64, grad_fn=<SumBackward0>)\n",
      "tensor(3.82414941, dtype=torch.float64, grad_fn=<SumBackward0>)\n",
      "tensor(3.82462049, dtype=torch.float64, grad_fn=<SumBackward0>)\n",
      "tensor(3.82510386, dtype=torch.float64, grad_fn=<SumBackward0>)\n",
      "tensor(3.82559976, dtype=torch.float64, grad_fn=<SumBackward0>)\n",
      "tensor(3.82610838, dtype=torch.float64, grad_fn=<SumBackward0>)\n",
      "tensor(3.82662997, dtype=torch.float64, grad_fn=<SumBackward0>)\n",
      "tensor(3.82716474, dtype=torch.float64, grad_fn=<SumBackward0>)\n",
      "tensor(3.82771292, dtype=torch.float64, grad_fn=<SumBackward0>)\n",
      "tensor(3.82827475, dtype=torch.float64, grad_fn=<SumBackward0>)\n"
     ]
    }
   ],
   "source": [
    "# B = 2\n",
    "# N = 3\n",
    "# test_input = torch.as_tensor([[0.1, 1.0, 1.3], [2., 4., 0.3]], dtype=float)\n",
    "# kernel = torch.as_tensor([0.5, 0.3, 0.2]).float()\n",
    "# noise_var = test_input.var()\n",
    "# pred = (test_input * kernel).sum(dim=1)\n",
    "# pred.requires_grad_(True)\n",
    "\n",
    "# r_interp = RicianInterp(pred)\n",
    "# out = r_interp(test_input, kernel, noise_var)\n",
    "# out\n",
    "\n",
    "# optimizer = torch.optim.SGD(r_interp.parameters(), lr=0.01)\n",
    "\n",
    "# for _ in range(10):\n",
    "#     w_nlls = r_interp(test_input, kernel, noise_var)\n",
    "#     loss = w_nlls.sum()\n",
    "#     optimizer.zero_grad()\n",
    "#     loss.backward()\n",
    "#     optimizer.step()\n",
    "#     print(loss)"
   ]
  },
  {
   "cell_type": "code",
   "execution_count": 135,
   "id": "6b3a90bc-ea0c-43ce-b398-1ac7b0d5c14f",
   "metadata": {
    "execution": {
     "iopub.execute_input": "2021-06-16T15:11:44.128872Z",
     "iopub.status.busy": "2021-06-16T15:11:44.128362Z",
     "iopub.status.idle": "2021-06-16T15:11:44.148027Z",
     "shell.execute_reply": "2021-06-16T15:11:44.147084Z",
     "shell.execute_reply.started": "2021-06-16T15:11:44.128817Z"
    },
    "tags": []
   },
   "outputs": [],
   "source": [
    "test_input = np.asarray([0.1, 1.0, 1.3])\n",
    "kernel = np.asarray([0.5, 0.3, 0.2])\n",
    "noise_var = test_input.var()\n",
    "pred = np.sum(test_input * kernel)\n",
    "\n",
    "mle, _, _ = scipy.stats.rice.fit(test_input, pred, floc=0, fscale=np.sqrt(noise_var))\n",
    "print(mle, pred)"
   ]
  }
 ],
 "metadata": {
  "kernelspec": {
   "display_name": "Python [conda env:miniconda-pitn]",
   "language": "python",
   "name": "conda-env-miniconda-pitn-py"
  },
  "language_info": {
   "codemirror_mode": {
    "name": "ipython",
    "version": 3
   },
   "file_extension": ".py",
   "mimetype": "text/x-python",
   "name": "python",
   "nbconvert_exporter": "python",
   "pygments_lexer": "ipython3",
   "version": "3.8.8"
  },
  "widgets": {
   "application/vnd.jupyter.widget-state+json": {
    "state": {},
    "version_major": 2,
    "version_minor": 0
   }
  }
 },
 "nbformat": 4,
 "nbformat_minor": 5
}
