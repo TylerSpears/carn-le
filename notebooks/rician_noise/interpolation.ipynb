{
 "cells": [
  {
   "cell_type": "markdown",
   "id": "897dea55-484c-4298-834e-395f05cf9204",
   "metadata": {
    "heading_collapsed": "true",
    "tags": []
   },
   "source": [
    "# Interpolation with Rician Noise on DWI's\n",
    "\n",
    "Code by:\n",
    "\n",
    "Tyler Spears - tas6hh@virginia.edu\n",
    "\n",
    "Dr. Tom Fletcher\n",
    "\n",
    "---\n",
    "\n",
    "Source works:\n",
    "\n",
    "`Basu S, Fletcher T, Whitaker R. Rician Noise Removal in Diffusion Tensor MRI. In: Larsen R, Nielsen M, Sporring J, eds. Medical Image Computing and Computer-Assisted Intervention – MICCAI 2006. Vol 4190. Lecture Notes in Computer Science. Springer Berlin Heidelberg; 2006:117-125. doi:10.1007/11866565_15\n",
    "`\n"
   ]
  },
  {
   "cell_type": "markdown",
   "id": "a5700e8c-e0db-424f-88bd-94f1b789d8f1",
   "metadata": {
    "tags": []
   },
   "source": [
    "# Imports & Environment Setup"
   ]
  },
  {
   "cell_type": "markdown",
   "id": "270d2585-579d-4597-9600-8033cf36fbb2",
   "metadata": {},
   "source": [
    "## Imports"
   ]
  },
  {
   "cell_type": "code",
   "execution_count": 25,
   "id": "74977980-c725-4295-81f8-5e6498338b3f",
   "metadata": {
    "execution": {
     "iopub.execute_input": "2021-06-22T02:24:02.851020Z",
     "iopub.status.busy": "2021-06-22T02:24:02.850645Z",
     "iopub.status.idle": "2021-06-22T02:24:02.889419Z",
     "shell.execute_reply": "2021-06-22T02:24:02.888711Z",
     "shell.execute_reply.started": "2021-06-22T02:24:02.850986Z"
    },
    "tags": []
   },
   "outputs": [
    {
     "name": "stdout",
     "output_type": "stream",
     "text": [
      "The autoreload extension is already loaded. To reload it, use:\n",
      "  %reload_ext autoreload\n"
     ]
    }
   ],
   "source": [
    "# Automatically re-import project-specific modules.\n",
    "%load_ext autoreload\n",
    "%autoreload 1\n",
    "\n",
    "# imports\n",
    "import collections\n",
    "import itertools\n",
    "import functools\n",
    "\n",
    "import pathlib\n",
    "from pathlib import Path\n",
    "import shutil\n",
    "\n",
    "import math\n",
    "import random\n",
    "import datetime\n",
    "import time\n",
    "\n",
    "import copy\n",
    "import warnings\n",
    "import pdb\n",
    "import inspect\n",
    "import sys\n",
    "\n",
    "import os\n",
    "import io\n",
    "import subprocess\n",
    "\n",
    "import dotenv\n",
    "\n",
    "# Toolbelt/utility imports\n",
    "import natsort\n",
    "from natsort import natsorted\n",
    "import addict\n",
    "from addict import Addict\n",
    "import pprint\n",
    "from pprint import pprint as ppr\n",
    "import tqdm\n",
    "from tqdm import tqdm_notebook\n",
    "\n",
    "# Computation & ML libraries.\n",
    "import numpy as np\n",
    "import scipy\n",
    "import skimage\n",
    "import skimage.feature\n",
    "import skimage.filters\n",
    "import skimage.measure\n",
    "import nibabel as nib\n",
    "import dipy\n",
    "import dipy.viz\n",
    "import dipy.align\n",
    "import dipy.reconst\n",
    "import ants\n",
    "import pandas as pd\n",
    "\n",
    "import torch\n",
    "import torch.nn.functional as F\n",
    "import torchvision\n",
    "import torchio\n",
    "import pytorch_lightning as pl\n",
    "\n",
    "# visualization libraries\n",
    "%matplotlib inline\n",
    "import matplotlib as mpl\n",
    "import matplotlib.pyplot as plt\n",
    "import seaborn as sns\n",
    "import IPython\n",
    "from tabulate import tabulate\n",
    "from IPython.display import display, Markdown\n",
    "\n",
    "# Try importing GPUtil for printing GPU specs.\n",
    "# May not be installed if using CPU only.\n",
    "try:\n",
    "    import GPUtil\n",
    "except ImportError:\n",
    "    warnings.warn(\"WARNING: Package GPUtil not found, cannot print GPU specs\")\n",
    "\n",
    "plt.rcParams.update({\"figure.autolayout\": True})\n",
    "plt.rcParams.update({\"figure.facecolor\": [1.0, 1.0, 1.0, 1.0]})\n",
    "\n",
    "# Set print options for ndarrays/tensors.\n",
    "np.set_printoptions(threshold=100, linewidth=88)\n",
    "torch.set_printoptions(precision=8, threshold=100, linewidth=88)"
   ]
  },
  {
   "cell_type": "code",
   "execution_count": 3,
   "id": "74a3facf-b02d-4720-add3-ce33c9be37a4",
   "metadata": {
    "execution": {
     "iopub.execute_input": "2021-06-22T02:15:10.367166Z",
     "iopub.status.busy": "2021-06-22T02:15:10.366685Z",
     "iopub.status.idle": "2021-06-22T02:15:11.842164Z",
     "shell.execute_reply": "2021-06-22T02:15:11.841436Z",
     "shell.execute_reply.started": "2021-06-22T02:15:10.367112Z"
    },
    "tags": []
   },
   "outputs": [
    {
     "name": "stderr",
     "output_type": "stream",
     "text": [
      "direnv: loading ~/work/pitn/.envrc\n",
      "direnv: creating conda environment\n",
      "\n",
      "CondaValueError: prefix already exists: /opt/miniconda/envs/pitn\n",
      "\n"
     ]
    }
   ],
   "source": [
    "# Update notebook's environment variables with direnv.\n",
    "# This requires the python-dotenv package, and direnv be installed on the system\n",
    "# This will not work on Windows.\n",
    "# NOTE: This is kind of hacky, and not necessarily safe. Be careful...\n",
    "# Libraries needed on the python side:\n",
    "# - os\n",
    "# - subprocess\n",
    "# - io\n",
    "# - dotenv\n",
    "\n",
    "# Form command to be run in direnv's context. This command will print out\n",
    "# all environment variables defined in the subprocess/sub-shell.\n",
    "command = \"direnv exec {} /usr/bin/env\".format(os.getcwd())\n",
    "# Run command in a new subprocess.\n",
    "proc = subprocess.Popen(command, stdout=subprocess.PIPE, shell=True, cwd=os.getcwd())\n",
    "# Store and format the subprocess' output.\n",
    "proc_out = proc.communicate()[0].strip().decode(\"utf-8\")\n",
    "# Use python-dotenv to load the environment variables by using the output of\n",
    "# 'direnv exec ...' as a 'dummy' .env file.\n",
    "dotenv.load_dotenv(stream=io.StringIO(proc_out), override=True);"
   ]
  },
  {
   "cell_type": "code",
   "execution_count": 4,
   "id": "ffc90c56-6a15-4dff-a35d-a57ed0c0028d",
   "metadata": {
    "execution": {
     "iopub.execute_input": "2021-06-22T02:15:11.860601Z",
     "iopub.status.busy": "2021-06-22T02:15:11.860316Z",
     "iopub.status.idle": "2021-06-22T02:15:11.883757Z",
     "shell.execute_reply": "2021-06-22T02:15:11.883335Z",
     "shell.execute_reply.started": "2021-06-22T02:15:11.860582Z"
    },
    "tags": []
   },
   "outputs": [],
   "source": [
    "# Project-specific scripts\n",
    "# It's easier to import it this way rather than make an entirely new package, due to\n",
    "# conflicts with local packages and anaconda installations.\n",
    "# You made me do this, poor python package management!!\n",
    "if \"PROJECT_ROOT\" in os.environ:\n",
    "    lib_location = str(Path(os.environ[\"PROJECT_ROOT\"]).resolve())\n",
    "else:\n",
    "    lib_location = str(Path(\"../../\").resolve())\n",
    "if lib_location not in sys.path:\n",
    "    sys.path.insert(0, lib_location)\n",
    "import lib as pitn\n",
    "\n",
    "# Include the top-level lib module along with its submodules.\n",
    "%aimport lib\n",
    "# Grab all submodules of lib, not including modules outside of the package.\n",
    "includes = list(\n",
    "    filter(\n",
    "        lambda m: m.startswith(\"lib.\"),\n",
    "        map(lambda x: x[1].__name__, inspect.getmembers(pitn, inspect.ismodule)),\n",
    "    )\n",
    ")\n",
    "# Run aimport magic with constructed includes.\n",
    "ipy = IPython.get_ipython()\n",
    "ipy.run_line_magic(\"aimport\", \", \".join(includes))"
   ]
  },
  {
   "cell_type": "code",
   "execution_count": 5,
   "id": "02e66c44-b666-45a3-9e59-99f05c04b2af",
   "metadata": {
    "execution": {
     "iopub.execute_input": "2021-06-22T02:15:12.399341Z",
     "iopub.status.busy": "2021-06-22T02:15:12.398872Z",
     "iopub.status.idle": "2021-06-22T02:15:12.464686Z",
     "shell.execute_reply": "2021-06-22T02:15:12.463498Z",
     "shell.execute_reply.started": "2021-06-22T02:15:12.399288Z"
    },
    "tags": []
   },
   "outputs": [
    {
     "name": "stdout",
     "output_type": "stream",
     "text": [
      "cuda\n"
     ]
    }
   ],
   "source": [
    "# torch setup\n",
    "# allow for CUDA usage, if available\n",
    "if torch.cuda.is_available():\n",
    "    device = torch.device(\"cuda\")\n",
    "else:\n",
    "    device = torch.device(\"cpu\")\n",
    "# keep device as the cpu\n",
    "# device = torch.device('cpu')\n",
    "print(device)"
   ]
  },
  {
   "cell_type": "markdown",
   "id": "0e082452-58f2-4327-908f-cd2507d5efbd",
   "metadata": {
    "tags": []
   },
   "source": [
    "## Specs Recording"
   ]
  },
  {
   "cell_type": "code",
   "execution_count": 6,
   "id": "6d678c92-a393-4801-87eb-0e2921856a4a",
   "metadata": {
    "execution": {
     "iopub.execute_input": "2021-06-22T02:15:13.090919Z",
     "iopub.status.busy": "2021-06-22T02:15:13.090440Z",
     "iopub.status.idle": "2021-06-22T02:15:13.299704Z",
     "shell.execute_reply": "2021-06-22T02:15:13.299103Z",
     "shell.execute_reply.started": "2021-06-22T02:15:13.090865Z"
    },
    "tags": []
   },
   "outputs": [],
   "source": [
    "%%capture --no-stderr cap\n",
    "# Capture output and save to log. Needs to be at the *very first* line of the cell.\n",
    "# Watermark\n",
    "%load_ext watermark\n",
    "%watermark --author \"Tyler Spears\" --updated --iso8601  --python --machine --iversions --githash\n",
    "# if torch.cuda.is_available():\n",
    "\n",
    "#     # GPU information\n",
    "#     # Taken from\n",
    "#     # <https://www.thepythoncode.com/article/get-hardware-system-information-python>.\n",
    "#     # If GPUtil is not installed, skip this step.\n",
    "#     try:\n",
    "#         gpus = GPUtil.getGPUs()\n",
    "#         print(\"=\" * 50, \"GPU Specs\", \"=\" * 50)\n",
    "#         list_gpus = []\n",
    "#         for gpu in gpus:\n",
    "#             # get the GPU id\n",
    "#             gpu_id = gpu.id\n",
    "#             # name of GPU\n",
    "#             gpu_name = gpu.name\n",
    "#             driver_version = gpu.driver\n",
    "#             cuda_version = torch.version.cuda\n",
    "#             # get total memory\n",
    "#             gpu_total_memory = f\"{gpu.memoryTotal}MB\"\n",
    "#             gpu_uuid = gpu.uuid\n",
    "#             list_gpus.append(\n",
    "#                 (\n",
    "#                     gpu_id,\n",
    "#                     gpu_name,\n",
    "#                     driver_version,\n",
    "#                     cuda_version,\n",
    "#                     gpu_total_memory,\n",
    "#                     gpu_uuid,\n",
    "#                 )\n",
    "#             )\n",
    "\n",
    "#         print(\n",
    "#             tabulate(\n",
    "#                 list_gpus,\n",
    "#                 headers=(\n",
    "#                     \"id\",\n",
    "#                     \"Name\",\n",
    "#                     \"Driver Version\",\n",
    "#                     \"CUDA Version\",\n",
    "#                     \"Total Memory\",\n",
    "#                     \"uuid\",\n",
    "#                 ),\n",
    "#             )\n",
    "#         )\n",
    "#     except NameError:\n",
    "#         print(\"CUDA Version: \", torch.version.cuda)\n",
    "\n",
    "# else:\n",
    "#     print(\"CUDA not in use, falling back to CPU\")"
   ]
  },
  {
   "cell_type": "code",
   "execution_count": 7,
   "id": "c4f0afeb-8324-4df6-9af1-9b8ea0b63c01",
   "metadata": {
    "execution": {
     "iopub.execute_input": "2021-06-22T02:15:13.313043Z",
     "iopub.status.busy": "2021-06-22T02:15:13.312834Z",
     "iopub.status.idle": "2021-06-22T02:15:13.316428Z",
     "shell.execute_reply": "2021-06-22T02:15:13.316008Z",
     "shell.execute_reply.started": "2021-06-22T02:15:13.313025Z"
    },
    "tags": []
   },
   "outputs": [
    {
     "name": "stdout",
     "output_type": "stream",
     "text": [
      "Author: Tyler Spears\n",
      "\n",
      "Last updated: 2021-06-22T02:15:13.112050+00:00\n",
      "\n",
      "Python implementation: CPython\n",
      "Python version       : 3.8.8\n",
      "IPython version      : 7.23.1\n",
      "\n",
      "Compiler    : GCC 7.3.0\n",
      "OS          : Linux\n",
      "Release     : 5.4.0-72-generic\n",
      "Machine     : x86_64\n",
      "Processor   : x86_64\n",
      "CPU cores   : 8\n",
      "Architecture: 64bit\n",
      "\n",
      "Git hash: b7712bdf9c695b66cab1a861f1252d2bb51e7666\n",
      "\n",
      "sys              : 3.8.8 (default, Feb 24 2021, 21:46:12) \n",
      "[GCC 7.3.0]\n",
      "skimage          : 0.18.1\n",
      "IPython          : 7.23.1\n",
      "matplotlib       : 3.4.1\n",
      "torchio          : 0.18.37\n",
      "tqdm             : 4.60.0\n",
      "GPUtil           : 1.4.0\n",
      "torchvision      : 0.9.1\n",
      "dipy             : 1.4.0\n",
      "numpy            : 1.20.2\n",
      "natsort          : 7.1.1\n",
      "ants             : 0.2.7\n",
      "torch            : 1.8.1\n",
      "scipy            : 1.5.3\n",
      "nibabel          : 3.2.1\n",
      "json             : 2.0.9\n",
      "addict           : 2.4.0\n",
      "seaborn          : 0.11.1\n",
      "pandas           : 1.2.3\n",
      "ipywidgets       : 7.6.3\n",
      "pytorch_lightning: 1.3.2\n",
      "\n",
      "\n"
     ]
    }
   ],
   "source": [
    "# cap is defined in an ipython magic command\n",
    "print(cap)"
   ]
  },
  {
   "cell_type": "markdown",
   "id": "c5f1f1f9-4d65-427b-9c0d-cfecf330087d",
   "metadata": {
    "tags": []
   },
   "source": [
    "## Data Variables & Definitions Setup"
   ]
  },
  {
   "cell_type": "code",
   "execution_count": 8,
   "id": "41c52bfa-a14a-482e-b3ce-16e2088c5896",
   "metadata": {
    "execution": {
     "iopub.execute_input": "2021-06-22T02:15:14.618415Z",
     "iopub.status.busy": "2021-06-22T02:15:14.617867Z",
     "iopub.status.idle": "2021-06-22T02:15:14.629881Z",
     "shell.execute_reply": "2021-06-22T02:15:14.628757Z",
     "shell.execute_reply.started": "2021-06-22T02:15:14.618355Z"
    },
    "tags": []
   },
   "outputs": [],
   "source": [
    "# Set up directories\n",
    "data_dir = pathlib.Path(os.environ[\"DATA_DIR\"]) / \"hcp\"\n",
    "assert data_dir.exists()\n",
    "write_data_dir = pathlib.Path(os.environ[\"WRITE_DATA_DIR\"]) / \"hcp\"\n",
    "assert write_data_dir.exists()\n",
    "results_dir = pathlib.Path(os.environ[\"RESULTS_DIR\"])\n",
    "assert results_dir.exists()"
   ]
  },
  {
   "cell_type": "code",
   "execution_count": 9,
   "id": "f63218aa-ac0b-4810-8e6a-3f7f686bf365",
   "metadata": {
    "execution": {
     "iopub.execute_input": "2021-06-22T02:15:15.164443Z",
     "iopub.status.busy": "2021-06-22T02:15:15.163941Z",
     "iopub.status.idle": "2021-06-22T02:15:15.172093Z",
     "shell.execute_reply": "2021-06-22T02:15:15.170797Z",
     "shell.execute_reply.started": "2021-06-22T02:15:15.164386Z"
    },
    "tags": []
   },
   "outputs": [],
   "source": [
    "# Dict to keep track of experiment configuration parameters. Will not be logged to\n",
    "# tensorboard.\n",
    "exp_params = Addict()"
   ]
  },
  {
   "cell_type": "code",
   "execution_count": 10,
   "id": "07922a29-9020-4f9d-960f-840f053cb63d",
   "metadata": {
    "execution": {
     "iopub.execute_input": "2021-06-22T02:15:15.746610Z",
     "iopub.status.busy": "2021-06-22T02:15:15.746040Z",
     "iopub.status.idle": "2021-06-22T02:15:15.754998Z",
     "shell.execute_reply": "2021-06-22T02:15:15.753911Z",
     "shell.execute_reply.started": "2021-06-22T02:15:15.746560Z"
    },
    "tags": []
   },
   "outputs": [],
   "source": [
    "downsample_factor = 2\n",
    "# Include b=0 shells and b=1000 shells for DTI fitting.\n",
    "bval_range = (0, 3500)\n",
    "dti_fit_method = \"WLS\"\n",
    "exp_params.update(\n",
    "    {\n",
    "        \"downsample_factor\": downsample_factor,\n",
    "        \"bval_range\": bval_range,\n",
    "        \"dti_fit_method\": dti_fit_method,\n",
    "    }\n",
    ")"
   ]
  },
  {
   "cell_type": "markdown",
   "id": "8a846b56-325b-4d7d-ae84-796faf451280",
   "metadata": {},
   "source": [
    "### Patch Parameters"
   ]
  },
  {
   "cell_type": "code",
   "execution_count": 11,
   "id": "843f8663-14aa-4587-89f1-a9b59c0e15a7",
   "metadata": {
    "execution": {
     "iopub.execute_input": "2021-06-22T02:15:16.280864Z",
     "iopub.status.busy": "2021-06-22T02:15:16.280375Z",
     "iopub.status.idle": "2021-06-22T02:15:16.295770Z",
     "shell.execute_reply": "2021-06-22T02:15:16.295258Z",
     "shell.execute_reply.started": "2021-06-22T02:15:16.280831Z"
    },
    "tags": []
   },
   "outputs": [],
   "source": [
    "# Patch parameters\n",
    "# 6 channels for the 6 DTI components\n",
    "channels = 6\n",
    "\n",
    "# Output patch shapes\n",
    "h_out = 14\n",
    "w_out = 14\n",
    "d_out = 14\n",
    "\n",
    "# This is the factor that determines how over-extended the input patch should be\n",
    "# relative to the size of the full-res patch.\n",
    "# $low_res_patch_dim = \\frac{full_res_patch_dim}{downsample_factor} \\times low_res_sample_extension$\n",
    "# A value of 1 indicates that the input patch dims will be exactly divided by the\n",
    "# downsample factor. A dilation > 1 increases the \"spatial extent\" of the input\n",
    "# patch, providing information outside of the target HR patch.\n",
    "low_res_sample_extension = 1.57\n",
    "\n",
    "# Output shape after shuffling.\n",
    "output_patch_shape = (channels, h_out, w_out, d_out)\n",
    "output_spatial_patch_shape = output_patch_shape[1:]\n",
    "\n",
    "# Input patch parameters\n",
    "h_in = round(h_out / (downsample_factor) * low_res_sample_extension)\n",
    "w_in = round(w_out / (downsample_factor) * low_res_sample_extension)\n",
    "d_in = round(d_out / (downsample_factor) * low_res_sample_extension)\n",
    "input_patch_shape = (channels, h_in, w_in, d_in)\n",
    "input_spatial_patch_shape = input_patch_shape[1:]\n",
    "\n",
    "# Pre-shuffle output patch sizes.\n",
    "unshuffled_channels_out = channels * downsample_factor ** 3\n",
    "# Output before shuffling\n",
    "unshuffled_output_patch_shape = (unshuffled_channels_out, h_in, w_in, d_in)\n",
    "\n",
    "# Patch size in FR-space when accounting for the low-res over-extension/over-sampling\n",
    "# factor.\n",
    "fr_extension_patch_size = tuple(\n",
    "    np.asarray(input_spatial_patch_shape) * downsample_factor\n",
    ")\n",
    "fr_extension_amount = tuple(\n",
    "    np.asarray(fr_extension_patch_size) - np.asarray(output_spatial_patch_shape)\n",
    ")"
   ]
  },
  {
   "cell_type": "code",
   "execution_count": 12,
   "id": "8db856dd-72ba-46b3-9125-db6f2a78c2ad",
   "metadata": {
    "execution": {
     "iopub.execute_input": "2021-06-22T02:15:16.452164Z",
     "iopub.status.busy": "2021-06-22T02:15:16.451676Z",
     "iopub.status.idle": "2021-06-22T02:15:16.459671Z",
     "shell.execute_reply": "2021-06-22T02:15:16.458418Z",
     "shell.execute_reply.started": "2021-06-22T02:15:16.452115Z"
    },
    "tags": []
   },
   "outputs": [],
   "source": [
    "exp_params.patch.update(\n",
    "    channels=channels,\n",
    "    low_res_sample_extension=low_res_sample_extension,\n",
    "    input_shape=input_patch_shape,\n",
    "    output_shape=output_patch_shape,\n",
    ")"
   ]
  },
  {
   "cell_type": "code",
   "execution_count": 13,
   "id": "c8a2b412-07ca-4b89-9482-5b1ec453b205",
   "metadata": {
    "execution": {
     "iopub.execute_input": "2021-06-22T02:15:17.044875Z",
     "iopub.status.busy": "2021-06-22T02:15:17.044279Z",
     "iopub.status.idle": "2021-06-22T02:15:17.052085Z",
     "shell.execute_reply": "2021-06-22T02:15:17.050785Z",
     "shell.execute_reply.started": "2021-06-22T02:15:17.044814Z"
    },
    "tags": []
   },
   "outputs": [],
   "source": [
    "# Data parameters.\n",
    "num_subject_samples = 1"
   ]
  },
  {
   "cell_type": "code",
   "execution_count": 14,
   "id": "88174502-5200-4d9c-841c-765efef3bc26",
   "metadata": {
    "execution": {
     "iopub.execute_input": "2021-06-22T02:15:17.199458Z",
     "iopub.status.busy": "2021-06-22T02:15:17.198631Z",
     "iopub.status.idle": "2021-06-22T02:15:17.205915Z",
     "shell.execute_reply": "2021-06-22T02:15:17.204736Z",
     "shell.execute_reply.started": "2021-06-22T02:15:17.199406Z"
    },
    "tags": []
   },
   "outputs": [],
   "source": [
    "exp_params.data.update(\n",
    "    num_subject=num_subject_samples,\n",
    ")"
   ]
  },
  {
   "cell_type": "markdown",
   "id": "63790d58-0fdd-434a-8938-e740023319d2",
   "metadata": {
    "tags": []
   },
   "source": [
    "### Training and Testing Setup"
   ]
  },
  {
   "cell_type": "code",
   "execution_count": 15,
   "id": "6f06c0d3-16e5-4783-8539-3cd552dc6848",
   "metadata": {
    "execution": {
     "iopub.execute_input": "2021-06-22T02:15:18.508022Z",
     "iopub.status.busy": "2021-06-22T02:15:18.507421Z",
     "iopub.status.idle": "2021-06-22T02:15:18.516137Z",
     "shell.execute_reply": "2021-06-22T02:15:18.514388Z",
     "shell.execute_reply.started": "2021-06-22T02:15:18.507962Z"
    },
    "tags": []
   },
   "outputs": [],
   "source": [
    "# Spline interpolation baseline parameters.\n",
    "spline_interp_order = 1"
   ]
  },
  {
   "cell_type": "code",
   "execution_count": 16,
   "id": "68a54aa3-67c9-41f2-b410-1addfdda9bc1",
   "metadata": {
    "execution": {
     "iopub.execute_input": "2021-06-22T02:15:18.655376Z",
     "iopub.status.busy": "2021-06-22T02:15:18.654900Z",
     "iopub.status.idle": "2021-06-22T02:15:18.661783Z",
     "shell.execute_reply": "2021-06-22T02:15:18.660507Z",
     "shell.execute_reply.started": "2021-06-22T02:15:18.655326Z"
    },
    "tags": []
   },
   "outputs": [],
   "source": [
    "# Number of voxels to dilate the mask in FR space.\n",
    "# Just make it 0.\n",
    "dilation_size = 0"
   ]
  },
  {
   "cell_type": "code",
   "execution_count": 17,
   "id": "b197314f-8666-4c4f-8612-ecb8f739ed88",
   "metadata": {
    "execution": {
     "iopub.execute_input": "2021-06-22T02:15:18.813005Z",
     "iopub.status.busy": "2021-06-22T02:15:18.812413Z",
     "iopub.status.idle": "2021-06-22T02:15:18.819909Z",
     "shell.execute_reply": "2021-06-22T02:15:18.818675Z",
     "shell.execute_reply.started": "2021-06-22T02:15:18.812967Z"
    },
    "tags": []
   },
   "outputs": [],
   "source": [
    "exp_params.spline.update(order=spline_interp_order)\n",
    "exp_params.preproc.update(dilation_size=dilation_size)"
   ]
  },
  {
   "cell_type": "markdown",
   "id": "6faa0a10-e760-4084-8aff-dd8deda7415e",
   "metadata": {},
   "source": [
    "## Function Definitions"
   ]
  },
  {
   "cell_type": "markdown",
   "id": "1970f94c-9803-4eea-87d3-b2909081d103",
   "metadata": {},
   "source": [
    "# Data Loading"
   ]
  },
  {
   "cell_type": "markdown",
   "id": "639b4177-5fe3-4171-a06f-b6d8ee726612",
   "metadata": {},
   "source": [
    "## Subject ID Selection"
   ]
  },
  {
   "cell_type": "code",
   "execution_count": 18,
   "id": "b6a7205a-2758-48bd-a6ef-ec4ba2d9f183",
   "metadata": {
    "execution": {
     "iopub.execute_input": "2021-06-22T02:15:20.733044Z",
     "iopub.status.busy": "2021-06-22T02:15:20.732531Z",
     "iopub.status.idle": "2021-06-22T02:15:20.753872Z",
     "shell.execute_reply": "2021-06-22T02:15:20.752932Z",
     "shell.execute_reply.started": "2021-06-22T02:15:20.732986Z"
    },
    "tags": []
   },
   "outputs": [
    {
     "name": "stderr",
     "output_type": "stream",
     "text": [
      "/tmp/ipykernel_123065/2765378097.py:25: UserWarning:\n",
      "\n",
      "WARNING: Sub-selecting participants for dev and debugging. Subj IDs selected: ['810439']\n",
      "\n"
     ]
    },
    {
     "data": {
      "text/plain": [
       "{810439: PosixPath('/mnt/storage/data/pitn/hcp/810439/T1w/Diffusion')}"
      ]
     },
     "execution_count": 18,
     "metadata": {},
     "output_type": "execute_result"
    }
   ],
   "source": [
    "# Find data directories for each subject.\n",
    "subj_dirs: dict = dict()\n",
    "\n",
    "selected_ids = [\n",
    "    \"397154\",\n",
    "    \"224022\",\n",
    "    \"140117\",\n",
    "    \"751348\",\n",
    "    \"894774\",\n",
    "    \"156637\",\n",
    "    \"227432\",\n",
    "    \"303624\",\n",
    "    \"185947\",\n",
    "    \"810439\",\n",
    "    \"753251\",\n",
    "    \"644246\",\n",
    "    \"141422\",\n",
    "    \"135528\",\n",
    "    \"103010\",\n",
    "    \"700634\",\n",
    "]\n",
    "\n",
    "## Sub-set the chosen participants for dev and debugging!\n",
    "selected_ids = random.sample(selected_ids, num_subject_samples)\n",
    "warnings.warn(\n",
    "    \"WARNING: Sub-selecting participants for dev and debugging. \"\n",
    "    + f\"Subj IDs selected: {selected_ids}\"\n",
    ")\n",
    "# ### A nested warning! For debugging only.\n",
    "# warnings.warn(\"WARNING: Mixing training and testing subjects\")\n",
    "# selected_ids.append(selected_ids[0])\n",
    "# ###\n",
    "##\n",
    "\n",
    "selected_ids = natsorted(list(map(lambda s: int(s), selected_ids)))\n",
    "\n",
    "for subj_id in selected_ids:\n",
    "    subj_dirs[subj_id] = data_dir / f\"{subj_id}/T1w/Diffusion\"\n",
    "    assert subj_dirs[subj_id].exists()\n",
    "subj_dirs"
   ]
  },
  {
   "cell_type": "markdown",
   "id": "f4da18eb-2c17-45b6-86fd-2e1931503820",
   "metadata": {
    "tags": []
   },
   "source": [
    "## Loading and Preprocessing"
   ]
  },
  {
   "cell_type": "code",
   "execution_count": 19,
   "id": "829406ab-a588-47c9-a7d1-1e4b9206ae0c",
   "metadata": {
    "execution": {
     "iopub.execute_input": "2021-06-22T02:15:21.855825Z",
     "iopub.status.busy": "2021-06-22T02:15:21.855315Z",
     "iopub.status.idle": "2021-06-22T02:15:21.873920Z",
     "shell.execute_reply": "2021-06-22T02:15:21.872999Z",
     "shell.execute_reply.started": "2021-06-22T02:15:21.855769Z"
    },
    "tags": []
   },
   "outputs": [],
   "source": [
    "# Set up the transformation pipeline.\n",
    "\n",
    "preproc_transforms = torchio.Compose(\n",
    "    [\n",
    "        torchio.transforms.ToCanonical(include=(\"dwi\", \"brain_mask\"), copy=False),\n",
    "        pitn.transforms.BValSelectionTransform(\n",
    "            bval_range=bval_range,\n",
    "            bval_key=\"bvals\",\n",
    "            bvec_key=\"bvecs\",\n",
    "            include=\"dwi\",\n",
    "            copy=False,\n",
    "        ),\n",
    "        # Pad by the dilation factor, then dilate the mask.\n",
    "        torchio.transforms.Pad(\n",
    "            dilation_size,\n",
    "            padding_mode=0,\n",
    "            include=(\"dwi\", \"brain_mask\"),\n",
    "            copy=False,\n",
    "        ),\n",
    "        pitn.transforms.DilateMaskTransform(\n",
    "            dilation_size=dilation_size, include=(\"brain_mask\",), copy=False\n",
    "        ),\n",
    "        # Pad by the amount of extension voxels in FR space, so LR indices cannot\n",
    "        # go out of bounds.\n",
    "        torchio.transforms.Pad(\n",
    "            fr_extension_amount,\n",
    "            padding_mode=0,\n",
    "            include=(\"dwi\", \"brain_mask\"),\n",
    "            copy=False,\n",
    "        ),\n",
    "        # Ensure FR dims are divisible by the downsample factor, to more reliably\n",
    "        # convert between FR indices and LR indices.\n",
    "        torchio.transforms.EnsureShapeMultiple(\n",
    "            downsample_factor, method=\"pad\", include=(\"dwi\", \"brain_mask\"), copy=False\n",
    "        ),\n",
    "        pitn.transforms.MeanDownsampleTransform(\n",
    "            downsample_factor,\n",
    "            include=(\"dwi\", \"brain_mask\"),\n",
    "            keep={\"dwi\": \"fr_dwi\", \"brain_mask\": \"fr_brain_mask\"},\n",
    "            copy=False,\n",
    "        ),\n",
    "        pitn.transforms.RenameImageTransform(\n",
    "            {\"dwi\": \"lr_dwi\", \"brain_mask\": \"lr_brain_mask\"}, copy=False\n",
    "        ),\n",
    "        pitn.transforms.ImageToDictTransform(\n",
    "            include=(\"lr_dwi\", \"lr_brain_mask\"), copy=False\n",
    "        ),\n",
    "    ]\n",
    ")"
   ]
  },
  {
   "cell_type": "code",
   "execution_count": 20,
   "id": "352d9c77-b4b7-435d-854d-9880bc52d85c",
   "metadata": {
    "execution": {
     "iopub.execute_input": "2021-06-22T02:15:22.824184Z",
     "iopub.status.busy": "2021-06-22T02:15:22.823701Z",
     "iopub.status.idle": "2021-06-22T02:15:51.760540Z",
     "shell.execute_reply": "2021-06-22T02:15:51.759882Z",
     "shell.execute_reply.started": "2021-06-22T02:15:22.824129Z"
    },
    "tags": []
   },
   "outputs": [
    {
     "name": "stdout",
     "output_type": "stream",
     "text": [
      "Brain mask volume before dilation: 829367\n",
      "Loading NIFTI image: /mnt/storage/data/pitn/hcp/810439/T1w/Diffusion/data.nii.gz\n",
      "\tLoaded NIFTI image\n",
      "Selecting with bvals: Subject 810439...Selected\n",
      "Downsampling: Subject 810439...Downsampled\n",
      "====================\n",
      "===Data Loaded & Transformed===\n"
     ]
    }
   ],
   "source": [
    "# Import all image data into a sequence of `torchio.Subject` objects.\n",
    "subj_data: dict = dict()\n",
    "\n",
    "for subj_id, subj_dir in subj_dirs.items():\n",
    "    # Sub-select volumes with only bvals in a certain range. E.x. bvals <= 1100 mm/s^2,\n",
    "    # a.k.a. only the b=0 and b=1000 shells.\n",
    "    bvals = torch.as_tensor(np.loadtxt(subj_dir / \"bvals\").astype(int))\n",
    "    bvecs = torch.as_tensor(np.loadtxt(subj_dir / \"bvecs\"))\n",
    "    # Reshape to be N x 3\n",
    "    if bvecs.shape[0] == 3:\n",
    "        bvecs = bvecs.T\n",
    "\n",
    "    brain_mask = torchio.LabelMap(\n",
    "        subj_dir / \"nodif_brain_mask.nii.gz\",\n",
    "        type=torchio.LABEL,\n",
    "        channels_last=False,\n",
    "    )\n",
    "    brain_mask.set_data(brain_mask.data.bool())\n",
    "    mask_volume = brain_mask[\"data\"].sum()\n",
    "    print(f\"Brain mask volume before dilation: {mask_volume}\")\n",
    "    dwi = torchio.ScalarImage(\n",
    "        subj_dir / \"data.nii.gz\",\n",
    "        type=torchio.INTENSITY,\n",
    "        bvals=bvals,\n",
    "        bvecs=bvecs,\n",
    "        reader=pitn.io.nifti_reader,\n",
    "        channels_last=True,\n",
    "    )\n",
    "\n",
    "    subject_dict = torchio.Subject(subj_id=subj_id, dwi=dwi, brain_mask=brain_mask)\n",
    "    preproced_subj = preproc_transforms(subject_dict)\n",
    "\n",
    "    subj_data[subj_id] = preproced_subj\n",
    "    print(\"=\" * 20)\n",
    "#     breakpoint()\n",
    "\n",
    "print(\"===Data Loaded & Transformed===\")"
   ]
  },
  {
   "cell_type": "markdown",
   "id": "fe9f139a-7e54-4436-bd05-c8a99fa0134a",
   "metadata": {},
   "source": [
    "## Load UVA Data"
   ]
  },
  {
   "cell_type": "code",
   "execution_count": 21,
   "id": "23ba2548-e5f2-40b0-b3bc-429344390cce",
   "metadata": {
    "execution": {
     "iopub.execute_input": "2021-06-22T02:15:51.793517Z",
     "iopub.status.busy": "2021-06-22T02:15:51.793268Z",
     "iopub.status.idle": "2021-06-22T02:15:51.800489Z",
     "shell.execute_reply": "2021-06-22T02:15:51.799959Z",
     "shell.execute_reply.started": "2021-06-22T02:15:51.793495Z"
    },
    "tags": []
   },
   "outputs": [
    {
     "data": {
      "text/plain": [
       "{'001': PosixPath('/mnt/storage/data/pitn/uva/001')}"
      ]
     },
     "execution_count": 21,
     "metadata": {},
     "output_type": "execute_result"
    }
   ],
   "source": [
    "# Load the UVA subject data\n",
    "uva_data_dir = pathlib.Path(os.environ[\"DATA_DIR\"]) / \"uva\"\n",
    "assert uva_data_dir.exists()\n",
    "uva_subj_dirs = dict()\n",
    "\n",
    "for subj_dir in uva_data_dir.glob(\"*\"):\n",
    "    subj_id = subj_dir.name\n",
    "    uva_subj_dirs[subj_id] = uva_data_dir / subj_id\n",
    "    assert uva_subj_dirs[subj_id].exists()\n",
    "uva_subj_dirs"
   ]
  },
  {
   "cell_type": "code",
   "execution_count": 22,
   "id": "4d3c3b3e-6863-4dc1-b953-f6f6eef824b4",
   "metadata": {
    "execution": {
     "iopub.execute_input": "2021-06-22T02:15:51.801619Z",
     "iopub.status.busy": "2021-06-22T02:15:51.801406Z",
     "iopub.status.idle": "2021-06-22T02:16:04.648356Z",
     "shell.execute_reply": "2021-06-22T02:16:04.647627Z",
     "shell.execute_reply.started": "2021-06-22T02:15:51.801598Z"
    },
    "tags": []
   },
   "outputs": [
    {
     "name": "stdout",
     "output_type": "stream",
     "text": [
      "Loading NIFTI image: /mnt/storage/data/pitn/uva/001/sub-001_ses-01_run-2_dwi.nii.gz\n",
      "\tLoaded NIFTI image\n",
      "Selecting with bvals: Subject 001...Selected\n",
      "Downsampling: Subject 001...Downsampled\n",
      "====================\n"
     ]
    }
   ],
   "source": [
    "uva_subj_data: dict = dict()\n",
    "\n",
    "for subj_id, subj_dir in uva_subj_dirs.items():\n",
    "    # Sub-select volumes with only bvals in a certain range. E.x. bvals <= 1100 mm/s^2,\n",
    "    # a.k.a. only the b=0 and b=1000 shells.\n",
    "    bvals_file = list(subj_dir.glob(\"*.bval\"))[0]\n",
    "    bvecs_file = list(subj_dir.glob(\"*.bvec\"))[0]\n",
    "    bvals = torch.as_tensor(np.loadtxt(bvals_file).astype(int))\n",
    "    bvecs = torch.as_tensor(np.loadtxt(bvecs_file))\n",
    "    # Reshape to be N x 3\n",
    "    if bvecs.shape[0] == 3:\n",
    "        bvecs = bvecs.T\n",
    "\n",
    "    dwi_file = list(subj_dir.glob(\"*dwi.nii.gz\"))[0]\n",
    "    dwi = torchio.ScalarImage(\n",
    "        dwi_file,\n",
    "        type=torchio.INTENSITY,\n",
    "        bvals=bvals,\n",
    "        bvecs=bvecs,\n",
    "        reader=pitn.io.nifti_reader,\n",
    "        channels_last=True,\n",
    "    )\n",
    "\n",
    "    gtab = dipy.core.gradients.gradient_table(bvals, bvecs)\n",
    "\n",
    "    _, threshold_brain_mask = dipy.segment.mask.median_otsu(\n",
    "        np.moveaxis(dwi.tensor.numpy(), 0, -1),\n",
    "        vol_idx=np.where(bvals == 0)[0],\n",
    "        median_radius=3,\n",
    "        numpass=1,\n",
    "        dilate=None,\n",
    "    )\n",
    "\n",
    "    brain_mask = torchio.LabelMap(\n",
    "        tensor=torch.as_tensor(threshold_brain_mask[None, ...]),\n",
    "        affine=dwi.affine,\n",
    "        type=torchio.LABEL,\n",
    "    )\n",
    "    brain_mask.set_data(brain_mask.data.bool())\n",
    "\n",
    "    subject_dict = torchio.Subject(subj_id=subj_id, dwi=dwi, brain_mask=brain_mask)\n",
    "    preproced_subj = preproc_transforms(subject_dict)\n",
    "\n",
    "    uva_subj_data[subj_id] = preproced_subj\n",
    "    print(\"=\" * 20)"
   ]
  },
  {
   "cell_type": "markdown",
   "id": "f0ba4d43-dfda-42bb-882c-1a051ae88a6c",
   "metadata": {
    "tags": []
   },
   "source": [
    "# Rician Noise Definitions"
   ]
  },
  {
   "cell_type": "markdown",
   "id": "1185a8c6-d966-4bfa-8d16-46ff9a0fedd9",
   "metadata": {},
   "source": [
    "$ \\log p(x ; \\nu) = \\log \\frac{x}{\\sigma^2} -\\frac{x^2 + \\nu^2}{2\\sigma^2} +\n",
    "\\log I_0\\left(\\frac{x\\nu}{\\sigma^2}\\right) $"
   ]
  },
  {
   "cell_type": "code",
   "execution_count": null,
   "id": "6ebaff03-58e3-4b5f-b37a-822529fbb551",
   "metadata": {
    "jupyter": {
     "source_hidden": true
    },
    "tags": []
   },
   "outputs": [],
   "source": [
    "# # How to scale parameters of Rician pdf to include variance of the Gaussian noise?\n",
    "\n",
    "\n",
    "# def pdf_noise_var(x, b, noise_var):\n",
    "#     result = x / noise_var\n",
    "#     result = result * np.exp(-(x ** 2 + b ** 2) / (2 * noise_var))\n",
    "#     result = result * scipy.special.i0(x * b / noise_var)\n",
    "\n",
    "#     return result\n",
    "\n",
    "\n",
    "# b = 1.3\n",
    "# sigma = 4.8\n",
    "# rice_rv = scipy.stats.rice(b=b / sigma, scale=sigma)\n",
    "# print(rice_rv.stats(moments=\"mv\"))\n",
    "# x = np.linspace(rice_rv.ppf(0.01), rice_rv.ppf(0.99), 100)\n",
    "\n",
    "# plt.plot(x, rice_rv.pdf(x), \"r--\", lw=5, alpha=0.3, label=\"rice pdf\")\n",
    "# plt.plot(x, pdf_noise_var(x, b, sigma ** 2), label=\"my rice\", color=\"black\")\n",
    "# plt.legend()\n",
    "# sigma ** 2"
   ]
  },
  {
   "cell_type": "code",
   "execution_count": 24,
   "id": "151cafac-c816-4b69-a267-ae3cf3dd0bb7",
   "metadata": {
    "execution": {
     "iopub.execute_input": "2021-06-22T02:23:18.285762Z",
     "iopub.status.busy": "2021-06-22T02:23:18.285215Z",
     "iopub.status.idle": "2021-06-22T02:23:18.304045Z",
     "shell.execute_reply": "2021-06-22T02:23:18.302885Z",
     "shell.execute_reply.started": "2021-06-22T02:23:18.285704Z"
    },
    "tags": []
   },
   "outputs": [],
   "source": [
    "# Patch-wise interpolation\n",
    "\n",
    "\n",
    "def rician_interpolate(patches, interp_kernels, noise_var: float, init_pred=None):\n",
    "\n",
    "    B = patches.shape[0]\n",
    "    if len(interp_kernels.shape) == len(patches.shape) - 1:\n",
    "        interp_kernels = np.repeat(interp_kernels[None, ...], B, axis=0)\n",
    "\n",
    "    samples = patches.reshape(B, -1)\n",
    "    N = samples.shape[1]\n",
    "\n",
    "    weights = interp_kernels.reshape(B, N)\n",
    "\n",
    "    if init_pred is None:\n",
    "        init_pred = np.sum(samples * weights, axis=1)\n",
    "\n",
    "    nu_0 = np.asarray(init_pred).reshape(B, 1)\n",
    "\n",
    "    fit_fn = lambda x_and_init: (\n",
    "        scipy.stats.rice.fit(\n",
    "            x_and_init[:-1],\n",
    "            x_and_init[-1],\n",
    "            floc=0,\n",
    "            fscale=np.sqrt(noise_var),\n",
    "        )[0]\n",
    "    )\n",
    "\n",
    "    result = list()\n",
    "    for sample_i, nu_0i in zip(samples, nu_0):\n",
    "        result.append(fit_fn(np.concatenate([sample_i, nu_0i], axis=-1)))\n",
    "    result = np.asarray(result)\n",
    "    #     result = skimage.util.apply_parallel(\n",
    "    #         fit_fn, np.concatenate([samples, nu_0], axis=-1)\n",
    "    #     )\n",
    "\n",
    "    return result"
   ]
  },
  {
   "cell_type": "code",
   "execution_count": 78,
   "id": "74c4567b-cb03-4847-9422-6d3f16bcb516",
   "metadata": {
    "execution": {
     "iopub.execute_input": "2021-06-22T03:09:24.763128Z",
     "iopub.status.busy": "2021-06-22T03:09:24.762587Z",
     "iopub.status.idle": "2021-06-22T03:09:24.789048Z",
     "shell.execute_reply": "2021-06-22T03:09:24.788112Z",
     "shell.execute_reply.started": "2021-06-22T03:09:24.763072Z"
    },
    "tags": []
   },
   "outputs": [],
   "source": [
    "# Perform interpolation of a volume given floating-point 3D coordinates.\n",
    "\n",
    "\n",
    "def rician_interp_coords(vol, coords, noise_var, pad_mode=\"constant\", cval=0.0):\n",
    "    \"\"\"\n",
    "    Parameters:\n",
    "        vol: np.ndarray, D x H x W\n",
    "        coords: np.ndarray, 3 x (D_1 x D_2 x ...)\n",
    "            The first dimension should have an ordering of `(Z Y X)`\n",
    "        noise_var: float\n",
    "    \"\"\"\n",
    "    coords = np.asarray(coords)\n",
    "    batch_coords = coords.reshape(3, -1)\n",
    "    batch_coords = batch_coords.T\n",
    "    vol = np.asarray(vol)\n",
    "    B = batch_coords.shape[0]\n",
    "\n",
    "    # Pad the volume for any coords that index out-of-bounds.\n",
    "    # Pad left/bottom/back\n",
    "    lower_padding = np.ceil(\n",
    "        np.clip(-batch_coords.min(axis=0), a_min=0, a_max=np.inf)\n",
    "    ).astype(int)\n",
    "    # Pad right/top/front\n",
    "    upper_padding = np.ceil(\n",
    "        np.clip(\n",
    "            batch_coords.max(axis=0) - (np.asarray(vol.shape) - 1),\n",
    "            a_min=0,\n",
    "            a_max=np.inf,\n",
    "        )\n",
    "    ).astype(int)\n",
    "    pad_vol = np.pad(\n",
    "        vol,\n",
    "        tuple(zip(lower_padding, upper_padding)),\n",
    "        mode=pad_mode,\n",
    "        constant_values=cval,\n",
    "    )\n",
    "    # Offset previous coordinates with the lower padding values.\n",
    "    batch_coords = batch_coords + lower_padding[None, ...]\n",
    "\n",
    "    # Find coordinates of voxels neighboring the desired coordinate.\n",
    "    x_0 = np.floor(batch_coords[:, 2]).astype(int)\n",
    "    x_1 = np.ceil(batch_coords[:, 2]).astype(int)\n",
    "    y_0 = np.floor(batch_coords[:, 1]).astype(int)\n",
    "    y_1 = np.ceil(batch_coords[:, 1]).astype(int)\n",
    "    z_0 = np.floor(batch_coords[:, 0]).astype(int)\n",
    "    z_1 = np.ceil(batch_coords[:, 0]).astype(int)\n",
    "\n",
    "    # Sample all the points needed for interpolation.\n",
    "    p = list()\n",
    "    for (z, y, x) in itertools.product((z_0, z_1), (y_0, y_1), (x_0, x_1)):\n",
    "        p.append(pad_vol[(z, y, x)])\n",
    "    p = np.asarray(p).reshape(B, -1)\n",
    "\n",
    "    # Order the known point coordinates for all possible combinations.\n",
    "    z_v = np.tile(np.repeat(np.asarray([z_0, z_1]).T, repeats=1, axis=-1), 4)\n",
    "    y_v = np.tile(np.repeat(np.asarray([y_0, y_1]).T, repeats=2, axis=-1), 2)\n",
    "    x_v = np.tile(np.repeat(np.asarray([x_0, x_1]).T, repeats=4, axis=-1), 1)\n",
    "\n",
    "    # Construct weight vector as the volume of the shape opposite the point's location.\n",
    "    w_v = (\n",
    "        np.abs(batch_coords[:, 0][:, None] - z_v)\n",
    "        * np.abs(batch_coords[:, 1][:, None] - y_v)\n",
    "        * np.abs(batch_coords[:, 2][:, None] - x_v)\n",
    "    )\n",
    "\n",
    "    mle_interp = list()\n",
    "    for sample, weights in tqdm.tqdm(zip(list(p), list(w_v)), total=len(w_v)):\n",
    "        #         breakpoint()\n",
    "        mle_interp.append(\n",
    "            rician_interpolate(sample[None, ...], weights, noise_var=noise_var)\n",
    "        )\n",
    "    #     breakpoint()\n",
    "    mle_interp = np.asarray(mle_interp).reshape(*coords.shape[1:])\n",
    "\n",
    "    return mle_interp"
   ]
  },
  {
   "cell_type": "code",
   "execution_count": null,
   "id": "3c1c2675-2f89-4171-b6e0-9a63f53536be",
   "metadata": {
    "jupyter": {
     "source_hidden": true
    },
    "tags": []
   },
   "outputs": [],
   "source": [
    "# x_0 = np.asarray([1, 2, 3, 4])\n",
    "# x_1 = np.asarray([2, 3, 4, 5])\n",
    "\n",
    "# np.tile(np.repeat(np.asarray([x_0, x_1]).T, repeats=1, axis=-1), 4)\n",
    "\n",
    "# # np.tile(np.repeat(np.asarray([x_0, x_1]).T, repeats=2, axis=-1), 2)\n",
    "\n",
    "# # np.tile(np.repeat(np.asarray([x_0, x_1]).T, repeats=4, axis=-1), 1)"
   ]
  },
  {
   "cell_type": "code",
   "execution_count": null,
   "id": "95df9265-7df3-4c8a-8512-9350bcb42432",
   "metadata": {
    "jupyter": {
     "source_hidden": true
    },
    "tags": []
   },
   "outputs": [],
   "source": [
    "# vol = np.arange(6 ** 3).reshape(6, 6, 6)\n",
    "# for (z, y, x) in itertools.product((x_0, x_1), (x_0, x_1), (x_0, x_1)):\n",
    "#     print(z, y, x)\n",
    "#     print(vol[(z, y, x)])\n",
    "\n",
    "# # np.tile(np.concatenate([x_0, x_1]), 2)"
   ]
  },
  {
   "cell_type": "markdown",
   "id": "bd8187b4-979d-4484-8348-2fe60121aa2c",
   "metadata": {},
   "source": [
    "# Rician MLE Interpolation"
   ]
  },
  {
   "cell_type": "markdown",
   "id": "cb9fbfbb-2a97-4740-896a-ca848d8fe365",
   "metadata": {
    "heading_collapsed": "true",
    "tags": []
   },
   "source": [
    "## Basic Center-Pixel Interpolation"
   ]
  },
  {
   "cell_type": "code",
   "execution_count": null,
   "id": "77e3e131-e12b-4874-9a64-6f738be07605",
   "metadata": {
    "tags": []
   },
   "outputs": [],
   "source": [
    "# # Select a specific plane and visualize it.\n",
    "# dwi_plane = uva_subj_data[\"001\"].fr_dwi.tensor.numpy()[50, :, :, 50]\n",
    "# mask = uva_subj_data[\"001\"].fr_brain_mask.tensor.numpy()[0, :, :, 50].astype(bool)\n",
    "\n",
    "# plt.figure()\n",
    "# plt.imshow(dwi_plane)\n",
    "# plt.colorbar()\n",
    "\n",
    "# plt.figure()\n",
    "# plt.imshow(mask)\n",
    "\n",
    "# # What is actually removed with the mask?\n",
    "# plt.figure()\n",
    "# plt.imshow(dwi_plane * ~mask)\n",
    "# plt.colorbar()"
   ]
  },
  {
   "cell_type": "code",
   "execution_count": null,
   "id": "f1c223a4-3cb5-4842-8975-242008d340a8",
   "metadata": {
    "tags": []
   },
   "outputs": [],
   "source": [
    "# # Capture just the air around the skull, not the skull itself.\n",
    "# # Expand the mask to encompass the skull.\n",
    "# air_mask = ~skimage.morphology.binary_dilation(mask, selem=skimage.morphology.disk(15))\n",
    "# air_data = dwi_plane * air_mask\n",
    "# plt.figure()\n",
    "# plt.imshow(air_data)\n",
    "# plt.colorbar()\n",
    "\n",
    "# # Highlight where the actual 0's are, and make sure we aren't throwing away data that are\n",
    "# # actually 0-valued.\n",
    "# a = air_data.copy()\n",
    "# a[a == 0] = a.max() * 2\n",
    "# plt.figure()\n",
    "# plt.imshow(a)\n",
    "# plt.colorbar()"
   ]
  },
  {
   "cell_type": "code",
   "execution_count": null,
   "id": "391c2c9e-253e-4bb1-a581-d1c74ed0da5c",
   "metadata": {
    "tags": []
   },
   "outputs": [],
   "source": [
    "# # Prep parameters.\n",
    "# # Estimate noise variance.\n",
    "# noise_vox = air_data[air_data != 0]\n",
    "# noise_var = np.mean(noise_vox ** 2) / 2\n",
    "# print(noise_var)\n",
    "\n",
    "# # Construct the interpolation kernel.\n",
    "# kernel = np.ones((3, 3))\n",
    "# kernel[1, 1] = 0\n",
    "# kernel = kernel / kernel.sum()\n",
    "# print(kernel)\n",
    "\n",
    "# # Break up dwi plane into patches with a simple tri-linear interpolation kernel, with the center\n",
    "# # removed.\n",
    "# mask_coords = np.asarray(np.where(mask))\n",
    "# comparison_window = dwi_plane[\n",
    "#     mask_coords[0].min() : mask_coords[0].max(),\n",
    "#     mask_coords[1].min() : mask_coords[1].max(),\n",
    "# ]\n",
    "\n",
    "# patches = skimage.util.view_as_windows(comparison_window, kernel.shape, step=1)\n",
    "# patches = patches.reshape(-1, *kernel.shape)\n",
    "\n",
    "# mle_pred = rician_interpolate(patches, kernel, noise_var)"
   ]
  },
  {
   "cell_type": "code",
   "execution_count": null,
   "id": "82e1fdb2-5c77-43b7-ab58-7ce898ddd2c5",
   "metadata": {
    "tags": []
   },
   "outputs": [],
   "source": [
    "# plt.figure()\n",
    "# plt.imshow(mle_pred.reshape(61, 78), interpolation=None)\n",
    "# plt.colorbar()\n",
    "# plt.axis(\"off\")\n",
    "\n",
    "# plt.figure()\n",
    "# B = patches.shape[0]\n",
    "# test_kernels = np.repeat(kernel[None, ...], B, axis=0)\n",
    "# interp = np.sum(patches * test_kernels, axis=(-1, -2))\n",
    "# plt.imshow(interp.reshape(61, 78))\n",
    "# plt.axis(\"off\")\n",
    "# plt.colorbar()\n",
    "\n",
    "# plt.figure()\n",
    "# plt.imshow(\n",
    "#     np.sqrt((mle_pred.reshape(61, 78) - interp.reshape(61, 78)) ** 2),\n",
    "#     interpolation=None,\n",
    "# )\n",
    "# plt.axis(\"off\")\n",
    "# plt.colorbar();"
   ]
  },
  {
   "cell_type": "code",
   "execution_count": null,
   "id": "e6a3b93f-fe29-427a-910a-d0d2a9571863",
   "metadata": {
    "tags": []
   },
   "outputs": [],
   "source": [
    "# plt.figure()\n",
    "# plt.imshow(comparison_window[1:-1, 1:-1], interpolation=None)\n",
    "# plt.colorbar()\n",
    "# plt.axis(\"off\")\n",
    "\n",
    "# plt.figure()\n",
    "# plt.imshow(\n",
    "#     np.sqrt(\n",
    "#         (\n",
    "#             comparison_window[1:-1, 1:-1] / (comparison_window[1:-1, 1:-1].max())\n",
    "#             - mle_pred.reshape(61, 78) / (mle_pred.max())\n",
    "#         )\n",
    "#         ** 2\n",
    "#     ),\n",
    "#     interpolation=None,\n",
    "# )\n",
    "# plt.colorbar()\n",
    "# plt.axis(\"off\")"
   ]
  },
  {
   "cell_type": "markdown",
   "id": "09200ac2-fb16-48b8-b853-788c05fb66c3",
   "metadata": {},
   "source": [
    "## Interpolation Over Affine Rotation Matrices"
   ]
  },
  {
   "cell_type": "code",
   "execution_count": 46,
   "id": "7c1e4937-600d-4a6e-9768-c0b9cefcf55a",
   "metadata": {
    "execution": {
     "iopub.execute_input": "2021-06-22T02:47:06.608974Z",
     "iopub.status.busy": "2021-06-22T02:47:06.608423Z",
     "iopub.status.idle": "2021-06-22T02:47:06.622781Z",
     "shell.execute_reply": "2021-06-22T02:47:06.621859Z",
     "shell.execute_reply.started": "2021-06-22T02:47:06.608915Z"
    },
    "tags": []
   },
   "outputs": [],
   "source": [
    "def pull_coords(target_coords, backward_affine):\n",
    "    \"\"\"\n",
    "    Parameters:\n",
    "        target_coords: np.ndarray, shape 3 x (N_1 x N_2 x N_3 x ...)\n",
    "        backward_affine: np.ndarray, shape 4 x 4\n",
    "    \"\"\"\n",
    "    # Assume homogeneous coordinates\n",
    "    transform = backward_affine[:-1, :-1]\n",
    "    translate = backward_affine[-1, :-1]\n",
    "\n",
    "    coords = target_coords.transpose(*range(1, target_coords.ndim), 0)\n",
    "    pre_coords = np.tensordot(coords, transform, axes=1)\n",
    "    pre_coords = pre_coords + translate[None, :]\n",
    "\n",
    "    pre_coords = pre_coords.transpose(-1, *range(0, target_coords.ndim - 1))\n",
    "    return pre_coords"
   ]
  },
  {
   "cell_type": "code",
   "execution_count": 74,
   "id": "19aacf66-79ca-4324-9fce-c24de8e082b8",
   "metadata": {
    "execution": {
     "iopub.execute_input": "2021-06-22T02:55:35.164311Z",
     "iopub.status.busy": "2021-06-22T02:55:35.163922Z",
     "iopub.status.idle": "2021-06-22T02:55:35.266134Z",
     "shell.execute_reply": "2021-06-22T02:55:35.265317Z",
     "shell.execute_reply.started": "2021-06-22T02:55:35.164280Z"
    },
    "tags": []
   },
   "outputs": [
    {
     "name": "stdout",
     "output_type": "stream",
     "text": [
      "(3, 146, 148, 96)\n"
     ]
    }
   ],
   "source": [
    "subj = uva_subj_data[\"001\"]\n",
    "\n",
    "space_shape = tuple(subj.fr_dwi.tensor.shape)[1:]\n",
    "coords = np.mgrid[0 : space_shape[0], 0 : space_shape[1], 0 : space_shape[2]]\n",
    "\n",
    "rotation_val = np.asarray([0, np.pi / 6, 0], dtype=float)\n",
    "rot_transform = dipy.align.transforms.RotationTransform3D()\n",
    "affine = rot_transform.param_to_matrix(rotation_val)\n",
    "back_affine = np.linalg.inv(affine)\n",
    "\n",
    "pre_coords = pull_coords(coords, back_affine)\n",
    "# Round to a certain tolerance to avoid unnecessary computation\n",
    "pre_coords = np.around(pre_coords, 6)\n",
    "print(pre_coords.shape)"
   ]
  },
  {
   "cell_type": "code",
   "execution_count": 75,
   "id": "e2acccf2-b258-4505-b4cd-e827ac40e16f",
   "metadata": {
    "execution": {
     "iopub.execute_input": "2021-06-22T02:55:36.492157Z",
     "iopub.status.busy": "2021-06-22T02:55:36.491488Z",
     "iopub.status.idle": "2021-06-22T02:55:36.503385Z",
     "shell.execute_reply": "2021-06-22T02:55:36.502483Z",
     "shell.execute_reply.started": "2021-06-22T02:55:36.492097Z"
    },
    "tags": []
   },
   "outputs": [
    {
     "name": "stdout",
     "output_type": "stream",
     "text": [
      "[[ 0.8660254 -0.         0.5        0.       ]\n",
      " [ 0.         1.         0.         0.       ]\n",
      " [-0.5        0.         0.8660254  0.       ]\n",
      " [ 0.         0.         0.         1.       ]]\n",
      "\n",
      "[[ 0.8660254  0.        -0.5        0.       ]\n",
      " [ 0.         1.         0.         0.       ]\n",
      " [ 0.5        0.         0.8660254  0.       ]\n",
      " [ 0.         0.         0.         1.       ]]\n"
     ]
    }
   ],
   "source": [
    "print(affine)\n",
    "print()\n",
    "print(back_affine)"
   ]
  },
  {
   "cell_type": "code",
   "execution_count": 60,
   "id": "574f8d61-184a-4aa2-a1a9-a8e859e839d8",
   "metadata": {
    "execution": {
     "iopub.execute_input": "2021-06-22T02:49:58.346882Z",
     "iopub.status.busy": "2021-06-22T02:49:58.346337Z",
     "iopub.status.idle": "2021-06-22T02:50:21.817794Z",
     "shell.execute_reply": "2021-06-22T02:50:21.817126Z",
     "shell.execute_reply.started": "2021-06-22T02:49:58.346825Z"
    },
    "tags": []
   },
   "outputs": [
    {
     "name": "stdout",
     "output_type": "stream",
     "text": [
      "86.88387298583984\n"
     ]
    }
   ],
   "source": [
    "rot_image = np.zeros_like(subj.fr_dwi.tensor[0, ...].numpy())\n",
    "pre_img = subj.fr_dwi.tensor.numpy()[0, ...]\n",
    "\n",
    "# Calculate the noise variance from the non-masked voxels.\n",
    "mask = subj.fr_brain_mask.tensor.numpy()[0].astype(bool)\n",
    "\n",
    "air_mask = ~skimage.morphology.binary_dilation(mask, selem=skimage.morphology.ball(15))\n",
    "air_data = pre_img * air_mask\n",
    "\n",
    "noise_vox = air_data[air_data != 0]\n",
    "noise_var = np.mean(noise_vox ** 2) / 2\n",
    "print(noise_var)"
   ]
  },
  {
   "cell_type": "code",
   "execution_count": null,
   "id": "99fcd730-bf47-4bf9-b1a2-b2ed53bb77d6",
   "metadata": {
    "tags": []
   },
   "outputs": [],
   "source": [
    "# z_range = range(pre_coords[0].shape[0])\n",
    "# # y_range = range(pre_coords[0].shape[1])\n",
    "# y_range = range(pre_coords[0].shape[1] // 2, (pre_coords[0].shape[1] // 2) + 1)\n",
    "# x_range = range(pre_coords[0].shape[2])\n",
    "\n",
    "# for z in z_range:\n",
    "#     print(f\"z: {z} out of {pre_coords[0].shape[0]}\", end=\"  |  \")\n",
    "#     for y in y_range:\n",
    "#         # Batch over the x-axis\n",
    "#         x = tuple(x_range)\n",
    "#         # Grab coordinates that correspond to the pre-image coordinates\n",
    "#         pre_coord = pre_coords[:, z, y, x]\n",
    "#         pre_coord = np.expand_dims(pre_coord, (1, 2))\n",
    "\n",
    "#         # Interpolate voxels in the pre-image\n",
    "#         pred = rician_interp_coords(pre_img, pre_coord, noise_var)\n",
    "#         # Store predictions in the transformed image at the coordinates that correspond\n",
    "#         # to the affine-transformed space.\n",
    "#         rot_image[tuple(coords[:, z, y, x])] = pred.flatten()"
   ]
  },
  {
   "cell_type": "code",
   "execution_count": 79,
   "id": "98b9aada-35a0-4e2d-bab5-b4da50f5f421",
   "metadata": {
    "execution": {
     "iopub.execute_input": "2021-06-22T03:09:50.399307Z",
     "iopub.status.busy": "2021-06-22T03:09:50.398582Z",
     "iopub.status.idle": "2021-06-22T03:11:42.800385Z",
     "shell.execute_reply": "2021-06-22T03:11:42.799799Z",
     "shell.execute_reply.started": "2021-06-22T03:09:50.399245Z"
    },
    "tags": []
   },
   "outputs": [
    {
     "name": "stderr",
     "output_type": "stream",
     "text": [
      "100%|██████████| 42048/42048 [01:52<00:00, 374.34it/s] \n"
     ]
    }
   ],
   "source": [
    "# z_range = range(pre_coords[0].shape[0])\n",
    "# # y_range = range(pre_coords[0].shape[1])\n",
    "# y_range = range(pre_coords[0].shape[1] // 2, (pre_coords[0].shape[1] // 2) + 1)\n",
    "# x_range = range(pre_coords[0].shape[2]\n",
    "\n",
    "# Interpolate voxels in the pre-image\n",
    "rot_image = rician_interp_coords(\n",
    "    pre_img,\n",
    "    pre_coords[:, :, range(pre_coords.shape[1] // 2, pre_coords.shape[1] // 2 + 3), :],\n",
    "    noise_var,\n",
    ")"
   ]
  },
  {
   "cell_type": "code",
   "execution_count": 80,
   "id": "dc7321b1-4b96-47b7-a8ea-c95d839815f3",
   "metadata": {
    "execution": {
     "iopub.execute_input": "2021-06-22T03:11:46.244892Z",
     "iopub.status.busy": "2021-06-22T03:11:46.244361Z",
     "iopub.status.idle": "2021-06-22T03:11:46.255879Z",
     "shell.execute_reply": "2021-06-22T03:11:46.254377Z",
     "shell.execute_reply.started": "2021-06-22T03:11:46.244838Z"
    },
    "tags": []
   },
   "outputs": [
    {
     "data": {
      "text/plain": [
       "(146, 3, 96)"
      ]
     },
     "execution_count": 80,
     "metadata": {},
     "output_type": "execute_result"
    }
   ],
   "source": [
    "rot_image.shape"
   ]
  },
  {
   "cell_type": "code",
   "execution_count": 84,
   "id": "9923100b-5ee5-442e-a354-bef5e164a44b",
   "metadata": {
    "execution": {
     "iopub.execute_input": "2021-06-22T03:12:42.463527Z",
     "iopub.status.busy": "2021-06-22T03:12:42.462981Z",
     "iopub.status.idle": "2021-06-22T03:12:42.703189Z",
     "shell.execute_reply": "2021-06-22T03:12:42.702630Z",
     "shell.execute_reply.started": "2021-06-22T03:12:42.463471Z"
    },
    "tags": []
   },
   "outputs": [
    {
     "data": {
      "text/plain": [
       "(-0.5, 95.5, 145.5, -0.5)"
      ]
     },
     "execution_count": 84,
     "metadata": {},
     "output_type": "execute_result"
    },
    {
     "data": {
      "image/png": "[encoded data removed]",
      "text/plain": [
       "<Figure size 432x288 with 2 Axes>"
      ]
     },
     "metadata": {},
     "output_type": "display_data"
    },
    {
     "data": {
      "image/png": "[encoded data removed]",
      "text/plain": [
       "<Figure size 432x288 with 2 Axes>"
      ]
     },
     "metadata": {},
     "output_type": "display_data"
    }
   ],
   "source": [
    "plt.figure()\n",
    "plt.imshow(pre_img[:, pre_img.shape[1] // 2, :])\n",
    "plt.colorbar()\n",
    "plt.axis(\"off\")\n",
    "\n",
    "plt.figure()\n",
    "plt.imshow(rot_image[:, 0, :])\n",
    "plt.colorbar()\n",
    "plt.axis(\"off\")"
   ]
  },
  {
   "cell_type": "code",
   "execution_count": 71,
   "id": "e0ebf3b7-8f57-4cae-9d07-6506a513bb71",
   "metadata": {
    "execution": {
     "iopub.execute_input": "2021-06-22T02:54:21.553063Z",
     "iopub.status.busy": "2021-06-22T02:54:21.552499Z",
     "iopub.status.idle": "2021-06-22T02:54:21.824335Z",
     "shell.execute_reply": "2021-06-22T02:54:21.823538Z",
     "shell.execute_reply.started": "2021-06-22T02:54:21.553005Z"
    },
    "tags": []
   },
   "outputs": [
    {
     "data": {
      "text/plain": [
       "(-0.5, 95.5, 145.5, -0.5)"
      ]
     },
     "execution_count": 71,
     "metadata": {},
     "output_type": "execute_result"
    },
    {
     "data": {
      "image/png": "[encoded data removed]",
      "text/plain": [
       "<Figure size 432x288 with 2 Axes>"
      ]
     },
     "metadata": {},
     "output_type": "display_data"
    }
   ],
   "source": [
    "scipy_interp = scipy.ndimage.affine_transform(pre_img, back_affine, order=1)\n",
    "# plt.figure()\n",
    "# plt.imshow(scipy_interp[146 // 2])\n",
    "# plt.colorbar()\n",
    "# plt.axis(\"off\")\n",
    "\n",
    "plt.figure()\n",
    "plt.imshow(scipy_interp[:, 148 // 2])\n",
    "plt.colorbar()\n",
    "plt.axis(\"off\")\n",
    "\n",
    "# plt.figure()\n",
    "# plt.imshow(scipy_interp[:, :, 96//2])\n",
    "# plt.colorbar()\n",
    "# plt.axis(\"off\");"
   ]
  },
  {
   "cell_type": "code",
   "execution_count": null,
   "id": "bef5d662-e0eb-4d9f-b239-9a92b7a7061e",
   "metadata": {
    "tags": []
   },
   "outputs": [],
   "source": [
    "pre_img.shape"
   ]
  },
  {
   "cell_type": "markdown",
   "id": "f822783e-d898-401d-a2bf-7186fd04c7ee",
   "metadata": {},
   "source": [
    "---"
   ]
  },
  {
   "cell_type": "markdown",
   "id": "bce86cd1-c486-4a14-ba32-0508db712187",
   "metadata": {},
   "source": [
    "# DWI Rotation Experiments"
   ]
  },
  {
   "cell_type": "code",
   "execution_count": null,
   "id": "abe491e1-7907-44ac-8de6-d2705ad2572b",
   "metadata": {},
   "outputs": [],
   "source": []
  },
  {
   "cell_type": "markdown",
   "id": "c6053274-e4ab-4569-b1ef-72baf78c54eb",
   "metadata": {
    "execution": {
     "iopub.execute_input": "2021-06-15T16:17:16.719019Z",
     "iopub.status.busy": "2021-06-15T16:17:16.718359Z",
     "iopub.status.idle": "2021-06-15T16:17:16.747226Z",
     "shell.execute_reply": "2021-06-15T16:17:16.746146Z",
     "shell.execute_reply.started": "2021-06-15T16:17:16.718956Z"
    },
    "tags": []
   },
   "source": [
    "# Gradient Ascent/Descent in Numpy and Pytorch"
   ]
  },
  {
   "cell_type": "code",
   "execution_count": null,
   "id": "a8f605f4-3377-4eb0-8501-baabc75d3936",
   "metadata": {},
   "outputs": [],
   "source": [
    "# def log_likelihood(x, signal, noise_var):\n",
    "#     result = np.log(x / noise_var)\n",
    "#     result = result - (x ** 2 + signal ** 2) / (2 * noise_var)\n",
    "#     result = result + np.log(scipy.special.i0(x * signal / noise_var))\n",
    "\n",
    "#     return result\n",
    "\n",
    "\n",
    "# def weight_ll(patch, interp_kernel, pred_val, noise_var):\n",
    "#     \"\"\"\n",
    "#     Find weighted log-likelihood for one voxel given several voxels in a patch.\n",
    "\n",
    "#     Parameters:\n",
    "#         patche: D_1 x D_2 x ... x D_m\n",
    "#         interp_kernel: D_1 x D_2 x ... x D_m, with values that sum to 1.0\n",
    "#         pred_val: float\n",
    "#         noise_var: float\n",
    "#     \"\"\"\n",
    "\n",
    "#     samples = patch.flatten()\n",
    "#     log_likes = log_likelihood(samples, pred_val, noise_var)\n",
    "\n",
    "#     weights = interp_kernel.flatten()\n",
    "#     weight_log_likes = np.sum(weights * log_likes)\n",
    "\n",
    "#     return weight_log_likes\n",
    "\n",
    "\n",
    "# def grad_weight_ll(samples, signal, noise_var):\n",
    "#     samples = samples.flatten()\n",
    "#     N = len(samples)\n",
    "\n",
    "#     offset_term = -N * signal / noise_var\n",
    "#     inner_sum = (\n",
    "#         scipy.special.i1(samples * signal / noise_var)\n",
    "#         / scipy.special.i0(samples * signal / noise_var)\n",
    "#         * samples\n",
    "#         / noise_var\n",
    "#     )\n",
    "\n",
    "#     sum_term = np.sum(inner_sum)\n",
    "#     result = offset_term + sum_term\n",
    "\n",
    "#     return result"
   ]
  },
  {
   "cell_type": "markdown",
   "id": "14c5cd36-6ecc-413e-808d-12bf4d879d8b",
   "metadata": {},
   "source": [
    "$$\n",
    "v_{t+1} = \\mu * v_{t} + g_{t+1}, \\\\\n",
    "p_{t+1} = p_{t} - \\text{lr} * v_{t+1}\n",
    "$$"
   ]
  },
  {
   "cell_type": "code",
   "execution_count": null,
   "id": "6985a6ec-c858-474e-995f-ab8c022b8120",
   "metadata": {},
   "outputs": [],
   "source": [
    "# def grad_interpolate(\n",
    "#     patch,\n",
    "#     interp_kernel,\n",
    "#     noise_var,\n",
    "#     lr,\n",
    "#     momentum=0,\n",
    "#     init_pred=None,\n",
    "#     tol=1e-5,\n",
    "#     max_steps=1000,\n",
    "# ):\n",
    "#     samples = patch.flatten()\n",
    "#     weights = interp_kernel.flatten()\n",
    "#     if init_pred is None:\n",
    "#         init_pred = np.sum(samples * weights)\n",
    "\n",
    "#     pred_t = init_pred\n",
    "#     vel_t = 1 * momentum\n",
    "\n",
    "#     for i in range(max_steps):\n",
    "#         grad_tp1 = grad_weight_ll(samples, pred_t, noise_var)\n",
    "#         if grad_tp1 <= tol:\n",
    "#             return pred_t\n",
    "\n",
    "#         vel_tp1 = momentum * vel_t + grad_tp1\n",
    "#         pred_tp1 = pred_t - lr * vel_tp1\n",
    "\n",
    "#         pred_t = pred_tp1\n",
    "#         vel_t = vel_tp1\n",
    "\n",
    "#     print(f\"WARNING: Did not converge to tol {tol}\")\n",
    "\n",
    "#     return pred_t"
   ]
  },
  {
   "cell_type": "code",
   "execution_count": null,
   "id": "57ea7e96-9083-4524-87d4-d62c3cc1fab2",
   "metadata": {
    "tags": []
   },
   "outputs": [],
   "source": [
    "# class RicianNLL(torch.autograd.Function):\n",
    "#     @staticmethod\n",
    "#     def forward(ctx, pred_signals, samples, weights, noise_var):\n",
    "#         \"\"\"\n",
    "\n",
    "#         Parameters:\n",
    "#             samples: torch.Tensor with shape B x N\n",
    "#             pred_signals: torch.Tensor with shape B\n",
    "#             weights: torch.Tensor with shape B x N\n",
    "#             noise_var: float\n",
    "#         \"\"\"\n",
    "#         # ctx is a context object that can be used to stash information\n",
    "#         # for backward computation\n",
    "#         ctx.noise_var = noise_var\n",
    "#         ctx.samples = samples\n",
    "#         ctx.pred_signals = pred_signals\n",
    "\n",
    "# #         breakpoint()\n",
    "\n",
    "#         log_likes = torch.log(samples / noise_var)\n",
    "#         log_likes = log_likes - (samples ** 2 + pred_signals.view(-1, 1) ** 2) / (\n",
    "#             2 * noise_var\n",
    "#         )\n",
    "\n",
    "#         zero_bessel = scipy.special.i0(\n",
    "#             (samples * pred_signals.view(-1, 1) / noise_var).cpu().numpy()\n",
    "#         )\n",
    "#         zero_bessel = torch.as_tensor(zero_bessel).to(log_likes)\n",
    "#         ctx.zero_bessel = zero_bessel\n",
    "\n",
    "#         log_likes = log_likes + torch.log(zero_bessel)\n",
    "\n",
    "#         weight_log_likes = torch.sum(weights * log_likes, dim=1)\n",
    "\n",
    "#         return -weight_log_likes\n",
    "\n",
    "#     @staticmethod\n",
    "#     def backward(ctx, grad_output):\n",
    "#         # We return as many input gradients as there were arguments.\n",
    "#         # Gradients of non-Tensor arguments to forward must be None.\n",
    "#         samples = ctx.samples\n",
    "#         N = len(samples)\n",
    "#         pred_signals = ctx.pred_signals\n",
    "#         noise_var = ctx.noise_var\n",
    "\n",
    "#         offset_term = -N * pred_signals / noise_var\n",
    "\n",
    "#         zero_bessel = ctx.zero_bessel\n",
    "#         one_bessel = scipy.special.i1(\n",
    "#             (samples * pred_signals.view(-1, 1) / noise_var).cpu().numpy()\n",
    "#         )\n",
    "#         one_bessel = torch.as_tensor(one_bessel).to(zero_bessel)\n",
    "\n",
    "#         inner_sum = one_bessel / zero_bessel * samples / noise_var\n",
    "\n",
    "#         sum_term = torch.sum(inner_sum, dim=1)\n",
    "#         grads = offset_term + sum_term\n",
    "\n",
    "#         return grads, None, None, None\n",
    "\n",
    "\n",
    "# class RicianInterp(torch.nn.Module):\n",
    "#     def __init__(self, init_signals):\n",
    "#         super().__init__()\n",
    "\n",
    "#         self.N = len(init_signals)\n",
    "#         self.signals = torch.nn.Parameter(torch.as_tensor(init_signals))\n",
    "\n",
    "#     def forward(\n",
    "#         self, patches: torch.Tensor, interp_kernels: torch.Tensor, noise_var: float\n",
    "#     ):\n",
    "#         if interp_kernels.ndim == patches.ndim - 1:\n",
    "#             interp_kernels = interp_kernels.expand_as(patches)\n",
    "\n",
    "#         samples = patches.reshape(self.N, -1)\n",
    "#         interp_kernels = interp_kernels.reshape(self.N, -1)\n",
    "\n",
    "#         return RicianNLL.apply(self.signals, samples, interp_kernels, noise_var)"
   ]
  },
  {
   "cell_type": "code",
   "execution_count": null,
   "id": "84baf9fc-684b-40b9-89e9-e4281fbc630e",
   "metadata": {
    "tags": []
   },
   "outputs": [],
   "source": [
    "# B = 2\n",
    "# N = 3\n",
    "# test_input = torch.as_tensor([[0.1, 1.0, 1.3], [2., 4., 0.3]], dtype=float)\n",
    "# kernel = torch.as_tensor([0.5, 0.3, 0.2]).float()\n",
    "# noise_var = test_input.var()\n",
    "# pred = (test_input * kernel).sum(dim=1)\n",
    "# pred.requires_grad_(True)\n",
    "\n",
    "# r_interp = RicianInterp(pred)\n",
    "# out = r_interp(test_input, kernel, noise_var)\n",
    "# out\n",
    "\n",
    "# optimizer = torch.optim.SGD(r_interp.parameters(), lr=0.01)\n",
    "\n",
    "# for _ in range(10):\n",
    "#     w_nlls = r_interp(test_input, kernel, noise_var)\n",
    "#     loss = w_nlls.sum()\n",
    "#     optimizer.zero_grad()\n",
    "#     loss.backward()\n",
    "#     optimizer.step()\n",
    "#     print(loss)"
   ]
  },
  {
   "cell_type": "code",
   "execution_count": null,
   "id": "6b3a90bc-ea0c-43ce-b398-1ac7b0d5c14f",
   "metadata": {
    "tags": []
   },
   "outputs": [],
   "source": [
    "test_input = np.asarray([0.1, 1.0, 1.3])\n",
    "kernel = np.asarray([0.5, 0.3, 0.2])\n",
    "noise_var = test_input.var()\n",
    "pred = np.sum(test_input * kernel)\n",
    "\n",
    "mle, _, _ = scipy.stats.rice.fit(test_input, pred, floc=0, fscale=np.sqrt(noise_var))\n",
    "print(mle, pred)"
   ]
  }
 ],
 "metadata": {
  "kernelspec": {
   "display_name": "Python [conda env:miniconda-pitn]",
   "language": "python",
   "name": "conda-env-miniconda-pitn-py"
  },
  "language_info": {
   "codemirror_mode": {
    "name": "ipython",
    "version": 3
   },
   "file_extension": ".py",
   "mimetype": "text/x-python",
   "name": "python",
   "nbconvert_exporter": "python",
   "pygments_lexer": "ipython3",
   "version": "3.8.8"
  },
  "widgets": {
   "application/vnd.jupyter.widget-state+json": {
    "state": {},
    "version_major": 2,
    "version_minor": 0
   }
  }
 },
 "nbformat": 4,
 "nbformat_minor": 5
}
