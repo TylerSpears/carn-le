{
 "cells": [
  {
   "cell_type": "code",
   "execution_count": null,
   "id": "2bc0dce1-ee2a-4c81-bcd0-e340353abbe7",
   "metadata": {
    "tags": []
   },
   "outputs": [],
   "source": [
    "from pathlib import Path\n",
    "\n",
    "import numpy as np\n",
    "import dipy\n",
    "import dipy.align, dipy.align.imaffine, dipy.viz, dipy.viz.regtools\n",
    "import ants\n",
    "import nibabel as nib\n",
    "\n",
    "# visualization libraries\n",
    "%matplotlib inline\n",
    "import matplotlib as mpl\n",
    "import matplotlib.pyplot as plt"
   ]
  },
  {
   "cell_type": "code",
   "execution_count": null,
   "id": "8661c079-67d2-495a-8c3a-b44595db4432",
   "metadata": {
    "tags": []
   },
   "outputs": [],
   "source": [
    "data_dir = Path(\"/mnt/storage/data/pitn/uva/001\")\n",
    "assert data_dir.exists()"
   ]
  },
  {
   "cell_type": "code",
   "execution_count": null,
   "id": "54b2b823-82a8-4903-a140-21f336ad4c89",
   "metadata": {
    "tags": []
   },
   "outputs": [],
   "source": [
    "t1w_file = data_dir / \"sub-001_ses-01_T1w.nii.gz\"\n",
    "t2w_file = data_dir / \"sub-001_ses-01_T2w.nii.gz\"\n",
    "dwi_file = data_dir / \"sub-001_ses-01_run-2_dwi_epi.nii.gz\"\n",
    "bvals_file = data_dir / \"sub-001_ses-01_run-2_dwi.bval\"\n",
    "bvecs_file = data_dir / \"sub-001_ses-01_run-2_dwi.bvec\"\n",
    "\n",
    "t1 = nib.load(t1w_file)\n",
    "t2 = nib.load(t2w_file)\n",
    "dwi = nib.load(dwi_file)\n",
    "bvals = np.loadtxt(bvals_file)\n",
    "bvecs = np.loadtxt(bvecs_file)"
   ]
  },
  {
   "cell_type": "code",
   "execution_count": null,
   "id": "6712088a-10d9-47ec-8d0f-a602d2e098e4",
   "metadata": {
    "tags": []
   },
   "outputs": [],
   "source": [
    "_, mni_dir = dipy.data.fetch_mni_template()\n",
    "mni_file = Path(mni_dir) / \"mni_icbm152_t1_tal_nlin_asym_09c.nii\"\n",
    "assert mni_file.exists()\n",
    "\n",
    "mni = nib.load(mni_file)"
   ]
  },
  {
   "cell_type": "markdown",
   "id": "d68fac9c-d227-42bc-8249-1de32426240f",
   "metadata": {
    "tags": []
   },
   "source": [
    "## Register T1w to MNI Template"
   ]
  },
  {
   "cell_type": "code",
   "execution_count": null,
   "id": "2785ceaf-6ab9-47c9-b508-c93e59f5aca5",
   "metadata": {
    "tags": []
   },
   "outputs": [],
   "source": [
    "static = mni.get_fdata()\n",
    "static_affine = mni.affine\n",
    "\n",
    "moving = t1.get_fdata()\n",
    "moving_affine = t1.affine"
   ]
  },
  {
   "cell_type": "code",
   "execution_count": null,
   "id": "e780d595-ecc0-4850-b195-1809be351232",
   "metadata": {
    "tags": []
   },
   "outputs": [],
   "source": [
    "for slice_i in range(3):\n",
    "    dipy.viz.regtools.overlay_slices(\n",
    "        static,\n",
    "        dipy.align.resample(moving, static, moving_affine, static_affine).get_fdata(),\n",
    "        None,\n",
    "        slice_i,\n",
    "        \"Static\",\n",
    "        \"Moving\",\n",
    "    ).set_dpi(170)"
   ]
  },
  {
   "cell_type": "code",
   "execution_count": null,
   "id": "8bb0d990-8b86-443c-bfc0-6c8b011441aa",
   "metadata": {
    "tags": []
   },
   "outputs": [],
   "source": [
    "center_transform = dipy.align.imaffine.transform_centers_of_mass(\n",
    "    static=static,\n",
    "    static_grid2world=static_affine,\n",
    "    moving=moving,\n",
    "    moving_grid2world=moving_affine,\n",
    ")\n",
    "center_moving = center_transform.transform(moving)"
   ]
  },
  {
   "cell_type": "code",
   "execution_count": null,
   "id": "2e5b9e06-d4e1-4777-a7bb-d6b2118b165e",
   "metadata": {
    "tags": []
   },
   "outputs": [],
   "source": [
    "for slice_i in range(3):\n",
    "    dipy.viz.regtools.overlay_slices(\n",
    "        static,\n",
    "        center_moving,\n",
    "        None,\n",
    "        slice_i,\n",
    "        \"Static\",\n",
    "        \"Centered\",\n",
    "    ).set_dpi(170)"
   ]
  },
  {
   "cell_type": "code",
   "execution_count": null,
   "id": "beabb844-441f-46e6-be36-e8a9d7970b6f",
   "metadata": {
    "tags": []
   },
   "outputs": [],
   "source": [
    "# Perform rigid body registration.\n",
    "\n",
    "static_ants = ants.from_numpy(static, origin=static_affine[:-1, -1].tolist())\n",
    "center_moving_ants = ants.from_numpy(center_moving, origin=static_affine[:-1, -1].tolist())\n",
    "\n",
    "sigmas = [2, 1, 0]\n",
    "level_iters = [10000, 1000, 100]\n",
    "factors = [4, 2, 1]\n",
    "nbins = 32\n",
    "\n",
    "registered = ants.registration(\n",
    "    static_ants,\n",
    "    center_moving_ants,\n",
    "    \"Rigid\",\n",
    "    aff_iterations=(2100, 1200, 1200, 10),\n",
    "    aff_shrink_factors=(6, 4, 2, 1),\n",
    "    aff_smoothing_sigmas=(3, 2, 1, 0),\n",
    "    aff_sampling=32,\n",
    ")\n",
    "print(registered)"
   ]
  },
  {
   "cell_type": "code",
   "execution_count": null,
   "id": "695dbc36-f982-460c-b192-4a2f371f6b22",
   "metadata": {
    "tags": []
   },
   "outputs": [],
   "source": [
    "transformed = registered['warpedmovout'].numpy()"
   ]
  },
  {
   "cell_type": "code",
   "execution_count": null,
   "id": "400baf6b-d27c-4ffa-9af2-7314c9f12262",
   "metadata": {
    "tags": []
   },
   "outputs": [],
   "source": [
    "for slice_i in range(3):\n",
    "    dipy.viz.regtools.overlay_slices(\n",
    "        static,\n",
    "        transformed,\n",
    "        None,\n",
    "        slice_i,\n",
    "        \"Static\",\n",
    "        \"Registered\",\n",
    "    ).set_dpi(170)"
   ]
  },
  {
   "cell_type": "code",
   "execution_count": null,
   "id": "be0fea46-a328-4262-888a-9bf42bf0cdd3",
   "metadata": {
    "tags": []
   },
   "outputs": [],
   "source": [
    "register_affine = ants.read_transform(registered['fwdtransforms'][0], dimension=3).parameters\n",
    "print(register_affine)\n",
    "register_rot = register_affine[:-3].reshape(3, 3)\n",
    "register_translate = register_affine[-3:]\n",
    "print(register_rot)\n",
    "print(register_translate)"
   ]
  },
  {
   "cell_type": "code",
   "execution_count": null,
   "id": "94c48e44-0779-4807-ab9b-02ea72cc5424",
   "metadata": {
    "tags": []
   },
   "outputs": [],
   "source": [
    "# aff_mat = f_transform.affine[:3, :3]\n",
    "\n",
    "# u, s, vT = np.linalg.svd(aff_mat)\n",
    "\n",
    "# # Scale in direction of eigenvectors.\n",
    "# P = vT.T @ np.diag(s) @ vh\n",
    "# # Rotation matrix\n",
    "# R = u @ vT\n",
    "\n",
    "# eigvals, eigvecs = np.linalg.eig(aff_mat)"
   ]
  },
  {
   "cell_type": "code",
   "execution_count": null,
   "id": "1025df10-f787-4e96-bdd1-9e468343d5be",
   "metadata": {
    "tags": []
   },
   "outputs": [],
   "source": [
    "t1 = nib.Nifti1Image(transformed, static_affine)"
   ]
  },
  {
   "cell_type": "markdown",
   "id": "5b465475-26e5-4aa9-8165-cb0a1b560875",
   "metadata": {
    "tags": []
   },
   "source": [
    "## Register T2w to T1w"
   ]
  },
  {
   "cell_type": "code",
   "execution_count": null,
   "id": "5fcb0973-6783-49c5-beac-b3045ca6d788",
   "metadata": {
    "tags": []
   },
   "outputs": [],
   "source": [
    "static = t1.get_fdata()\n",
    "static_affine = t1.affine\n",
    "\n",
    "moving = t2.get_fdata()\n",
    "moving_affine = t2.affine"
   ]
  },
  {
   "cell_type": "code",
   "execution_count": null,
   "id": "0f0944d3-6e58-4138-80ca-4bef58fba4ab",
   "metadata": {
    "tags": []
   },
   "outputs": [],
   "source": [
    "for slice_i in range(3):\n",
    "    dipy.viz.regtools.overlay_slices(\n",
    "        static,\n",
    "        dipy.align.resample(moving, static, moving_affine, static_affine).get_fdata(),\n",
    "        None,\n",
    "        slice_i,\n",
    "        \"Static\",\n",
    "        \"Moving\",\n",
    "    ).set_dpi(170)"
   ]
  },
  {
   "cell_type": "code",
   "execution_count": null,
   "id": "5763adda-1a97-4992-9c6e-f392c8a24933",
   "metadata": {
    "tags": []
   },
   "outputs": [],
   "source": [
    "center_transform = dipy.align.imaffine.transform_centers_of_mass(\n",
    "    static=static,\n",
    "    static_grid2world=static_affine,\n",
    "    moving=moving,\n",
    "    moving_grid2world=moving_affine,\n",
    ")\n",
    "center_moving = center_transform.transform(moving)"
   ]
  },
  {
   "cell_type": "code",
   "execution_count": null,
   "id": "03948d7e-39ff-4e4c-a311-649c01e99395",
   "metadata": {
    "tags": []
   },
   "outputs": [],
   "source": [
    "for slice_i in range(3):\n",
    "    dipy.viz.regtools.overlay_slices(\n",
    "        static,\n",
    "        center_moving,\n",
    "        None,\n",
    "        slice_i,\n",
    "        \"Static\",\n",
    "        \"Centered\",\n",
    "    ).set_dpi(170)"
   ]
  },
  {
   "cell_type": "code",
   "execution_count": null,
   "id": "204cf5c9-3e46-460a-ac25-bdbf1ba15432",
   "metadata": {
    "tags": []
   },
   "outputs": [],
   "source": [
    "# Perform rigid body registration.\n",
    "\n",
    "static_ants = ants.from_numpy(static, origin=static_affine[:-1, -1].tolist())\n",
    "center_moving_ants = ants.from_numpy(center_moving, origin=static_affine[:-1, -1].tolist())\n",
    "\n",
    "aff_iterations=(2100, 1200, 1200, 10)\n",
    "aff_shrink_factors=(6, 4, 2, 1)\n",
    "aff_smoothing_sigmas=(3, 2, 1, 0)\n",
    "aff_sampling=32\n",
    "\n",
    "registered = ants.registration(\n",
    "    static_ants,\n",
    "    center_moving_ants,\n",
    "    \"Rigid\",\n",
    "    aff_iterations=aff_iterations,\n",
    "    aff_shrink_factors=aff_shrink_factors,\n",
    "    aff_smoothing_sigmas=aff_smoothing_sigmas,\n",
    "    aff_sampling=aff_sampling,\n",
    ")\n",
    "print(registered)"
   ]
  },
  {
   "cell_type": "code",
   "execution_count": null,
   "id": "22766945-0a71-40ee-a02f-d133a843db88",
   "metadata": {
    "tags": []
   },
   "outputs": [],
   "source": [
    "transformed = registered['warpedmovout'].numpy()"
   ]
  },
  {
   "cell_type": "code",
   "execution_count": null,
   "id": "7b288257-a4af-47ee-9191-6606bf9ee2b4",
   "metadata": {
    "tags": []
   },
   "outputs": [],
   "source": [
    "for slice_i in range(3):\n",
    "    dipy.viz.regtools.overlay_slices(\n",
    "        static,\n",
    "        transformed,\n",
    "        None,\n",
    "        slice_i,\n",
    "        \"Static\",\n",
    "        \"Registered\",\n",
    "    ).set_dpi(170)"
   ]
  },
  {
   "cell_type": "code",
   "execution_count": null,
   "id": "7ae62fa4-318c-4694-bd8c-b9784172b921",
   "metadata": {
    "tags": []
   },
   "outputs": [],
   "source": [
    "register_affine = ants.read_transform(registered['fwdtransforms'][0], dimension=3).parameters\n",
    "print(register_affine)\n",
    "register_rot = register_affine[:-3].reshape(3, 3)\n",
    "register_translate = register_affine[-3:]\n",
    "print(register_rot)\n",
    "print(register_translate)"
   ]
  },
  {
   "cell_type": "code",
   "execution_count": null,
   "id": "32f45294-4cd8-4ce5-9077-b4bf9aebb649",
   "metadata": {
    "tags": []
   },
   "outputs": [],
   "source": [
    "t2 = nib.Nifti1Image(transformed, static_affine)"
   ]
  },
  {
   "cell_type": "markdown",
   "id": "458fd2eb-3d35-41f4-baaa-0fd87b6e51ac",
   "metadata": {},
   "source": [
    "## Register Average of $b_0$ DWIs to T2w"
   ]
  },
  {
   "cell_type": "code",
   "execution_count": null,
   "id": "05c9197e-5941-43e0-b3c7-d8dbf37ebed3",
   "metadata": {
    "tags": []
   },
   "outputs": [],
   "source": [
    "b0_idx = np.where(bvals == 0)[0]\n",
    "b0_all = dwi.get_fdata()[..., b0_idx]\n",
    "avg_b0 = np.mean(b0_all, axis=-1)\n",
    "moving = avg_b0\n",
    "moving_affine = dwi.affine\n",
    "\n",
    "static = t2.get_fdata()\n",
    "static_affine = t2.affine"
   ]
  },
  {
   "cell_type": "code",
   "execution_count": null,
   "id": "d153458a-6df9-4cc0-a849-92ed6ef77ca7",
   "metadata": {
    "tags": []
   },
   "outputs": [],
   "source": [
    "for slice_i in range(3):\n",
    "    dipy.viz.regtools.overlay_slices(\n",
    "        static,\n",
    "        dipy.align.resample(moving, static, moving_affine, static_affine).get_fdata(),\n",
    "        None,\n",
    "        slice_i,\n",
    "        \"Static\",\n",
    "        \"Moving\",\n",
    "    ).set_dpi(170)"
   ]
  },
  {
   "cell_type": "code",
   "execution_count": null,
   "id": "5bd0bd72-6ddc-4e32-bb69-b38efb0421b6",
   "metadata": {
    "tags": []
   },
   "outputs": [],
   "source": [
    "center_transform = dipy.align.imaffine.transform_centers_of_mass(\n",
    "    static=static,\n",
    "    static_grid2world=static_affine,\n",
    "    moving=moving,\n",
    "    moving_grid2world=moving_affine,\n",
    ")\n",
    "center_moving = center_transform.transform(moving)"
   ]
  },
  {
   "cell_type": "code",
   "execution_count": null,
   "id": "405d96d6-6373-452c-bb74-3d87ae63e076",
   "metadata": {
    "tags": []
   },
   "outputs": [],
   "source": [
    "for slice_i in range(3):\n",
    "    dipy.viz.regtools.overlay_slices(\n",
    "        static,\n",
    "        center_moving,\n",
    "        None,\n",
    "        slice_i,\n",
    "        \"Static\",\n",
    "        \"Centered\",\n",
    "    ).set_dpi(170)"
   ]
  },
  {
   "cell_type": "code",
   "execution_count": null,
   "id": "1c18dcf1-786f-4576-a7f8-28f7c1818a86",
   "metadata": {
    "tags": []
   },
   "outputs": [],
   "source": [
    "# Perform rigid body registration.\n",
    "\n",
    "static_ants = ants.from_numpy(static, origin=static_affine[:-1, -1].tolist())\n",
    "center_moving_ants = ants.from_numpy(center_moving, origin=static_affine[:-1, -1].tolist())\n",
    "\n",
    "aff_iterations=(2100, 1200, 1200, 10)\n",
    "aff_shrink_factors=(6, 4, 2, 1)\n",
    "aff_smoothing_sigmas=(3, 2, 1, 0)\n",
    "aff_sampling=32\n",
    "\n",
    "registered = ants.registration(\n",
    "    static_ants,\n",
    "    center_moving_ants,\n",
    "    \"Rigid\",\n",
    "    aff_iterations=aff_iterations,\n",
    "    aff_shrink_factors=aff_shrink_factors,\n",
    "    aff_smoothing_sigmas=aff_smoothing_sigmas,\n",
    "    aff_sampling=aff_sampling,\n",
    ")\n",
    "print(registered)"
   ]
  },
  {
   "cell_type": "code",
   "execution_count": null,
   "id": "04883608-8f36-416f-b799-fbeeb1e74c8b",
   "metadata": {
    "tags": []
   },
   "outputs": [],
   "source": [
    "transformed = registered['warpedmovout'].numpy()"
   ]
  },
  {
   "cell_type": "code",
   "execution_count": null,
   "id": "711be2df-fa7f-4203-8bb1-e36486ea77ef",
   "metadata": {
    "tags": []
   },
   "outputs": [],
   "source": [
    "for slice_i in range(3):\n",
    "    dipy.viz.regtools.overlay_slices(\n",
    "        static,\n",
    "        transformed,\n",
    "        None,\n",
    "        slice_i,\n",
    "        \"Static\",\n",
    "        \"Registered\",\n",
    "    ).set_dpi(170)"
   ]
  },
  {
   "cell_type": "code",
   "execution_count": null,
   "id": "f8f320f0-c317-44bb-a97a-dcf99d2b7cc6",
   "metadata": {
    "tags": []
   },
   "outputs": [],
   "source": [
    "register_transform = ants.read_transform(registered['fwdtransforms'][0], dimension=3)\n",
    "register_affine = register_transform.parameters\n",
    "print(register_affine)"
   ]
  },
  {
   "cell_type": "code",
   "execution_count": null,
   "id": "31d2ad54-3471-4866-899d-7f8e61610ad7",
   "metadata": {
    "tags": []
   },
   "outputs": [],
   "source": [
    "# Perform the centering and registration transforms on each DWI volume.\n",
    "new_dwi = list()\n",
    "\n",
    "for i, dwi_bk in enumerate(np.moveaxis(dwi.get_fdata(), -1, 0)):\n",
    "    print(i, \"out of \", dwi.shape[-1], end=' | ')\n",
    "    center_dwi_bk = center_transform.transform(dwi_bk)\n",
    "    center_dwi_ants = ants.from_numpy(center_dwi_bk)\n",
    "    transformed_dwi_bk = register_transform.apply_to_image(center_dwi_ants)\n",
    "    new_dwi.append(transformed_dwi_bk.numpy())\n",
    "\n",
    "new_dwi = np.stack(new_dwi, axis=-1)"
   ]
  },
  {
   "cell_type": "code",
   "execution_count": null,
   "id": "7e292397-28df-426c-abec-f93d97dd88ff",
   "metadata": {
    "tags": []
   },
   "outputs": [],
   "source": [
    "# Rotate the bvecs to match the new orientation of the DWI.\n",
    "full_affine = center_transform.codomain_grid2world.dot(center_transform.affine)\n",
    "full_affine = full_affine.dot(np.linalg.inv(center_transform.domain_grid2world))\n",
    "\n",
    "# Construct the registration affine matrix.\n",
    "registration_affine = np.eye(4)\n",
    "register_rot = register_affine[:-3].reshape(3, 3)\n",
    "registration_affine[:-1, :-1] = register_rot\n",
    "register_translate = register_affine[-3:]\n",
    "registration_affine[:-1, -1] = register_translate\n",
    "\n",
    "full_affine = full_affine.dot(registration_affine)\n",
    "print(full_affine)\n",
    "\n",
    "full_rot = full_affine[:-1, :-1]\n",
    "new_bvecs = full_rot @ bvecs"
   ]
  },
  {
   "cell_type": "code",
   "execution_count": null,
   "id": "0deeea65-1da6-4af5-b519-603324d70555",
   "metadata": {
    "tags": []
   },
   "outputs": [],
   "source": [
    "i = 100\n",
    "print(bvecs[:, i])\n",
    "print(full_rot @ bvecs[:, i])\n",
    "print((full_rot @ bvecs)[:, i])\n",
    "print(np.dot(full_rot, bvecs[:, i]))"
   ]
  },
  {
   "cell_type": "code",
   "execution_count": null,
   "id": "92936fa3-9ef2-4e28-a5f2-98fba25dadf9",
   "metadata": {
    "tags": []
   },
   "outputs": [],
   "source": [
    "dwi = nib.Nifti1Image(new_dwi, static_affine)"
   ]
  },
  {
   "cell_type": "markdown",
   "id": "79acb5cc-add6-4d06-940c-5b2462b7db6d",
   "metadata": {},
   "source": [
    "## Save out images to file"
   ]
  },
  {
   "cell_type": "code",
   "execution_count": null,
   "id": "67860930-ed34-40a5-8e48-58e11bafb865",
   "metadata": {
    "tags": []
   },
   "outputs": [],
   "source": [
    "output_dir = data_dir / \"python_registration\"\n",
    "output_dir.mkdir(exist_ok=True, parents=True)\n",
    "\n",
    "t1_out = output_dir / t1w_file.name\n",
    "nib.save(t1, t1_out)\n",
    "\n",
    "t2_out = output_dir / t2w_file.name\n",
    "nib.save(t2, t2_out)\n",
    "\n",
    "dwi_out = output_dir / dwi_file.name\n",
    "nib.save(dwi, dwi_out)\n",
    "\n",
    "bvecs_out = output_dir / bvecs_file.name\n",
    "np.savetxt(bvecs_out, new_bvecs, fmt=\"%.10g\")\n",
    "\n",
    "bvals_out = output_dir / bvals_file.name\n",
    "np.savetxt(bvals_out, bvals, fmt=\"%.10g\")"
   ]
  },
  {
   "cell_type": "code",
   "execution_count": null,
   "id": "1705f503-06d5-48a9-9f15-2b3e1709320d",
   "metadata": {},
   "outputs": [],
   "source": [
    "static = t1.get_fdata()\n",
    "static_affine = t1.affine\n",
    "\n",
    "moving = t2.get_fdata()\n",
    "moving_affine = t2.affine"
   ]
  },
  {
   "cell_type": "code",
   "execution_count": null,
   "id": "278b31f8-d666-43de-82fc-f64fe81de5a2",
   "metadata": {},
   "outputs": [],
   "source": [
    "# Compose the pipeline of transformations.\n",
    "transform_pipeline = [\n",
    "    dipy.align.center_of_mass,\n",
    "    dipy.align.translation,\n",
    "    dipy.align.rigid,\n",
    "    dipy.align.affine,\n",
    "]\n",
    "\n",
    "# Transform parameters.\n",
    "# Set parameters for a Gaussian Pyramid of registrations.\n",
    "level_iters = [10000, 1000, 100]\n",
    "sigmas = [3.0, 1.0, 0.0]\n",
    "factors = [4, 2, 1]\n",
    "nbins = 32"
   ]
  },
  {
   "cell_type": "code",
   "execution_count": null,
   "id": "67a1f413-abb7-44e3-83ba-d88f5b7c8063",
   "metadata": {
    "tags": []
   },
   "outputs": [],
   "source": [
    "transformed, transformed_affine = dipy.align.affine_registration(\n",
    "    moving,\n",
    "    static,\n",
    "    moving_affine=moving_affine,\n",
    "    static_affine=static_affine,\n",
    "    nbins=nbins,\n",
    "    metric=\"MI\",\n",
    "    pipeline=transform_pipeline,\n",
    "    level_iters=level_iters,\n",
    "    sigmas=sigmas,\n",
    "    factors=factors,\n",
    ")"
   ]
  },
  {
   "cell_type": "code",
   "execution_count": null,
   "id": "4bf7dad2-b518-4008-8739-8d3ba60cc58e",
   "metadata": {},
   "outputs": [],
   "source": [
    "dipy.viz.regtools.overlay_slices(\n",
    "    static, transformed, None, 0, \"Static\", \"Registered\", dpi=300\n",
    ").set_dpi(170)\n",
    "dipy.viz.regtools.overlay_slices(\n",
    "    static, transformed, None, 1, \"Static\", \"Registered\", dpi=300\n",
    ").set_dpi(170)\n",
    "dipy.viz.regtools.overlay_slices(\n",
    "    static, transformed, None, 2, \"Static\", \"Registered\", dpi=300\n",
    ").set_dpi(170)"
   ]
  },
  {
   "cell_type": "markdown",
   "id": "598a20ae-5599-482c-9f4f-56dd7185cdc6",
   "metadata": {
    "tags": []
   },
   "source": [
    "Register T1w to $b=0$ DWI"
   ]
  },
  {
   "cell_type": "markdown",
   "id": "30f92cd6-7733-452b-9eac-6f4d62763441",
   "metadata": {},
   "source": [
    "Taken from <https://dipy.org/documentation/1.4.1./examples_built/affine_registration_3d/#example-affine-registration-3d>"
   ]
  },
  {
   "cell_type": "code",
   "execution_count": null,
   "id": "4a0c40ab-7adf-4306-beef-9ca9ef8f6461",
   "metadata": {
    "tags": []
   },
   "outputs": [],
   "source": [
    "# # Set up static and moving images.\n",
    "# static = dwi.get_fdata()[..., b0_idx]\n",
    "# static_affine = dwi.affine\n",
    "# moving = t1.get_fdata()\n",
    "# moving_affine = t1.affine"
   ]
  },
  {
   "cell_type": "code",
   "execution_count": null,
   "id": "4b333b51-9ba5-4906-b66d-300a3fc6ce8e",
   "metadata": {
    "tags": []
   },
   "outputs": [],
   "source": [
    "# # Create the registration metric.\n",
    "# nbins = 32\n",
    "# sampling_prop = None\n",
    "# metric = dipy.align.imaffine.MutualInformationMetric(nbins, sampling_prop)\n",
    "\n",
    "# # Set up multi-resolution registration params.\n",
    "# level_iters = [10000, 1000, 100]\n",
    "# sigmas = [3.0, 1.0, 0.0]\n",
    "# factors = [4, 2, 1]\n",
    "\n",
    "# # Create registration class\n",
    "# reg = dipy.align.imaffine.AffineRegistration(\n",
    "#     metric=metric, level_iters=level_iters, sigmas=sigmas, factors=factors\n",
    "# )\n",
    "\n",
    "# # Specify transformation to perform.\n",
    "# transform = dipy.align.transforms.RigidTransform3D()"
   ]
  },
  {
   "cell_type": "code",
   "execution_count": null,
   "id": "84dceb5a-e3c8-49f9-8c70-c040b6fc8884",
   "metadata": {
    "tags": []
   },
   "outputs": [],
   "source": [
    "# params0 = None\n",
    "\n",
    "# rigid_scale = reg.optimize(\n",
    "#     static,\n",
    "#     moving,\n",
    "#     transform,\n",
    "#     params0,\n",
    "#     static_grid2world=static_affine,\n",
    "#     moving_grid2world=moving_affine,\n",
    "#     starting_affine=\"mass\",\n",
    "# )\n",
    "# transformed = rigid_scale.transform(moving)"
   ]
  },
  {
   "cell_type": "code",
   "execution_count": null,
   "id": "220eb6b7-31bc-4549-9846-1fbf36a091e6",
   "metadata": {
    "tags": []
   },
   "outputs": [],
   "source": [
    "# # plt.figure(dpi=120, figsize=(8, 11))\n",
    "# dipy.viz.regtools.overlay_slices(\n",
    "#     static, transformed, None, 0, \"Static\", \"Registered\", dpi=300\n",
    "# ).set_dpi(170)\n",
    "# dipy.viz.regtools.overlay_slices(\n",
    "#     static, transformed, None, 1, \"Static\", \"Registered\", dpi=300\n",
    "# ).set_dpi(170)\n",
    "# dipy.viz.regtools.overlay_slices(\n",
    "#     static, transformed, None, 2, \"Static\", \"Registered\", dpi=300\n",
    "# ).set_dpi(170)"
   ]
  },
  {
   "cell_type": "code",
   "execution_count": null,
   "id": "91775316-b8c8-4a09-b91e-515851d60d99",
   "metadata": {
    "tags": []
   },
   "outputs": [],
   "source": [
    "# # Save the registered image.\n",
    "# transformed_nib_img = nib.Nifti1Image(transformed, affine=rigid_scale.affine)\n",
    "# nib.save(transformed_nib_img, data_dir / \"sub-001_ses-01_T1w_reg_to_b0_DWI.nii.gz\")"
   ]
  },
  {
   "cell_type": "markdown",
   "id": "cd441f44-9aff-4d41-bdba-910217be39a7",
   "metadata": {
    "tags": []
   },
   "source": [
    "## Register T2w to $b = 0$ DWI "
   ]
  },
  {
   "cell_type": "markdown",
   "id": "c35e2558-2ce7-48f6-b85a-dde9de9708c3",
   "metadata": {},
   "source": [
    "Do we need to register the T2w separately? Or will the transform found with the T1w work?"
   ]
  },
  {
   "cell_type": "code",
   "execution_count": null,
   "id": "fa56c2bd-2a27-47aa-b735-f78ee1a9c1de",
   "metadata": {
    "tags": []
   },
   "outputs": [],
   "source": [
    "# dipy.viz.regtools.overlay_slices(\n",
    "#     t1.get_fdata(), t2.get_fdata(), None, 0, \"T1\", \"T2\", dpi=300\n",
    "# ).set_dpi(170)\n",
    "# dipy.viz.regtools.overlay_slices(\n",
    "#     t1.get_fdata(), t2.get_fdata(), None, 1, \"T1\", \"T2\", dpi=300\n",
    "# ).set_dpi(170)\n",
    "# dipy.viz.regtools.overlay_slices(\n",
    "#     t1.get_fdata(), t2.get_fdata(), None, 2, \"T1\", \"T2\", dpi=300\n",
    "# ).set_dpi(170)"
   ]
  },
  {
   "cell_type": "code",
   "execution_count": null,
   "id": "eaf8a387-b032-4ba9-91d7-7a0cbd2c41b7",
   "metadata": {
    "tags": []
   },
   "outputs": [],
   "source": [
    "# plt.imshow(np.abs(t1.affine - t2.affine))\n",
    "# plt.colorbar()"
   ]
  },
  {
   "cell_type": "markdown",
   "id": "72a65f14-7a1c-441b-bdd7-11c25242b3ac",
   "metadata": {},
   "source": [
    "Nope, we'll need to find the T2w -> DWI registration on its own. The T1w and T2w affines are largely similar, but different enough to warrant another registration."
   ]
  },
  {
   "cell_type": "code",
   "execution_count": null,
   "id": "633b6a1a-a893-400a-a934-a9cc94633c45",
   "metadata": {
    "tags": []
   },
   "outputs": [],
   "source": [
    "# static = dwi.get_fdata()[..., b0_idx]\n",
    "# static_affine = dwi.affine\n",
    "# moving = t2.get_fdata()\n",
    "# moving_affine = t2.affine"
   ]
  },
  {
   "cell_type": "code",
   "execution_count": null,
   "id": "ea861b4d-6203-4737-ba0e-895fb4575fe9",
   "metadata": {
    "tags": []
   },
   "outputs": [],
   "source": [
    "# # Create the registration metric.\n",
    "# nbins = 32\n",
    "# sampling_prop = None\n",
    "# metric = dipy.align.imaffine.MutualInformationMetric(nbins, sampling_prop)\n",
    "\n",
    "# # Set up multi-resolution registration params.\n",
    "# level_iters = [10000, 1000, 100]\n",
    "# sigmas = [3.0, 1.0, 0.0]\n",
    "# factors = [4, 2, 1]\n",
    "\n",
    "# # Create registration class\n",
    "# reg = dipy.align.imaffine.AffineRegistration(\n",
    "#     metric=metric, level_iters=level_iters, sigmas=sigmas, factors=factors\n",
    "# )\n",
    "\n",
    "# # Specify transformation to perform.\n",
    "# transform = dipy.align.transforms.RigidTransform3D()"
   ]
  },
  {
   "cell_type": "code",
   "execution_count": null,
   "id": "fcd7a68d-a7c7-49c2-952c-9ab133370181",
   "metadata": {
    "tags": []
   },
   "outputs": [],
   "source": [
    "# params0 = None\n",
    "\n",
    "# rigid_scale = reg.optimize(\n",
    "#     static,\n",
    "#     moving,\n",
    "#     transform,\n",
    "#     params0,\n",
    "#     static_grid2world=static_affine,\n",
    "#     moving_grid2world=moving_affine,\n",
    "#     starting_affine=\"mass\",\n",
    "# )\n",
    "# transformed = rigid_scale.transform(moving)"
   ]
  },
  {
   "cell_type": "code",
   "execution_count": null,
   "id": "50cb4a39-71a7-42c1-b29d-696c1d259c9a",
   "metadata": {
    "tags": []
   },
   "outputs": [],
   "source": [
    "# dipy.viz.regtools.overlay_slices(\n",
    "#     static, transformed, None, 0, \"Static\", \"Registered\", dpi=300\n",
    "# ).set_dpi(170)\n",
    "# dipy.viz.regtools.overlay_slices(\n",
    "#     static, transformed, None, 1, \"Static\", \"Registered\", dpi=300\n",
    "# ).set_dpi(170)\n",
    "# dipy.viz.regtools.overlay_slices(\n",
    "#     static, transformed, None, 2, \"Static\", \"Registered\", dpi=300\n",
    "# ).set_dpi(170)"
   ]
  },
  {
   "cell_type": "code",
   "execution_count": null,
   "id": "9859d964-b169-4257-b23b-ace5103679e8",
   "metadata": {},
   "outputs": [],
   "source": [
    "# # Save the registered image.\n",
    "# transformed_nib_img = nib.Nifti1Image(transformed, affine=rigid_scale.affine)\n",
    "# nib.save(transformed_nib_img, data_dir / \"sub-001_ses-01_T2w_reg_to_b0_DWI.nii.gz\")"
   ]
  },
  {
   "cell_type": "markdown",
   "id": "8b45543f-18fa-4682-8e37-a967c6abf4cb",
   "metadata": {},
   "source": [
    "---"
   ]
  },
  {
   "cell_type": "code",
   "execution_count": null,
   "id": "f89a9809-55ad-46b6-89f4-ff044c47dab2",
   "metadata": {
    "tags": []
   },
   "outputs": [],
   "source": [
    "%load_ext watermark\n",
    "%watermark --author \"Tyler Spears\" --updated --iso8601  --python --machine --iversions --githash"
   ]
  }
 ],
 "metadata": {
  "kernelspec": {
   "display_name": "Python [conda env:miniconda-pitn]",
   "language": "python",
   "name": "conda-env-miniconda-pitn-py"
  },
  "language_info": {
   "codemirror_mode": {
    "name": "ipython",
    "version": 3
   },
   "file_extension": ".py",
   "mimetype": "text/x-python",
   "name": "python",
   "nbconvert_exporter": "python",
   "pygments_lexer": "ipython3",
   "version": "3.8.8"
  }
 },
 "nbformat": 4,
 "nbformat_minor": 5
}
